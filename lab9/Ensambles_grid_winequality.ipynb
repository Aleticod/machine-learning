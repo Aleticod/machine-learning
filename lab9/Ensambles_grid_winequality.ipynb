{
 "cells": [
  {
   "cell_type": "markdown",
   "metadata": {},
   "source": [
    "### **Dureza de aleacion de metal**\n",
    "```\n",
    "Autor       : Alex Harvey Pfoccori Quispe\n",
    "Lugar       : Cusco, Peru, 2023\n",
    "Proposito   : Predicción de calidad de vino según sus propiedades\n",
    "```\n"
   ]
  },
  {
   "cell_type": "markdown",
   "metadata": {},
   "source": [
    "# **0. PASOS PREVIOS**"
   ]
  },
  {
   "cell_type": "markdown",
   "metadata": {},
   "source": [
    "## **Librerias**"
   ]
  },
  {
   "cell_type": "code",
   "execution_count": 1,
   "metadata": {},
   "outputs": [],
   "source": [
    "import numpy as np\n",
    "import pandas as pd\n",
    "import matplotlib.pyplot as plt\n",
    "import seaborn as sns\n",
    "\n",
    "# Algoritmos de clasificacion: K-NN, AD, SVM, MLP, NB\n",
    "from sklearn.neighbors import KNeighborsClassifier\n",
    "from sklearn.tree import DecisionTreeClassifier\n",
    "from sklearn.svm import SVC\n",
    "from sklearn.neural_network import MLPClassifier\n",
    "from sklearn.naive_bayes import GaussianNB\n",
    "\n",
    "# Modulo para la separacion de datos para entrenamiento y test\n",
    "from sklearn.model_selection import train_test_split\n",
    "\n",
    "# Ensambles\n",
    "from sklearn.ensemble import VotingClassifier\n",
    "from sklearn.ensemble import BaggingRegressor\n",
    "from sklearn.ensemble import RandomForestClassifier\n",
    "from sklearn.ensemble import AdaBoostClassifier\n",
    "from sklearn.ensemble import GradientBoostingClassifier\n",
    "from sklearn.ensemble import HistGradientBoostingClassifier\n",
    "from sklearn.ensemble import StackingClassifier\n",
    "from sklearn.ensemble import ExtraTreesClassifier\n",
    "\n",
    "# Modulo que implementa busqueda aleatoria en cuadricula\n",
    "from sklearn.model_selection import RandomizedSearchCV\n",
    "\n",
    "# Validacion cruzada\n",
    "from sklearn.model_selection import RepeatedStratifiedKFold\n",
    "from sklearn.model_selection import cross_val_score\n",
    "\n",
    "%matplotlib inline"
   ]
  },
  {
   "cell_type": "markdown",
   "metadata": {},
   "source": [
    "## **Importacion de datos**"
   ]
  },
  {
   "cell_type": "code",
   "execution_count": 2,
   "metadata": {},
   "outputs": [
    {
     "data": {
      "text/html": [
       "<div>\n",
       "<style scoped>\n",
       "    .dataframe tbody tr th:only-of-type {\n",
       "        vertical-align: middle;\n",
       "    }\n",
       "\n",
       "    .dataframe tbody tr th {\n",
       "        vertical-align: top;\n",
       "    }\n",
       "\n",
       "    .dataframe thead th {\n",
       "        text-align: right;\n",
       "    }\n",
       "</style>\n",
       "<table border=\"1\" class=\"dataframe\">\n",
       "  <thead>\n",
       "    <tr style=\"text-align: right;\">\n",
       "      <th></th>\n",
       "      <th>fixed acidity</th>\n",
       "      <th>volatile acidity</th>\n",
       "      <th>citric acid</th>\n",
       "      <th>residual sugar</th>\n",
       "      <th>chlorides</th>\n",
       "      <th>free sulfur dioxide</th>\n",
       "      <th>total sulfur dioxide</th>\n",
       "      <th>density</th>\n",
       "      <th>pH</th>\n",
       "      <th>sulphates</th>\n",
       "      <th>alcohol</th>\n",
       "      <th>quality</th>\n",
       "    </tr>\n",
       "  </thead>\n",
       "  <tbody>\n",
       "    <tr>\n",
       "      <th>0</th>\n",
       "      <td>12.2</td>\n",
       "      <td>0.450</td>\n",
       "      <td>0.49</td>\n",
       "      <td>1.4</td>\n",
       "      <td>0.075</td>\n",
       "      <td>3.0</td>\n",
       "      <td>6.0</td>\n",
       "      <td>0.99690</td>\n",
       "      <td>3.13</td>\n",
       "      <td>0.63</td>\n",
       "      <td>10.4</td>\n",
       "      <td>5</td>\n",
       "    </tr>\n",
       "    <tr>\n",
       "      <th>1</th>\n",
       "      <td>12.2</td>\n",
       "      <td>0.450</td>\n",
       "      <td>0.49</td>\n",
       "      <td>1.4</td>\n",
       "      <td>0.075</td>\n",
       "      <td>3.0</td>\n",
       "      <td>6.0</td>\n",
       "      <td>0.99690</td>\n",
       "      <td>3.13</td>\n",
       "      <td>0.63</td>\n",
       "      <td>10.4</td>\n",
       "      <td>5</td>\n",
       "    </tr>\n",
       "    <tr>\n",
       "      <th>2</th>\n",
       "      <td>8.6</td>\n",
       "      <td>0.315</td>\n",
       "      <td>0.40</td>\n",
       "      <td>2.2</td>\n",
       "      <td>0.079</td>\n",
       "      <td>3.0</td>\n",
       "      <td>6.0</td>\n",
       "      <td>0.99512</td>\n",
       "      <td>3.27</td>\n",
       "      <td>0.67</td>\n",
       "      <td>11.9</td>\n",
       "      <td>6</td>\n",
       "    </tr>\n",
       "    <tr>\n",
       "      <th>3</th>\n",
       "      <td>9.8</td>\n",
       "      <td>0.340</td>\n",
       "      <td>0.39</td>\n",
       "      <td>1.4</td>\n",
       "      <td>0.066</td>\n",
       "      <td>3.0</td>\n",
       "      <td>7.0</td>\n",
       "      <td>0.99470</td>\n",
       "      <td>3.19</td>\n",
       "      <td>0.55</td>\n",
       "      <td>11.4</td>\n",
       "      <td>7</td>\n",
       "    </tr>\n",
       "    <tr>\n",
       "      <th>4</th>\n",
       "      <td>8.0</td>\n",
       "      <td>0.600</td>\n",
       "      <td>0.08</td>\n",
       "      <td>2.6</td>\n",
       "      <td>0.056</td>\n",
       "      <td>3.0</td>\n",
       "      <td>7.0</td>\n",
       "      <td>0.99286</td>\n",
       "      <td>3.22</td>\n",
       "      <td>0.37</td>\n",
       "      <td>13.0</td>\n",
       "      <td>5</td>\n",
       "    </tr>\n",
       "  </tbody>\n",
       "</table>\n",
       "</div>"
      ],
      "text/plain": [
       "   fixed acidity  volatile acidity  citric acid  residual sugar  chlorides  \\\n",
       "0           12.2             0.450         0.49             1.4      0.075   \n",
       "1           12.2             0.450         0.49             1.4      0.075   \n",
       "2            8.6             0.315         0.40             2.2      0.079   \n",
       "3            9.8             0.340         0.39             1.4      0.066   \n",
       "4            8.0             0.600         0.08             2.6      0.056   \n",
       "\n",
       "   free sulfur dioxide  total sulfur dioxide  density    pH  sulphates  \\\n",
       "0                  3.0                   6.0  0.99690  3.13       0.63   \n",
       "1                  3.0                   6.0  0.99690  3.13       0.63   \n",
       "2                  3.0                   6.0  0.99512  3.27       0.67   \n",
       "3                  3.0                   7.0  0.99470  3.19       0.55   \n",
       "4                  3.0                   7.0  0.99286  3.22       0.37   \n",
       "\n",
       "   alcohol  quality  \n",
       "0     10.4        5  \n",
       "1     10.4        5  \n",
       "2     11.9        6  \n",
       "3     11.4        7  \n",
       "4     13.0        5  "
      ]
     },
     "execution_count": 2,
     "metadata": {},
     "output_type": "execute_result"
    }
   ],
   "source": [
    "datos = pd.read_csv('./winequality.csv')\n",
    "datos.head()"
   ]
  },
  {
   "cell_type": "code",
   "execution_count": 3,
   "metadata": {},
   "outputs": [
    {
     "name": "stdout",
     "output_type": "stream",
     "text": [
      "<class 'pandas.core.frame.DataFrame'>\n",
      "RangeIndex: 1593 entries, 0 to 1592\n",
      "Data columns (total 12 columns):\n",
      " #   Column                Non-Null Count  Dtype  \n",
      "---  ------                --------------  -----  \n",
      " 0   fixed acidity         1593 non-null   float64\n",
      " 1   volatile acidity      1593 non-null   float64\n",
      " 2   citric acid           1593 non-null   float64\n",
      " 3   residual sugar        1593 non-null   float64\n",
      " 4   chlorides             1593 non-null   float64\n",
      " 5   free sulfur dioxide   1593 non-null   float64\n",
      " 6   total sulfur dioxide  1593 non-null   float64\n",
      " 7   density               1593 non-null   float64\n",
      " 8   pH                    1593 non-null   float64\n",
      " 9   sulphates             1593 non-null   float64\n",
      " 10  alcohol               1593 non-null   float64\n",
      " 11  quality               1593 non-null   int64  \n",
      "dtypes: float64(11), int64(1)\n",
      "memory usage: 149.5 KB\n"
     ]
    }
   ],
   "source": [
    "## Informacion del dataset\n",
    "datos.info()"
   ]
  },
  {
   "cell_type": "markdown",
   "metadata": {},
   "source": [
    "## **Separacion de datos para Training y Testing**"
   ]
  },
  {
   "cell_type": "code",
   "execution_count": 4,
   "metadata": {},
   "outputs": [],
   "source": [
    "# Separacion de datos en entradas\n",
    "x = datos.drop(['quality'], axis=1)\n",
    "y = pd.DataFrame(datos['quality'])\n",
    "\n",
    "x_train, x_test, y_train, y_test = train_test_split(x, y, random_state=123, train_size=0.75, shuffle=True)"
   ]
  },
  {
   "cell_type": "markdown",
   "metadata": {},
   "source": [
    "## **Distribucion de datos**"
   ]
  },
  {
   "cell_type": "code",
   "execution_count": 5,
   "metadata": {},
   "outputs": [
    {
     "data": {
      "text/plain": [
       "quality\n",
       "4     63\n",
       "5    681\n",
       "6    633\n",
       "7    216\n",
       "dtype: int64"
      ]
     },
     "execution_count": 5,
     "metadata": {},
     "output_type": "execute_result"
    }
   ],
   "source": [
    "datos.groupby('quality').size()"
   ]
  },
  {
   "cell_type": "markdown",
   "metadata": {},
   "source": [
    "# **1. MODELO VOTING: AD + K-NN + SVC + MLP**"
   ]
  },
  {
   "cell_type": "markdown",
   "metadata": {},
   "source": [
    "### Busqueda aleatoria de hiper-parametro en cuadricula, para **ARBOL DE DECISION**"
   ]
  },
  {
   "cell_type": "code",
   "execution_count": 6,
   "metadata": {},
   "outputs": [
    {
     "name": "stdout",
     "output_type": "stream",
     "text": [
      "Fitting 5 folds for each of 14 candidates, totalling 70 fits\n"
     ]
    },
    {
     "name": "stdout",
     "output_type": "stream",
     "text": [
      "Score de train:  0.6190476190476191\n",
      "Mejor modelo : {'max_depth': 50, 'criterion': 'entropy'}\n"
     ]
    }
   ],
   "source": [
    "# Creacion de cuadricula de busqueda\n",
    "grid_aleatorio_ad = {'criterion': ['gini', 'entropy'], 'max_depth': [4, 8, 12, 20, 50, 120, 150]}\n",
    "# Definicion del modelo \n",
    "arbol_decision = DecisionTreeClassifier()\n",
    "# Busqueda aleatoria en cuadricula, con validacion cruzada\n",
    "model_1 = RandomizedSearchCV(estimator=arbol_decision, param_distributions=grid_aleatorio_ad, n_iter=14, cv=5, verbose=2, random_state=42, n_jobs=-1)\n",
    "\n",
    "model_1.fit(x_train, y_train)\n",
    "print('Score de train: ', model_1.score(x_test, y_test))\n",
    "print('Mejor modelo :', model_1.best_params_)"
   ]
  },
  {
   "cell_type": "markdown",
   "metadata": {},
   "source": [
    "### Busqueda aleatorio de hiper-parametro en cuadricula, para **K-VECINOS MAS CERCANOS**"
   ]
  },
  {
   "cell_type": "code",
   "execution_count": 7,
   "metadata": {},
   "outputs": [
    {
     "name": "stdout",
     "output_type": "stream",
     "text": [
      "Fitting 5 folds for each of 14 candidates, totalling 70 fits\n"
     ]
    },
    {
     "name": "stdout",
     "output_type": "stream",
     "text": [
      "Score de train:  0.506265664160401\n",
      "Mejor modelo:  {'n_neighbors': 20}\n"
     ]
    },
    {
     "name": "stderr",
     "output_type": "stream",
     "text": [
      "c:\\Users\\HARVEY\\anaconda3\\envs\\machine-learning\\lib\\site-packages\\sklearn\\neighbors\\_classification.py:215: DataConversionWarning: A column-vector y was passed when a 1d array was expected. Please change the shape of y to (n_samples,), for example using ravel().\n",
      "  return self._fit(X, y)\n"
     ]
    }
   ],
   "source": [
    "grid_aleatorio_knn = {'n_neighbors': [2,3,4,5,6,7,8,9,10,11,12,13,14,15,16,17,18,19,20]}\n",
    "knn = KNeighborsClassifier()\n",
    "model_2 = RandomizedSearchCV(estimator=knn, param_distributions=grid_aleatorio_knn, n_iter=14, cv=5, verbose=2, random_state=42, n_jobs=-1)\n",
    "model_2.fit(x_train, y_train)\n",
    "print('Score de train: ', model_2.score(x_test, y_test))\n",
    "print('Mejor modelo: ', model_2.best_params_)"
   ]
  },
  {
   "cell_type": "markdown",
   "metadata": {},
   "source": [
    "### Busqueda aleatoria de hiper-parametro en cuadricula, para **PERCEPTRON MULTICAPA**"
   ]
  },
  {
   "cell_type": "code",
   "execution_count": 8,
   "metadata": {},
   "outputs": [
    {
     "name": "stdout",
     "output_type": "stream",
     "text": [
      "Fitting 5 folds for each of 14 candidates, totalling 70 fits\n"
     ]
    },
    {
     "name": "stderr",
     "output_type": "stream",
     "text": [
      "c:\\Users\\HARVEY\\anaconda3\\envs\\machine-learning\\lib\\site-packages\\sklearn\\neural_network\\_multilayer_perceptron.py:1098: DataConversionWarning: A column-vector y was passed when a 1d array was expected. Please change the shape of y to (n_samples, ), for example using ravel().\n",
      "  y = column_or_1d(y, warn=True)\n"
     ]
    },
    {
     "name": "stdout",
     "output_type": "stream",
     "text": [
      "Score de train:  0.5864661654135338\n",
      "Mejor modelo:  {'hidden_layer_sizes': (80, 40, 15, 5), 'alpha': 0.25, 'activation': 'tanh'}\n"
     ]
    },
    {
     "name": "stderr",
     "output_type": "stream",
     "text": [
      "c:\\Users\\HARVEY\\anaconda3\\envs\\machine-learning\\lib\\site-packages\\sklearn\\neural_network\\_multilayer_perceptron.py:686: ConvergenceWarning: Stochastic Optimizer: Maximum iterations (100) reached and the optimization hasn't converged yet.\n",
      "  warnings.warn(\n"
     ]
    }
   ],
   "source": [
    "grid_aleatorio_mlp = {'hidden_layer_sizes': [(50, 20, 10, 5), (80, 40, 15, 5), (100, 50, 20, 8), (20, 10, 5)], 'activation': ['logistic', 'tanh'], 'alpha': [0.01, 0.05, 0.1, 0.25]}\n",
    "mlp = MLPClassifier(max_iter=100)\n",
    "model_3 = RandomizedSearchCV(estimator=mlp, param_distributions=grid_aleatorio_mlp, n_iter=14, cv=5, verbose=2, random_state=42, n_jobs=-1)\n",
    "model_3.fit(x_train, y_train)\n",
    "print('Score de train: ', model_3.score(x_test, y_test))\n",
    "print('Mejor modelo: ', model_3.best_params_)"
   ]
  },
  {
   "cell_type": "code",
   "execution_count": 9,
   "metadata": {},
   "outputs": [
    {
     "name": "stdout",
     "output_type": "stream",
     "text": [
      "{'max_depth': 50, 'criterion': 'entropy'}\n",
      "{'n_neighbors': 20}\n",
      "{'hidden_layer_sizes': (80, 40, 15, 5), 'alpha': 0.25, 'activation': 'tanh'}\n"
     ]
    }
   ],
   "source": [
    "print(model_1.best_params_)\n",
    "print(model_2.best_params_)\n",
    "print(model_3.best_params_)"
   ]
  },
  {
   "cell_type": "markdown",
   "metadata": {},
   "source": [
    "## **Voting = AD + K-NN + SVC + MLP**"
   ]
  },
  {
   "cell_type": "code",
   "execution_count": 11,
   "metadata": {},
   "outputs": [],
   "source": [
    "model_11 = DecisionTreeClassifier(criterion='entropy', max_depth=50)\n",
    "model_22 = KNeighborsClassifier(n_neighbors=20)\n",
    "model_33 = MLPClassifier(activation='tanh', alpha=0.25, hidden_layer_sizes=(80, 40, 15, 5), max_iter=100)"
   ]
  },
  {
   "cell_type": "code",
   "execution_count": 14,
   "metadata": {},
   "outputs": [
    {
     "name": "stderr",
     "output_type": "stream",
     "text": [
      "c:\\Users\\HARVEY\\anaconda3\\envs\\machine-learning\\lib\\site-packages\\sklearn\\preprocessing\\_label.py:99: DataConversionWarning: A column-vector y was passed when a 1d array was expected. Please change the shape of y to (n_samples, ), for example using ravel().\n",
      "  y = column_or_1d(y, warn=True)\n",
      "c:\\Users\\HARVEY\\anaconda3\\envs\\machine-learning\\lib\\site-packages\\sklearn\\preprocessing\\_label.py:134: DataConversionWarning: A column-vector y was passed when a 1d array was expected. Please change the shape of y to (n_samples, ), for example using ravel().\n",
      "  y = column_or_1d(y, dtype=self.classes_.dtype, warn=True)\n"
     ]
    },
    {
     "name": "stdout",
     "output_type": "stream",
     "text": [
      "Score de train:  0.5789473684210527\n"
     ]
    }
   ],
   "source": [
    "# Definir el ensamble Voting de clasificacion\n",
    "EnsambleVoting = VotingClassifier(estimators=[('dt', model_11), ('knn', model_22), ('MLP', model_33)], voting='hard', weights=[1,3,10], n_jobs=-1)\n",
    "\n",
    "# Entrenar ensamble\n",
    "EnsambleVoting.fit(x_train, y_train)\n",
    "\n",
    "print('Score de train: ', EnsambleVoting.score(x_test, y_test))"
   ]
  },
  {
   "cell_type": "markdown",
   "metadata": {},
   "source": [
    "### Validacion cruzada"
   ]
  },
  {
   "cell_type": "code",
   "execution_count": 15,
   "metadata": {},
   "outputs": [
    {
     "name": "stdout",
     "output_type": "stream",
     "text": [
      "acu cv 10 test:  0.5263675213675214\n"
     ]
    }
   ],
   "source": [
    "from sklearn.model_selection import RepeatedStratifiedKFold\n",
    "from sklearn.model_selection import cross_val_score\n",
    "# Evaluar un modelo dado usando cross-validation\n",
    "\n",
    "def evaluate_model(model, x, y):\n",
    "    cv = RepeatedStratifiedKFold(n_splits=10, n_repeats=3, random_state=1)\n",
    "    scores = cross_val_score(model, x, y, scoring='accuracy', cv=cv, n_jobs=-1, error_score='raise')\n",
    "    return scores\n",
    "\n",
    "import statistics\n",
    "acu_vc_10_test_voting = statistics.mean(evaluate_model(EnsambleVoting, x_test, y_test))\n",
    "\n",
    "print('acu cv 10 test: ', acu_vc_10_test_voting)"
   ]
  },
  {
   "cell_type": "markdown",
   "metadata": {},
   "source": [
    "# **MODELO BAGGING: RF, AD, K-NN, SVC, MLP**"
   ]
  },
  {
   "cell_type": "code",
   "execution_count": 16,
   "metadata": {},
   "outputs": [],
   "source": [
    "from sklearn.svm import SVC\n",
    "from sklearn.tree import DecisionTreeClassifier\n",
    "from sklearn.ensemble import RandomForestClassifier\n",
    "from sklearn.neighbors import KNeighborsClassifier\n",
    "from sklearn.neural_network import MLPClassifier\n",
    "from sklearn.ensemble import BaggingClassifier"
   ]
  },
  {
   "cell_type": "markdown",
   "metadata": {},
   "source": [
    "### Bagging con **BOSQUE ALEATORIO**"
   ]
  },
  {
   "cell_type": "code",
   "execution_count": 17,
   "metadata": {},
   "outputs": [
    {
     "name": "stderr",
     "output_type": "stream",
     "text": [
      "C:\\Users\\HARVEY\\AppData\\Local\\Temp\\ipykernel_7996\\3694939662.py:2: DataConversionWarning: A column-vector y was passed when a 1d array was expected. Please change the shape of y to (n_samples,), for example using ravel().\n",
      "  EnsambleBaggingRF.fit(x_train, y_train)\n"
     ]
    },
    {
     "name": "stdout",
     "output_type": "stream",
     "text": [
      "Score de testing:  0.6516290726817042\n"
     ]
    }
   ],
   "source": [
    "EnsambleBaggingRF = RandomForestClassifier(n_estimators=300, criterion='gini', max_depth=80)\n",
    "EnsambleBaggingRF.fit(x_train, y_train)\n",
    "\n",
    "print('Score de testing: ', EnsambleBaggingRF.score(x_test, y_test))"
   ]
  },
  {
   "cell_type": "markdown",
   "metadata": {},
   "source": [
    "### Baggin con **MÁQUINA DE VECTOR DE SOPORTE**"
   ]
  },
  {
   "cell_type": "code",
   "execution_count": 18,
   "metadata": {},
   "outputs": [
    {
     "name": "stderr",
     "output_type": "stream",
     "text": [
      "c:\\Users\\HARVEY\\anaconda3\\envs\\machine-learning\\lib\\site-packages\\sklearn\\ensemble\\_bagging.py:802: DataConversionWarning: A column-vector y was passed when a 1d array was expected. Please change the shape of y to (n_samples, ), for example using ravel().\n",
      "  y = column_or_1d(y, warn=True)\n",
      "c:\\Users\\HARVEY\\anaconda3\\envs\\machine-learning\\lib\\site-packages\\sklearn\\ensemble\\_base.py:166: FutureWarning: `base_estimator` was renamed to `estimator` in version 1.2 and will be removed in 1.4.\n",
      "  warnings.warn(\n"
     ]
    },
    {
     "name": "stdout",
     "output_type": "stream",
     "text": [
      "Score de testing:  0.45363408521303256\n"
     ]
    }
   ],
   "source": [
    "BaggingSVC = BaggingClassifier(base_estimator=SVC(), n_estimators=200, random_state=0 )\n",
    "BaggingSVC.fit(x_train, y_train)\n",
    "print('Score de testing: ', BaggingSVC.score(x_test, y_test))"
   ]
  },
  {
   "cell_type": "markdown",
   "metadata": {},
   "source": [
    "### Bagging con **ÁRBOL DE DECISIÓN**"
   ]
  },
  {
   "cell_type": "code",
   "execution_count": 19,
   "metadata": {},
   "outputs": [
    {
     "name": "stderr",
     "output_type": "stream",
     "text": [
      "c:\\Users\\HARVEY\\anaconda3\\envs\\machine-learning\\lib\\site-packages\\sklearn\\ensemble\\_bagging.py:802: DataConversionWarning: A column-vector y was passed when a 1d array was expected. Please change the shape of y to (n_samples, ), for example using ravel().\n",
      "  y = column_or_1d(y, warn=True)\n",
      "c:\\Users\\HARVEY\\anaconda3\\envs\\machine-learning\\lib\\site-packages\\sklearn\\ensemble\\_base.py:166: FutureWarning: `base_estimator` was renamed to `estimator` in version 1.2 and will be removed in 1.4.\n",
      "  warnings.warn(\n"
     ]
    },
    {
     "name": "stdout",
     "output_type": "stream",
     "text": [
      "Score de testing:  0.6666666666666666\n"
     ]
    }
   ],
   "source": [
    "BaggingDTC = BaggingClassifier(base_estimator=DecisionTreeClassifier(), n_estimators=30, random_state=0)\n",
    "BaggingDTC.fit(x_train, y_train)\n",
    "print('Score de testing: ', BaggingDTC.score(x_test, y_test))"
   ]
  },
  {
   "cell_type": "markdown",
   "metadata": {},
   "source": [
    "### Bagging con **N-VECINOS MAS CERCANOS**"
   ]
  },
  {
   "cell_type": "code",
   "execution_count": 20,
   "metadata": {},
   "outputs": [
    {
     "name": "stderr",
     "output_type": "stream",
     "text": [
      "c:\\Users\\HARVEY\\anaconda3\\envs\\machine-learning\\lib\\site-packages\\sklearn\\ensemble\\_bagging.py:802: DataConversionWarning: A column-vector y was passed when a 1d array was expected. Please change the shape of y to (n_samples, ), for example using ravel().\n",
      "  y = column_or_1d(y, warn=True)\n",
      "c:\\Users\\HARVEY\\anaconda3\\envs\\machine-learning\\lib\\site-packages\\sklearn\\ensemble\\_base.py:166: FutureWarning: `base_estimator` was renamed to `estimator` in version 1.2 and will be removed in 1.4.\n",
      "  warnings.warn(\n"
     ]
    },
    {
     "name": "stdout",
     "output_type": "stream",
     "text": [
      "Score de testing:  0.5037593984962406\n"
     ]
    }
   ],
   "source": [
    "BaggingKNN = BaggingClassifier(base_estimator=KNeighborsClassifier(), n_estimators=30, random_state=0)\n",
    "BaggingKNN.fit(x_train, y_train)\n",
    "print('Score de testing: ', BaggingKNN.score(x_test, y_test))"
   ]
  },
  {
   "cell_type": "markdown",
   "metadata": {},
   "source": [
    "### Bagging con **PERCEPTRÓN MULTICAPA - MLP**"
   ]
  },
  {
   "cell_type": "code",
   "execution_count": 22,
   "metadata": {},
   "outputs": [
    {
     "name": "stderr",
     "output_type": "stream",
     "text": [
      "c:\\Users\\HARVEY\\anaconda3\\envs\\machine-learning\\lib\\site-packages\\sklearn\\ensemble\\_bagging.py:802: DataConversionWarning: A column-vector y was passed when a 1d array was expected. Please change the shape of y to (n_samples, ), for example using ravel().\n",
      "  y = column_or_1d(y, warn=True)\n",
      "c:\\Users\\HARVEY\\anaconda3\\envs\\machine-learning\\lib\\site-packages\\sklearn\\ensemble\\_base.py:166: FutureWarning: `base_estimator` was renamed to `estimator` in version 1.2 and will be removed in 1.4.\n",
      "  warnings.warn(\n",
      "c:\\Users\\HARVEY\\anaconda3\\envs\\machine-learning\\lib\\site-packages\\sklearn\\neural_network\\_multilayer_perceptron.py:686: ConvergenceWarning: Stochastic Optimizer: Maximum iterations (200) reached and the optimization hasn't converged yet.\n",
      "  warnings.warn(\n",
      "c:\\Users\\HARVEY\\anaconda3\\envs\\machine-learning\\lib\\site-packages\\sklearn\\neural_network\\_multilayer_perceptron.py:686: ConvergenceWarning: Stochastic Optimizer: Maximum iterations (200) reached and the optimization hasn't converged yet.\n",
      "  warnings.warn(\n",
      "c:\\Users\\HARVEY\\anaconda3\\envs\\machine-learning\\lib\\site-packages\\sklearn\\neural_network\\_multilayer_perceptron.py:686: ConvergenceWarning: Stochastic Optimizer: Maximum iterations (200) reached and the optimization hasn't converged yet.\n",
      "  warnings.warn(\n",
      "c:\\Users\\HARVEY\\anaconda3\\envs\\machine-learning\\lib\\site-packages\\sklearn\\neural_network\\_multilayer_perceptron.py:686: ConvergenceWarning: Stochastic Optimizer: Maximum iterations (200) reached and the optimization hasn't converged yet.\n",
      "  warnings.warn(\n",
      "c:\\Users\\HARVEY\\anaconda3\\envs\\machine-learning\\lib\\site-packages\\sklearn\\neural_network\\_multilayer_perceptron.py:686: ConvergenceWarning: Stochastic Optimizer: Maximum iterations (200) reached and the optimization hasn't converged yet.\n",
      "  warnings.warn(\n",
      "c:\\Users\\HARVEY\\anaconda3\\envs\\machine-learning\\lib\\site-packages\\sklearn\\neural_network\\_multilayer_perceptron.py:686: ConvergenceWarning: Stochastic Optimizer: Maximum iterations (200) reached and the optimization hasn't converged yet.\n",
      "  warnings.warn(\n",
      "c:\\Users\\HARVEY\\anaconda3\\envs\\machine-learning\\lib\\site-packages\\sklearn\\neural_network\\_multilayer_perceptron.py:686: ConvergenceWarning: Stochastic Optimizer: Maximum iterations (200) reached and the optimization hasn't converged yet.\n",
      "  warnings.warn(\n",
      "c:\\Users\\HARVEY\\anaconda3\\envs\\machine-learning\\lib\\site-packages\\sklearn\\neural_network\\_multilayer_perceptron.py:686: ConvergenceWarning: Stochastic Optimizer: Maximum iterations (200) reached and the optimization hasn't converged yet.\n",
      "  warnings.warn(\n",
      "c:\\Users\\HARVEY\\anaconda3\\envs\\machine-learning\\lib\\site-packages\\sklearn\\neural_network\\_multilayer_perceptron.py:686: ConvergenceWarning: Stochastic Optimizer: Maximum iterations (200) reached and the optimization hasn't converged yet.\n",
      "  warnings.warn(\n",
      "c:\\Users\\HARVEY\\anaconda3\\envs\\machine-learning\\lib\\site-packages\\sklearn\\neural_network\\_multilayer_perceptron.py:686: ConvergenceWarning: Stochastic Optimizer: Maximum iterations (200) reached and the optimization hasn't converged yet.\n",
      "  warnings.warn(\n",
      "c:\\Users\\HARVEY\\anaconda3\\envs\\machine-learning\\lib\\site-packages\\sklearn\\neural_network\\_multilayer_perceptron.py:686: ConvergenceWarning: Stochastic Optimizer: Maximum iterations (200) reached and the optimization hasn't converged yet.\n",
      "  warnings.warn(\n"
     ]
    },
    {
     "name": "stdout",
     "output_type": "stream",
     "text": [
      "Score de testing:  0.5889724310776943\n"
     ]
    },
    {
     "name": "stderr",
     "output_type": "stream",
     "text": [
      "c:\\Users\\HARVEY\\anaconda3\\envs\\machine-learning\\lib\\site-packages\\sklearn\\neural_network\\_multilayer_perceptron.py:686: ConvergenceWarning: Stochastic Optimizer: Maximum iterations (200) reached and the optimization hasn't converged yet.\n",
      "  warnings.warn(\n"
     ]
    }
   ],
   "source": [
    "BaggingMLP = BaggingClassifier(base_estimator=MLPClassifier(hidden_layer_sizes=(80, 40, 15, 5), alpha=0.25, activation='tanh'), n_estimators=20, random_state=0)\n",
    "BaggingMLP.fit(x_train, y_train)\n",
    "print('Score de testing: ', BaggingMLP.score(x_test, y_test))"
   ]
  },
  {
   "cell_type": "markdown",
   "metadata": {},
   "source": [
    "# **3. BOOSTING**"
   ]
  },
  {
   "cell_type": "code",
   "execution_count": 23,
   "metadata": {},
   "outputs": [],
   "source": [
    "from sklearn.ensemble import AdaBoostClassifier\n",
    "from sklearn.ensemble import GradientBoostingClassifier\n",
    "from sklearn.ensemble import HistGradientBoostingClassifier\n",
    "from sklearn.ensemble import StackingClassifier\n",
    "from sklearn.ensemble import ExtraTreesClassifier"
   ]
  },
  {
   "cell_type": "markdown",
   "metadata": {},
   "source": [
    "### Boosting Gradiente"
   ]
  },
  {
   "cell_type": "code",
   "execution_count": 24,
   "metadata": {},
   "outputs": [
    {
     "name": "stderr",
     "output_type": "stream",
     "text": [
      "c:\\Users\\HARVEY\\anaconda3\\envs\\machine-learning\\lib\\site-packages\\sklearn\\ensemble\\_gb.py:437: DataConversionWarning: A column-vector y was passed when a 1d array was expected. Please change the shape of y to (n_samples, ), for example using ravel().\n",
      "  y = column_or_1d(y, warn=True)\n"
     ]
    },
    {
     "name": "stdout",
     "output_type": "stream",
     "text": [
      "Score de testing:  0.6090225563909775\n"
     ]
    }
   ],
   "source": [
    "EnsambleBoosting = GradientBoostingClassifier(n_estimators=30)\n",
    "EnsambleBoosting.fit(x_train, y_train)\n",
    "\n",
    "print('Score de testing: ', EnsambleBoosting.score(x_test, y_test))"
   ]
  },
  {
   "cell_type": "markdown",
   "metadata": {},
   "source": [
    "### AdaBoost"
   ]
  },
  {
   "cell_type": "code",
   "execution_count": 25,
   "metadata": {},
   "outputs": [
    {
     "name": "stderr",
     "output_type": "stream",
     "text": [
      "c:\\Users\\HARVEY\\anaconda3\\envs\\machine-learning\\lib\\site-packages\\sklearn\\utils\\validation.py:1143: DataConversionWarning: A column-vector y was passed when a 1d array was expected. Please change the shape of y to (n_samples, ), for example using ravel().\n",
      "  y = column_or_1d(y, warn=True)\n"
     ]
    },
    {
     "name": "stdout",
     "output_type": "stream",
     "text": [
      "Score de testing:  0.49874686716791977\n"
     ]
    }
   ],
   "source": [
    "EnsambleABC = AdaBoostClassifier()\n",
    "EnsambleABC.fit(x_train, y_train)\n",
    "\n",
    "print('Score de testing: ', EnsambleABC.score(x_test, y_test))"
   ]
  },
  {
   "cell_type": "markdown",
   "metadata": {},
   "source": [
    "# **4. STACKING: (KNN+AD+SCV+MLP) -> RF**"
   ]
  },
  {
   "cell_type": "markdown",
   "metadata": {},
   "source": [
    "### Nivel 1: de clasificadores KNN, AD, SVC, MLP"
   ]
  },
  {
   "cell_type": "code",
   "execution_count": 26,
   "metadata": {},
   "outputs": [],
   "source": [
    "estimadores = [('KNN', KNeighborsClassifier(n_neighbors=20, metric='euclidean')),\n",
    "               ('AD', DecisionTreeClassifier(max_depth=50, criterion='entropy')),\n",
    "               ('SVC', SVC(gamma=5, C=300, kernel='rbf')),\n",
    "               ('MLP', MLPClassifier(hidden_layer_sizes=(80, 40, 15, 5), alpha=0.25, activation='tanh'))]"
   ]
  },
  {
   "cell_type": "markdown",
   "metadata": {},
   "source": [
    "### Nivel2: predictor RF"
   ]
  },
  {
   "cell_type": "code",
   "execution_count": 27,
   "metadata": {},
   "outputs": [],
   "source": [
    "estimador_final = RandomForestClassifier(n_estimators=300)"
   ]
  },
  {
   "cell_type": "markdown",
   "metadata": {},
   "source": [
    "### Modelo Stacking"
   ]
  },
  {
   "cell_type": "code",
   "execution_count": 28,
   "metadata": {},
   "outputs": [
    {
     "name": "stderr",
     "output_type": "stream",
     "text": [
      "c:\\Users\\HARVEY\\anaconda3\\envs\\machine-learning\\lib\\site-packages\\sklearn\\preprocessing\\_label.py:99: DataConversionWarning: A column-vector y was passed when a 1d array was expected. Please change the shape of y to (n_samples, ), for example using ravel().\n",
      "  y = column_or_1d(y, warn=True)\n",
      "c:\\Users\\HARVEY\\anaconda3\\envs\\machine-learning\\lib\\site-packages\\sklearn\\preprocessing\\_label.py:134: DataConversionWarning: A column-vector y was passed when a 1d array was expected. Please change the shape of y to (n_samples, ), for example using ravel().\n",
      "  y = column_or_1d(y, dtype=self.classes_.dtype, warn=True)\n",
      "c:\\Users\\HARVEY\\anaconda3\\envs\\machine-learning\\lib\\site-packages\\sklearn\\neural_network\\_multilayer_perceptron.py:686: ConvergenceWarning: Stochastic Optimizer: Maximum iterations (200) reached and the optimization hasn't converged yet.\n",
      "  warnings.warn(\n",
      "c:\\Users\\HARVEY\\anaconda3\\envs\\machine-learning\\lib\\site-packages\\sklearn\\neural_network\\_multilayer_perceptron.py:686: ConvergenceWarning: Stochastic Optimizer: Maximum iterations (200) reached and the optimization hasn't converged yet.\n",
      "  warnings.warn(\n"
     ]
    },
    {
     "name": "stdout",
     "output_type": "stream",
     "text": [
      "Score de testing:  0.6541353383458647\n"
     ]
    }
   ],
   "source": [
    "EnsambleStacking = StackingClassifier(\n",
    "    estimators=estimadores,\n",
    "    final_estimator=estimador_final\n",
    ")\n",
    "EnsambleStacking.fit(x_train, y_train)\n",
    "\n",
    "print('Score de testing: ', EnsambleStacking.score(x_test, y_test))"
   ]
  },
  {
   "cell_type": "code",
   "execution_count": 29,
   "metadata": {},
   "outputs": [
    {
     "name": "stdout",
     "output_type": "stream",
     "text": [
      "acu cv 10 test:  0.5523290598290598\n"
     ]
    }
   ],
   "source": [
    "import statistics\n",
    "\n",
    "acu_vc_10_test_stacking = statistics.mean(evaluate_model(EnsambleStacking, x_test, y_test))\n",
    "print('acu cv 10 test: ', acu_vc_10_test_stacking)"
   ]
  }
 ],
 "metadata": {
  "kernelspec": {
   "display_name": "machine-learning",
   "language": "python",
   "name": "python3"
  },
  "language_info": {
   "codemirror_mode": {
    "name": "ipython",
    "version": 3
   },
   "file_extension": ".py",
   "mimetype": "text/x-python",
   "name": "python",
   "nbconvert_exporter": "python",
   "pygments_lexer": "ipython3",
   "version": "3.10.11"
  },
  "orig_nbformat": 4
 },
 "nbformat": 4,
 "nbformat_minor": 2
}

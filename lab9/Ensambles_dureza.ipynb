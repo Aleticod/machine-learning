{
 "cells": [
  {
   "cell_type": "markdown",
   "metadata": {},
   "source": [
    "# **ENSAMBLES DE APRENDIZAJE AUTOMATICO**"
   ]
  },
  {
   "cell_type": "code",
   "execution_count": 1,
   "metadata": {},
   "outputs": [],
   "source": [
    "import pandas as pd\n",
    "import numpy as np\n",
    "import matplotlib.pyplot as plt\n",
    "\n",
    "from sklearn import metrics\n",
    "from sklearn.model_selection import train_test_split\n",
    "\n",
    "from sklearn.tree import DecisionTreeClassifier\n",
    "from sklearn.neighbors import KNeighborsClassifier\n",
    "from sklearn.svm import SVC\n",
    "\n",
    "from sklearn.ensemble import VotingClassifier\n",
    "from sklearn.ensemble import GradientBoostingClassifier\n",
    "from sklearn.ensemble import StackingClassifier\n",
    "from sklearn.ensemble import RandomForestClassifier\n"
   ]
  },
  {
   "cell_type": "code",
   "execution_count": 2,
   "metadata": {},
   "outputs": [
    {
     "data": {
      "text/html": [
       "<div>\n",
       "<style scoped>\n",
       "    .dataframe tbody tr th:only-of-type {\n",
       "        vertical-align: middle;\n",
       "    }\n",
       "\n",
       "    .dataframe tbody tr th {\n",
       "        vertical-align: top;\n",
       "    }\n",
       "\n",
       "    .dataframe thead th {\n",
       "        text-align: right;\n",
       "    }\n",
       "</style>\n",
       "<table border=\"1\" class=\"dataframe\">\n",
       "  <thead>\n",
       "    <tr style=\"text-align: right;\">\n",
       "      <th></th>\n",
       "      <th>PC</th>\n",
       "      <th>PMg</th>\n",
       "      <th>PP</th>\n",
       "      <th>PS</th>\n",
       "      <th>Psi</th>\n",
       "      <th>Pti</th>\n",
       "      <th>PNb</th>\n",
       "      <th>PCr</th>\n",
       "      <th>PBr</th>\n",
       "      <th>Pal</th>\n",
       "      <th>PV</th>\n",
       "      <th>Pcu</th>\n",
       "      <th>PCl</th>\n",
       "      <th>Pni</th>\n",
       "      <th>Pmo</th>\n",
       "      <th>Pn</th>\n",
       "      <th>Dureza</th>\n",
       "    </tr>\n",
       "  </thead>\n",
       "  <tbody>\n",
       "    <tr>\n",
       "      <th>0</th>\n",
       "      <td>0.243</td>\n",
       "      <td>1.27</td>\n",
       "      <td>0.015</td>\n",
       "      <td>0.0080</td>\n",
       "      <td>0.112</td>\n",
       "      <td>0.009</td>\n",
       "      <td>0.001</td>\n",
       "      <td>0.03</td>\n",
       "      <td>0.0004</td>\n",
       "      <td>0.039</td>\n",
       "      <td>0.003</td>\n",
       "      <td>0.03</td>\n",
       "      <td>0.0019</td>\n",
       "      <td>0.03</td>\n",
       "      <td>0.007</td>\n",
       "      <td>0.0058</td>\n",
       "      <td>293</td>\n",
       "    </tr>\n",
       "    <tr>\n",
       "      <th>1</th>\n",
       "      <td>0.231</td>\n",
       "      <td>1.26</td>\n",
       "      <td>0.015</td>\n",
       "      <td>0.0080</td>\n",
       "      <td>0.128</td>\n",
       "      <td>0.012</td>\n",
       "      <td>0.009</td>\n",
       "      <td>0.02</td>\n",
       "      <td>0.0005</td>\n",
       "      <td>0.028</td>\n",
       "      <td>0.003</td>\n",
       "      <td>0.01</td>\n",
       "      <td>0.0028</td>\n",
       "      <td>0.02</td>\n",
       "      <td>0.007</td>\n",
       "      <td>0.0035</td>\n",
       "      <td>293</td>\n",
       "    </tr>\n",
       "    <tr>\n",
       "      <th>2</th>\n",
       "      <td>0.220</td>\n",
       "      <td>1.26</td>\n",
       "      <td>0.017</td>\n",
       "      <td>0.0046</td>\n",
       "      <td>0.129</td>\n",
       "      <td>0.013</td>\n",
       "      <td>0.001</td>\n",
       "      <td>0.03</td>\n",
       "      <td>0.0004</td>\n",
       "      <td>0.044</td>\n",
       "      <td>0.004</td>\n",
       "      <td>0.03</td>\n",
       "      <td>0.0023</td>\n",
       "      <td>0.03</td>\n",
       "      <td>0.010</td>\n",
       "      <td>0.0048</td>\n",
       "      <td>293</td>\n",
       "    </tr>\n",
       "    <tr>\n",
       "      <th>3</th>\n",
       "      <td>0.230</td>\n",
       "      <td>1.26</td>\n",
       "      <td>0.014</td>\n",
       "      <td>0.0040</td>\n",
       "      <td>0.130</td>\n",
       "      <td>0.013</td>\n",
       "      <td>0.002</td>\n",
       "      <td>0.01</td>\n",
       "      <td>0.0003</td>\n",
       "      <td>0.027</td>\n",
       "      <td>0.001</td>\n",
       "      <td>0.01</td>\n",
       "      <td>0.0022</td>\n",
       "      <td>0.01</td>\n",
       "      <td>0.003</td>\n",
       "      <td>0.0064</td>\n",
       "      <td>293</td>\n",
       "    </tr>\n",
       "    <tr>\n",
       "      <th>4</th>\n",
       "      <td>0.232</td>\n",
       "      <td>1.26</td>\n",
       "      <td>0.012</td>\n",
       "      <td>0.0073</td>\n",
       "      <td>0.135</td>\n",
       "      <td>0.011</td>\n",
       "      <td>0.001</td>\n",
       "      <td>0.02</td>\n",
       "      <td>0.0005</td>\n",
       "      <td>0.045</td>\n",
       "      <td>0.003</td>\n",
       "      <td>0.02</td>\n",
       "      <td>0.0026</td>\n",
       "      <td>0.02</td>\n",
       "      <td>0.010</td>\n",
       "      <td>0.0065</td>\n",
       "      <td>293</td>\n",
       "    </tr>\n",
       "  </tbody>\n",
       "</table>\n",
       "</div>"
      ],
      "text/plain": [
       "      PC   PMg     PP      PS    Psi    Pti    PNb   PCr     PBr    Pal  \\\n",
       "0  0.243  1.27  0.015  0.0080  0.112  0.009  0.001  0.03  0.0004  0.039   \n",
       "1  0.231  1.26  0.015  0.0080  0.128  0.012  0.009  0.02  0.0005  0.028   \n",
       "2  0.220  1.26  0.017  0.0046  0.129  0.013  0.001  0.03  0.0004  0.044   \n",
       "3  0.230  1.26  0.014  0.0040  0.130  0.013  0.002  0.01  0.0003  0.027   \n",
       "4  0.232  1.26  0.012  0.0073  0.135  0.011  0.001  0.02  0.0005  0.045   \n",
       "\n",
       "      PV   Pcu     PCl   Pni    Pmo      Pn  Dureza  \n",
       "0  0.003  0.03  0.0019  0.03  0.007  0.0058     293  \n",
       "1  0.003  0.01  0.0028  0.02  0.007  0.0035     293  \n",
       "2  0.004  0.03  0.0023  0.03  0.010  0.0048     293  \n",
       "3  0.001  0.01  0.0022  0.01  0.003  0.0064     293  \n",
       "4  0.003  0.02  0.0026  0.02  0.010  0.0065     293  "
      ]
     },
     "execution_count": 2,
     "metadata": {},
     "output_type": "execute_result"
    }
   ],
   "source": [
    "# cargar los datos\n",
    "datos = pd.read_csv(\"./dureza.csv\", sep=',')\n",
    "datos.head()"
   ]
  },
  {
   "cell_type": "code",
   "execution_count": 3,
   "metadata": {},
   "outputs": [],
   "source": [
    "# Separacion de datos: entrenamiento y test\n",
    "x = datos.drop(['Dureza'], axis=1)\n",
    "y = datos['Dureza']\n",
    "x_train, x_test, y_train, y_test = train_test_split(x, y, random_state=0, test_size=0.3)"
   ]
  },
  {
   "cell_type": "markdown",
   "metadata": {},
   "source": [
    "## **Voting**"
   ]
  },
  {
   "cell_type": "code",
   "execution_count": 12,
   "metadata": {},
   "outputs": [
    {
     "data": {
      "text/plain": [
       "0.5"
      ]
     },
     "execution_count": 12,
     "metadata": {},
     "output_type": "execute_result"
    }
   ],
   "source": [
    "# Definicion de 3 modelos\n",
    "model_1 = DecisionTreeClassifier(max_depth=7)\n",
    "model_2 = KNeighborsClassifier(n_neighbors=5)\n",
    "model_3 = SVC(gamma=2, kernel=\"rbf\", probability=True)\n",
    "\n",
    "# Definicion del ensamble voting\n",
    "modelo = VotingClassifier(estimators=[(\"DT\", model_1), (\"KNN\", model_2), (\"SVC\", model_3)], voting=\"soft\")\n",
    "\n",
    "# Entrenamiento y score\n",
    "modelo.fit(x_train, y_train)\n",
    "modelo.score(x_test, y_test)\n"
   ]
  },
  {
   "cell_type": "markdown",
   "metadata": {},
   "source": [
    "## **Bagging**"
   ]
  },
  {
   "cell_type": "code",
   "execution_count": 13,
   "metadata": {},
   "outputs": [
    {
     "data": {
      "text/plain": [
       "0.5"
      ]
     },
     "execution_count": 13,
     "metadata": {},
     "output_type": "execute_result"
    }
   ],
   "source": [
    "# Definicion de random forest\n",
    "modelo = RandomForestClassifier(n_estimators=400, criterion='gini', max_depth=10)\n",
    "# Entrenamiento y score\n",
    "modelo.fit(x_train, y_train)\n",
    "modelo.score(x_test, y_test)"
   ]
  },
  {
   "cell_type": "markdown",
   "metadata": {},
   "source": [
    "## **Boosting**"
   ]
  },
  {
   "cell_type": "code",
   "execution_count": 15,
   "metadata": {},
   "outputs": [
    {
     "data": {
      "text/plain": [
       "0.42857142857142855"
      ]
     },
     "execution_count": 15,
     "metadata": {},
     "output_type": "execute_result"
    }
   ],
   "source": [
    "# Definicion del modelo Boosting\n",
    "modelo = GradientBoostingClassifier(n_estimators=100, learning_rate=1.0, max_depth=1, random_state=0)\n",
    "# Entrenamiento y score\n",
    "modelo.fit(x_train, y_train)\n",
    "modelo.score(x_test, y_test)"
   ]
  },
  {
   "cell_type": "markdown",
   "metadata": {},
   "source": [
    "## **Stacking**"
   ]
  },
  {
   "cell_type": "code",
   "execution_count": 17,
   "metadata": {},
   "outputs": [
    {
     "data": {
      "text/plain": [
       "0.3333333333333333"
      ]
     },
     "execution_count": 17,
     "metadata": {},
     "output_type": "execute_result"
    }
   ],
   "source": [
    "# Definicion de los clasificadores independientes\n",
    "estimadores = [('KNN', KNeighborsClassifier(n_neighbors=10, metric='euclidean')),\n",
    "               ('DTC', DecisionTreeClassifier(max_depth=18, criterion='entropy')),\n",
    "               ('SVC', SVC(gamma=0.1, C=10))]\n",
    "\n",
    "# Definicion del clasificador final\n",
    "estimador_final = RandomForestClassifier(n_estimators=500)\n",
    "\n",
    "# Definicion de stacking\n",
    "modelo = StackingClassifier(estimators=estimadores, final_estimator=estimador_final)\n",
    "\n",
    "modelo.fit(x_train, y_train)\n",
    "modelo.score(x_test, y_test)"
   ]
  }
 ],
 "metadata": {
  "kernelspec": {
   "display_name": "machine-learning",
   "language": "python",
   "name": "python3"
  },
  "language_info": {
   "codemirror_mode": {
    "name": "ipython",
    "version": 3
   },
   "file_extension": ".py",
   "mimetype": "text/x-python",
   "name": "python",
   "nbconvert_exporter": "python",
   "pygments_lexer": "ipython3",
   "version": "3.10.11"
  },
  "orig_nbformat": 4
 },
 "nbformat": 4,
 "nbformat_minor": 2
}

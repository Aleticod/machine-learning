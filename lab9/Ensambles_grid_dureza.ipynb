{
 "cells": [
  {
   "cell_type": "markdown",
   "metadata": {},
   "source": [
    "### **Dureza de aleacion de metal**\n",
    "```\n",
    "Version     : 1.5, Para uso educativo\n",
    "Autor       : Luis Beltran Palma Ttito\n",
    "Lugar       : Cusco, Peru, 2023\n",
    "Proposito   : Dureza de aleacion de metales con esambles\n",
    "```\n"
   ]
  },
  {
   "cell_type": "markdown",
   "metadata": {},
   "source": [
    "# **0. PASOS PREVIOS**"
   ]
  },
  {
   "cell_type": "markdown",
   "metadata": {},
   "source": [
    "## **Librerias**"
   ]
  },
  {
   "cell_type": "code",
   "execution_count": 1,
   "metadata": {},
   "outputs": [],
   "source": [
    "import numpy as np\n",
    "import pandas as pd\n",
    "import matplotlib.pyplot as plt\n",
    "import seaborn as sns\n",
    "\n",
    "# Algoritmos de clasificacion: K-NN, AD, SVM, MLP, NB\n",
    "from sklearn.neighbors import KNeighborsClassifier\n",
    "from sklearn.tree import DecisionTreeClassifier\n",
    "from sklearn.svm import SVC\n",
    "from sklearn.neural_network import MLPClassifier\n",
    "from sklearn.naive_bayes import GaussianNB\n",
    "\n",
    "# Modulo para la separacion de datos para entrenamiento y test\n",
    "from sklearn.model_selection import train_test_split\n",
    "\n",
    "# Ensambles\n",
    "from sklearn.ensemble import VotingClassifier\n",
    "from sklearn.ensemble import BaggingRegressor\n",
    "from sklearn.ensemble import RandomForestClassifier\n",
    "from sklearn.ensemble import AdaBoostClassifier\n",
    "from sklearn.ensemble import GradientBoostingClassifier\n",
    "from sklearn.ensemble import HistGradientBoostingClassifier\n",
    "from sklearn.ensemble import StackingClassifier\n",
    "from sklearn.ensemble import ExtraTreesClassifier\n",
    "\n",
    "# Modulo que implementa busqueda aleatoria en cuadricula\n",
    "from sklearn.model_selection import RandomizedSearchCV\n",
    "\n",
    "# Validacion cruzada\n",
    "from sklearn.model_selection import RepeatedStratifiedKFold\n",
    "from sklearn.model_selection import cross_val_score\n",
    "\n",
    "%matplotlib inline"
   ]
  },
  {
   "cell_type": "markdown",
   "metadata": {},
   "source": [
    "## **Importacion de datos**"
   ]
  },
  {
   "cell_type": "code",
   "execution_count": 2,
   "metadata": {},
   "outputs": [
    {
     "data": {
      "text/html": [
       "<div>\n",
       "<style scoped>\n",
       "    .dataframe tbody tr th:only-of-type {\n",
       "        vertical-align: middle;\n",
       "    }\n",
       "\n",
       "    .dataframe tbody tr th {\n",
       "        vertical-align: top;\n",
       "    }\n",
       "\n",
       "    .dataframe thead th {\n",
       "        text-align: right;\n",
       "    }\n",
       "</style>\n",
       "<table border=\"1\" class=\"dataframe\">\n",
       "  <thead>\n",
       "    <tr style=\"text-align: right;\">\n",
       "      <th></th>\n",
       "      <th>PC</th>\n",
       "      <th>PMg</th>\n",
       "      <th>PP</th>\n",
       "      <th>PS</th>\n",
       "      <th>Psi</th>\n",
       "      <th>Pti</th>\n",
       "      <th>PNb</th>\n",
       "      <th>PCr</th>\n",
       "      <th>PBr</th>\n",
       "      <th>Pal</th>\n",
       "      <th>PV</th>\n",
       "      <th>Pcu</th>\n",
       "      <th>PCl</th>\n",
       "      <th>Pni</th>\n",
       "      <th>Pmo</th>\n",
       "      <th>Pn</th>\n",
       "      <th>Dureza</th>\n",
       "    </tr>\n",
       "  </thead>\n",
       "  <tbody>\n",
       "    <tr>\n",
       "      <th>0</th>\n",
       "      <td>0.243</td>\n",
       "      <td>1.27</td>\n",
       "      <td>0.015</td>\n",
       "      <td>0.0080</td>\n",
       "      <td>0.112</td>\n",
       "      <td>0.009</td>\n",
       "      <td>0.001</td>\n",
       "      <td>0.03</td>\n",
       "      <td>0.0004</td>\n",
       "      <td>0.039</td>\n",
       "      <td>0.003</td>\n",
       "      <td>0.03</td>\n",
       "      <td>0.0019</td>\n",
       "      <td>0.03</td>\n",
       "      <td>0.007</td>\n",
       "      <td>0.0058</td>\n",
       "      <td>293</td>\n",
       "    </tr>\n",
       "    <tr>\n",
       "      <th>1</th>\n",
       "      <td>0.231</td>\n",
       "      <td>1.26</td>\n",
       "      <td>0.015</td>\n",
       "      <td>0.0080</td>\n",
       "      <td>0.128</td>\n",
       "      <td>0.012</td>\n",
       "      <td>0.009</td>\n",
       "      <td>0.02</td>\n",
       "      <td>0.0005</td>\n",
       "      <td>0.028</td>\n",
       "      <td>0.003</td>\n",
       "      <td>0.01</td>\n",
       "      <td>0.0028</td>\n",
       "      <td>0.02</td>\n",
       "      <td>0.007</td>\n",
       "      <td>0.0035</td>\n",
       "      <td>293</td>\n",
       "    </tr>\n",
       "    <tr>\n",
       "      <th>2</th>\n",
       "      <td>0.220</td>\n",
       "      <td>1.26</td>\n",
       "      <td>0.017</td>\n",
       "      <td>0.0046</td>\n",
       "      <td>0.129</td>\n",
       "      <td>0.013</td>\n",
       "      <td>0.001</td>\n",
       "      <td>0.03</td>\n",
       "      <td>0.0004</td>\n",
       "      <td>0.044</td>\n",
       "      <td>0.004</td>\n",
       "      <td>0.03</td>\n",
       "      <td>0.0023</td>\n",
       "      <td>0.03</td>\n",
       "      <td>0.010</td>\n",
       "      <td>0.0048</td>\n",
       "      <td>293</td>\n",
       "    </tr>\n",
       "    <tr>\n",
       "      <th>3</th>\n",
       "      <td>0.230</td>\n",
       "      <td>1.26</td>\n",
       "      <td>0.014</td>\n",
       "      <td>0.0040</td>\n",
       "      <td>0.130</td>\n",
       "      <td>0.013</td>\n",
       "      <td>0.002</td>\n",
       "      <td>0.01</td>\n",
       "      <td>0.0003</td>\n",
       "      <td>0.027</td>\n",
       "      <td>0.001</td>\n",
       "      <td>0.01</td>\n",
       "      <td>0.0022</td>\n",
       "      <td>0.01</td>\n",
       "      <td>0.003</td>\n",
       "      <td>0.0064</td>\n",
       "      <td>293</td>\n",
       "    </tr>\n",
       "    <tr>\n",
       "      <th>4</th>\n",
       "      <td>0.232</td>\n",
       "      <td>1.26</td>\n",
       "      <td>0.012</td>\n",
       "      <td>0.0073</td>\n",
       "      <td>0.135</td>\n",
       "      <td>0.011</td>\n",
       "      <td>0.001</td>\n",
       "      <td>0.02</td>\n",
       "      <td>0.0005</td>\n",
       "      <td>0.045</td>\n",
       "      <td>0.003</td>\n",
       "      <td>0.02</td>\n",
       "      <td>0.0026</td>\n",
       "      <td>0.02</td>\n",
       "      <td>0.010</td>\n",
       "      <td>0.0065</td>\n",
       "      <td>293</td>\n",
       "    </tr>\n",
       "  </tbody>\n",
       "</table>\n",
       "</div>"
      ],
      "text/plain": [
       "      PC   PMg     PP      PS    Psi    Pti    PNb   PCr     PBr    Pal  \\\n",
       "0  0.243  1.27  0.015  0.0080  0.112  0.009  0.001  0.03  0.0004  0.039   \n",
       "1  0.231  1.26  0.015  0.0080  0.128  0.012  0.009  0.02  0.0005  0.028   \n",
       "2  0.220  1.26  0.017  0.0046  0.129  0.013  0.001  0.03  0.0004  0.044   \n",
       "3  0.230  1.26  0.014  0.0040  0.130  0.013  0.002  0.01  0.0003  0.027   \n",
       "4  0.232  1.26  0.012  0.0073  0.135  0.011  0.001  0.02  0.0005  0.045   \n",
       "\n",
       "      PV   Pcu     PCl   Pni    Pmo      Pn  Dureza  \n",
       "0  0.003  0.03  0.0019  0.03  0.007  0.0058     293  \n",
       "1  0.003  0.01  0.0028  0.02  0.007  0.0035     293  \n",
       "2  0.004  0.03  0.0023  0.03  0.010  0.0048     293  \n",
       "3  0.001  0.01  0.0022  0.01  0.003  0.0064     293  \n",
       "4  0.003  0.02  0.0026  0.02  0.010  0.0065     293  "
      ]
     },
     "execution_count": 2,
     "metadata": {},
     "output_type": "execute_result"
    }
   ],
   "source": [
    "datos = pd.read_csv('./dureza.csv')\n",
    "datos.head()"
   ]
  },
  {
   "cell_type": "markdown",
   "metadata": {},
   "source": [
    "## **Separacion de datos para Training y Testing**"
   ]
  },
  {
   "cell_type": "code",
   "execution_count": 3,
   "metadata": {},
   "outputs": [],
   "source": [
    "# Separacion de datos en entradas\n",
    "x = datos.drop(['Dureza'], axis=1)\n",
    "y = pd.DataFrame(datos['Dureza'])\n",
    "\n",
    "x_train, x_test, y_train, y_test = train_test_split(x, y, random_state=123, train_size=0.75, shuffle=True)"
   ]
  },
  {
   "cell_type": "markdown",
   "metadata": {},
   "source": [
    "## **Distribucion de datos**"
   ]
  },
  {
   "cell_type": "code",
   "execution_count": 4,
   "metadata": {},
   "outputs": [
    {
     "data": {
      "text/plain": [
       "Dureza\n",
       "293    36\n",
       "302    28\n",
       "311    45\n",
       "321    31\n",
       "dtype: int64"
      ]
     },
     "execution_count": 4,
     "metadata": {},
     "output_type": "execute_result"
    }
   ],
   "source": [
    "datos.groupby('Dureza').size()"
   ]
  },
  {
   "cell_type": "markdown",
   "metadata": {},
   "source": [
    "# **1. MODELO VOTING: AD + K-NN + SVC + MLP**"
   ]
  },
  {
   "cell_type": "markdown",
   "metadata": {},
   "source": [
    "### Busqueda aleatoria de hiper-parametro en cuadricula, para **ARBOL DE DECISION**"
   ]
  },
  {
   "cell_type": "code",
   "execution_count": 9,
   "metadata": {},
   "outputs": [
    {
     "name": "stdout",
     "output_type": "stream",
     "text": [
      "Fitting 5 folds for each of 14 candidates, totalling 70 fits\n"
     ]
    },
    {
     "name": "stdout",
     "output_type": "stream",
     "text": [
      "Score de train:  0.6571428571428571\n",
      "Mejor modelo : {'max_depth': 150, 'criterion': 'gini'}\n"
     ]
    }
   ],
   "source": [
    "# Creacion de cuadricula de busqueda\n",
    "grid_aleatorio_ad = {'criterion': ['gini', 'entropy'], 'max_depth': [4, 8, 12, 20, 50, 120, 150]}\n",
    "# Definicion del modelo \n",
    "arbol_decision = DecisionTreeClassifier()\n",
    "# Busqueda aleatoria en cuadricula, con validacion cruzada\n",
    "model_1 = RandomizedSearchCV(estimator=arbol_decision, param_distributions=grid_aleatorio_ad, n_iter=14, cv=5, verbose=2, random_state=42, n_jobs=-1)\n",
    "\n",
    "model_1.fit(x_train, y_train)\n",
    "print('Score de train: ', model_1.score(x_test, y_test))\n",
    "print('Mejor modelo :', model_1.best_params_)"
   ]
  },
  {
   "cell_type": "markdown",
   "metadata": {},
   "source": [
    "### Busqueda aleatorio de hiper-parametro en cuadricula, para **K-VECINOS MAS CERCANOS**"
   ]
  },
  {
   "cell_type": "code",
   "execution_count": 10,
   "metadata": {},
   "outputs": [
    {
     "name": "stdout",
     "output_type": "stream",
     "text": [
      "Fitting 5 folds for each of 14 candidates, totalling 70 fits\n"
     ]
    },
    {
     "name": "stderr",
     "output_type": "stream",
     "text": [
      "c:\\Users\\HARVEY\\anaconda3\\envs\\machine-learning\\lib\\site-packages\\sklearn\\neighbors\\_classification.py:215: DataConversionWarning: A column-vector y was passed when a 1d array was expected. Please change the shape of y to (n_samples,), for example using ravel().\n",
      "  return self._fit(X, y)\n"
     ]
    },
    {
     "name": "stdout",
     "output_type": "stream",
     "text": [
      "Score de train:  0.2857142857142857\n",
      "Mejor modelo:  {'n_neighbors': 17}\n"
     ]
    }
   ],
   "source": [
    "grid_aleatorio_knn = {'n_neighbors': [2,3,4,5,6,7,8,9,10,11,12,13,14,15,16,17,18,19,20]}\n",
    "knn = KNeighborsClassifier()\n",
    "model_2 = RandomizedSearchCV(estimator=knn, param_distributions=grid_aleatorio_knn, n_iter=14, cv=5, verbose=2, random_state=42, n_jobs=-1)\n",
    "model_2.fit(x_train, y_train)\n",
    "print('Score de train: ', model_2.score(x_test, y_test))\n",
    "print('Mejor modelo: ', model_2.best_params_)"
   ]
  },
  {
   "cell_type": "markdown",
   "metadata": {},
   "source": [
    "### Busqueda aleatorioa de hiper-parametro en cuadricula, para **MAQUINA DE VECTOR DE SOPORTE**"
   ]
  },
  {
   "cell_type": "code",
   "execution_count": 11,
   "metadata": {},
   "outputs": [
    {
     "name": "stdout",
     "output_type": "stream",
     "text": [
      "Fitting 5 folds for each of 14 candidates, totalling 70 fits\n"
     ]
    },
    {
     "name": "stdout",
     "output_type": "stream",
     "text": [
      "Score de train:  0.22857142857142856\n",
      "Mejor modelo:  {'kernel': 'poly', 'gamma': 1, 'C': 3}\n"
     ]
    },
    {
     "name": "stderr",
     "output_type": "stream",
     "text": [
      "c:\\Users\\HARVEY\\anaconda3\\envs\\machine-learning\\lib\\site-packages\\sklearn\\utils\\validation.py:1143: DataConversionWarning: A column-vector y was passed when a 1d array was expected. Please change the shape of y to (n_samples, ), for example using ravel().\n",
      "  y = column_or_1d(y, warn=True)\n"
     ]
    }
   ],
   "source": [
    "grid_aleatorio_svc = {'gamma': [1, 0.1, 0.01, 0.001], 'kernel': ['rbf', 'poly', 'sigmoid'], 'C': [0.1, 1, 2, 3]}\n",
    "svc = SVC()\n",
    "model_3 = RandomizedSearchCV(estimator=svc, param_distributions=grid_aleatorio_svc, n_iter=14, cv=5, verbose=2, random_state=42, n_jobs=-1)\n",
    "model_3.fit(x_train, y_train)\n",
    "print('Score de train: ', model_3.score(x_test, y_test))\n",
    "print('Mejor modelo: ', model_3.best_params_)"
   ]
  },
  {
   "cell_type": "markdown",
   "metadata": {},
   "source": [
    "### Busqueda aleatoria de hiper-parametro en cuadricula, para **PERCEPTRON MULTICAPA**"
   ]
  },
  {
   "cell_type": "code",
   "execution_count": 13,
   "metadata": {},
   "outputs": [
    {
     "name": "stdout",
     "output_type": "stream",
     "text": [
      "Fitting 5 folds for each of 14 candidates, totalling 70 fits\n"
     ]
    },
    {
     "name": "stderr",
     "output_type": "stream",
     "text": [
      "c:\\Users\\HARVEY\\anaconda3\\envs\\machine-learning\\lib\\site-packages\\sklearn\\neural_network\\_multilayer_perceptron.py:1098: DataConversionWarning: A column-vector y was passed when a 1d array was expected. Please change the shape of y to (n_samples, ), for example using ravel().\n",
      "  y = column_or_1d(y, warn=True)\n"
     ]
    },
    {
     "name": "stdout",
     "output_type": "stream",
     "text": [
      "Score de train:  0.2571428571428571\n",
      "Mejor modelo:  {'hidden_layer_sizes': (100, 50, 20, 8), 'alpha': 0.25, 'activation': 'tanh'}\n"
     ]
    }
   ],
   "source": [
    "grid_aleatorio_mlp = {'hidden_layer_sizes': [(50, 20, 10, 5), (80, 40, 15, 5), (100, 50, 20, 8), (20, 10, 5)], 'activation': ['logistic', 'tanh'], 'alpha': [0.01, 0.05, 0.1, 0.25]}\n",
    "mlp = MLPClassifier(max_iter=1000)\n",
    "model_4 = RandomizedSearchCV(estimator=mlp, param_distributions=grid_aleatorio_mlp, n_iter=14, cv=5, verbose=2, random_state=42, n_jobs=-1)\n",
    "model_4.fit(x_train, y_train)\n",
    "print('Score de train: ', model_4.score(x_test, y_test))\n",
    "print('Mejor modelo: ', model_4.best_params_)"
   ]
  },
  {
   "cell_type": "code",
   "execution_count": 14,
   "metadata": {},
   "outputs": [
    {
     "name": "stdout",
     "output_type": "stream",
     "text": [
      "{'max_depth': 150, 'criterion': 'gini'}\n",
      "{'n_neighbors': 17}\n",
      "{'kernel': 'poly', 'gamma': 1, 'C': 3}\n",
      "{'hidden_layer_sizes': (100, 50, 20, 8), 'alpha': 0.25, 'activation': 'tanh'}\n"
     ]
    }
   ],
   "source": [
    "print(model_1.best_params_)\n",
    "print(model_2.best_params_)\n",
    "print(model_3.best_params_)\n",
    "print(model_4.best_params_)"
   ]
  },
  {
   "cell_type": "markdown",
   "metadata": {},
   "source": [
    "## **Voting = AD + K-NN + SVC + MLP**"
   ]
  },
  {
   "cell_type": "code",
   "execution_count": 15,
   "metadata": {},
   "outputs": [],
   "source": [
    "model_11 = DecisionTreeClassifier(criterion='gini', max_depth=50)\n",
    "model_22 = KNeighborsClassifier(n_neighbors=17)\n",
    "model_33 = SVC(gamma=1, kernel='poly', C=3)\n",
    "model_44 = MLPClassifier(activation='tanh', alpha=0.1, hidden_layer_sizes=(80, 40, 15, 5), max_iter=1000)"
   ]
  },
  {
   "cell_type": "code",
   "execution_count": 16,
   "metadata": {},
   "outputs": [
    {
     "name": "stderr",
     "output_type": "stream",
     "text": [
      "c:\\Users\\HARVEY\\anaconda3\\envs\\machine-learning\\lib\\site-packages\\sklearn\\preprocessing\\_label.py:99: DataConversionWarning: A column-vector y was passed when a 1d array was expected. Please change the shape of y to (n_samples, ), for example using ravel().\n",
      "  y = column_or_1d(y, warn=True)\n",
      "c:\\Users\\HARVEY\\anaconda3\\envs\\machine-learning\\lib\\site-packages\\sklearn\\preprocessing\\_label.py:134: DataConversionWarning: A column-vector y was passed when a 1d array was expected. Please change the shape of y to (n_samples, ), for example using ravel().\n",
      "  y = column_or_1d(y, dtype=self.classes_.dtype, warn=True)\n"
     ]
    },
    {
     "name": "stdout",
     "output_type": "stream",
     "text": [
      "Score de train:  0.2571428571428571\n"
     ]
    }
   ],
   "source": [
    "# Definir el ensamble Voting de clasificacion\n",
    "EnsambleVoting = VotingClassifier(estimators=[('dt', model_11), ('knn', model_22), ('svc', model_33), ('MLP', model_44)], voting='hard', weights=[1,3,1,10], n_jobs=-1)\n",
    "\n",
    "# Entrenar ensamble\n",
    "EnsambleVoting.fit(x_train, y_train)\n",
    "\n",
    "print('Score de train: ', EnsambleVoting.score(x_test, y_test))"
   ]
  },
  {
   "cell_type": "markdown",
   "metadata": {},
   "source": [
    "### Validacion cruzada"
   ]
  },
  {
   "cell_type": "code",
   "execution_count": 18,
   "metadata": {},
   "outputs": [
    {
     "name": "stderr",
     "output_type": "stream",
     "text": [
      "c:\\Users\\HARVEY\\anaconda3\\envs\\machine-learning\\lib\\site-packages\\sklearn\\model_selection\\_split.py:700: UserWarning: The least populated class in y has only 6 members, which is less than n_splits=10.\n",
      "  warnings.warn(\n"
     ]
    },
    {
     "name": "stderr",
     "output_type": "stream",
     "text": [
      "c:\\Users\\HARVEY\\anaconda3\\envs\\machine-learning\\lib\\site-packages\\sklearn\\model_selection\\_split.py:700: UserWarning: The least populated class in y has only 6 members, which is less than n_splits=10.\n",
      "  warnings.warn(\n",
      "c:\\Users\\HARVEY\\anaconda3\\envs\\machine-learning\\lib\\site-packages\\sklearn\\model_selection\\_split.py:700: UserWarning: The least populated class in y has only 6 members, which is less than n_splits=10.\n",
      "  warnings.warn(\n"
     ]
    },
    {
     "name": "stdout",
     "output_type": "stream",
     "text": [
      "acu cv 10 test:  0.3111111111111111\n"
     ]
    }
   ],
   "source": [
    "from sklearn.model_selection import RepeatedStratifiedKFold\n",
    "from sklearn.model_selection import cross_val_score\n",
    "# Evaluar un modelo dado usando cross-validation\n",
    "\n",
    "def evaluate_model(model, x, y):\n",
    "    cv = RepeatedStratifiedKFold(n_splits=10, n_repeats=3, random_state=1)\n",
    "    scores = cross_val_score(model, x, y, scoring='accuracy', cv=cv, n_jobs=-1, error_score='raise')\n",
    "    return scores\n",
    "\n",
    "import statistics\n",
    "acu_vc_10_test_voting = statistics.mean(evaluate_model(EnsambleVoting, x_test, y_test))\n",
    "\n",
    "print('acu cv 10 test: ', acu_vc_10_test_voting)"
   ]
  },
  {
   "cell_type": "markdown",
   "metadata": {},
   "source": [
    "# **MODELO BAGGING: RF, AD, K-NN, SVC, MLP**"
   ]
  },
  {
   "cell_type": "code",
   "execution_count": 19,
   "metadata": {},
   "outputs": [],
   "source": [
    "from sklearn.svm import SVC\n",
    "from sklearn.tree import DecisionTreeClassifier\n",
    "from sklearn.ensemble import RandomForestClassifier\n",
    "from sklearn.neighbors import KNeighborsClassifier\n",
    "from sklearn.neural_network import MLPClassifier\n",
    "from sklearn.ensemble import BaggingClassifier"
   ]
  },
  {
   "cell_type": "markdown",
   "metadata": {},
   "source": [
    "### Bagging con **BOSQUE ALEATORIO**"
   ]
  },
  {
   "cell_type": "code",
   "execution_count": 24,
   "metadata": {},
   "outputs": [
    {
     "name": "stderr",
     "output_type": "stream",
     "text": [
      "C:\\Users\\HARVEY\\AppData\\Local\\Temp\\ipykernel_3184\\3694939662.py:2: DataConversionWarning: A column-vector y was passed when a 1d array was expected. Please change the shape of y to (n_samples,), for example using ravel().\n",
      "  EnsambleBaggingRF.fit(x_train, y_train)\n"
     ]
    },
    {
     "name": "stdout",
     "output_type": "stream",
     "text": [
      "Score de testing:  0.6285714285714286\n"
     ]
    }
   ],
   "source": [
    "EnsambleBaggingRF = RandomForestClassifier(n_estimators=300, criterion='gini', max_depth=80)\n",
    "EnsambleBaggingRF.fit(x_train, y_train)\n",
    "\n",
    "print('Score de testing: ', EnsambleBaggingRF.score(x_test, y_test))"
   ]
  },
  {
   "cell_type": "markdown",
   "metadata": {},
   "source": [
    "### Baggin con **MÁQUINA DE VECTOR DE SOPORTE**"
   ]
  },
  {
   "cell_type": "code",
   "execution_count": 25,
   "metadata": {},
   "outputs": [
    {
     "name": "stderr",
     "output_type": "stream",
     "text": [
      "c:\\Users\\HARVEY\\anaconda3\\envs\\machine-learning\\lib\\site-packages\\sklearn\\ensemble\\_bagging.py:802: DataConversionWarning: A column-vector y was passed when a 1d array was expected. Please change the shape of y to (n_samples, ), for example using ravel().\n",
      "  y = column_or_1d(y, warn=True)\n",
      "c:\\Users\\HARVEY\\anaconda3\\envs\\machine-learning\\lib\\site-packages\\sklearn\\ensemble\\_base.py:166: FutureWarning: `base_estimator` was renamed to `estimator` in version 1.2 and will be removed in 1.4.\n",
      "  warnings.warn(\n"
     ]
    },
    {
     "name": "stdout",
     "output_type": "stream",
     "text": [
      "Score de testing:  0.2571428571428571\n"
     ]
    }
   ],
   "source": [
    "BaggingSVC = BaggingClassifier(base_estimator=SVC(), n_estimators=200, random_state=0 )\n",
    "BaggingSVC.fit(x_train, y_train)\n",
    "print('Score de testing: ', BaggingSVC.score(x_test, y_test))"
   ]
  },
  {
   "cell_type": "markdown",
   "metadata": {},
   "source": [
    "### Bagging con **ÁRBOL DE DECISIÓN**"
   ]
  },
  {
   "cell_type": "code",
   "execution_count": 26,
   "metadata": {},
   "outputs": [
    {
     "name": "stdout",
     "output_type": "stream",
     "text": [
      "Score de testing:  0.6571428571428571\n"
     ]
    },
    {
     "name": "stderr",
     "output_type": "stream",
     "text": [
      "c:\\Users\\HARVEY\\anaconda3\\envs\\machine-learning\\lib\\site-packages\\sklearn\\ensemble\\_bagging.py:802: DataConversionWarning: A column-vector y was passed when a 1d array was expected. Please change the shape of y to (n_samples, ), for example using ravel().\n",
      "  y = column_or_1d(y, warn=True)\n",
      "c:\\Users\\HARVEY\\anaconda3\\envs\\machine-learning\\lib\\site-packages\\sklearn\\ensemble\\_base.py:166: FutureWarning: `base_estimator` was renamed to `estimator` in version 1.2 and will be removed in 1.4.\n",
      "  warnings.warn(\n"
     ]
    }
   ],
   "source": [
    "BaggingDTC = BaggingClassifier(base_estimator=DecisionTreeClassifier(), n_estimators=30, random_state=0)\n",
    "BaggingDTC.fit(x_train, y_train)\n",
    "print('Score de testing: ', BaggingDTC.score(x_test, y_test))"
   ]
  },
  {
   "cell_type": "markdown",
   "metadata": {},
   "source": [
    "### Bagging con **N-VECINOS MAS CERCANOS**"
   ]
  },
  {
   "cell_type": "code",
   "execution_count": 27,
   "metadata": {},
   "outputs": [
    {
     "name": "stderr",
     "output_type": "stream",
     "text": [
      "c:\\Users\\HARVEY\\anaconda3\\envs\\machine-learning\\lib\\site-packages\\sklearn\\ensemble\\_bagging.py:802: DataConversionWarning: A column-vector y was passed when a 1d array was expected. Please change the shape of y to (n_samples, ), for example using ravel().\n",
      "  y = column_or_1d(y, warn=True)\n",
      "c:\\Users\\HARVEY\\anaconda3\\envs\\machine-learning\\lib\\site-packages\\sklearn\\ensemble\\_base.py:166: FutureWarning: `base_estimator` was renamed to `estimator` in version 1.2 and will be removed in 1.4.\n",
      "  warnings.warn(\n"
     ]
    },
    {
     "name": "stdout",
     "output_type": "stream",
     "text": [
      "Score de testing:  0.42857142857142855\n"
     ]
    }
   ],
   "source": [
    "BaggingKNN = BaggingClassifier(base_estimator=KNeighborsClassifier(), n_estimators=30, random_state=0)\n",
    "BaggingKNN.fit(x_train, y_train)\n",
    "print('Score de testing: ', BaggingKNN.score(x_test, y_test))"
   ]
  },
  {
   "cell_type": "markdown",
   "metadata": {},
   "source": [
    "### Bagging con **PERCEPTRÓN MULTICAPA - MLP**"
   ]
  },
  {
   "cell_type": "code",
   "execution_count": 28,
   "metadata": {},
   "outputs": [
    {
     "name": "stderr",
     "output_type": "stream",
     "text": [
      "c:\\Users\\HARVEY\\anaconda3\\envs\\machine-learning\\lib\\site-packages\\sklearn\\ensemble\\_bagging.py:802: DataConversionWarning: A column-vector y was passed when a 1d array was expected. Please change the shape of y to (n_samples, ), for example using ravel().\n",
      "  y = column_or_1d(y, warn=True)\n",
      "c:\\Users\\HARVEY\\anaconda3\\envs\\machine-learning\\lib\\site-packages\\sklearn\\ensemble\\_base.py:166: FutureWarning: `base_estimator` was renamed to `estimator` in version 1.2 and will be removed in 1.4.\n",
      "  warnings.warn(\n",
      "c:\\Users\\HARVEY\\anaconda3\\envs\\machine-learning\\lib\\site-packages\\sklearn\\neural_network\\_multilayer_perceptron.py:686: ConvergenceWarning: Stochastic Optimizer: Maximum iterations (200) reached and the optimization hasn't converged yet.\n",
      "  warnings.warn(\n",
      "c:\\Users\\HARVEY\\anaconda3\\envs\\machine-learning\\lib\\site-packages\\sklearn\\neural_network\\_multilayer_perceptron.py:686: ConvergenceWarning: Stochastic Optimizer: Maximum iterations (200) reached and the optimization hasn't converged yet.\n",
      "  warnings.warn(\n",
      "c:\\Users\\HARVEY\\anaconda3\\envs\\machine-learning\\lib\\site-packages\\sklearn\\neural_network\\_multilayer_perceptron.py:686: ConvergenceWarning: Stochastic Optimizer: Maximum iterations (200) reached and the optimization hasn't converged yet.\n",
      "  warnings.warn(\n",
      "c:\\Users\\HARVEY\\anaconda3\\envs\\machine-learning\\lib\\site-packages\\sklearn\\neural_network\\_multilayer_perceptron.py:686: ConvergenceWarning: Stochastic Optimizer: Maximum iterations (200) reached and the optimization hasn't converged yet.\n",
      "  warnings.warn(\n",
      "c:\\Users\\HARVEY\\anaconda3\\envs\\machine-learning\\lib\\site-packages\\sklearn\\neural_network\\_multilayer_perceptron.py:686: ConvergenceWarning: Stochastic Optimizer: Maximum iterations (200) reached and the optimization hasn't converged yet.\n",
      "  warnings.warn(\n",
      "c:\\Users\\HARVEY\\anaconda3\\envs\\machine-learning\\lib\\site-packages\\sklearn\\neural_network\\_multilayer_perceptron.py:686: ConvergenceWarning: Stochastic Optimizer: Maximum iterations (200) reached and the optimization hasn't converged yet.\n",
      "  warnings.warn(\n",
      "c:\\Users\\HARVEY\\anaconda3\\envs\\machine-learning\\lib\\site-packages\\sklearn\\neural_network\\_multilayer_perceptron.py:686: ConvergenceWarning: Stochastic Optimizer: Maximum iterations (200) reached and the optimization hasn't converged yet.\n",
      "  warnings.warn(\n",
      "c:\\Users\\HARVEY\\anaconda3\\envs\\machine-learning\\lib\\site-packages\\sklearn\\neural_network\\_multilayer_perceptron.py:686: ConvergenceWarning: Stochastic Optimizer: Maximum iterations (200) reached and the optimization hasn't converged yet.\n",
      "  warnings.warn(\n",
      "c:\\Users\\HARVEY\\anaconda3\\envs\\machine-learning\\lib\\site-packages\\sklearn\\neural_network\\_multilayer_perceptron.py:686: ConvergenceWarning: Stochastic Optimizer: Maximum iterations (200) reached and the optimization hasn't converged yet.\n",
      "  warnings.warn(\n",
      "c:\\Users\\HARVEY\\anaconda3\\envs\\machine-learning\\lib\\site-packages\\sklearn\\neural_network\\_multilayer_perceptron.py:686: ConvergenceWarning: Stochastic Optimizer: Maximum iterations (200) reached and the optimization hasn't converged yet.\n",
      "  warnings.warn(\n"
     ]
    },
    {
     "name": "stdout",
     "output_type": "stream",
     "text": [
      "Score de testing:  0.2571428571428571\n"
     ]
    },
    {
     "name": "stderr",
     "output_type": "stream",
     "text": [
      "c:\\Users\\HARVEY\\anaconda3\\envs\\machine-learning\\lib\\site-packages\\sklearn\\neural_network\\_multilayer_perceptron.py:686: ConvergenceWarning: Stochastic Optimizer: Maximum iterations (200) reached and the optimization hasn't converged yet.\n",
      "  warnings.warn(\n"
     ]
    }
   ],
   "source": [
    "BaggingMLP = BaggingClassifier(base_estimator=MLPClassifier(hidden_layer_sizes=(80, 40, 15, 5), alpha=0.01, activation='tanh'), n_estimators=20, random_state=0)\n",
    "BaggingMLP.fit(x_train, y_train)\n",
    "print('Score de testing: ', BaggingMLP.score(x_test, y_test))"
   ]
  },
  {
   "cell_type": "markdown",
   "metadata": {},
   "source": [
    "# **3. BOOSTING**"
   ]
  },
  {
   "cell_type": "code",
   "execution_count": 29,
   "metadata": {},
   "outputs": [],
   "source": [
    "from sklearn.ensemble import AdaBoostClassifier\n",
    "from sklearn.ensemble import GradientBoostingClassifier\n",
    "from sklearn.ensemble import HistGradientBoostingClassifier\n",
    "from sklearn.ensemble import StackingClassifier\n",
    "from sklearn.ensemble import ExtraTreesClassifier"
   ]
  },
  {
   "cell_type": "markdown",
   "metadata": {},
   "source": [
    "### Boosting Gradiente"
   ]
  },
  {
   "cell_type": "code",
   "execution_count": 30,
   "metadata": {},
   "outputs": [
    {
     "name": "stderr",
     "output_type": "stream",
     "text": [
      "c:\\Users\\HARVEY\\anaconda3\\envs\\machine-learning\\lib\\site-packages\\sklearn\\ensemble\\_gb.py:437: DataConversionWarning: A column-vector y was passed when a 1d array was expected. Please change the shape of y to (n_samples, ), for example using ravel().\n",
      "  y = column_or_1d(y, warn=True)\n"
     ]
    },
    {
     "name": "stdout",
     "output_type": "stream",
     "text": [
      "Score de testing:  0.6857142857142857\n"
     ]
    }
   ],
   "source": [
    "EnsambleBoosting = GradientBoostingClassifier(n_estimators=30)\n",
    "EnsambleBoosting.fit(x_train, y_train)\n",
    "\n",
    "print('Score de testing: ', EnsambleBoosting.score(x_test, y_test))"
   ]
  },
  {
   "cell_type": "markdown",
   "metadata": {},
   "source": [
    "### AdaBoost"
   ]
  },
  {
   "cell_type": "code",
   "execution_count": 31,
   "metadata": {},
   "outputs": [
    {
     "name": "stdout",
     "output_type": "stream",
     "text": [
      "Score de testing:  0.45714285714285713\n"
     ]
    },
    {
     "name": "stderr",
     "output_type": "stream",
     "text": [
      "c:\\Users\\HARVEY\\anaconda3\\envs\\machine-learning\\lib\\site-packages\\sklearn\\utils\\validation.py:1143: DataConversionWarning: A column-vector y was passed when a 1d array was expected. Please change the shape of y to (n_samples, ), for example using ravel().\n",
      "  y = column_or_1d(y, warn=True)\n"
     ]
    }
   ],
   "source": [
    "EnsambleABC = AdaBoostClassifier()\n",
    "EnsambleABC.fit(x_train, y_train)\n",
    "\n",
    "print('Score de testing: ', EnsambleABC.score(x_test, y_test))"
   ]
  },
  {
   "cell_type": "markdown",
   "metadata": {},
   "source": [
    "# **4. STACKING: (KNN+AD+SCV+MLP) -> RF**"
   ]
  },
  {
   "cell_type": "markdown",
   "metadata": {},
   "source": [
    "### Nivel 1: de clasificadores KNN, AD, SVC, MLP"
   ]
  },
  {
   "cell_type": "code",
   "execution_count": 32,
   "metadata": {},
   "outputs": [],
   "source": [
    "estimadores = [('KNN', KNeighborsClassifier(n_neighbors=3, metric='euclidean')),\n",
    "               ('AD', DecisionTreeClassifier(max_depth=50, criterion='entropy')),\n",
    "               ('SVC', SVC(gamma=5, C=300, kernel='rbf')),\n",
    "               ('MLP', MLPClassifier(hidden_layer_sizes=(100, 50, 30, 5), alpha=0.01, activation='tanh'))]"
   ]
  },
  {
   "cell_type": "markdown",
   "metadata": {},
   "source": [
    "### Nivel2: predictor RF"
   ]
  },
  {
   "cell_type": "code",
   "execution_count": 33,
   "metadata": {},
   "outputs": [],
   "source": [
    "estimador_final = RandomForestClassifier(n_estimators=300)"
   ]
  },
  {
   "cell_type": "markdown",
   "metadata": {},
   "source": [
    "### Modelo Stacking"
   ]
  },
  {
   "cell_type": "code",
   "execution_count": 34,
   "metadata": {},
   "outputs": [
    {
     "name": "stderr",
     "output_type": "stream",
     "text": [
      "c:\\Users\\HARVEY\\anaconda3\\envs\\machine-learning\\lib\\site-packages\\sklearn\\preprocessing\\_label.py:99: DataConversionWarning: A column-vector y was passed when a 1d array was expected. Please change the shape of y to (n_samples, ), for example using ravel().\n",
      "  y = column_or_1d(y, warn=True)\n",
      "c:\\Users\\HARVEY\\anaconda3\\envs\\machine-learning\\lib\\site-packages\\sklearn\\preprocessing\\_label.py:134: DataConversionWarning: A column-vector y was passed when a 1d array was expected. Please change the shape of y to (n_samples, ), for example using ravel().\n",
      "  y = column_or_1d(y, dtype=self.classes_.dtype, warn=True)\n",
      "c:\\Users\\HARVEY\\anaconda3\\envs\\machine-learning\\lib\\site-packages\\sklearn\\neural_network\\_multilayer_perceptron.py:686: ConvergenceWarning: Stochastic Optimizer: Maximum iterations (200) reached and the optimization hasn't converged yet.\n",
      "  warnings.warn(\n",
      "c:\\Users\\HARVEY\\anaconda3\\envs\\machine-learning\\lib\\site-packages\\sklearn\\neural_network\\_multilayer_perceptron.py:686: ConvergenceWarning: Stochastic Optimizer: Maximum iterations (200) reached and the optimization hasn't converged yet.\n",
      "  warnings.warn(\n"
     ]
    },
    {
     "name": "stdout",
     "output_type": "stream",
     "text": [
      "Score de testing:  0.3142857142857143\n"
     ]
    }
   ],
   "source": [
    "EnsambleStacking = StackingClassifier(\n",
    "    estimators=estimadores,\n",
    "    final_estimator=estimador_final\n",
    ")\n",
    "EnsambleStacking.fit(x_train, y_train)\n",
    "\n",
    "print('Score de testing: ', EnsambleStacking.score(x_test, y_test))"
   ]
  },
  {
   "cell_type": "code",
   "execution_count": 35,
   "metadata": {},
   "outputs": [
    {
     "name": "stderr",
     "output_type": "stream",
     "text": [
      "c:\\Users\\HARVEY\\anaconda3\\envs\\machine-learning\\lib\\site-packages\\sklearn\\model_selection\\_split.py:700: UserWarning: The least populated class in y has only 6 members, which is less than n_splits=10.\n",
      "  warnings.warn(\n",
      "c:\\Users\\HARVEY\\anaconda3\\envs\\machine-learning\\lib\\site-packages\\sklearn\\model_selection\\_split.py:700: UserWarning: The least populated class in y has only 6 members, which is less than n_splits=10.\n",
      "  warnings.warn(\n",
      "c:\\Users\\HARVEY\\anaconda3\\envs\\machine-learning\\lib\\site-packages\\sklearn\\model_selection\\_split.py:700: UserWarning: The least populated class in y has only 6 members, which is less than n_splits=10.\n",
      "  warnings.warn(\n"
     ]
    },
    {
     "name": "stdout",
     "output_type": "stream",
     "text": [
      "acu cv 10 test:  0.2361111111111111\n"
     ]
    }
   ],
   "source": [
    "import statistics\n",
    "\n",
    "acu_vc_10_test_stacking = statistics.mean(evaluate_model(EnsambleStacking, x_test, y_test))\n",
    "print('acu cv 10 test: ', acu_vc_10_test_stacking)"
   ]
  }
 ],
 "metadata": {
  "kernelspec": {
   "display_name": "machine-learning",
   "language": "python",
   "name": "python3"
  },
  "language_info": {
   "codemirror_mode": {
    "name": "ipython",
    "version": 3
   },
   "file_extension": ".py",
   "mimetype": "text/x-python",
   "name": "python",
   "nbconvert_exporter": "python",
   "pygments_lexer": "ipython3",
   "version": "3.10.11"
  },
  "orig_nbformat": 4
 },
 "nbformat": 4,
 "nbformat_minor": 2
}

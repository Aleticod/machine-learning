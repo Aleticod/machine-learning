{
 "cells": [
  {
   "cell_type": "markdown",
   "metadata": {
    "id": "ztH5R1vWlM7m"
   },
   "source": [
    "# TAREA: Análisis y Exploración de datos\n",
    "```\n",
    "Proposito : Tarea de Exploración de datos\n",
    "Docente   : Mg. Luis Beltran Palma Ttito\n",
    "Entrega   : Pfoccori Quispe Alex Harvey\n",
    "Formato   : El formato de entrega es un cuaderno de Google Colab ipynb\n",
    "```"
   ]
  },
  {
   "cell_type": "markdown",
   "metadata": {
    "id": "tNPhtTgx-apo"
   },
   "source": [
    "# Complete su código, nombre y apellidos"
   ]
  },
  {
   "cell_type": "markdown",
   "metadata": {
    "id": "0e_4oRQQ-lvp"
   },
   "source": [
    "* Código: 193837\n",
    "* Nombre: Pfoccori Quispe Alex Harvey"
   ]
  },
  {
   "cell_type": "markdown",
   "metadata": {
    "id": "fY0YnJVqAEnS"
   },
   "source": [
    "# Importar librería"
   ]
  },
  {
   "cell_type": "markdown",
   "metadata": {
    "id": "65A2vxjL8Hm3"
   },
   "source": [
    "⚓TAREA 0\n",
    "* Importe las librerías numpy, pandas, matplotlib, y otras que utilice en la presente práctica"
   ]
  },
  {
   "cell_type": "code",
   "execution_count": 4,
   "metadata": {
    "id": "ZkP7zwMn8g7m"
   },
   "outputs": [],
   "source": [
    "import numpy as np\n",
    "import pandas as pd\n",
    "import matplotlib.pyplot as plt\n",
    "import seaborn as sns\n",
    "import plotly.express as px\n",
    "import pylab\n",
    "import scipy.stats as stats\n",
    "\n",
    "# Mostrar el grafico en el cuaderno\n",
    "%matplotlib inline"
   ]
  },
  {
   "cell_type": "markdown",
   "metadata": {
    "id": "o_uY4wWrArOY"
   },
   "source": [
    "# Descargar dataset"
   ]
  },
  {
   "cell_type": "markdown",
   "metadata": {
    "id": "WUcpAkLdVG52"
   },
   "source": [
    "⚓TAREA 1\n",
    "\n",
    "\n",
    "*   Descargar el dataset de la práctica, desde: https://archive.ics.uci.edu/ml/machine-learning-databases/hepatitis/hepatitis.data\n",
    "*   Leer los datos con **read_csv** y mostrar con **head()**\n",
    "*   Describa cada uno de los atributos, utilice internet y revise la URL: https://archive.ics.uci.edu/ml/datasets/Hepatitis\n",
    "*   Ponga cabecera al dataset\n",
    "*   Muestre los datos con **head()**"
   ]
  },
  {
   "cell_type": "markdown",
   "metadata": {},
   "source": [
    "## Descargar el dataset"
   ]
  },
  {
   "cell_type": "code",
   "execution_count": 2,
   "metadata": {
    "id": "zAHKmcde8b7_"
   },
   "outputs": [
    {
     "name": "stdout",
     "output_type": "stream",
     "text": [
      "--2023-05-22 02:16:31--  https://archive.ics.uci.edu/ml/machine-learning-databases/hepatitis/hepatitis.data\n",
      "Loaded CA certificate '/etc/ssl/certs/ca-certificates.crt'\n",
      "Resolving archive.ics.uci.edu (archive.ics.uci.edu)... 128.195.10.252\n",
      "Connecting to archive.ics.uci.edu (archive.ics.uci.edu)|128.195.10.252|:443... connected.\n",
      "HTTP request sent, awaiting response... 200 OK\n",
      "Length: 7545 (7.4K) [application/x-httpd-php]\n",
      "Saving to: ‘hepatitis.data.1’\n",
      "\n",
      "hepatitis.data.1    100%[===================>]   7.37K  --.-KB/s    in 0s      \n",
      "\n",
      "2023-05-22 02:16:32 (42.9 MB/s) - ‘hepatitis.data.1’ saved [7545/7545]\n",
      "\n"
     ]
    }
   ],
   "source": [
    "!wget https://archive.ics.uci.edu/ml/machine-learning-databases/hepatitis/hepatitis.data"
   ]
  },
  {
   "cell_type": "markdown",
   "metadata": {},
   "source": [
    "## Cargar el dataset con pandas\n",
    "Para este caso se anade una fila con los nombres de cada columna o atributo del dataset"
   ]
  },
  {
   "cell_type": "code",
   "execution_count": 5,
   "metadata": {
    "id": "KS70KXze8cHW"
   },
   "outputs": [
    {
     "data": {
      "text/html": [
       "<div>\n",
       "<style scoped>\n",
       "    .dataframe tbody tr th:only-of-type {\n",
       "        vertical-align: middle;\n",
       "    }\n",
       "\n",
       "    .dataframe tbody tr th {\n",
       "        vertical-align: top;\n",
       "    }\n",
       "\n",
       "    .dataframe thead th {\n",
       "        text-align: right;\n",
       "    }\n",
       "</style>\n",
       "<table border=\"1\" class=\"dataframe\">\n",
       "  <thead>\n",
       "    <tr style=\"text-align: right;\">\n",
       "      <th></th>\n",
       "      <th>class</th>\n",
       "      <th>age</th>\n",
       "      <th>sex</th>\n",
       "      <th>steroid</th>\n",
       "      <th>antivirals</th>\n",
       "      <th>fatigue</th>\n",
       "      <th>malaise</th>\n",
       "      <th>anorexia</th>\n",
       "      <th>liver_big</th>\n",
       "      <th>liver_firm</th>\n",
       "      <th>spleen_palpable</th>\n",
       "      <th>spiders</th>\n",
       "      <th>ascites</th>\n",
       "      <th>varices</th>\n",
       "      <th>bilirubin</th>\n",
       "      <th>alk_phosphate</th>\n",
       "      <th>sgot</th>\n",
       "      <th>albumin</th>\n",
       "      <th>protime</th>\n",
       "      <th>histology</th>\n",
       "    </tr>\n",
       "  </thead>\n",
       "  <tbody>\n",
       "    <tr>\n",
       "      <th>0</th>\n",
       "      <td>2</td>\n",
       "      <td>30</td>\n",
       "      <td>2</td>\n",
       "      <td>1</td>\n",
       "      <td>2</td>\n",
       "      <td>2</td>\n",
       "      <td>2</td>\n",
       "      <td>2</td>\n",
       "      <td>1</td>\n",
       "      <td>2</td>\n",
       "      <td>2</td>\n",
       "      <td>2</td>\n",
       "      <td>2</td>\n",
       "      <td>2</td>\n",
       "      <td>1.00</td>\n",
       "      <td>85</td>\n",
       "      <td>18</td>\n",
       "      <td>4.0</td>\n",
       "      <td>?</td>\n",
       "      <td>1</td>\n",
       "    </tr>\n",
       "    <tr>\n",
       "      <th>1</th>\n",
       "      <td>2</td>\n",
       "      <td>50</td>\n",
       "      <td>1</td>\n",
       "      <td>1</td>\n",
       "      <td>2</td>\n",
       "      <td>1</td>\n",
       "      <td>2</td>\n",
       "      <td>2</td>\n",
       "      <td>1</td>\n",
       "      <td>2</td>\n",
       "      <td>2</td>\n",
       "      <td>2</td>\n",
       "      <td>2</td>\n",
       "      <td>2</td>\n",
       "      <td>0.90</td>\n",
       "      <td>135</td>\n",
       "      <td>42</td>\n",
       "      <td>3.5</td>\n",
       "      <td>?</td>\n",
       "      <td>1</td>\n",
       "    </tr>\n",
       "    <tr>\n",
       "      <th>2</th>\n",
       "      <td>2</td>\n",
       "      <td>78</td>\n",
       "      <td>1</td>\n",
       "      <td>2</td>\n",
       "      <td>2</td>\n",
       "      <td>1</td>\n",
       "      <td>2</td>\n",
       "      <td>2</td>\n",
       "      <td>2</td>\n",
       "      <td>2</td>\n",
       "      <td>2</td>\n",
       "      <td>2</td>\n",
       "      <td>2</td>\n",
       "      <td>2</td>\n",
       "      <td>0.70</td>\n",
       "      <td>96</td>\n",
       "      <td>32</td>\n",
       "      <td>4.0</td>\n",
       "      <td>?</td>\n",
       "      <td>1</td>\n",
       "    </tr>\n",
       "    <tr>\n",
       "      <th>3</th>\n",
       "      <td>2</td>\n",
       "      <td>31</td>\n",
       "      <td>1</td>\n",
       "      <td>?</td>\n",
       "      <td>1</td>\n",
       "      <td>2</td>\n",
       "      <td>2</td>\n",
       "      <td>2</td>\n",
       "      <td>2</td>\n",
       "      <td>2</td>\n",
       "      <td>2</td>\n",
       "      <td>2</td>\n",
       "      <td>2</td>\n",
       "      <td>2</td>\n",
       "      <td>0.70</td>\n",
       "      <td>46</td>\n",
       "      <td>52</td>\n",
       "      <td>4.0</td>\n",
       "      <td>80</td>\n",
       "      <td>1</td>\n",
       "    </tr>\n",
       "    <tr>\n",
       "      <th>4</th>\n",
       "      <td>2</td>\n",
       "      <td>34</td>\n",
       "      <td>1</td>\n",
       "      <td>2</td>\n",
       "      <td>2</td>\n",
       "      <td>2</td>\n",
       "      <td>2</td>\n",
       "      <td>2</td>\n",
       "      <td>2</td>\n",
       "      <td>2</td>\n",
       "      <td>2</td>\n",
       "      <td>2</td>\n",
       "      <td>2</td>\n",
       "      <td>2</td>\n",
       "      <td>1.00</td>\n",
       "      <td>?</td>\n",
       "      <td>200</td>\n",
       "      <td>4.0</td>\n",
       "      <td>?</td>\n",
       "      <td>1</td>\n",
       "    </tr>\n",
       "  </tbody>\n",
       "</table>\n",
       "</div>"
      ],
      "text/plain": [
       "   class  age  sex steroid  antivirals fatigue malaise anorexia liver_big   \n",
       "0      2   30    2       1           2       2       2        2         1  \\\n",
       "1      2   50    1       1           2       1       2        2         1   \n",
       "2      2   78    1       2           2       1       2        2         2   \n",
       "3      2   31    1       ?           1       2       2        2         2   \n",
       "4      2   34    1       2           2       2       2        2         2   \n",
       "\n",
       "  liver_firm spleen_palpable spiders ascites varices bilirubin alk_phosphate   \n",
       "0          2               2       2       2       2      1.00            85  \\\n",
       "1          2               2       2       2       2      0.90           135   \n",
       "2          2               2       2       2       2      0.70            96   \n",
       "3          2               2       2       2       2      0.70            46   \n",
       "4          2               2       2       2       2      1.00             ?   \n",
       "\n",
       "  sgot albumin protime  histology  \n",
       "0   18     4.0       ?          1  \n",
       "1   42     3.5       ?          1  \n",
       "2   32     4.0       ?          1  \n",
       "3   52     4.0      80          1  \n",
       "4  200     4.0       ?          1  "
      ]
     },
     "execution_count": 5,
     "metadata": {},
     "output_type": "execute_result"
    }
   ],
   "source": [
    "# Anadimos una cabecera con los identificadores de cada campo\n",
    "datos = pd.read_csv('hepatitis.data', delimiter=',', names=\n",
    "                    ['class', \n",
    "                    'age', \n",
    "                    'sex', \n",
    "                    'steroid', \n",
    "                    'antivirals', \n",
    "                    'fatigue', \n",
    "                    'malaise', \n",
    "                    'anorexia', \n",
    "                    'liver_big', \n",
    "                    'liver_firm', \n",
    "                    'spleen_palpable',\n",
    "                    'spiders', \n",
    "                    'ascites', \n",
    "                    'varices', \n",
    "                    'bilirubin',\n",
    "                    'alk_phosphate',\n",
    "                    'sgot',\n",
    "                    'albumin',\n",
    "                    'protime',\n",
    "                    'histology'])\n",
    "\n",
    "# Mostramos la cabecera del dataframe cargado\n",
    "datos.head()"
   ]
  },
  {
   "cell_type": "markdown",
   "metadata": {},
   "source": [
    "## Descripcion del dataset:\n",
    "El dataframe cargado consiste en registros de pacientes con o sin diagnostico de Hepatitis.\n",
    "\n",
    "> **class (clasificacion)**: 1=Fallecido, 2=Vive; Si el paciente ha fallecido o aun se encuentra vivo\n",
    "\n",
    "> **age (edad)**: Edad del paciente (anios)\n",
    "\n",
    "> **sex (sexo)**: 1=Varon, 2=Mujer\n",
    "\n",
    "> **steroid (esteroide)**: 1=Si, 2=No; Indica la presencia de esteroides en el paciente\n",
    "\n",
    "> **antivirals (antivirales)**: 1=Si, 2=No; Presencia de antivirales en el paciente\n",
    "\n",
    "> **fatigue (fatiga)**: 1=No, 2=Si; Cansancio permanente\n",
    "\n",
    "> **malaise (malestar)**: 1=No, 2=Si; Si el paciente se siente enfermo o no\n",
    "\n",
    "> **anorexia (anorexia)**: 1=No, 2=Si; Trastorno de origen neurotico que se caracteriza por el rechazo sistematico de los aliemntos\n",
    "\n",
    "> **liver_big (higado grande)**: 1=No, 2=Si; Tamanio del higado mas grande de lo normal\n",
    "\n",
    "> **liverr_firm (higado firme)**: 1=No, 2=Si; Tamanio del higado normal\n",
    "\n",
    "> **spleed palpable (bazo palpable)**: 1=No, 2=Si; Tamanio del bazo mas grande de lo normal\n",
    "\n",
    "> **spiders (aranas)**: 1=No, 2=Si; Manchas similares a las generadas por la picadura de las aranias\n",
    "\n",
    "> **ascites (ascitis)**: 1=No, 2=Si; Acumulacion de liquido en el estomago\n",
    "\n",
    "> **varices (varices)**: 1=No, 2=Si; Presencia de venas hinchadas y retorcidas bajo la piel\n",
    "\n",
    "> **bilirubin (bilirubina)**: Concentracion de bilirubina, es una variable continua\n",
    "\n",
    "> **alk_phosphate (fosfatasa alcalina)**: Nivel de fosfatasa alcalina en la sangre\n",
    "\n",
    "> **sgot (sgot)**: Concentracion de enzimas del hígado que se liberan cuando hay muerte celular o inflamación del hígado o hepatitis.\n",
    "\n",
    "> **albumin (albumina)**: Concentracion de albumina en la sangre\n",
    "\n",
    "> **protime (tiempo de coagulacion)**: Tiempo que se demora la sangre en coagular\n",
    "\n",
    "> **histology (histologia)**: 1=No, 2=Si; Indica si el paciente tiene o no hepatitis"
   ]
  },
  {
   "cell_type": "markdown",
   "metadata": {},
   "source": [
    "## Exploracion del dataset\n",
    "Informacion sobre el dataset"
   ]
  },
  {
   "cell_type": "code",
   "execution_count": 6,
   "metadata": {
    "id": "aLBgrWuP8cPO"
   },
   "outputs": [
    {
     "name": "stdout",
     "output_type": "stream",
     "text": [
      "<class 'pandas.core.frame.DataFrame'>\n",
      "RangeIndex: 155 entries, 0 to 154\n",
      "Data columns (total 20 columns):\n",
      " #   Column           Non-Null Count  Dtype \n",
      "---  ------           --------------  ----- \n",
      " 0   class            155 non-null    int64 \n",
      " 1   age              155 non-null    int64 \n",
      " 2   sex              155 non-null    int64 \n",
      " 3   steroid          155 non-null    object\n",
      " 4   antivirals       155 non-null    int64 \n",
      " 5   fatigue          155 non-null    object\n",
      " 6   malaise          155 non-null    object\n",
      " 7   anorexia         155 non-null    object\n",
      " 8   liver_big        155 non-null    object\n",
      " 9   liver_firm       155 non-null    object\n",
      " 10  spleen_palpable  155 non-null    object\n",
      " 11  spiders          155 non-null    object\n",
      " 12  ascites          155 non-null    object\n",
      " 13  varices          155 non-null    object\n",
      " 14  bilirubin        155 non-null    object\n",
      " 15  alk_phosphate    155 non-null    object\n",
      " 16  sgot             155 non-null    object\n",
      " 17  albumin          155 non-null    object\n",
      " 18  protime          155 non-null    object\n",
      " 19  histology        155 non-null    int64 \n",
      "dtypes: int64(5), object(15)\n",
      "memory usage: 24.3+ KB\n"
     ]
    }
   ],
   "source": [
    "# Informacion del dataset\n",
    "datos.info()"
   ]
  },
  {
   "cell_type": "markdown",
   "metadata": {},
   "source": [
    "**IMPORTANTE**: El data set consite en 20 atributos y cada atributo posee 155 datos. ***Existe datos nulos los cuales estan representados con el caracter \"?\"***"
   ]
  },
  {
   "cell_type": "markdown",
   "metadata": {},
   "source": [
    "## Deteccion de valores nulos"
   ]
  },
  {
   "cell_type": "code",
   "execution_count": 7,
   "metadata": {
    "id": "DzgC7w-r8cSN"
   },
   "outputs": [
    {
     "data": {
      "text/plain": [
       "class              0\n",
       "age                0\n",
       "sex                0\n",
       "steroid            0\n",
       "antivirals         0\n",
       "fatigue            0\n",
       "malaise            0\n",
       "anorexia           0\n",
       "liver_big          0\n",
       "liver_firm         0\n",
       "spleen_palpable    0\n",
       "spiders            0\n",
       "ascites            0\n",
       "varices            0\n",
       "bilirubin          0\n",
       "alk_phosphate      0\n",
       "sgot               0\n",
       "albumin            0\n",
       "protime            0\n",
       "histology          0\n",
       "dtype: int64"
      ]
     },
     "execution_count": 7,
     "metadata": {},
     "output_type": "execute_result"
    }
   ],
   "source": [
    "datos.isnull().sum()"
   ]
  },
  {
   "cell_type": "markdown",
   "metadata": {},
   "source": [
    "**Nota** Con el resultado anterior a primera isntancia el dataset parece no tener datos nulos, sin embargo eso no es cierto"
   ]
  },
  {
   "cell_type": "code",
   "execution_count": 8,
   "metadata": {
    "id": "aZr650JA8cWO"
   },
   "outputs": [
    {
     "data": {
      "text/html": [
       "<div>\n",
       "<style scoped>\n",
       "    .dataframe tbody tr th:only-of-type {\n",
       "        vertical-align: middle;\n",
       "    }\n",
       "\n",
       "    .dataframe tbody tr th {\n",
       "        vertical-align: top;\n",
       "    }\n",
       "\n",
       "    .dataframe thead th {\n",
       "        text-align: right;\n",
       "    }\n",
       "</style>\n",
       "<table border=\"1\" class=\"dataframe\">\n",
       "  <thead>\n",
       "    <tr style=\"text-align: right;\">\n",
       "      <th></th>\n",
       "      <th>class</th>\n",
       "      <th>age</th>\n",
       "      <th>sex</th>\n",
       "      <th>steroid</th>\n",
       "      <th>antivirals</th>\n",
       "      <th>fatigue</th>\n",
       "      <th>malaise</th>\n",
       "      <th>anorexia</th>\n",
       "      <th>liver_big</th>\n",
       "      <th>liver_firm</th>\n",
       "      <th>spleen_palpable</th>\n",
       "      <th>spiders</th>\n",
       "      <th>ascites</th>\n",
       "      <th>varices</th>\n",
       "      <th>bilirubin</th>\n",
       "      <th>alk_phosphate</th>\n",
       "      <th>sgot</th>\n",
       "      <th>albumin</th>\n",
       "      <th>protime</th>\n",
       "      <th>histology</th>\n",
       "    </tr>\n",
       "  </thead>\n",
       "  <tbody>\n",
       "    <tr>\n",
       "      <th>0</th>\n",
       "      <td>2</td>\n",
       "      <td>30</td>\n",
       "      <td>2</td>\n",
       "      <td>1</td>\n",
       "      <td>2</td>\n",
       "      <td>2</td>\n",
       "      <td>2</td>\n",
       "      <td>2</td>\n",
       "      <td>1</td>\n",
       "      <td>2</td>\n",
       "      <td>2</td>\n",
       "      <td>2</td>\n",
       "      <td>2</td>\n",
       "      <td>2</td>\n",
       "      <td>1.00</td>\n",
       "      <td>85</td>\n",
       "      <td>18</td>\n",
       "      <td>4.0</td>\n",
       "      <td>?</td>\n",
       "      <td>1</td>\n",
       "    </tr>\n",
       "    <tr>\n",
       "      <th>1</th>\n",
       "      <td>2</td>\n",
       "      <td>50</td>\n",
       "      <td>1</td>\n",
       "      <td>1</td>\n",
       "      <td>2</td>\n",
       "      <td>1</td>\n",
       "      <td>2</td>\n",
       "      <td>2</td>\n",
       "      <td>1</td>\n",
       "      <td>2</td>\n",
       "      <td>2</td>\n",
       "      <td>2</td>\n",
       "      <td>2</td>\n",
       "      <td>2</td>\n",
       "      <td>0.90</td>\n",
       "      <td>135</td>\n",
       "      <td>42</td>\n",
       "      <td>3.5</td>\n",
       "      <td>?</td>\n",
       "      <td>1</td>\n",
       "    </tr>\n",
       "    <tr>\n",
       "      <th>2</th>\n",
       "      <td>2</td>\n",
       "      <td>78</td>\n",
       "      <td>1</td>\n",
       "      <td>2</td>\n",
       "      <td>2</td>\n",
       "      <td>1</td>\n",
       "      <td>2</td>\n",
       "      <td>2</td>\n",
       "      <td>2</td>\n",
       "      <td>2</td>\n",
       "      <td>2</td>\n",
       "      <td>2</td>\n",
       "      <td>2</td>\n",
       "      <td>2</td>\n",
       "      <td>0.70</td>\n",
       "      <td>96</td>\n",
       "      <td>32</td>\n",
       "      <td>4.0</td>\n",
       "      <td>?</td>\n",
       "      <td>1</td>\n",
       "    </tr>\n",
       "    <tr>\n",
       "      <th>3</th>\n",
       "      <td>2</td>\n",
       "      <td>31</td>\n",
       "      <td>1</td>\n",
       "      <td>?</td>\n",
       "      <td>1</td>\n",
       "      <td>2</td>\n",
       "      <td>2</td>\n",
       "      <td>2</td>\n",
       "      <td>2</td>\n",
       "      <td>2</td>\n",
       "      <td>2</td>\n",
       "      <td>2</td>\n",
       "      <td>2</td>\n",
       "      <td>2</td>\n",
       "      <td>0.70</td>\n",
       "      <td>46</td>\n",
       "      <td>52</td>\n",
       "      <td>4.0</td>\n",
       "      <td>80</td>\n",
       "      <td>1</td>\n",
       "    </tr>\n",
       "    <tr>\n",
       "      <th>4</th>\n",
       "      <td>2</td>\n",
       "      <td>34</td>\n",
       "      <td>1</td>\n",
       "      <td>2</td>\n",
       "      <td>2</td>\n",
       "      <td>2</td>\n",
       "      <td>2</td>\n",
       "      <td>2</td>\n",
       "      <td>2</td>\n",
       "      <td>2</td>\n",
       "      <td>2</td>\n",
       "      <td>2</td>\n",
       "      <td>2</td>\n",
       "      <td>2</td>\n",
       "      <td>1.00</td>\n",
       "      <td>?</td>\n",
       "      <td>200</td>\n",
       "      <td>4.0</td>\n",
       "      <td>?</td>\n",
       "      <td>1</td>\n",
       "    </tr>\n",
       "    <tr>\n",
       "      <th>5</th>\n",
       "      <td>2</td>\n",
       "      <td>34</td>\n",
       "      <td>1</td>\n",
       "      <td>2</td>\n",
       "      <td>2</td>\n",
       "      <td>2</td>\n",
       "      <td>2</td>\n",
       "      <td>2</td>\n",
       "      <td>2</td>\n",
       "      <td>2</td>\n",
       "      <td>2</td>\n",
       "      <td>2</td>\n",
       "      <td>2</td>\n",
       "      <td>2</td>\n",
       "      <td>0.90</td>\n",
       "      <td>95</td>\n",
       "      <td>28</td>\n",
       "      <td>4.0</td>\n",
       "      <td>75</td>\n",
       "      <td>1</td>\n",
       "    </tr>\n",
       "    <tr>\n",
       "      <th>6</th>\n",
       "      <td>1</td>\n",
       "      <td>51</td>\n",
       "      <td>1</td>\n",
       "      <td>1</td>\n",
       "      <td>2</td>\n",
       "      <td>1</td>\n",
       "      <td>2</td>\n",
       "      <td>1</td>\n",
       "      <td>2</td>\n",
       "      <td>2</td>\n",
       "      <td>1</td>\n",
       "      <td>1</td>\n",
       "      <td>2</td>\n",
       "      <td>2</td>\n",
       "      <td>?</td>\n",
       "      <td>?</td>\n",
       "      <td>?</td>\n",
       "      <td>?</td>\n",
       "      <td>?</td>\n",
       "      <td>1</td>\n",
       "    </tr>\n",
       "    <tr>\n",
       "      <th>7</th>\n",
       "      <td>2</td>\n",
       "      <td>23</td>\n",
       "      <td>1</td>\n",
       "      <td>2</td>\n",
       "      <td>2</td>\n",
       "      <td>2</td>\n",
       "      <td>2</td>\n",
       "      <td>2</td>\n",
       "      <td>2</td>\n",
       "      <td>2</td>\n",
       "      <td>2</td>\n",
       "      <td>2</td>\n",
       "      <td>2</td>\n",
       "      <td>2</td>\n",
       "      <td>1.00</td>\n",
       "      <td>?</td>\n",
       "      <td>?</td>\n",
       "      <td>?</td>\n",
       "      <td>?</td>\n",
       "      <td>1</td>\n",
       "    </tr>\n",
       "    <tr>\n",
       "      <th>8</th>\n",
       "      <td>2</td>\n",
       "      <td>39</td>\n",
       "      <td>1</td>\n",
       "      <td>2</td>\n",
       "      <td>2</td>\n",
       "      <td>1</td>\n",
       "      <td>2</td>\n",
       "      <td>2</td>\n",
       "      <td>2</td>\n",
       "      <td>1</td>\n",
       "      <td>2</td>\n",
       "      <td>2</td>\n",
       "      <td>2</td>\n",
       "      <td>2</td>\n",
       "      <td>0.70</td>\n",
       "      <td>?</td>\n",
       "      <td>48</td>\n",
       "      <td>4.4</td>\n",
       "      <td>?</td>\n",
       "      <td>1</td>\n",
       "    </tr>\n",
       "    <tr>\n",
       "      <th>9</th>\n",
       "      <td>2</td>\n",
       "      <td>30</td>\n",
       "      <td>1</td>\n",
       "      <td>2</td>\n",
       "      <td>2</td>\n",
       "      <td>2</td>\n",
       "      <td>2</td>\n",
       "      <td>2</td>\n",
       "      <td>2</td>\n",
       "      <td>2</td>\n",
       "      <td>2</td>\n",
       "      <td>2</td>\n",
       "      <td>2</td>\n",
       "      <td>2</td>\n",
       "      <td>1.00</td>\n",
       "      <td>?</td>\n",
       "      <td>120</td>\n",
       "      <td>3.9</td>\n",
       "      <td>?</td>\n",
       "      <td>1</td>\n",
       "    </tr>\n",
       "  </tbody>\n",
       "</table>\n",
       "</div>"
      ],
      "text/plain": [
       "   class  age  sex steroid  antivirals fatigue malaise anorexia liver_big   \n",
       "0      2   30    2       1           2       2       2        2         1  \\\n",
       "1      2   50    1       1           2       1       2        2         1   \n",
       "2      2   78    1       2           2       1       2        2         2   \n",
       "3      2   31    1       ?           1       2       2        2         2   \n",
       "4      2   34    1       2           2       2       2        2         2   \n",
       "5      2   34    1       2           2       2       2        2         2   \n",
       "6      1   51    1       1           2       1       2        1         2   \n",
       "7      2   23    1       2           2       2       2        2         2   \n",
       "8      2   39    1       2           2       1       2        2         2   \n",
       "9      2   30    1       2           2       2       2        2         2   \n",
       "\n",
       "  liver_firm spleen_palpable spiders ascites varices bilirubin alk_phosphate   \n",
       "0          2               2       2       2       2      1.00            85  \\\n",
       "1          2               2       2       2       2      0.90           135   \n",
       "2          2               2       2       2       2      0.70            96   \n",
       "3          2               2       2       2       2      0.70            46   \n",
       "4          2               2       2       2       2      1.00             ?   \n",
       "5          2               2       2       2       2      0.90            95   \n",
       "6          2               1       1       2       2         ?             ?   \n",
       "7          2               2       2       2       2      1.00             ?   \n",
       "8          1               2       2       2       2      0.70             ?   \n",
       "9          2               2       2       2       2      1.00             ?   \n",
       "\n",
       "  sgot albumin protime  histology  \n",
       "0   18     4.0       ?          1  \n",
       "1   42     3.5       ?          1  \n",
       "2   32     4.0       ?          1  \n",
       "3   52     4.0      80          1  \n",
       "4  200     4.0       ?          1  \n",
       "5   28     4.0      75          1  \n",
       "6    ?       ?       ?          1  \n",
       "7    ?       ?       ?          1  \n",
       "8   48     4.4       ?          1  \n",
       "9  120     3.9       ?          1  "
      ]
     },
     "execution_count": 8,
     "metadata": {},
     "output_type": "execute_result"
    }
   ],
   "source": [
    "# Los 10 primeros registros\n",
    "datos.head(10)"
   ]
  },
  {
   "cell_type": "markdown",
   "metadata": {
    "id": "ZZ-Yfm1gAOYh"
   },
   "source": [
    "# Distribución de clases"
   ]
  },
  {
   "cell_type": "markdown",
   "metadata": {
    "id": "LRPdpSV4cALX"
   },
   "source": [
    "⚓TAREA 2\n",
    "*   Muestre la dimensionalidad del dataset\n",
    "*   Elimine las filas que contengan datos faltantes\n",
    "*   Muestre la dimensionalidas de datos\n",
    "*   Muestre con un gráfico de pie la distribución de clases\n",
    "*   Responda: ¿los datos están balanceados?, ¿porque?\n",
    "*   Explique, en que consiste: **IMPUTACION CON LA MEDIA**\n",
    "*   Grabe los datos en un archivo csv\n",
    "*   Muestre los tipos de datos con **info()**, responda: ¿que tipos de datos encuentra? "
   ]
  },
  {
   "cell_type": "code",
   "execution_count": 9,
   "metadata": {
    "id": "4hO83pW98mD-"
   },
   "outputs": [
    {
     "data": {
      "text/plain": [
       "(155, 20)"
      ]
     },
     "execution_count": 9,
     "metadata": {},
     "output_type": "execute_result"
    }
   ],
   "source": [
    "# Dimension del dataset (bidimensional)\n",
    "datos.shape"
   ]
  },
  {
   "cell_type": "code",
   "execution_count": 10,
   "metadata": {},
   "outputs": [
    {
     "data": {
      "text/plain": [
       "3100"
      ]
     },
     "execution_count": 10,
     "metadata": {},
     "output_type": "execute_result"
    }
   ],
   "source": [
    "# Dimension del dataset (unidimensinal)\n",
    "datos.size"
   ]
  },
  {
   "cell_type": "markdown",
   "metadata": {},
   "source": [
    "## Eliminacion de datos faltantes"
   ]
  },
  {
   "cell_type": "code",
   "execution_count": 11,
   "metadata": {},
   "outputs": [
    {
     "data": {
      "text/plain": [
       "(80, 20)"
      ]
     },
     "execution_count": 11,
     "metadata": {},
     "output_type": "execute_result"
    }
   ],
   "source": [
    "columns = datos.columns.values\n",
    "for column in columns:\n",
    "    datos.drop(datos[datos[column] == '?'].index, inplace = True)\n",
    "# Dimension del dataset despues de la eliminacion de datos faltantes    \n",
    "datos.shape"
   ]
  },
  {
   "cell_type": "code",
   "execution_count": 12,
   "metadata": {},
   "outputs": [
    {
     "name": "stdout",
     "output_type": "stream",
     "text": [
      "<class 'pandas.core.frame.DataFrame'>\n",
      "Index: 80 entries, 5 to 154\n",
      "Data columns (total 20 columns):\n",
      " #   Column           Non-Null Count  Dtype  \n",
      "---  ------           --------------  -----  \n",
      " 0   class            80 non-null     int64  \n",
      " 1   age              80 non-null     int64  \n",
      " 2   sex              80 non-null     int64  \n",
      " 3   steroid          80 non-null     int32  \n",
      " 4   antivirals       80 non-null     int64  \n",
      " 5   fatigue          80 non-null     int32  \n",
      " 6   malaise          80 non-null     int32  \n",
      " 7   anorexia         80 non-null     int32  \n",
      " 8   liver_big        80 non-null     int32  \n",
      " 9   liver_firm       80 non-null     int32  \n",
      " 10  spleen_palpable  80 non-null     int32  \n",
      " 11  spiders          80 non-null     int32  \n",
      " 12  ascites          80 non-null     int32  \n",
      " 13  varices          80 non-null     int32  \n",
      " 14  bilirubin        80 non-null     float64\n",
      " 15  alk_phosphate    80 non-null     int32  \n",
      " 16  sgot             80 non-null     int32  \n",
      " 17  albumin          80 non-null     float64\n",
      " 18  protime          80 non-null     int32  \n",
      " 19  histology        80 non-null     int64  \n",
      "dtypes: float64(2), int32(13), int64(5)\n",
      "memory usage: 9.1 KB\n"
     ]
    }
   ],
   "source": [
    "# Conversion de tipos de datos\n",
    "datos = datos.astype({\n",
    "    'steroid':'int32', \n",
    "    'fatigue':'int32', \n",
    "    'malaise':'int32', \n",
    "    'anorexia':'int32', \n",
    "    'liver_big':'int32', \n",
    "    'liver_firm':'int32',\n",
    "    'spleen_palpable':'int32',\n",
    "    'spiders':'int32',\n",
    "    'ascites':'int32',\n",
    "    'varices':'int32',\n",
    "    'bilirubin':'float64', \n",
    "    'alk_phosphate':'int32',\n",
    "    'sgot':'int32',\n",
    "    'albumin':'float64',\n",
    "    'protime':'int32'})\n",
    "datos.info()"
   ]
  },
  {
   "cell_type": "code",
   "execution_count": 13,
   "metadata": {
    "id": "4tRh3AE58mpe"
   },
   "outputs": [
    {
     "data": {
      "text/html": [
       "<div>\n",
       "<style scoped>\n",
       "    .dataframe tbody tr th:only-of-type {\n",
       "        vertical-align: middle;\n",
       "    }\n",
       "\n",
       "    .dataframe tbody tr th {\n",
       "        vertical-align: top;\n",
       "    }\n",
       "\n",
       "    .dataframe thead th {\n",
       "        text-align: right;\n",
       "    }\n",
       "</style>\n",
       "<table border=\"1\" class=\"dataframe\">\n",
       "  <thead>\n",
       "    <tr style=\"text-align: right;\">\n",
       "      <th></th>\n",
       "      <th>class</th>\n",
       "      <th>age</th>\n",
       "      <th>sex</th>\n",
       "      <th>steroid</th>\n",
       "      <th>antivirals</th>\n",
       "      <th>fatigue</th>\n",
       "      <th>malaise</th>\n",
       "      <th>anorexia</th>\n",
       "      <th>liver_big</th>\n",
       "      <th>liver_firm</th>\n",
       "      <th>spleen_palpable</th>\n",
       "      <th>spiders</th>\n",
       "      <th>ascites</th>\n",
       "      <th>varices</th>\n",
       "      <th>bilirubin</th>\n",
       "      <th>alk_phosphate</th>\n",
       "      <th>sgot</th>\n",
       "      <th>albumin</th>\n",
       "      <th>protime</th>\n",
       "      <th>histology</th>\n",
       "    </tr>\n",
       "  </thead>\n",
       "  <tbody>\n",
       "    <tr>\n",
       "      <th>30</th>\n",
       "      <td>1</td>\n",
       "      <td>39</td>\n",
       "      <td>1</td>\n",
       "      <td>1</td>\n",
       "      <td>1</td>\n",
       "      <td>1</td>\n",
       "      <td>1</td>\n",
       "      <td>2</td>\n",
       "      <td>2</td>\n",
       "      <td>1</td>\n",
       "      <td>2</td>\n",
       "      <td>2</td>\n",
       "      <td>2</td>\n",
       "      <td>2</td>\n",
       "      <td>2.3</td>\n",
       "      <td>280</td>\n",
       "      <td>98</td>\n",
       "      <td>3.8</td>\n",
       "      <td>40</td>\n",
       "      <td>1</td>\n",
       "    </tr>\n",
       "    <tr>\n",
       "      <th>94</th>\n",
       "      <td>1</td>\n",
       "      <td>59</td>\n",
       "      <td>1</td>\n",
       "      <td>1</td>\n",
       "      <td>2</td>\n",
       "      <td>1</td>\n",
       "      <td>1</td>\n",
       "      <td>2</td>\n",
       "      <td>2</td>\n",
       "      <td>1</td>\n",
       "      <td>1</td>\n",
       "      <td>1</td>\n",
       "      <td>2</td>\n",
       "      <td>2</td>\n",
       "      <td>1.5</td>\n",
       "      <td>107</td>\n",
       "      <td>157</td>\n",
       "      <td>3.6</td>\n",
       "      <td>38</td>\n",
       "      <td>2</td>\n",
       "    </tr>\n",
       "    <tr>\n",
       "      <th>98</th>\n",
       "      <td>1</td>\n",
       "      <td>47</td>\n",
       "      <td>1</td>\n",
       "      <td>2</td>\n",
       "      <td>2</td>\n",
       "      <td>2</td>\n",
       "      <td>2</td>\n",
       "      <td>2</td>\n",
       "      <td>2</td>\n",
       "      <td>2</td>\n",
       "      <td>2</td>\n",
       "      <td>1</td>\n",
       "      <td>2</td>\n",
       "      <td>1</td>\n",
       "      <td>2.0</td>\n",
       "      <td>84</td>\n",
       "      <td>23</td>\n",
       "      <td>4.2</td>\n",
       "      <td>66</td>\n",
       "      <td>2</td>\n",
       "    </tr>\n",
       "    <tr>\n",
       "      <th>100</th>\n",
       "      <td>1</td>\n",
       "      <td>48</td>\n",
       "      <td>1</td>\n",
       "      <td>1</td>\n",
       "      <td>2</td>\n",
       "      <td>1</td>\n",
       "      <td>1</td>\n",
       "      <td>2</td>\n",
       "      <td>2</td>\n",
       "      <td>1</td>\n",
       "      <td>2</td>\n",
       "      <td>1</td>\n",
       "      <td>1</td>\n",
       "      <td>1</td>\n",
       "      <td>4.8</td>\n",
       "      <td>123</td>\n",
       "      <td>157</td>\n",
       "      <td>2.7</td>\n",
       "      <td>31</td>\n",
       "      <td>2</td>\n",
       "    </tr>\n",
       "    <tr>\n",
       "      <th>104</th>\n",
       "      <td>1</td>\n",
       "      <td>47</td>\n",
       "      <td>1</td>\n",
       "      <td>2</td>\n",
       "      <td>2</td>\n",
       "      <td>1</td>\n",
       "      <td>1</td>\n",
       "      <td>2</td>\n",
       "      <td>2</td>\n",
       "      <td>1</td>\n",
       "      <td>2</td>\n",
       "      <td>2</td>\n",
       "      <td>1</td>\n",
       "      <td>1</td>\n",
       "      <td>1.7</td>\n",
       "      <td>86</td>\n",
       "      <td>20</td>\n",
       "      <td>2.1</td>\n",
       "      <td>46</td>\n",
       "      <td>2</td>\n",
       "    </tr>\n",
       "  </tbody>\n",
       "</table>\n",
       "</div>"
      ],
      "text/plain": [
       "     class  age  sex  steroid  antivirals  fatigue  malaise  anorexia   \n",
       "30       1   39    1        1           1        1        1         2  \\\n",
       "94       1   59    1        1           2        1        1         2   \n",
       "98       1   47    1        2           2        2        2         2   \n",
       "100      1   48    1        1           2        1        1         2   \n",
       "104      1   47    1        2           2        1        1         2   \n",
       "\n",
       "     liver_big  liver_firm  spleen_palpable  spiders  ascites  varices   \n",
       "30           2           1                2        2        2        2  \\\n",
       "94           2           1                1        1        2        2   \n",
       "98           2           2                2        1        2        1   \n",
       "100          2           1                2        1        1        1   \n",
       "104          2           1                2        2        1        1   \n",
       "\n",
       "     bilirubin  alk_phosphate  sgot  albumin  protime  histology  \n",
       "30         2.3            280    98      3.8       40          1  \n",
       "94         1.5            107   157      3.6       38          2  \n",
       "98         2.0             84    23      4.2       66          2  \n",
       "100        4.8            123   157      2.7       31          2  \n",
       "104        1.7             86    20      2.1       46          2  "
      ]
     },
     "execution_count": 13,
     "metadata": {},
     "output_type": "execute_result"
    }
   ],
   "source": [
    "# Filtro dependiendo de la clase a la que pertenece muerto = 1, vivo = 2\n",
    "filtro_muerto = datos['class'] == 1\n",
    "muertos = datos[filtro_muerto]\n",
    "muertos.head()"
   ]
  },
  {
   "cell_type": "code",
   "execution_count": 14,
   "metadata": {},
   "outputs": [
    {
     "data": {
      "text/html": [
       "<div>\n",
       "<style scoped>\n",
       "    .dataframe tbody tr th:only-of-type {\n",
       "        vertical-align: middle;\n",
       "    }\n",
       "\n",
       "    .dataframe tbody tr th {\n",
       "        vertical-align: top;\n",
       "    }\n",
       "\n",
       "    .dataframe thead th {\n",
       "        text-align: right;\n",
       "    }\n",
       "</style>\n",
       "<table border=\"1\" class=\"dataframe\">\n",
       "  <thead>\n",
       "    <tr style=\"text-align: right;\">\n",
       "      <th></th>\n",
       "      <th>class</th>\n",
       "      <th>age</th>\n",
       "      <th>sex</th>\n",
       "      <th>steroid</th>\n",
       "      <th>antivirals</th>\n",
       "      <th>fatigue</th>\n",
       "      <th>malaise</th>\n",
       "      <th>anorexia</th>\n",
       "      <th>liver_big</th>\n",
       "      <th>liver_firm</th>\n",
       "      <th>spleen_palpable</th>\n",
       "      <th>spiders</th>\n",
       "      <th>ascites</th>\n",
       "      <th>varices</th>\n",
       "      <th>bilirubin</th>\n",
       "      <th>alk_phosphate</th>\n",
       "      <th>sgot</th>\n",
       "      <th>albumin</th>\n",
       "      <th>protime</th>\n",
       "      <th>histology</th>\n",
       "    </tr>\n",
       "  </thead>\n",
       "  <tbody>\n",
       "    <tr>\n",
       "      <th>5</th>\n",
       "      <td>2</td>\n",
       "      <td>34</td>\n",
       "      <td>1</td>\n",
       "      <td>2</td>\n",
       "      <td>2</td>\n",
       "      <td>2</td>\n",
       "      <td>2</td>\n",
       "      <td>2</td>\n",
       "      <td>2</td>\n",
       "      <td>2</td>\n",
       "      <td>2</td>\n",
       "      <td>2</td>\n",
       "      <td>2</td>\n",
       "      <td>2</td>\n",
       "      <td>0.9</td>\n",
       "      <td>95</td>\n",
       "      <td>28</td>\n",
       "      <td>4.0</td>\n",
       "      <td>75</td>\n",
       "      <td>1</td>\n",
       "    </tr>\n",
       "    <tr>\n",
       "      <th>10</th>\n",
       "      <td>2</td>\n",
       "      <td>39</td>\n",
       "      <td>1</td>\n",
       "      <td>1</td>\n",
       "      <td>1</td>\n",
       "      <td>2</td>\n",
       "      <td>2</td>\n",
       "      <td>2</td>\n",
       "      <td>1</td>\n",
       "      <td>1</td>\n",
       "      <td>2</td>\n",
       "      <td>2</td>\n",
       "      <td>2</td>\n",
       "      <td>2</td>\n",
       "      <td>1.3</td>\n",
       "      <td>78</td>\n",
       "      <td>30</td>\n",
       "      <td>4.4</td>\n",
       "      <td>85</td>\n",
       "      <td>1</td>\n",
       "    </tr>\n",
       "    <tr>\n",
       "      <th>11</th>\n",
       "      <td>2</td>\n",
       "      <td>32</td>\n",
       "      <td>1</td>\n",
       "      <td>2</td>\n",
       "      <td>1</td>\n",
       "      <td>1</td>\n",
       "      <td>2</td>\n",
       "      <td>2</td>\n",
       "      <td>2</td>\n",
       "      <td>1</td>\n",
       "      <td>2</td>\n",
       "      <td>1</td>\n",
       "      <td>2</td>\n",
       "      <td>2</td>\n",
       "      <td>1.0</td>\n",
       "      <td>59</td>\n",
       "      <td>249</td>\n",
       "      <td>3.7</td>\n",
       "      <td>54</td>\n",
       "      <td>1</td>\n",
       "    </tr>\n",
       "    <tr>\n",
       "      <th>12</th>\n",
       "      <td>2</td>\n",
       "      <td>41</td>\n",
       "      <td>1</td>\n",
       "      <td>2</td>\n",
       "      <td>1</td>\n",
       "      <td>1</td>\n",
       "      <td>2</td>\n",
       "      <td>2</td>\n",
       "      <td>2</td>\n",
       "      <td>1</td>\n",
       "      <td>2</td>\n",
       "      <td>2</td>\n",
       "      <td>2</td>\n",
       "      <td>2</td>\n",
       "      <td>0.9</td>\n",
       "      <td>81</td>\n",
       "      <td>60</td>\n",
       "      <td>3.9</td>\n",
       "      <td>52</td>\n",
       "      <td>1</td>\n",
       "    </tr>\n",
       "    <tr>\n",
       "      <th>13</th>\n",
       "      <td>2</td>\n",
       "      <td>30</td>\n",
       "      <td>1</td>\n",
       "      <td>2</td>\n",
       "      <td>2</td>\n",
       "      <td>1</td>\n",
       "      <td>2</td>\n",
       "      <td>2</td>\n",
       "      <td>2</td>\n",
       "      <td>1</td>\n",
       "      <td>2</td>\n",
       "      <td>2</td>\n",
       "      <td>2</td>\n",
       "      <td>2</td>\n",
       "      <td>2.2</td>\n",
       "      <td>57</td>\n",
       "      <td>144</td>\n",
       "      <td>4.9</td>\n",
       "      <td>78</td>\n",
       "      <td>1</td>\n",
       "    </tr>\n",
       "  </tbody>\n",
       "</table>\n",
       "</div>"
      ],
      "text/plain": [
       "    class  age  sex  steroid  antivirals  fatigue  malaise  anorexia   \n",
       "5       2   34    1        2           2        2        2         2  \\\n",
       "10      2   39    1        1           1        2        2         2   \n",
       "11      2   32    1        2           1        1        2         2   \n",
       "12      2   41    1        2           1        1        2         2   \n",
       "13      2   30    1        2           2        1        2         2   \n",
       "\n",
       "    liver_big  liver_firm  spleen_palpable  spiders  ascites  varices   \n",
       "5           2           2                2        2        2        2  \\\n",
       "10          1           1                2        2        2        2   \n",
       "11          2           1                2        1        2        2   \n",
       "12          2           1                2        2        2        2   \n",
       "13          2           1                2        2        2        2   \n",
       "\n",
       "    bilirubin  alk_phosphate  sgot  albumin  protime  histology  \n",
       "5         0.9             95    28      4.0       75          1  \n",
       "10        1.3             78    30      4.4       85          1  \n",
       "11        1.0             59   249      3.7       54          1  \n",
       "12        0.9             81    60      3.9       52          1  \n",
       "13        2.2             57   144      4.9       78          1  "
      ]
     },
     "execution_count": 14,
     "metadata": {},
     "output_type": "execute_result"
    }
   ],
   "source": [
    "filtro_vivo = datos['class'] == 2\n",
    "vivos = datos[filtro_vivo]\n",
    "vivos.head()"
   ]
  },
  {
   "cell_type": "code",
   "execution_count": 15,
   "metadata": {},
   "outputs": [
    {
     "data": {
      "image/png": "[encoded data removed]",
      "text/plain": [
       "<Figure size 640x480 with 1 Axes>"
      ]
     },
     "metadata": {},
     "output_type": "display_data"
    }
   ],
   "source": [
    "# Grafica de tipo pie para la propiedad class\n",
    "values = datos.groupby('class').size()\n",
    "etiquetas = ['Muertos', 'Vivos']\n",
    "plt.pie(values, autopct=lambda p:f'{p:.2f}%, {p*sum(values)/100 :.0f} pacientes', labels=etiquetas)\n",
    "plt.show()"
   ]
  },
  {
   "cell_type": "markdown",
   "metadata": {},
   "source": [
    "### Responda: ¿los datos están balanceados?, ¿porque?\n",
    "Los datos no estan balanceados, esto debido a que existe mayor cantidad de pacientes vivos que los que han fallecido, en este caso 67 pacientes vivos y 13 pacientes que han fallecido, podemos concluir que la cantidad de pacientes vivos es 5 veces la cantidad de pacientes fallecidos"
   ]
  },
  {
   "cell_type": "markdown",
   "metadata": {},
   "source": [
    "### Imputacion con la media\n",
    "En el método de imputación con la media, se estima la media absoluta de los registros presentes en la base de datos completa para la variable a imputar, por lo tanto el valor resultante (media absoluta) será el valor donante para los registros con datos faltantes de esta variable."
   ]
  },
  {
   "cell_type": "markdown",
   "metadata": {},
   "source": [
    "## Exportacion de datos a csv"
   ]
  },
  {
   "cell_type": "code",
   "execution_count": 16,
   "metadata": {},
   "outputs": [],
   "source": [
    "# Exportacion de datos a un archivo csv\n",
    "datos.to_csv('hepatitis_limpio.csv')"
   ]
  },
  {
   "cell_type": "code",
   "execution_count": 17,
   "metadata": {},
   "outputs": [
    {
     "name": "stdout",
     "output_type": "stream",
     "text": [
      "<class 'pandas.core.frame.DataFrame'>\n",
      "Index: 80 entries, 5 to 154\n",
      "Data columns (total 20 columns):\n",
      " #   Column           Non-Null Count  Dtype  \n",
      "---  ------           --------------  -----  \n",
      " 0   class            80 non-null     int64  \n",
      " 1   age              80 non-null     int64  \n",
      " 2   sex              80 non-null     int64  \n",
      " 3   steroid          80 non-null     int32  \n",
      " 4   antivirals       80 non-null     int64  \n",
      " 5   fatigue          80 non-null     int32  \n",
      " 6   malaise          80 non-null     int32  \n",
      " 7   anorexia         80 non-null     int32  \n",
      " 8   liver_big        80 non-null     int32  \n",
      " 9   liver_firm       80 non-null     int32  \n",
      " 10  spleen_palpable  80 non-null     int32  \n",
      " 11  spiders          80 non-null     int32  \n",
      " 12  ascites          80 non-null     int32  \n",
      " 13  varices          80 non-null     int32  \n",
      " 14  bilirubin        80 non-null     float64\n",
      " 15  alk_phosphate    80 non-null     int32  \n",
      " 16  sgot             80 non-null     int32  \n",
      " 17  albumin          80 non-null     float64\n",
      " 18  protime          80 non-null     int32  \n",
      " 19  histology        80 non-null     int64  \n",
      "dtypes: float64(2), int32(13), int64(5)\n",
      "memory usage: 9.1 KB\n"
     ]
    }
   ],
   "source": [
    "# Informacion del dataframe\n",
    "datos.info()"
   ]
  },
  {
   "cell_type": "markdown",
   "metadata": {},
   "source": [
    "### Muestre los tipos de datos con info(), responda: ¿que tipos de datos encuentra?\n",
    "Los tipos de datos que encontramos es int64, int32 y float64"
   ]
  },
  {
   "cell_type": "markdown",
   "metadata": {
    "id": "PyfFadpuhFZQ"
   },
   "source": [
    "# Histogramas"
   ]
  },
  {
   "cell_type": "markdown",
   "metadata": {
    "id": "xWi9oABNhZw_"
   },
   "source": [
    "⚓TAREA 3\n",
    "*   Grafique el histograma, para todos los atributos\n",
    "*   Según le histograma de FOSTATO ALCA, ¿las personas tiene riesgo de obstrucción de vías biliares?\n",
    "*   ¿Usted, considera que la mayoría de la población tiene una cantidad de BILIRRUBINA, ALBUMINA, PROTIME es condiciones normales, y porque?"
   ]
  },
  {
   "cell_type": "code",
   "execution_count": 18,
   "metadata": {
    "id": "TjCupXFX8rpe"
   },
   "outputs": [
    {
     "data": {
      "image/png": "[encoded data removed]",
      "text/plain": [
       "<Figure size 1800x1200 with 20 Axes>"
      ]
     },
     "metadata": {},
     "output_type": "display_data"
    }
   ],
   "source": [
    "datos.hist(figsize=(18,12))\n",
    "plt.show()"
   ]
  },
  {
   "cell_type": "markdown",
   "metadata": {},
   "source": [
    "**Según le histograma de FOSTATO ALCA, ¿las personas tiene riesgo de obstrucción de vías biliares?**"
   ]
  },
  {
   "cell_type": "markdown",
   "metadata": {
    "id": "2Ea6KIDI8t1G"
   },
   "source": [
    "La gran mayoria de las los pacientes del dataset tiene concentracion de 90 a 100 de fosfata alcalina el cual indica que estos pacientes pueden tener problemas hepaticos, biliares o renales."
   ]
  },
  {
   "cell_type": "markdown",
   "metadata": {},
   "source": [
    "**¿Usted, considera que la mayoría de la población tiene una cantidad de BILIRRUBINA, ALBUMINA, PROTIME es condiciones normales, y porque?**"
   ]
  },
  {
   "cell_type": "markdown",
   "metadata": {},
   "source": [
    "En caso de la BILIRRUBINA,se tienen que la concentracion oscila entre 0.5 a 1.5 lo cual indica que se encuentra en condiciones normales, lo mismo con la concentracion de ALBUMINA; sin embargo en el caso del PROTIME (tiempo de coagulacion de sangre) se tiene un mayor rango de valores, es decir se tienen condiciones anormales."
   ]
  },
  {
   "cell_type": "markdown",
   "metadata": {
    "id": "DWU6mw9vIlit"
   },
   "source": [
    "# Filtros"
   ]
  },
  {
   "cell_type": "markdown",
   "metadata": {
    "id": "xbvjuoURjSew"
   },
   "source": [
    "⚓TAREA 4\n",
    "*   Aplique filtros para separar datos de pacientes muertos y vivos\n",
    "*   Aplique filtros para separar datos de pacientes en 4 grupos muertos-masculinmo, muertos-femenino, vivos-masculino, vivos-femenino\n",
    "\n"
   ]
  },
  {
   "cell_type": "markdown",
   "metadata": {},
   "source": [
    "**Aplique filtros para separar datos de pacientes muertos y vivos**"
   ]
  },
  {
   "cell_type": "code",
   "execution_count": 19,
   "metadata": {
    "id": "2VpLaajc8v_G"
   },
   "outputs": [
    {
     "data": {
      "text/html": [
       "<div>\n",
       "<style scoped>\n",
       "    .dataframe tbody tr th:only-of-type {\n",
       "        vertical-align: middle;\n",
       "    }\n",
       "\n",
       "    .dataframe tbody tr th {\n",
       "        vertical-align: top;\n",
       "    }\n",
       "\n",
       "    .dataframe thead th {\n",
       "        text-align: right;\n",
       "    }\n",
       "</style>\n",
       "<table border=\"1\" class=\"dataframe\">\n",
       "  <thead>\n",
       "    <tr style=\"text-align: right;\">\n",
       "      <th></th>\n",
       "      <th>class</th>\n",
       "      <th>age</th>\n",
       "      <th>sex</th>\n",
       "      <th>steroid</th>\n",
       "      <th>antivirals</th>\n",
       "      <th>fatigue</th>\n",
       "      <th>malaise</th>\n",
       "      <th>anorexia</th>\n",
       "      <th>liver_big</th>\n",
       "      <th>liver_firm</th>\n",
       "      <th>spleen_palpable</th>\n",
       "      <th>spiders</th>\n",
       "      <th>ascites</th>\n",
       "      <th>varices</th>\n",
       "      <th>bilirubin</th>\n",
       "      <th>alk_phosphate</th>\n",
       "      <th>sgot</th>\n",
       "      <th>albumin</th>\n",
       "      <th>protime</th>\n",
       "      <th>histology</th>\n",
       "    </tr>\n",
       "  </thead>\n",
       "  <tbody>\n",
       "    <tr>\n",
       "      <th>30</th>\n",
       "      <td>1</td>\n",
       "      <td>39</td>\n",
       "      <td>1</td>\n",
       "      <td>1</td>\n",
       "      <td>1</td>\n",
       "      <td>1</td>\n",
       "      <td>1</td>\n",
       "      <td>2</td>\n",
       "      <td>2</td>\n",
       "      <td>1</td>\n",
       "      <td>2</td>\n",
       "      <td>2</td>\n",
       "      <td>2</td>\n",
       "      <td>2</td>\n",
       "      <td>2.3</td>\n",
       "      <td>280</td>\n",
       "      <td>98</td>\n",
       "      <td>3.8</td>\n",
       "      <td>40</td>\n",
       "      <td>1</td>\n",
       "    </tr>\n",
       "    <tr>\n",
       "      <th>94</th>\n",
       "      <td>1</td>\n",
       "      <td>59</td>\n",
       "      <td>1</td>\n",
       "      <td>1</td>\n",
       "      <td>2</td>\n",
       "      <td>1</td>\n",
       "      <td>1</td>\n",
       "      <td>2</td>\n",
       "      <td>2</td>\n",
       "      <td>1</td>\n",
       "      <td>1</td>\n",
       "      <td>1</td>\n",
       "      <td>2</td>\n",
       "      <td>2</td>\n",
       "      <td>1.5</td>\n",
       "      <td>107</td>\n",
       "      <td>157</td>\n",
       "      <td>3.6</td>\n",
       "      <td>38</td>\n",
       "      <td>2</td>\n",
       "    </tr>\n",
       "    <tr>\n",
       "      <th>98</th>\n",
       "      <td>1</td>\n",
       "      <td>47</td>\n",
       "      <td>1</td>\n",
       "      <td>2</td>\n",
       "      <td>2</td>\n",
       "      <td>2</td>\n",
       "      <td>2</td>\n",
       "      <td>2</td>\n",
       "      <td>2</td>\n",
       "      <td>2</td>\n",
       "      <td>2</td>\n",
       "      <td>1</td>\n",
       "      <td>2</td>\n",
       "      <td>1</td>\n",
       "      <td>2.0</td>\n",
       "      <td>84</td>\n",
       "      <td>23</td>\n",
       "      <td>4.2</td>\n",
       "      <td>66</td>\n",
       "      <td>2</td>\n",
       "    </tr>\n",
       "    <tr>\n",
       "      <th>100</th>\n",
       "      <td>1</td>\n",
       "      <td>48</td>\n",
       "      <td>1</td>\n",
       "      <td>1</td>\n",
       "      <td>2</td>\n",
       "      <td>1</td>\n",
       "      <td>1</td>\n",
       "      <td>2</td>\n",
       "      <td>2</td>\n",
       "      <td>1</td>\n",
       "      <td>2</td>\n",
       "      <td>1</td>\n",
       "      <td>1</td>\n",
       "      <td>1</td>\n",
       "      <td>4.8</td>\n",
       "      <td>123</td>\n",
       "      <td>157</td>\n",
       "      <td>2.7</td>\n",
       "      <td>31</td>\n",
       "      <td>2</td>\n",
       "    </tr>\n",
       "    <tr>\n",
       "      <th>104</th>\n",
       "      <td>1</td>\n",
       "      <td>47</td>\n",
       "      <td>1</td>\n",
       "      <td>2</td>\n",
       "      <td>2</td>\n",
       "      <td>1</td>\n",
       "      <td>1</td>\n",
       "      <td>2</td>\n",
       "      <td>2</td>\n",
       "      <td>1</td>\n",
       "      <td>2</td>\n",
       "      <td>2</td>\n",
       "      <td>1</td>\n",
       "      <td>1</td>\n",
       "      <td>1.7</td>\n",
       "      <td>86</td>\n",
       "      <td>20</td>\n",
       "      <td>2.1</td>\n",
       "      <td>46</td>\n",
       "      <td>2</td>\n",
       "    </tr>\n",
       "  </tbody>\n",
       "</table>\n",
       "</div>"
      ],
      "text/plain": [
       "     class  age  sex  steroid  antivirals  fatigue  malaise  anorexia   \n",
       "30       1   39    1        1           1        1        1         2  \\\n",
       "94       1   59    1        1           2        1        1         2   \n",
       "98       1   47    1        2           2        2        2         2   \n",
       "100      1   48    1        1           2        1        1         2   \n",
       "104      1   47    1        2           2        1        1         2   \n",
       "\n",
       "     liver_big  liver_firm  spleen_palpable  spiders  ascites  varices   \n",
       "30           2           1                2        2        2        2  \\\n",
       "94           2           1                1        1        2        2   \n",
       "98           2           2                2        1        2        1   \n",
       "100          2           1                2        1        1        1   \n",
       "104          2           1                2        2        1        1   \n",
       "\n",
       "     bilirubin  alk_phosphate  sgot  albumin  protime  histology  \n",
       "30         2.3            280    98      3.8       40          1  \n",
       "94         1.5            107   157      3.6       38          2  \n",
       "98         2.0             84    23      4.2       66          2  \n",
       "100        4.8            123   157      2.7       31          2  \n",
       "104        1.7             86    20      2.1       46          2  "
      ]
     },
     "execution_count": 19,
     "metadata": {},
     "output_type": "execute_result"
    }
   ],
   "source": [
    "# Filtro de pacientes muertos\n",
    "filtro_muerto = datos['class'] == 1\n",
    "muertos = datos[filtro_muerto]\n",
    "muertos.head()"
   ]
  },
  {
   "cell_type": "code",
   "execution_count": 20,
   "metadata": {
    "id": "2zJSPYnW8wM2"
   },
   "outputs": [
    {
     "data": {
      "text/html": [
       "<div>\n",
       "<style scoped>\n",
       "    .dataframe tbody tr th:only-of-type {\n",
       "        vertical-align: middle;\n",
       "    }\n",
       "\n",
       "    .dataframe tbody tr th {\n",
       "        vertical-align: top;\n",
       "    }\n",
       "\n",
       "    .dataframe thead th {\n",
       "        text-align: right;\n",
       "    }\n",
       "</style>\n",
       "<table border=\"1\" class=\"dataframe\">\n",
       "  <thead>\n",
       "    <tr style=\"text-align: right;\">\n",
       "      <th></th>\n",
       "      <th>class</th>\n",
       "      <th>age</th>\n",
       "      <th>sex</th>\n",
       "      <th>steroid</th>\n",
       "      <th>antivirals</th>\n",
       "      <th>fatigue</th>\n",
       "      <th>malaise</th>\n",
       "      <th>anorexia</th>\n",
       "      <th>liver_big</th>\n",
       "      <th>liver_firm</th>\n",
       "      <th>spleen_palpable</th>\n",
       "      <th>spiders</th>\n",
       "      <th>ascites</th>\n",
       "      <th>varices</th>\n",
       "      <th>bilirubin</th>\n",
       "      <th>alk_phosphate</th>\n",
       "      <th>sgot</th>\n",
       "      <th>albumin</th>\n",
       "      <th>protime</th>\n",
       "      <th>histology</th>\n",
       "    </tr>\n",
       "  </thead>\n",
       "  <tbody>\n",
       "    <tr>\n",
       "      <th>5</th>\n",
       "      <td>2</td>\n",
       "      <td>34</td>\n",
       "      <td>1</td>\n",
       "      <td>2</td>\n",
       "      <td>2</td>\n",
       "      <td>2</td>\n",
       "      <td>2</td>\n",
       "      <td>2</td>\n",
       "      <td>2</td>\n",
       "      <td>2</td>\n",
       "      <td>2</td>\n",
       "      <td>2</td>\n",
       "      <td>2</td>\n",
       "      <td>2</td>\n",
       "      <td>0.9</td>\n",
       "      <td>95</td>\n",
       "      <td>28</td>\n",
       "      <td>4.0</td>\n",
       "      <td>75</td>\n",
       "      <td>1</td>\n",
       "    </tr>\n",
       "    <tr>\n",
       "      <th>10</th>\n",
       "      <td>2</td>\n",
       "      <td>39</td>\n",
       "      <td>1</td>\n",
       "      <td>1</td>\n",
       "      <td>1</td>\n",
       "      <td>2</td>\n",
       "      <td>2</td>\n",
       "      <td>2</td>\n",
       "      <td>1</td>\n",
       "      <td>1</td>\n",
       "      <td>2</td>\n",
       "      <td>2</td>\n",
       "      <td>2</td>\n",
       "      <td>2</td>\n",
       "      <td>1.3</td>\n",
       "      <td>78</td>\n",
       "      <td>30</td>\n",
       "      <td>4.4</td>\n",
       "      <td>85</td>\n",
       "      <td>1</td>\n",
       "    </tr>\n",
       "    <tr>\n",
       "      <th>11</th>\n",
       "      <td>2</td>\n",
       "      <td>32</td>\n",
       "      <td>1</td>\n",
       "      <td>2</td>\n",
       "      <td>1</td>\n",
       "      <td>1</td>\n",
       "      <td>2</td>\n",
       "      <td>2</td>\n",
       "      <td>2</td>\n",
       "      <td>1</td>\n",
       "      <td>2</td>\n",
       "      <td>1</td>\n",
       "      <td>2</td>\n",
       "      <td>2</td>\n",
       "      <td>1.0</td>\n",
       "      <td>59</td>\n",
       "      <td>249</td>\n",
       "      <td>3.7</td>\n",
       "      <td>54</td>\n",
       "      <td>1</td>\n",
       "    </tr>\n",
       "    <tr>\n",
       "      <th>12</th>\n",
       "      <td>2</td>\n",
       "      <td>41</td>\n",
       "      <td>1</td>\n",
       "      <td>2</td>\n",
       "      <td>1</td>\n",
       "      <td>1</td>\n",
       "      <td>2</td>\n",
       "      <td>2</td>\n",
       "      <td>2</td>\n",
       "      <td>1</td>\n",
       "      <td>2</td>\n",
       "      <td>2</td>\n",
       "      <td>2</td>\n",
       "      <td>2</td>\n",
       "      <td>0.9</td>\n",
       "      <td>81</td>\n",
       "      <td>60</td>\n",
       "      <td>3.9</td>\n",
       "      <td>52</td>\n",
       "      <td>1</td>\n",
       "    </tr>\n",
       "    <tr>\n",
       "      <th>13</th>\n",
       "      <td>2</td>\n",
       "      <td>30</td>\n",
       "      <td>1</td>\n",
       "      <td>2</td>\n",
       "      <td>2</td>\n",
       "      <td>1</td>\n",
       "      <td>2</td>\n",
       "      <td>2</td>\n",
       "      <td>2</td>\n",
       "      <td>1</td>\n",
       "      <td>2</td>\n",
       "      <td>2</td>\n",
       "      <td>2</td>\n",
       "      <td>2</td>\n",
       "      <td>2.2</td>\n",
       "      <td>57</td>\n",
       "      <td>144</td>\n",
       "      <td>4.9</td>\n",
       "      <td>78</td>\n",
       "      <td>1</td>\n",
       "    </tr>\n",
       "  </tbody>\n",
       "</table>\n",
       "</div>"
      ],
      "text/plain": [
       "    class  age  sex  steroid  antivirals  fatigue  malaise  anorexia   \n",
       "5       2   34    1        2           2        2        2         2  \\\n",
       "10      2   39    1        1           1        2        2         2   \n",
       "11      2   32    1        2           1        1        2         2   \n",
       "12      2   41    1        2           1        1        2         2   \n",
       "13      2   30    1        2           2        1        2         2   \n",
       "\n",
       "    liver_big  liver_firm  spleen_palpable  spiders  ascites  varices   \n",
       "5           2           2                2        2        2        2  \\\n",
       "10          1           1                2        2        2        2   \n",
       "11          2           1                2        1        2        2   \n",
       "12          2           1                2        2        2        2   \n",
       "13          2           1                2        2        2        2   \n",
       "\n",
       "    bilirubin  alk_phosphate  sgot  albumin  protime  histology  \n",
       "5         0.9             95    28      4.0       75          1  \n",
       "10        1.3             78    30      4.4       85          1  \n",
       "11        1.0             59   249      3.7       54          1  \n",
       "12        0.9             81    60      3.9       52          1  \n",
       "13        2.2             57   144      4.9       78          1  "
      ]
     },
     "execution_count": 20,
     "metadata": {},
     "output_type": "execute_result"
    }
   ],
   "source": [
    "# Filtro de pacientes muertos\n",
    "filtro_vivo = datos['class'] == 2\n",
    "vivos = datos[filtro_vivo]\n",
    "vivos.head()"
   ]
  },
  {
   "cell_type": "markdown",
   "metadata": {},
   "source": [
    "**Aplique filtros para separar datos de pacientes en 4 grupos muertos-masculinmo, muertos-femenino, vivos-masculino, vivos-femenino**"
   ]
  },
  {
   "cell_type": "code",
   "execution_count": 21,
   "metadata": {
    "id": "ToLVxFWOAuZf",
    "scrolled": true
   },
   "outputs": [
    {
     "data": {
      "text/html": [
       "<div>\n",
       "<style scoped>\n",
       "    .dataframe tbody tr th:only-of-type {\n",
       "        vertical-align: middle;\n",
       "    }\n",
       "\n",
       "    .dataframe tbody tr th {\n",
       "        vertical-align: top;\n",
       "    }\n",
       "\n",
       "    .dataframe thead th {\n",
       "        text-align: right;\n",
       "    }\n",
       "</style>\n",
       "<table border=\"1\" class=\"dataframe\">\n",
       "  <thead>\n",
       "    <tr style=\"text-align: right;\">\n",
       "      <th></th>\n",
       "      <th>class</th>\n",
       "      <th>age</th>\n",
       "      <th>sex</th>\n",
       "      <th>steroid</th>\n",
       "      <th>antivirals</th>\n",
       "      <th>fatigue</th>\n",
       "      <th>malaise</th>\n",
       "      <th>anorexia</th>\n",
       "      <th>liver_big</th>\n",
       "      <th>liver_firm</th>\n",
       "      <th>spleen_palpable</th>\n",
       "      <th>spiders</th>\n",
       "      <th>ascites</th>\n",
       "      <th>varices</th>\n",
       "      <th>bilirubin</th>\n",
       "      <th>alk_phosphate</th>\n",
       "      <th>sgot</th>\n",
       "      <th>albumin</th>\n",
       "      <th>protime</th>\n",
       "      <th>histology</th>\n",
       "    </tr>\n",
       "  </thead>\n",
       "  <tbody>\n",
       "    <tr>\n",
       "      <th>30</th>\n",
       "      <td>1</td>\n",
       "      <td>39</td>\n",
       "      <td>1</td>\n",
       "      <td>1</td>\n",
       "      <td>1</td>\n",
       "      <td>1</td>\n",
       "      <td>1</td>\n",
       "      <td>2</td>\n",
       "      <td>2</td>\n",
       "      <td>1</td>\n",
       "      <td>2</td>\n",
       "      <td>2</td>\n",
       "      <td>2</td>\n",
       "      <td>2</td>\n",
       "      <td>2.3</td>\n",
       "      <td>280</td>\n",
       "      <td>98</td>\n",
       "      <td>3.8</td>\n",
       "      <td>40</td>\n",
       "      <td>1</td>\n",
       "    </tr>\n",
       "    <tr>\n",
       "      <th>94</th>\n",
       "      <td>1</td>\n",
       "      <td>59</td>\n",
       "      <td>1</td>\n",
       "      <td>1</td>\n",
       "      <td>2</td>\n",
       "      <td>1</td>\n",
       "      <td>1</td>\n",
       "      <td>2</td>\n",
       "      <td>2</td>\n",
       "      <td>1</td>\n",
       "      <td>1</td>\n",
       "      <td>1</td>\n",
       "      <td>2</td>\n",
       "      <td>2</td>\n",
       "      <td>1.5</td>\n",
       "      <td>107</td>\n",
       "      <td>157</td>\n",
       "      <td>3.6</td>\n",
       "      <td>38</td>\n",
       "      <td>2</td>\n",
       "    </tr>\n",
       "    <tr>\n",
       "      <th>98</th>\n",
       "      <td>1</td>\n",
       "      <td>47</td>\n",
       "      <td>1</td>\n",
       "      <td>2</td>\n",
       "      <td>2</td>\n",
       "      <td>2</td>\n",
       "      <td>2</td>\n",
       "      <td>2</td>\n",
       "      <td>2</td>\n",
       "      <td>2</td>\n",
       "      <td>2</td>\n",
       "      <td>1</td>\n",
       "      <td>2</td>\n",
       "      <td>1</td>\n",
       "      <td>2.0</td>\n",
       "      <td>84</td>\n",
       "      <td>23</td>\n",
       "      <td>4.2</td>\n",
       "      <td>66</td>\n",
       "      <td>2</td>\n",
       "    </tr>\n",
       "    <tr>\n",
       "      <th>100</th>\n",
       "      <td>1</td>\n",
       "      <td>48</td>\n",
       "      <td>1</td>\n",
       "      <td>1</td>\n",
       "      <td>2</td>\n",
       "      <td>1</td>\n",
       "      <td>1</td>\n",
       "      <td>2</td>\n",
       "      <td>2</td>\n",
       "      <td>1</td>\n",
       "      <td>2</td>\n",
       "      <td>1</td>\n",
       "      <td>1</td>\n",
       "      <td>1</td>\n",
       "      <td>4.8</td>\n",
       "      <td>123</td>\n",
       "      <td>157</td>\n",
       "      <td>2.7</td>\n",
       "      <td>31</td>\n",
       "      <td>2</td>\n",
       "    </tr>\n",
       "    <tr>\n",
       "      <th>104</th>\n",
       "      <td>1</td>\n",
       "      <td>47</td>\n",
       "      <td>1</td>\n",
       "      <td>2</td>\n",
       "      <td>2</td>\n",
       "      <td>1</td>\n",
       "      <td>1</td>\n",
       "      <td>2</td>\n",
       "      <td>2</td>\n",
       "      <td>1</td>\n",
       "      <td>2</td>\n",
       "      <td>2</td>\n",
       "      <td>1</td>\n",
       "      <td>1</td>\n",
       "      <td>1.7</td>\n",
       "      <td>86</td>\n",
       "      <td>20</td>\n",
       "      <td>2.1</td>\n",
       "      <td>46</td>\n",
       "      <td>2</td>\n",
       "    </tr>\n",
       "  </tbody>\n",
       "</table>\n",
       "</div>"
      ],
      "text/plain": [
       "     class  age  sex  steroid  antivirals  fatigue  malaise  anorexia   \n",
       "30       1   39    1        1           1        1        1         2  \\\n",
       "94       1   59    1        1           2        1        1         2   \n",
       "98       1   47    1        2           2        2        2         2   \n",
       "100      1   48    1        1           2        1        1         2   \n",
       "104      1   47    1        2           2        1        1         2   \n",
       "\n",
       "     liver_big  liver_firm  spleen_palpable  spiders  ascites  varices   \n",
       "30           2           1                2        2        2        2  \\\n",
       "94           2           1                1        1        2        2   \n",
       "98           2           2                2        1        2        1   \n",
       "100          2           1                2        1        1        1   \n",
       "104          2           1                2        2        1        1   \n",
       "\n",
       "     bilirubin  alk_phosphate  sgot  albumin  protime  histology  \n",
       "30         2.3            280    98      3.8       40          1  \n",
       "94         1.5            107   157      3.6       38          2  \n",
       "98         2.0             84    23      4.2       66          2  \n",
       "100        4.8            123   157      2.7       31          2  \n",
       "104        1.7             86    20      2.1       46          2  "
      ]
     },
     "execution_count": 21,
     "metadata": {},
     "output_type": "execute_result"
    }
   ],
   "source": [
    "# Filtro de pacientes muertos masculinos\n",
    "filtro_muerto_masc = datos[(datos['class'] == 1) & (datos.sex == 1)]\n",
    "filtro_muerto_masc.head()"
   ]
  },
  {
   "cell_type": "code",
   "execution_count": 22,
   "metadata": {},
   "outputs": [
    {
     "data": {
      "text/html": [
       "<div>\n",
       "<style scoped>\n",
       "    .dataframe tbody tr th:only-of-type {\n",
       "        vertical-align: middle;\n",
       "    }\n",
       "\n",
       "    .dataframe tbody tr th {\n",
       "        vertical-align: top;\n",
       "    }\n",
       "\n",
       "    .dataframe thead th {\n",
       "        text-align: right;\n",
       "    }\n",
       "</style>\n",
       "<table border=\"1\" class=\"dataframe\">\n",
       "  <thead>\n",
       "    <tr style=\"text-align: right;\">\n",
       "      <th></th>\n",
       "      <th>class</th>\n",
       "      <th>age</th>\n",
       "      <th>sex</th>\n",
       "      <th>steroid</th>\n",
       "      <th>antivirals</th>\n",
       "      <th>fatigue</th>\n",
       "      <th>malaise</th>\n",
       "      <th>anorexia</th>\n",
       "      <th>liver_big</th>\n",
       "      <th>liver_firm</th>\n",
       "      <th>spleen_palpable</th>\n",
       "      <th>spiders</th>\n",
       "      <th>ascites</th>\n",
       "      <th>varices</th>\n",
       "      <th>bilirubin</th>\n",
       "      <th>alk_phosphate</th>\n",
       "      <th>sgot</th>\n",
       "      <th>albumin</th>\n",
       "      <th>protime</th>\n",
       "      <th>histology</th>\n",
       "    </tr>\n",
       "  </thead>\n",
       "  <tbody>\n",
       "  </tbody>\n",
       "</table>\n",
       "</div>"
      ],
      "text/plain": [
       "Empty DataFrame\n",
       "Columns: [class, age, sex, steroid, antivirals, fatigue, malaise, anorexia, liver_big, liver_firm, spleen_palpable, spiders, ascites, varices, bilirubin, alk_phosphate, sgot, albumin, protime, histology]\n",
       "Index: []"
      ]
     },
     "execution_count": 22,
     "metadata": {},
     "output_type": "execute_result"
    }
   ],
   "source": [
    "# Filtro de pacientes muertos femeninos\n",
    "filtro_muerto_feme = datos[(datos['class'] == 1) & (datos.sex == 2)]\n",
    "filtro_muerto_feme.head()"
   ]
  },
  {
   "cell_type": "code",
   "execution_count": 23,
   "metadata": {},
   "outputs": [
    {
     "data": {
      "text/html": [
       "<div>\n",
       "<style scoped>\n",
       "    .dataframe tbody tr th:only-of-type {\n",
       "        vertical-align: middle;\n",
       "    }\n",
       "\n",
       "    .dataframe tbody tr th {\n",
       "        vertical-align: top;\n",
       "    }\n",
       "\n",
       "    .dataframe thead th {\n",
       "        text-align: right;\n",
       "    }\n",
       "</style>\n",
       "<table border=\"1\" class=\"dataframe\">\n",
       "  <thead>\n",
       "    <tr style=\"text-align: right;\">\n",
       "      <th></th>\n",
       "      <th>class</th>\n",
       "      <th>age</th>\n",
       "      <th>sex</th>\n",
       "      <th>steroid</th>\n",
       "      <th>antivirals</th>\n",
       "      <th>fatigue</th>\n",
       "      <th>malaise</th>\n",
       "      <th>anorexia</th>\n",
       "      <th>liver_big</th>\n",
       "      <th>liver_firm</th>\n",
       "      <th>spleen_palpable</th>\n",
       "      <th>spiders</th>\n",
       "      <th>ascites</th>\n",
       "      <th>varices</th>\n",
       "      <th>bilirubin</th>\n",
       "      <th>alk_phosphate</th>\n",
       "      <th>sgot</th>\n",
       "      <th>albumin</th>\n",
       "      <th>protime</th>\n",
       "      <th>histology</th>\n",
       "    </tr>\n",
       "  </thead>\n",
       "  <tbody>\n",
       "    <tr>\n",
       "      <th>5</th>\n",
       "      <td>2</td>\n",
       "      <td>34</td>\n",
       "      <td>1</td>\n",
       "      <td>2</td>\n",
       "      <td>2</td>\n",
       "      <td>2</td>\n",
       "      <td>2</td>\n",
       "      <td>2</td>\n",
       "      <td>2</td>\n",
       "      <td>2</td>\n",
       "      <td>2</td>\n",
       "      <td>2</td>\n",
       "      <td>2</td>\n",
       "      <td>2</td>\n",
       "      <td>0.9</td>\n",
       "      <td>95</td>\n",
       "      <td>28</td>\n",
       "      <td>4.0</td>\n",
       "      <td>75</td>\n",
       "      <td>1</td>\n",
       "    </tr>\n",
       "    <tr>\n",
       "      <th>10</th>\n",
       "      <td>2</td>\n",
       "      <td>39</td>\n",
       "      <td>1</td>\n",
       "      <td>1</td>\n",
       "      <td>1</td>\n",
       "      <td>2</td>\n",
       "      <td>2</td>\n",
       "      <td>2</td>\n",
       "      <td>1</td>\n",
       "      <td>1</td>\n",
       "      <td>2</td>\n",
       "      <td>2</td>\n",
       "      <td>2</td>\n",
       "      <td>2</td>\n",
       "      <td>1.3</td>\n",
       "      <td>78</td>\n",
       "      <td>30</td>\n",
       "      <td>4.4</td>\n",
       "      <td>85</td>\n",
       "      <td>1</td>\n",
       "    </tr>\n",
       "    <tr>\n",
       "      <th>11</th>\n",
       "      <td>2</td>\n",
       "      <td>32</td>\n",
       "      <td>1</td>\n",
       "      <td>2</td>\n",
       "      <td>1</td>\n",
       "      <td>1</td>\n",
       "      <td>2</td>\n",
       "      <td>2</td>\n",
       "      <td>2</td>\n",
       "      <td>1</td>\n",
       "      <td>2</td>\n",
       "      <td>1</td>\n",
       "      <td>2</td>\n",
       "      <td>2</td>\n",
       "      <td>1.0</td>\n",
       "      <td>59</td>\n",
       "      <td>249</td>\n",
       "      <td>3.7</td>\n",
       "      <td>54</td>\n",
       "      <td>1</td>\n",
       "    </tr>\n",
       "    <tr>\n",
       "      <th>12</th>\n",
       "      <td>2</td>\n",
       "      <td>41</td>\n",
       "      <td>1</td>\n",
       "      <td>2</td>\n",
       "      <td>1</td>\n",
       "      <td>1</td>\n",
       "      <td>2</td>\n",
       "      <td>2</td>\n",
       "      <td>2</td>\n",
       "      <td>1</td>\n",
       "      <td>2</td>\n",
       "      <td>2</td>\n",
       "      <td>2</td>\n",
       "      <td>2</td>\n",
       "      <td>0.9</td>\n",
       "      <td>81</td>\n",
       "      <td>60</td>\n",
       "      <td>3.9</td>\n",
       "      <td>52</td>\n",
       "      <td>1</td>\n",
       "    </tr>\n",
       "    <tr>\n",
       "      <th>13</th>\n",
       "      <td>2</td>\n",
       "      <td>30</td>\n",
       "      <td>1</td>\n",
       "      <td>2</td>\n",
       "      <td>2</td>\n",
       "      <td>1</td>\n",
       "      <td>2</td>\n",
       "      <td>2</td>\n",
       "      <td>2</td>\n",
       "      <td>1</td>\n",
       "      <td>2</td>\n",
       "      <td>2</td>\n",
       "      <td>2</td>\n",
       "      <td>2</td>\n",
       "      <td>2.2</td>\n",
       "      <td>57</td>\n",
       "      <td>144</td>\n",
       "      <td>4.9</td>\n",
       "      <td>78</td>\n",
       "      <td>1</td>\n",
       "    </tr>\n",
       "  </tbody>\n",
       "</table>\n",
       "</div>"
      ],
      "text/plain": [
       "    class  age  sex  steroid  antivirals  fatigue  malaise  anorexia   \n",
       "5       2   34    1        2           2        2        2         2  \\\n",
       "10      2   39    1        1           1        2        2         2   \n",
       "11      2   32    1        2           1        1        2         2   \n",
       "12      2   41    1        2           1        1        2         2   \n",
       "13      2   30    1        2           2        1        2         2   \n",
       "\n",
       "    liver_big  liver_firm  spleen_palpable  spiders  ascites  varices   \n",
       "5           2           2                2        2        2        2  \\\n",
       "10          1           1                2        2        2        2   \n",
       "11          2           1                2        1        2        2   \n",
       "12          2           1                2        2        2        2   \n",
       "13          2           1                2        2        2        2   \n",
       "\n",
       "    bilirubin  alk_phosphate  sgot  albumin  protime  histology  \n",
       "5         0.9             95    28      4.0       75          1  \n",
       "10        1.3             78    30      4.4       85          1  \n",
       "11        1.0             59   249      3.7       54          1  \n",
       "12        0.9             81    60      3.9       52          1  \n",
       "13        2.2             57   144      4.9       78          1  "
      ]
     },
     "execution_count": 23,
     "metadata": {},
     "output_type": "execute_result"
    }
   ],
   "source": [
    "# Filtro de pacientes vivos masculinos\n",
    "filtro_vivo_masc = datos[(datos['class'] == 2) & (datos.sex == 1)]\n",
    "filtro_vivo_masc.head()"
   ]
  },
  {
   "cell_type": "code",
   "execution_count": 24,
   "metadata": {},
   "outputs": [
    {
     "data": {
      "text/html": [
       "<div>\n",
       "<style scoped>\n",
       "    .dataframe tbody tr th:only-of-type {\n",
       "        vertical-align: middle;\n",
       "    }\n",
       "\n",
       "    .dataframe tbody tr th {\n",
       "        vertical-align: top;\n",
       "    }\n",
       "\n",
       "    .dataframe thead th {\n",
       "        text-align: right;\n",
       "    }\n",
       "</style>\n",
       "<table border=\"1\" class=\"dataframe\">\n",
       "  <thead>\n",
       "    <tr style=\"text-align: right;\">\n",
       "      <th></th>\n",
       "      <th>class</th>\n",
       "      <th>age</th>\n",
       "      <th>sex</th>\n",
       "      <th>steroid</th>\n",
       "      <th>antivirals</th>\n",
       "      <th>fatigue</th>\n",
       "      <th>malaise</th>\n",
       "      <th>anorexia</th>\n",
       "      <th>liver_big</th>\n",
       "      <th>liver_firm</th>\n",
       "      <th>spleen_palpable</th>\n",
       "      <th>spiders</th>\n",
       "      <th>ascites</th>\n",
       "      <th>varices</th>\n",
       "      <th>bilirubin</th>\n",
       "      <th>alk_phosphate</th>\n",
       "      <th>sgot</th>\n",
       "      <th>albumin</th>\n",
       "      <th>protime</th>\n",
       "      <th>histology</th>\n",
       "    </tr>\n",
       "  </thead>\n",
       "  <tbody>\n",
       "    <tr>\n",
       "      <th>20</th>\n",
       "      <td>2</td>\n",
       "      <td>22</td>\n",
       "      <td>2</td>\n",
       "      <td>2</td>\n",
       "      <td>1</td>\n",
       "      <td>1</td>\n",
       "      <td>2</td>\n",
       "      <td>2</td>\n",
       "      <td>2</td>\n",
       "      <td>2</td>\n",
       "      <td>2</td>\n",
       "      <td>2</td>\n",
       "      <td>2</td>\n",
       "      <td>2</td>\n",
       "      <td>0.9</td>\n",
       "      <td>48</td>\n",
       "      <td>20</td>\n",
       "      <td>4.2</td>\n",
       "      <td>64</td>\n",
       "      <td>1</td>\n",
       "    </tr>\n",
       "    <tr>\n",
       "      <th>24</th>\n",
       "      <td>2</td>\n",
       "      <td>25</td>\n",
       "      <td>2</td>\n",
       "      <td>1</td>\n",
       "      <td>1</td>\n",
       "      <td>2</td>\n",
       "      <td>2</td>\n",
       "      <td>2</td>\n",
       "      <td>2</td>\n",
       "      <td>2</td>\n",
       "      <td>2</td>\n",
       "      <td>2</td>\n",
       "      <td>2</td>\n",
       "      <td>2</td>\n",
       "      <td>0.4</td>\n",
       "      <td>45</td>\n",
       "      <td>18</td>\n",
       "      <td>4.3</td>\n",
       "      <td>70</td>\n",
       "      <td>1</td>\n",
       "    </tr>\n",
       "    <tr>\n",
       "      <th>27</th>\n",
       "      <td>2</td>\n",
       "      <td>58</td>\n",
       "      <td>2</td>\n",
       "      <td>2</td>\n",
       "      <td>2</td>\n",
       "      <td>1</td>\n",
       "      <td>2</td>\n",
       "      <td>2</td>\n",
       "      <td>2</td>\n",
       "      <td>1</td>\n",
       "      <td>2</td>\n",
       "      <td>1</td>\n",
       "      <td>2</td>\n",
       "      <td>2</td>\n",
       "      <td>1.4</td>\n",
       "      <td>175</td>\n",
       "      <td>55</td>\n",
       "      <td>2.7</td>\n",
       "      <td>36</td>\n",
       "      <td>1</td>\n",
       "    </tr>\n",
       "    <tr>\n",
       "      <th>32</th>\n",
       "      <td>2</td>\n",
       "      <td>41</td>\n",
       "      <td>2</td>\n",
       "      <td>2</td>\n",
       "      <td>1</td>\n",
       "      <td>1</td>\n",
       "      <td>1</td>\n",
       "      <td>1</td>\n",
       "      <td>2</td>\n",
       "      <td>2</td>\n",
       "      <td>2</td>\n",
       "      <td>2</td>\n",
       "      <td>2</td>\n",
       "      <td>2</td>\n",
       "      <td>0.7</td>\n",
       "      <td>81</td>\n",
       "      <td>53</td>\n",
       "      <td>5.0</td>\n",
       "      <td>74</td>\n",
       "      <td>1</td>\n",
       "    </tr>\n",
       "    <tr>\n",
       "      <th>33</th>\n",
       "      <td>2</td>\n",
       "      <td>26</td>\n",
       "      <td>2</td>\n",
       "      <td>1</td>\n",
       "      <td>2</td>\n",
       "      <td>2</td>\n",
       "      <td>2</td>\n",
       "      <td>2</td>\n",
       "      <td>2</td>\n",
       "      <td>1</td>\n",
       "      <td>2</td>\n",
       "      <td>2</td>\n",
       "      <td>2</td>\n",
       "      <td>2</td>\n",
       "      <td>0.5</td>\n",
       "      <td>135</td>\n",
       "      <td>29</td>\n",
       "      <td>3.8</td>\n",
       "      <td>60</td>\n",
       "      <td>1</td>\n",
       "    </tr>\n",
       "  </tbody>\n",
       "</table>\n",
       "</div>"
      ],
      "text/plain": [
       "    class  age  sex  steroid  antivirals  fatigue  malaise  anorexia   \n",
       "20      2   22    2        2           1        1        2         2  \\\n",
       "24      2   25    2        1           1        2        2         2   \n",
       "27      2   58    2        2           2        1        2         2   \n",
       "32      2   41    2        2           1        1        1         1   \n",
       "33      2   26    2        1           2        2        2         2   \n",
       "\n",
       "    liver_big  liver_firm  spleen_palpable  spiders  ascites  varices   \n",
       "20          2           2                2        2        2        2  \\\n",
       "24          2           2                2        2        2        2   \n",
       "27          2           1                2        1        2        2   \n",
       "32          2           2                2        2        2        2   \n",
       "33          2           1                2        2        2        2   \n",
       "\n",
       "    bilirubin  alk_phosphate  sgot  albumin  protime  histology  \n",
       "20        0.9             48    20      4.2       64          1  \n",
       "24        0.4             45    18      4.3       70          1  \n",
       "27        1.4            175    55      2.7       36          1  \n",
       "32        0.7             81    53      5.0       74          1  \n",
       "33        0.5            135    29      3.8       60          1  "
      ]
     },
     "execution_count": 24,
     "metadata": {},
     "output_type": "execute_result"
    }
   ],
   "source": [
    "# Filtro de pacientes vivos femeninos\n",
    "filtro_vivo_fem = datos[(datos['class'] == 2) & (datos.sex == 2)]\n",
    "filtro_vivo_fem.head()"
   ]
  },
  {
   "cell_type": "markdown",
   "metadata": {
    "id": "5CONWMpDThCY"
   },
   "source": [
    "# Dispersión 2D\n"
   ]
  },
  {
   "cell_type": "markdown",
   "metadata": {
    "id": "C03AHFafmKwf"
   },
   "source": [
    "⚓TAREA 5\n",
    "*   Cree un gráfico de dispersión 2D para los atributos EDAD y PROTIME, en color verde y rojo\n",
    "*   Si el propósito de una tarea de clasificación, es separar los puntos rojos de verdes del diagrama anterior, mediante hiperplanos (un árbol de decisión traza hiperplanos con lineas rectas verticales y horizontales) realice el trazado de hiperplanos de forma que separe en un espacio puntos rojo, en otro verdes."
   ]
  },
  {
   "cell_type": "markdown",
   "metadata": {},
   "source": [
    "**Cree un gráfico de dispersión 2D para los atributos EDAD y PROTIME, en color verde y rojo**"
   ]
  },
  {
   "cell_type": "code",
   "execution_count": 25,
   "metadata": {
    "id": "gJM3ng2u8zfG"
   },
   "outputs": [],
   "source": [
    "# configurar colores para las clases de histology\n",
    "set(datos.histology)\n",
    "color={1:'green',2:'red'}\n",
    "datos_color = datos.histology.map(color)"
   ]
  },
  {
   "cell_type": "code",
   "execution_count": 26,
   "metadata": {
    "id": "KUnr7IQj8zoW"
   },
   "outputs": [
    {
     "data": {
      "image/png": "[encoded data removed]",
      "text/plain": [
       "<Figure size 1200x800 with 1 Axes>"
      ]
     },
     "metadata": {},
     "output_type": "display_data"
    }
   ],
   "source": [
    "# graficar los puntos: edad vs protime\n",
    "datos.plot(\"age\", \"protime\", kind=\"scatter\", color=datos_color, figsize=(12,8))\n",
    "plt.show()"
   ]
  },
  {
   "cell_type": "markdown",
   "metadata": {
    "id": "gWZfnn4c80Hl"
   },
   "source": [
    "**Si el propósito de una tarea de clasificación, es separar los puntos rojos de verdes del diagrama anterior, mediante hiperplanos (un árbol de decisión traza hiperplanos con lineas rectas verticales y horizontales) realice el trazado de hiperplanos de forma que separe en un espacio puntos rojo, en otro verdes.**"
   ]
  },
  {
   "cell_type": "markdown",
   "metadata": {},
   "source": [
    "En el grafico de dispercion se puede observar que no es posible graficar de manera simple un hiperplano que separe los puntos verdes de los rojos"
   ]
  },
  {
   "cell_type": "markdown",
   "metadata": {
    "id": "a0UWQbRJq25H"
   },
   "source": [
    "# Dispersión 3D"
   ]
  },
  {
   "cell_type": "markdown",
   "metadata": {
    "id": "BCFIqt9eq5gg"
   },
   "source": [
    "⚓TAREA 6\n",
    "*   Grafiqe un diagrama de dispersión 3D con los atributos EDAD, ALBUMINA, FOSFATO_ALCA.\n",
    "*   Grabe el gráfico en formato: png, jpg, pdf"
   ]
  },
  {
   "cell_type": "code",
   "execution_count": 28,
   "metadata": {
    "id": "2EVyd_fW86LF"
   },
   "outputs": [
    {
     "data": {
      "application/vnd.plotly.v1+json": {
       "config": {
        "plotlyServerURL": "https://plot.ly"
       },
       "data": [
        {
         "hovertemplate": "age=%{x}<br>albumin=%{y}<br>alk_phosphate=%{z}<br>histology=%{marker.color}<extra></extra>",
         "legendgroup": "",
         "marker": {
          "color": [
           1,
           1,
           1,
           1,
           1,
           1,
           1,
           2,
           1,
           1,
           1,
           1,
           1,
           1,
           1,
           1,
           1,
           1,
           1,
           1,
           1,
           1,
           1,
           1,
           2,
           1,
           1,
           1,
           1,
           1,
           1,
           1,
           1,
           1,
           1,
           1,
           1,
           1,
           1,
           1,
           1,
           1,
           1,
           1,
           1,
           1,
           1,
           1,
           1,
           2,
           2,
           2,
           2,
           2,
           2,
           2,
           2,
           2,
           2,
           2,
           2,
           2,
           2,
           2,
           2,
           2,
           2,
           2,
           2,
           2,
           2,
           2,
           2,
           2,
           2,
           2,
           2,
           2,
           2,
           2
          ],
          "coloraxis": "coloraxis",
          "size": 4,
          "symbol": "circle"
         },
         "mode": "markers",
         "name": "",
         "scene": "scene",
         "showlegend": false,
         "type": "scatter3d",
         "x": [
          34,
          39,
          32,
          41,
          30,
          38,
          40,
          38,
          38,
          22,
          27,
          31,
          42,
          25,
          27,
          58,
          61,
          51,
          39,
          41,
          26,
          35,
          23,
          42,
          65,
          52,
          33,
          56,
          28,
          36,
          38,
          44,
          40,
          30,
          30,
          64,
          37,
          32,
          32,
          36,
          49,
          39,
          32,
          34,
          34,
          36,
          30,
          62,
          28,
          38,
          50,
          59,
          40,
          30,
          47,
          48,
          27,
          51,
          47,
          54,
          33,
          42,
          50,
          20,
          50,
          34,
          50,
          54,
          57,
          54,
          72,
          38,
          25,
          38,
          47,
          45,
          49,
          31,
          53,
          43
         ],
         "y": [
          4,
          4.4,
          3.7,
          3.9,
          4.9,
          2.9,
          4,
          4.1,
          4.2,
          4.2,
          4.1,
          4,
          4.7,
          4.3,
          3.8,
          2.7,
          3.8,
          4.6,
          3.8,
          5,
          3.8,
          4.3,
          4.1,
          4,
          2.9,
          4,
          4.4,
          4.4,
          3.3,
          4.2,
          4.2,
          4.4,
          4,
          4.2,
          3.9,
          4.3,
          4.5,
          4,
          3.4,
          3.1,
          3.5,
          4,
          4.1,
          4,
          4.4,
          4.2,
          4,
          3.9,
          4,
          4.4,
          3.4,
          3.6,
          4.2,
          3.9,
          4.2,
          2.7,
          3,
          3.9,
          2.1,
          3.6,
          3,
          3.8,
          3.9,
          2.9,
          4,
          4.1,
          2.4,
          3.1,
          3.3,
          4.5,
          3.4,
          3.8,
          4.5,
          3.5,
          2.6,
          4.2,
          3.5,
          4.2,
          4.1,
          3.1
         ],
         "z": [
          95,
          78,
          59,
          81,
          57,
          72,
          62,
          53,
          70,
          48,
          133,
          85,
          60,
          45,
          95,
          175,
          78,
          78,
          280,
          81,
          135,
          58,
          194,
          85,
          180,
          75,
          46,
          71,
          191,
          85,
          125,
          110,
          85,
          50,
          52,
          80,
          26,
          102,
          215,
          164,
          103,
          34,
          55,
          30,
          72,
          62,
          100,
          141,
          44,
          76,
          230,
          107,
          40,
          147,
          84,
          123,
          168,
          215,
          86,
          155,
          63,
          62,
          139,
          160,
          85,
          70,
          155,
          85,
          82,
          85,
          115,
          243,
          181,
          130,
          166,
          85,
          85,
          75,
          81,
          100
         ]
        }
       ],
       "layout": {
        "coloraxis": {
         "colorbar": {
          "title": {
           "text": "histology"
          }
         },
         "colorscale": [
          [
           0,
           "#0d0887"
          ],
          [
           0.1111111111111111,
           "#46039f"
          ],
          [
           0.2222222222222222,
           "#7201a8"
          ],
          [
           0.3333333333333333,
           "#9c179e"
          ],
          [
           0.4444444444444444,
           "#bd3786"
          ],
          [
           0.5555555555555556,
           "#d8576b"
          ],
          [
           0.6666666666666666,
           "#ed7953"
          ],
          [
           0.7777777777777778,
           "#fb9f3a"
          ],
          [
           0.8888888888888888,
           "#fdca26"
          ],
          [
           1,
           "#f0f921"
          ]
         ]
        },
        "legend": {
         "tracegroupgap": 0
        },
        "margin": {
         "t": 60
        },
        "scene": {
         "domain": {
          "x": [
           0,
           1
          ],
          "y": [
           0,
           1
          ]
         },
         "xaxis": {
          "title": {
           "text": "age"
          }
         },
         "yaxis": {
          "title": {
           "text": "albumin"
          }
         },
         "zaxis": {
          "title": {
           "text": "alk_phosphate"
          }
         }
        },
        "template": {
         "data": {
          "bar": [
           {
            "error_x": {
             "color": "#2a3f5f"
            },
            "error_y": {
             "color": "#2a3f5f"
            },
            "marker": {
             "line": {
              "color": "#E5ECF6",
              "width": 0.5
             },
             "pattern": {
              "fillmode": "overlay",
              "size": 10,
              "solidity": 0.2
             }
            },
            "type": "bar"
           }
          ],
          "barpolar": [
           {
            "marker": {
             "line": {
              "color": "#E5ECF6",
              "width": 0.5
             },
             "pattern": {
              "fillmode": "overlay",
              "size": 10,
              "solidity": 0.2
             }
            },
            "type": "barpolar"
           }
          ],
          "carpet": [
           {
            "aaxis": {
             "endlinecolor": "#2a3f5f",
             "gridcolor": "white",
             "linecolor": "white",
             "minorgridcolor": "white",
             "startlinecolor": "#2a3f5f"
            },
            "baxis": {
             "endlinecolor": "#2a3f5f",
             "gridcolor": "white",
             "linecolor": "white",
             "minorgridcolor": "white",
             "startlinecolor": "#2a3f5f"
            },
            "type": "carpet"
           }
          ],
          "choropleth": [
           {
            "colorbar": {
             "outlinewidth": 0,
             "ticks": ""
            },
            "type": "choropleth"
           }
          ],
          "contour": [
           {
            "colorbar": {
             "outlinewidth": 0,
             "ticks": ""
            },
            "colorscale": [
             [
              0,
              "#0d0887"
             ],
             [
              0.1111111111111111,
              "#46039f"
             ],
             [
              0.2222222222222222,
              "#7201a8"
             ],
             [
              0.3333333333333333,
              "#9c179e"
             ],
             [
              0.4444444444444444,
              "#bd3786"
             ],
             [
              0.5555555555555556,
              "#d8576b"
             ],
             [
              0.6666666666666666,
              "#ed7953"
             ],
             [
              0.7777777777777778,
              "#fb9f3a"
             ],
             [
              0.8888888888888888,
              "#fdca26"
             ],
             [
              1,
              "#f0f921"
             ]
            ],
            "type": "contour"
           }
          ],
          "contourcarpet": [
           {
            "colorbar": {
             "outlinewidth": 0,
             "ticks": ""
            },
            "type": "contourcarpet"
           }
          ],
          "heatmap": [
           {
            "colorbar": {
             "outlinewidth": 0,
             "ticks": ""
            },
            "colorscale": [
             [
              0,
              "#0d0887"
             ],
             [
              0.1111111111111111,
              "#46039f"
             ],
             [
              0.2222222222222222,
              "#7201a8"
             ],
             [
              0.3333333333333333,
              "#9c179e"
             ],
             [
              0.4444444444444444,
              "#bd3786"
             ],
             [
              0.5555555555555556,
              "#d8576b"
             ],
             [
              0.6666666666666666,
              "#ed7953"
             ],
             [
              0.7777777777777778,
              "#fb9f3a"
             ],
             [
              0.8888888888888888,
              "#fdca26"
             ],
             [
              1,
              "#f0f921"
             ]
            ],
            "type": "heatmap"
           }
          ],
          "heatmapgl": [
           {
            "colorbar": {
             "outlinewidth": 0,
             "ticks": ""
            },
            "colorscale": [
             [
              0,
              "#0d0887"
             ],
             [
              0.1111111111111111,
              "#46039f"
             ],
             [
              0.2222222222222222,
              "#7201a8"
             ],
             [
              0.3333333333333333,
              "#9c179e"
             ],
             [
              0.4444444444444444,
              "#bd3786"
             ],
             [
              0.5555555555555556,
              "#d8576b"
             ],
             [
              0.6666666666666666,
              "#ed7953"
             ],
             [
              0.7777777777777778,
              "#fb9f3a"
             ],
             [
              0.8888888888888888,
              "#fdca26"
             ],
             [
              1,
              "#f0f921"
             ]
            ],
            "type": "heatmapgl"
           }
          ],
          "histogram": [
           {
            "marker": {
             "pattern": {
              "fillmode": "overlay",
              "size": 10,
              "solidity": 0.2
             }
            },
            "type": "histogram"
           }
          ],
          "histogram2d": [
           {
            "colorbar": {
             "outlinewidth": 0,
             "ticks": ""
            },
            "colorscale": [
             [
              0,
              "#0d0887"
             ],
             [
              0.1111111111111111,
              "#46039f"
             ],
             [
              0.2222222222222222,
              "#7201a8"
             ],
             [
              0.3333333333333333,
              "#9c179e"
             ],
             [
              0.4444444444444444,
              "#bd3786"
             ],
             [
              0.5555555555555556,
              "#d8576b"
             ],
             [
              0.6666666666666666,
              "#ed7953"
             ],
             [
              0.7777777777777778,
              "#fb9f3a"
             ],
             [
              0.8888888888888888,
              "#fdca26"
             ],
             [
              1,
              "#f0f921"
             ]
            ],
            "type": "histogram2d"
           }
          ],
          "histogram2dcontour": [
           {
            "colorbar": {
             "outlinewidth": 0,
             "ticks": ""
            },
            "colorscale": [
             [
              0,
              "#0d0887"
             ],
             [
              0.1111111111111111,
              "#46039f"
             ],
             [
              0.2222222222222222,
              "#7201a8"
             ],
             [
              0.3333333333333333,
              "#9c179e"
             ],
             [
              0.4444444444444444,
              "#bd3786"
             ],
             [
              0.5555555555555556,
              "#d8576b"
             ],
             [
              0.6666666666666666,
              "#ed7953"
             ],
             [
              0.7777777777777778,
              "#fb9f3a"
             ],
             [
              0.8888888888888888,
              "#fdca26"
             ],
             [
              1,
              "#f0f921"
             ]
            ],
            "type": "histogram2dcontour"
           }
          ],
          "mesh3d": [
           {
            "colorbar": {
             "outlinewidth": 0,
             "ticks": ""
            },
            "type": "mesh3d"
           }
          ],
          "parcoords": [
           {
            "line": {
             "colorbar": {
              "outlinewidth": 0,
              "ticks": ""
             }
            },
            "type": "parcoords"
           }
          ],
          "pie": [
           {
            "automargin": true,
            "type": "pie"
           }
          ],
          "scatter": [
           {
            "fillpattern": {
             "fillmode": "overlay",
             "size": 10,
             "solidity": 0.2
            },
            "type": "scatter"
           }
          ],
          "scatter3d": [
           {
            "line": {
             "colorbar": {
              "outlinewidth": 0,
              "ticks": ""
             }
            },
            "marker": {
             "colorbar": {
              "outlinewidth": 0,
              "ticks": ""
             }
            },
            "type": "scatter3d"
           }
          ],
          "scattercarpet": [
           {
            "marker": {
             "colorbar": {
              "outlinewidth": 0,
              "ticks": ""
             }
            },
            "type": "scattercarpet"
           }
          ],
          "scattergeo": [
           {
            "marker": {
             "colorbar": {
              "outlinewidth": 0,
              "ticks": ""
             }
            },
            "type": "scattergeo"
           }
          ],
          "scattergl": [
           {
            "marker": {
             "colorbar": {
              "outlinewidth": 0,
              "ticks": ""
             }
            },
            "type": "scattergl"
           }
          ],
          "scattermapbox": [
           {
            "marker": {
             "colorbar": {
              "outlinewidth": 0,
              "ticks": ""
             }
            },
            "type": "scattermapbox"
           }
          ],
          "scatterpolar": [
           {
            "marker": {
             "colorbar": {
              "outlinewidth": 0,
              "ticks": ""
             }
            },
            "type": "scatterpolar"
           }
          ],
          "scatterpolargl": [
           {
            "marker": {
             "colorbar": {
              "outlinewidth": 0,
              "ticks": ""
             }
            },
            "type": "scatterpolargl"
           }
          ],
          "scatterternary": [
           {
            "marker": {
             "colorbar": {
              "outlinewidth": 0,
              "ticks": ""
             }
            },
            "type": "scatterternary"
           }
          ],
          "surface": [
           {
            "colorbar": {
             "outlinewidth": 0,
             "ticks": ""
            },
            "colorscale": [
             [
              0,
              "#0d0887"
             ],
             [
              0.1111111111111111,
              "#46039f"
             ],
             [
              0.2222222222222222,
              "#7201a8"
             ],
             [
              0.3333333333333333,
              "#9c179e"
             ],
             [
              0.4444444444444444,
              "#bd3786"
             ],
             [
              0.5555555555555556,
              "#d8576b"
             ],
             [
              0.6666666666666666,
              "#ed7953"
             ],
             [
              0.7777777777777778,
              "#fb9f3a"
             ],
             [
              0.8888888888888888,
              "#fdca26"
             ],
             [
              1,
              "#f0f921"
             ]
            ],
            "type": "surface"
           }
          ],
          "table": [
           {
            "cells": {
             "fill": {
              "color": "#EBF0F8"
             },
             "line": {
              "color": "white"
             }
            },
            "header": {
             "fill": {
              "color": "#C8D4E3"
             },
             "line": {
              "color": "white"
             }
            },
            "type": "table"
           }
          ]
         },
         "layout": {
          "annotationdefaults": {
           "arrowcolor": "#2a3f5f",
           "arrowhead": 0,
           "arrowwidth": 1
          },
          "autotypenumbers": "strict",
          "coloraxis": {
           "colorbar": {
            "outlinewidth": 0,
            "ticks": ""
           }
          },
          "colorscale": {
           "diverging": [
            [
             0,
             "#8e0152"
            ],
            [
             0.1,
             "#c51b7d"
            ],
            [
             0.2,
             "#de77ae"
            ],
            [
             0.3,
             "#f1b6da"
            ],
            [
             0.4,
             "#fde0ef"
            ],
            [
             0.5,
             "#f7f7f7"
            ],
            [
             0.6,
             "#e6f5d0"
            ],
            [
             0.7,
             "#b8e186"
            ],
            [
             0.8,
             "#7fbc41"
            ],
            [
             0.9,
             "#4d9221"
            ],
            [
             1,
             "#276419"
            ]
           ],
           "sequential": [
            [
             0,
             "#0d0887"
            ],
            [
             0.1111111111111111,
             "#46039f"
            ],
            [
             0.2222222222222222,
             "#7201a8"
            ],
            [
             0.3333333333333333,
             "#9c179e"
            ],
            [
             0.4444444444444444,
             "#bd3786"
            ],
            [
             0.5555555555555556,
             "#d8576b"
            ],
            [
             0.6666666666666666,
             "#ed7953"
            ],
            [
             0.7777777777777778,
             "#fb9f3a"
            ],
            [
             0.8888888888888888,
             "#fdca26"
            ],
            [
             1,
             "#f0f921"
            ]
           ],
           "sequentialminus": [
            [
             0,
             "#0d0887"
            ],
            [
             0.1111111111111111,
             "#46039f"
            ],
            [
             0.2222222222222222,
             "#7201a8"
            ],
            [
             0.3333333333333333,
             "#9c179e"
            ],
            [
             0.4444444444444444,
             "#bd3786"
            ],
            [
             0.5555555555555556,
             "#d8576b"
            ],
            [
             0.6666666666666666,
             "#ed7953"
            ],
            [
             0.7777777777777778,
             "#fb9f3a"
            ],
            [
             0.8888888888888888,
             "#fdca26"
            ],
            [
             1,
             "#f0f921"
            ]
           ]
          },
          "colorway": [
           "#636efa",
           "#EF553B",
           "#00cc96",
           "#ab63fa",
           "#FFA15A",
           "#19d3f3",
           "#FF6692",
           "#B6E880",
           "#FF97FF",
           "#FECB52"
          ],
          "font": {
           "color": "#2a3f5f"
          },
          "geo": {
           "bgcolor": "white",
           "lakecolor": "white",
           "landcolor": "#E5ECF6",
           "showlakes": true,
           "showland": true,
           "subunitcolor": "white"
          },
          "hoverlabel": {
           "align": "left"
          },
          "hovermode": "closest",
          "mapbox": {
           "style": "light"
          },
          "paper_bgcolor": "white",
          "plot_bgcolor": "#E5ECF6",
          "polar": {
           "angularaxis": {
            "gridcolor": "white",
            "linecolor": "white",
            "ticks": ""
           },
           "bgcolor": "#E5ECF6",
           "radialaxis": {
            "gridcolor": "white",
            "linecolor": "white",
            "ticks": ""
           }
          },
          "scene": {
           "xaxis": {
            "backgroundcolor": "#E5ECF6",
            "gridcolor": "white",
            "gridwidth": 2,
            "linecolor": "white",
            "showbackground": true,
            "ticks": "",
            "zerolinecolor": "white"
           },
           "yaxis": {
            "backgroundcolor": "#E5ECF6",
            "gridcolor": "white",
            "gridwidth": 2,
            "linecolor": "white",
            "showbackground": true,
            "ticks": "",
            "zerolinecolor": "white"
           },
           "zaxis": {
            "backgroundcolor": "#E5ECF6",
            "gridcolor": "white",
            "gridwidth": 2,
            "linecolor": "white",
            "showbackground": true,
            "ticks": "",
            "zerolinecolor": "white"
           }
          },
          "shapedefaults": {
           "line": {
            "color": "#2a3f5f"
           }
          },
          "ternary": {
           "aaxis": {
            "gridcolor": "white",
            "linecolor": "white",
            "ticks": ""
           },
           "baxis": {
            "gridcolor": "white",
            "linecolor": "white",
            "ticks": ""
           },
           "bgcolor": "#E5ECF6",
           "caxis": {
            "gridcolor": "white",
            "linecolor": "white",
            "ticks": ""
           }
          },
          "title": {
           "x": 0.05
          },
          "xaxis": {
           "automargin": true,
           "gridcolor": "white",
           "linecolor": "white",
           "ticks": "",
           "title": {
            "standoff": 15
           },
           "zerolinecolor": "white",
           "zerolinewidth": 2
          },
          "yaxis": {
           "automargin": true,
           "gridcolor": "white",
           "linecolor": "white",
           "ticks": "",
           "title": {
            "standoff": 15
           },
           "zerolinecolor": "white",
           "zerolinewidth": 2
          }
         }
        }
       }
      },
      "text/html": [
       "<div>                            <div id=\"db128ebc-d887-4970-84bc-3469cdad7223\" class=\"plotly-graph-div\" style=\"height:525px; width:100%;\"></div>            <script type=\"text/javascript\">                require([\"plotly\"], function(Plotly) {                    window.PLOTLYENV=window.PLOTLYENV || {};                                    if (document.getElementById(\"db128ebc-d887-4970-84bc-3469cdad7223\")) {                    Plotly.newPlot(                        \"db128ebc-d887-4970-84bc-3469cdad7223\",                        [{\"hovertemplate\":\"age=%{x}<br>albumin=%{y}<br>alk_phosphate=%{z}<br>histology=%{marker.color}<extra></extra>\",\"legendgroup\":\"\",\"marker\":{\"color\":[1,1,1,1,1,1,1,2,1,1,1,1,1,1,1,1,1,1,1,1,1,1,1,1,2,1,1,1,1,1,1,1,1,1,1,1,1,1,1,1,1,1,1,1,1,1,1,1,1,2,2,2,2,2,2,2,2,2,2,2,2,2,2,2,2,2,2,2,2,2,2,2,2,2,2,2,2,2,2,2],\"coloraxis\":\"coloraxis\",\"symbol\":\"circle\",\"size\":4},\"mode\":\"markers\",\"name\":\"\",\"scene\":\"scene\",\"showlegend\":false,\"x\":[34,39,32,41,30,38,40,38,38,22,27,31,42,25,27,58,61,51,39,41,26,35,23,42,65,52,33,56,28,36,38,44,40,30,30,64,37,32,32,36,49,39,32,34,34,36,30,62,28,38,50,59,40,30,47,48,27,51,47,54,33,42,50,20,50,34,50,54,57,54,72,38,25,38,47,45,49,31,53,43],\"y\":[4.0,4.4,3.7,3.9,4.9,2.9,4.0,4.1,4.2,4.2,4.1,4.0,4.7,4.3,3.8,2.7,3.8,4.6,3.8,5.0,3.8,4.3,4.1,4.0,2.9,4.0,4.4,4.4,3.3,4.2,4.2,4.4,4.0,4.2,3.9,4.3,4.5,4.0,3.4,3.1,3.5,4.0,4.1,4.0,4.4,4.2,4.0,3.9,4.0,4.4,3.4,3.6,4.2,3.9,4.2,2.7,3.0,3.9,2.1,3.6,3.0,3.8,3.9,2.9,4.0,4.1,2.4,3.1,3.3,4.5,3.4,3.8,4.5,3.5,2.6,4.2,3.5,4.2,4.1,3.1],\"z\":[95,78,59,81,57,72,62,53,70,48,133,85,60,45,95,175,78,78,280,81,135,58,194,85,180,75,46,71,191,85,125,110,85,50,52,80,26,102,215,164,103,34,55,30,72,62,100,141,44,76,230,107,40,147,84,123,168,215,86,155,63,62,139,160,85,70,155,85,82,85,115,243,181,130,166,85,85,75,81,100],\"type\":\"scatter3d\"}],                        {\"template\":{\"data\":{\"histogram2dcontour\":[{\"type\":\"histogram2dcontour\",\"colorbar\":{\"outlinewidth\":0,\"ticks\":\"\"},\"colorscale\":[[0.0,\"#0d0887\"],[0.1111111111111111,\"#46039f\"],[0.2222222222222222,\"#7201a8\"],[0.3333333333333333,\"#9c179e\"],[0.4444444444444444,\"#bd3786\"],[0.5555555555555556,\"#d8576b\"],[0.6666666666666666,\"#ed7953\"],[0.7777777777777778,\"#fb9f3a\"],[0.8888888888888888,\"#fdca26\"],[1.0,\"#f0f921\"]]}],\"choropleth\":[{\"type\":\"choropleth\",\"colorbar\":{\"outlinewidth\":0,\"ticks\":\"\"}}],\"histogram2d\":[{\"type\":\"histogram2d\",\"colorbar\":{\"outlinewidth\":0,\"ticks\":\"\"},\"colorscale\":[[0.0,\"#0d0887\"],[0.1111111111111111,\"#46039f\"],[0.2222222222222222,\"#7201a8\"],[0.3333333333333333,\"#9c179e\"],[0.4444444444444444,\"#bd3786\"],[0.5555555555555556,\"#d8576b\"],[0.6666666666666666,\"#ed7953\"],[0.7777777777777778,\"#fb9f3a\"],[0.8888888888888888,\"#fdca26\"],[1.0,\"#f0f921\"]]}],\"heatmap\":[{\"type\":\"heatmap\",\"colorbar\":{\"outlinewidth\":0,\"ticks\":\"\"},\"colorscale\":[[0.0,\"#0d0887\"],[0.1111111111111111,\"#46039f\"],[0.2222222222222222,\"#7201a8\"],[0.3333333333333333,\"#9c179e\"],[0.4444444444444444,\"#bd3786\"],[0.5555555555555556,\"#d8576b\"],[0.6666666666666666,\"#ed7953\"],[0.7777777777777778,\"#fb9f3a\"],[0.8888888888888888,\"#fdca26\"],[1.0,\"#f0f921\"]]}],\"heatmapgl\":[{\"type\":\"heatmapgl\",\"colorbar\":{\"outlinewidth\":0,\"ticks\":\"\"},\"colorscale\":[[0.0,\"#0d0887\"],[0.1111111111111111,\"#46039f\"],[0.2222222222222222,\"#7201a8\"],[0.3333333333333333,\"#9c179e\"],[0.4444444444444444,\"#bd3786\"],[0.5555555555555556,\"#d8576b\"],[0.6666666666666666,\"#ed7953\"],[0.7777777777777778,\"#fb9f3a\"],[0.8888888888888888,\"#fdca26\"],[1.0,\"#f0f921\"]]}],\"contourcarpet\":[{\"type\":\"contourcarpet\",\"colorbar\":{\"outlinewidth\":0,\"ticks\":\"\"}}],\"contour\":[{\"type\":\"contour\",\"colorbar\":{\"outlinewidth\":0,\"ticks\":\"\"},\"colorscale\":[[0.0,\"#0d0887\"],[0.1111111111111111,\"#46039f\"],[0.2222222222222222,\"#7201a8\"],[0.3333333333333333,\"#9c179e\"],[0.4444444444444444,\"#bd3786\"],[0.5555555555555556,\"#d8576b\"],[0.6666666666666666,\"#ed7953\"],[0.7777777777777778,\"#fb9f3a\"],[0.8888888888888888,\"#fdca26\"],[1.0,\"#f0f921\"]]}],\"surface\":[{\"type\":\"surface\",\"colorbar\":{\"outlinewidth\":0,\"ticks\":\"\"},\"colorscale\":[[0.0,\"#0d0887\"],[0.1111111111111111,\"#46039f\"],[0.2222222222222222,\"#7201a8\"],[0.3333333333333333,\"#9c179e\"],[0.4444444444444444,\"#bd3786\"],[0.5555555555555556,\"#d8576b\"],[0.6666666666666666,\"#ed7953\"],[0.7777777777777778,\"#fb9f3a\"],[0.8888888888888888,\"#fdca26\"],[1.0,\"#f0f921\"]]}],\"mesh3d\":[{\"type\":\"mesh3d\",\"colorbar\":{\"outlinewidth\":0,\"ticks\":\"\"}}],\"scatter\":[{\"fillpattern\":{\"fillmode\":\"overlay\",\"size\":10,\"solidity\":0.2},\"type\":\"scatter\"}],\"parcoords\":[{\"type\":\"parcoords\",\"line\":{\"colorbar\":{\"outlinewidth\":0,\"ticks\":\"\"}}}],\"scatterpolargl\":[{\"type\":\"scatterpolargl\",\"marker\":{\"colorbar\":{\"outlinewidth\":0,\"ticks\":\"\"}}}],\"bar\":[{\"error_x\":{\"color\":\"#2a3f5f\"},\"error_y\":{\"color\":\"#2a3f5f\"},\"marker\":{\"line\":{\"color\":\"#E5ECF6\",\"width\":0.5},\"pattern\":{\"fillmode\":\"overlay\",\"size\":10,\"solidity\":0.2}},\"type\":\"bar\"}],\"scattergeo\":[{\"type\":\"scattergeo\",\"marker\":{\"colorbar\":{\"outlinewidth\":0,\"ticks\":\"\"}}}],\"scatterpolar\":[{\"type\":\"scatterpolar\",\"marker\":{\"colorbar\":{\"outlinewidth\":0,\"ticks\":\"\"}}}],\"histogram\":[{\"marker\":{\"pattern\":{\"fillmode\":\"overlay\",\"size\":10,\"solidity\":0.2}},\"type\":\"histogram\"}],\"scattergl\":[{\"type\":\"scattergl\",\"marker\":{\"colorbar\":{\"outlinewidth\":0,\"ticks\":\"\"}}}],\"scatter3d\":[{\"type\":\"scatter3d\",\"line\":{\"colorbar\":{\"outlinewidth\":0,\"ticks\":\"\"}},\"marker\":{\"colorbar\":{\"outlinewidth\":0,\"ticks\":\"\"}}}],\"scattermapbox\":[{\"type\":\"scattermapbox\",\"marker\":{\"colorbar\":{\"outlinewidth\":0,\"ticks\":\"\"}}}],\"scatterternary\":[{\"type\":\"scatterternary\",\"marker\":{\"colorbar\":{\"outlinewidth\":0,\"ticks\":\"\"}}}],\"scattercarpet\":[{\"type\":\"scattercarpet\",\"marker\":{\"colorbar\":{\"outlinewidth\":0,\"ticks\":\"\"}}}],\"carpet\":[{\"aaxis\":{\"endlinecolor\":\"#2a3f5f\",\"gridcolor\":\"white\",\"linecolor\":\"white\",\"minorgridcolor\":\"white\",\"startlinecolor\":\"#2a3f5f\"},\"baxis\":{\"endlinecolor\":\"#2a3f5f\",\"gridcolor\":\"white\",\"linecolor\":\"white\",\"minorgridcolor\":\"white\",\"startlinecolor\":\"#2a3f5f\"},\"type\":\"carpet\"}],\"table\":[{\"cells\":{\"fill\":{\"color\":\"#EBF0F8\"},\"line\":{\"color\":\"white\"}},\"header\":{\"fill\":{\"color\":\"#C8D4E3\"},\"line\":{\"color\":\"white\"}},\"type\":\"table\"}],\"barpolar\":[{\"marker\":{\"line\":{\"color\":\"#E5ECF6\",\"width\":0.5},\"pattern\":{\"fillmode\":\"overlay\",\"size\":10,\"solidity\":0.2}},\"type\":\"barpolar\"}],\"pie\":[{\"automargin\":true,\"type\":\"pie\"}]},\"layout\":{\"autotypenumbers\":\"strict\",\"colorway\":[\"#636efa\",\"#EF553B\",\"#00cc96\",\"#ab63fa\",\"#FFA15A\",\"#19d3f3\",\"#FF6692\",\"#B6E880\",\"#FF97FF\",\"#FECB52\"],\"font\":{\"color\":\"#2a3f5f\"},\"hovermode\":\"closest\",\"hoverlabel\":{\"align\":\"left\"},\"paper_bgcolor\":\"white\",\"plot_bgcolor\":\"#E5ECF6\",\"polar\":{\"bgcolor\":\"#E5ECF6\",\"angularaxis\":{\"gridcolor\":\"white\",\"linecolor\":\"white\",\"ticks\":\"\"},\"radialaxis\":{\"gridcolor\":\"white\",\"linecolor\":\"white\",\"ticks\":\"\"}},\"ternary\":{\"bgcolor\":\"#E5ECF6\",\"aaxis\":{\"gridcolor\":\"white\",\"linecolor\":\"white\",\"ticks\":\"\"},\"baxis\":{\"gridcolor\":\"white\",\"linecolor\":\"white\",\"ticks\":\"\"},\"caxis\":{\"gridcolor\":\"white\",\"linecolor\":\"white\",\"ticks\":\"\"}},\"coloraxis\":{\"colorbar\":{\"outlinewidth\":0,\"ticks\":\"\"}},\"colorscale\":{\"sequential\":[[0.0,\"#0d0887\"],[0.1111111111111111,\"#46039f\"],[0.2222222222222222,\"#7201a8\"],[0.3333333333333333,\"#9c179e\"],[0.4444444444444444,\"#bd3786\"],[0.5555555555555556,\"#d8576b\"],[0.6666666666666666,\"#ed7953\"],[0.7777777777777778,\"#fb9f3a\"],[0.8888888888888888,\"#fdca26\"],[1.0,\"#f0f921\"]],\"sequentialminus\":[[0.0,\"#0d0887\"],[0.1111111111111111,\"#46039f\"],[0.2222222222222222,\"#7201a8\"],[0.3333333333333333,\"#9c179e\"],[0.4444444444444444,\"#bd3786\"],[0.5555555555555556,\"#d8576b\"],[0.6666666666666666,\"#ed7953\"],[0.7777777777777778,\"#fb9f3a\"],[0.8888888888888888,\"#fdca26\"],[1.0,\"#f0f921\"]],\"diverging\":[[0,\"#8e0152\"],[0.1,\"#c51b7d\"],[0.2,\"#de77ae\"],[0.3,\"#f1b6da\"],[0.4,\"#fde0ef\"],[0.5,\"#f7f7f7\"],[0.6,\"#e6f5d0\"],[0.7,\"#b8e186\"],[0.8,\"#7fbc41\"],[0.9,\"#4d9221\"],[1,\"#276419\"]]},\"xaxis\":{\"gridcolor\":\"white\",\"linecolor\":\"white\",\"ticks\":\"\",\"title\":{\"standoff\":15},\"zerolinecolor\":\"white\",\"automargin\":true,\"zerolinewidth\":2},\"yaxis\":{\"gridcolor\":\"white\",\"linecolor\":\"white\",\"ticks\":\"\",\"title\":{\"standoff\":15},\"zerolinecolor\":\"white\",\"automargin\":true,\"zerolinewidth\":2},\"scene\":{\"xaxis\":{\"backgroundcolor\":\"#E5ECF6\",\"gridcolor\":\"white\",\"linecolor\":\"white\",\"showbackground\":true,\"ticks\":\"\",\"zerolinecolor\":\"white\",\"gridwidth\":2},\"yaxis\":{\"backgroundcolor\":\"#E5ECF6\",\"gridcolor\":\"white\",\"linecolor\":\"white\",\"showbackground\":true,\"ticks\":\"\",\"zerolinecolor\":\"white\",\"gridwidth\":2},\"zaxis\":{\"backgroundcolor\":\"#E5ECF6\",\"gridcolor\":\"white\",\"linecolor\":\"white\",\"showbackground\":true,\"ticks\":\"\",\"zerolinecolor\":\"white\",\"gridwidth\":2}},\"shapedefaults\":{\"line\":{\"color\":\"#2a3f5f\"}},\"annotationdefaults\":{\"arrowcolor\":\"#2a3f5f\",\"arrowhead\":0,\"arrowwidth\":1},\"geo\":{\"bgcolor\":\"white\",\"landcolor\":\"#E5ECF6\",\"subunitcolor\":\"white\",\"showland\":true,\"showlakes\":true,\"lakecolor\":\"white\"},\"title\":{\"x\":0.05},\"mapbox\":{\"style\":\"light\"}}},\"scene\":{\"domain\":{\"x\":[0.0,1.0],\"y\":[0.0,1.0]},\"xaxis\":{\"title\":{\"text\":\"age\"}},\"yaxis\":{\"title\":{\"text\":\"albumin\"}},\"zaxis\":{\"title\":{\"text\":\"alk_phosphate\"}}},\"coloraxis\":{\"colorbar\":{\"title\":{\"text\":\"histology\"}},\"colorscale\":[[0.0,\"#0d0887\"],[0.1111111111111111,\"#46039f\"],[0.2222222222222222,\"#7201a8\"],[0.3333333333333333,\"#9c179e\"],[0.4444444444444444,\"#bd3786\"],[0.5555555555555556,\"#d8576b\"],[0.6666666666666666,\"#ed7953\"],[0.7777777777777778,\"#fb9f3a\"],[0.8888888888888888,\"#fdca26\"],[1.0,\"#f0f921\"]]},\"legend\":{\"tracegroupgap\":0},\"margin\":{\"t\":60}},                        {\"responsive\": true}                    ).then(function(){\n",
       "                            \n",
       "var gd = document.getElementById('db128ebc-d887-4970-84bc-3469cdad7223');\n",
       "var x = new MutationObserver(function (mutations, observer) {{\n",
       "        var display = window.getComputedStyle(gd).display;\n",
       "        if (!display || display === 'none') {{\n",
       "            console.log([gd, 'removed!']);\n",
       "            Plotly.purge(gd);\n",
       "            observer.disconnect();\n",
       "        }}\n",
       "}});\n",
       "\n",
       "// Listen for the removal of the full notebook cells\n",
       "var notebookContainer = gd.closest('#notebook-container');\n",
       "if (notebookContainer) {{\n",
       "    x.observe(notebookContainer, {childList: true});\n",
       "}}\n",
       "\n",
       "// Listen for the clearing of the current output cell\n",
       "var outputEl = gd.closest('.output');\n",
       "if (outputEl) {{\n",
       "    x.observe(outputEl, {childList: true});\n",
       "}}\n",
       "\n",
       "                        })                };                });            </script>        </div>"
      ]
     },
     "metadata": {},
     "output_type": "display_data"
    }
   ],
   "source": [
    "# diagrama de dispersión en 3D: edad vs. albumina vs. fosfato_alca\n",
    "\n",
    "fig = px.scatter_3d(datos, x = 'age', y = 'albumin', z = 'alk_phosphate', color = 'histology')\n",
    "fig.update_traces(marker_size = 4)\n",
    "fig.show()"
   ]
  },
  {
   "cell_type": "markdown",
   "metadata": {
    "id": "FzoorZ3zLKfE"
   },
   "source": [
    "# Estadisticos descriptivos"
   ]
  },
  {
   "cell_type": "markdown",
   "metadata": {
    "id": "sIfi9Ub_8-zF"
   },
   "source": [
    "⚓TAREA 7\n",
    "*   Muestre los estadisticos descriptivos con la función **describe()**\n",
    "*   Calcule el RIC (rango intercuartilico), para el atributo edad, protime, bilirrubina, e higado duro, utilizando los valores de obtenidos por la función describe()"
   ]
  },
  {
   "cell_type": "code",
   "execution_count": 29,
   "metadata": {
    "id": "4xidU8IW9g-R"
   },
   "outputs": [
    {
     "data": {
      "text/html": [
       "<div>\n",
       "<style scoped>\n",
       "    .dataframe tbody tr th:only-of-type {\n",
       "        vertical-align: middle;\n",
       "    }\n",
       "\n",
       "    .dataframe tbody tr th {\n",
       "        vertical-align: top;\n",
       "    }\n",
       "\n",
       "    .dataframe thead th {\n",
       "        text-align: right;\n",
       "    }\n",
       "</style>\n",
       "<table border=\"1\" class=\"dataframe\">\n",
       "  <thead>\n",
       "    <tr style=\"text-align: right;\">\n",
       "      <th></th>\n",
       "      <th>count</th>\n",
       "      <th>mean</th>\n",
       "      <th>std</th>\n",
       "      <th>min</th>\n",
       "      <th>25%</th>\n",
       "      <th>50%</th>\n",
       "      <th>75%</th>\n",
       "      <th>max</th>\n",
       "    </tr>\n",
       "  </thead>\n",
       "  <tbody>\n",
       "    <tr>\n",
       "      <th>class</th>\n",
       "      <td>80.0</td>\n",
       "      <td>1.83750</td>\n",
       "      <td>0.371236</td>\n",
       "      <td>1.0</td>\n",
       "      <td>2.00</td>\n",
       "      <td>2.0</td>\n",
       "      <td>2.00</td>\n",
       "      <td>2.0</td>\n",
       "    </tr>\n",
       "    <tr>\n",
       "      <th>age</th>\n",
       "      <td>80.0</td>\n",
       "      <td>40.66250</td>\n",
       "      <td>11.280030</td>\n",
       "      <td>20.0</td>\n",
       "      <td>32.00</td>\n",
       "      <td>38.5</td>\n",
       "      <td>49.25</td>\n",
       "      <td>72.0</td>\n",
       "    </tr>\n",
       "    <tr>\n",
       "      <th>sex</th>\n",
       "      <td>80.0</td>\n",
       "      <td>1.13750</td>\n",
       "      <td>0.346547</td>\n",
       "      <td>1.0</td>\n",
       "      <td>1.00</td>\n",
       "      <td>1.0</td>\n",
       "      <td>1.00</td>\n",
       "      <td>2.0</td>\n",
       "    </tr>\n",
       "    <tr>\n",
       "      <th>steroid</th>\n",
       "      <td>80.0</td>\n",
       "      <td>1.52500</td>\n",
       "      <td>0.502525</td>\n",
       "      <td>1.0</td>\n",
       "      <td>1.00</td>\n",
       "      <td>2.0</td>\n",
       "      <td>2.00</td>\n",
       "      <td>2.0</td>\n",
       "    </tr>\n",
       "    <tr>\n",
       "      <th>antivirals</th>\n",
       "      <td>80.0</td>\n",
       "      <td>1.73750</td>\n",
       "      <td>0.442769</td>\n",
       "      <td>1.0</td>\n",
       "      <td>1.00</td>\n",
       "      <td>2.0</td>\n",
       "      <td>2.00</td>\n",
       "      <td>2.0</td>\n",
       "    </tr>\n",
       "    <tr>\n",
       "      <th>fatigue</th>\n",
       "      <td>80.0</td>\n",
       "      <td>1.35000</td>\n",
       "      <td>0.479979</td>\n",
       "      <td>1.0</td>\n",
       "      <td>1.00</td>\n",
       "      <td>1.0</td>\n",
       "      <td>2.00</td>\n",
       "      <td>2.0</td>\n",
       "    </tr>\n",
       "    <tr>\n",
       "      <th>malaise</th>\n",
       "      <td>80.0</td>\n",
       "      <td>1.61250</td>\n",
       "      <td>0.490253</td>\n",
       "      <td>1.0</td>\n",
       "      <td>1.00</td>\n",
       "      <td>2.0</td>\n",
       "      <td>2.00</td>\n",
       "      <td>2.0</td>\n",
       "    </tr>\n",
       "    <tr>\n",
       "      <th>anorexia</th>\n",
       "      <td>80.0</td>\n",
       "      <td>1.85000</td>\n",
       "      <td>0.359324</td>\n",
       "      <td>1.0</td>\n",
       "      <td>2.00</td>\n",
       "      <td>2.0</td>\n",
       "      <td>2.00</td>\n",
       "      <td>2.0</td>\n",
       "    </tr>\n",
       "    <tr>\n",
       "      <th>liver_big</th>\n",
       "      <td>80.0</td>\n",
       "      <td>1.83750</td>\n",
       "      <td>0.371236</td>\n",
       "      <td>1.0</td>\n",
       "      <td>2.00</td>\n",
       "      <td>2.0</td>\n",
       "      <td>2.00</td>\n",
       "      <td>2.0</td>\n",
       "    </tr>\n",
       "    <tr>\n",
       "      <th>liver_firm</th>\n",
       "      <td>80.0</td>\n",
       "      <td>1.52500</td>\n",
       "      <td>0.502525</td>\n",
       "      <td>1.0</td>\n",
       "      <td>1.00</td>\n",
       "      <td>2.0</td>\n",
       "      <td>2.00</td>\n",
       "      <td>2.0</td>\n",
       "    </tr>\n",
       "    <tr>\n",
       "      <th>spleen_palpable</th>\n",
       "      <td>80.0</td>\n",
       "      <td>1.81250</td>\n",
       "      <td>0.392775</td>\n",
       "      <td>1.0</td>\n",
       "      <td>2.00</td>\n",
       "      <td>2.0</td>\n",
       "      <td>2.00</td>\n",
       "      <td>2.0</td>\n",
       "    </tr>\n",
       "    <tr>\n",
       "      <th>spiders</th>\n",
       "      <td>80.0</td>\n",
       "      <td>1.68750</td>\n",
       "      <td>0.466437</td>\n",
       "      <td>1.0</td>\n",
       "      <td>1.00</td>\n",
       "      <td>2.0</td>\n",
       "      <td>2.00</td>\n",
       "      <td>2.0</td>\n",
       "    </tr>\n",
       "    <tr>\n",
       "      <th>ascites</th>\n",
       "      <td>80.0</td>\n",
       "      <td>1.85000</td>\n",
       "      <td>0.359324</td>\n",
       "      <td>1.0</td>\n",
       "      <td>2.00</td>\n",
       "      <td>2.0</td>\n",
       "      <td>2.00</td>\n",
       "      <td>2.0</td>\n",
       "    </tr>\n",
       "    <tr>\n",
       "      <th>varices</th>\n",
       "      <td>80.0</td>\n",
       "      <td>1.87500</td>\n",
       "      <td>0.332805</td>\n",
       "      <td>1.0</td>\n",
       "      <td>2.00</td>\n",
       "      <td>2.0</td>\n",
       "      <td>2.00</td>\n",
       "      <td>2.0</td>\n",
       "    </tr>\n",
       "    <tr>\n",
       "      <th>bilirubin</th>\n",
       "      <td>80.0</td>\n",
       "      <td>1.22125</td>\n",
       "      <td>0.875213</td>\n",
       "      <td>0.3</td>\n",
       "      <td>0.70</td>\n",
       "      <td>1.0</td>\n",
       "      <td>1.30</td>\n",
       "      <td>4.8</td>\n",
       "    </tr>\n",
       "    <tr>\n",
       "      <th>alk_phosphate</th>\n",
       "      <td>80.0</td>\n",
       "      <td>102.91250</td>\n",
       "      <td>53.684779</td>\n",
       "      <td>26.0</td>\n",
       "      <td>68.25</td>\n",
       "      <td>85.0</td>\n",
       "      <td>133.50</td>\n",
       "      <td>280.0</td>\n",
       "    </tr>\n",
       "    <tr>\n",
       "      <th>sgot</th>\n",
       "      <td>80.0</td>\n",
       "      <td>82.02500</td>\n",
       "      <td>71.599974</td>\n",
       "      <td>14.0</td>\n",
       "      <td>30.75</td>\n",
       "      <td>56.5</td>\n",
       "      <td>102.75</td>\n",
       "      <td>420.0</td>\n",
       "    </tr>\n",
       "    <tr>\n",
       "      <th>albumin</th>\n",
       "      <td>80.0</td>\n",
       "      <td>3.84375</td>\n",
       "      <td>0.576292</td>\n",
       "      <td>2.1</td>\n",
       "      <td>3.50</td>\n",
       "      <td>4.0</td>\n",
       "      <td>4.20</td>\n",
       "      <td>5.0</td>\n",
       "    </tr>\n",
       "    <tr>\n",
       "      <th>protime</th>\n",
       "      <td>80.0</td>\n",
       "      <td>62.51250</td>\n",
       "      <td>23.427774</td>\n",
       "      <td>0.0</td>\n",
       "      <td>46.00</td>\n",
       "      <td>62.0</td>\n",
       "      <td>77.25</td>\n",
       "      <td>100.0</td>\n",
       "    </tr>\n",
       "    <tr>\n",
       "      <th>histology</th>\n",
       "      <td>80.0</td>\n",
       "      <td>1.41250</td>\n",
       "      <td>0.495390</td>\n",
       "      <td>1.0</td>\n",
       "      <td>1.00</td>\n",
       "      <td>1.0</td>\n",
       "      <td>2.00</td>\n",
       "      <td>2.0</td>\n",
       "    </tr>\n",
       "  </tbody>\n",
       "</table>\n",
       "</div>"
      ],
      "text/plain": [
       "                 count       mean        std   min    25%   50%     75%    max\n",
       "class             80.0    1.83750   0.371236   1.0   2.00   2.0    2.00    2.0\n",
       "age               80.0   40.66250  11.280030  20.0  32.00  38.5   49.25   72.0\n",
       "sex               80.0    1.13750   0.346547   1.0   1.00   1.0    1.00    2.0\n",
       "steroid           80.0    1.52500   0.502525   1.0   1.00   2.0    2.00    2.0\n",
       "antivirals        80.0    1.73750   0.442769   1.0   1.00   2.0    2.00    2.0\n",
       "fatigue           80.0    1.35000   0.479979   1.0   1.00   1.0    2.00    2.0\n",
       "malaise           80.0    1.61250   0.490253   1.0   1.00   2.0    2.00    2.0\n",
       "anorexia          80.0    1.85000   0.359324   1.0   2.00   2.0    2.00    2.0\n",
       "liver_big         80.0    1.83750   0.371236   1.0   2.00   2.0    2.00    2.0\n",
       "liver_firm        80.0    1.52500   0.502525   1.0   1.00   2.0    2.00    2.0\n",
       "spleen_palpable   80.0    1.81250   0.392775   1.0   2.00   2.0    2.00    2.0\n",
       "spiders           80.0    1.68750   0.466437   1.0   1.00   2.0    2.00    2.0\n",
       "ascites           80.0    1.85000   0.359324   1.0   2.00   2.0    2.00    2.0\n",
       "varices           80.0    1.87500   0.332805   1.0   2.00   2.0    2.00    2.0\n",
       "bilirubin         80.0    1.22125   0.875213   0.3   0.70   1.0    1.30    4.8\n",
       "alk_phosphate     80.0  102.91250  53.684779  26.0  68.25  85.0  133.50  280.0\n",
       "sgot              80.0   82.02500  71.599974  14.0  30.75  56.5  102.75  420.0\n",
       "albumin           80.0    3.84375   0.576292   2.1   3.50   4.0    4.20    5.0\n",
       "protime           80.0   62.51250  23.427774   0.0  46.00  62.0   77.25  100.0\n",
       "histology         80.0    1.41250   0.495390   1.0   1.00   1.0    2.00    2.0"
      ]
     },
     "execution_count": 29,
     "metadata": {},
     "output_type": "execute_result"
    }
   ],
   "source": [
    "# Estadistica de los datos\n",
    "datos.describe().transpose()"
   ]
  },
  {
   "cell_type": "markdown",
   "metadata": {
    "id": "QnS78jl79hBv"
   },
   "source": [
    "### Rango intercuartil edad"
   ]
  },
  {
   "cell_type": "code",
   "execution_count": 30,
   "metadata": {},
   "outputs": [
    {
     "name": "stdout",
     "output_type": "stream",
     "text": [
      "17.25\n"
     ]
    }
   ],
   "source": [
    "# Rango intercuartil del atributo edad RIedad = Q3 - Q1\n",
    "RIedad = 49.25 - 32.00\n",
    "print(RIedad)"
   ]
  },
  {
   "cell_type": "markdown",
   "metadata": {
    "id": "PWocl2oN9hM-"
   },
   "source": [
    "### Rango intercuartil protime"
   ]
  },
  {
   "cell_type": "code",
   "execution_count": 31,
   "metadata": {},
   "outputs": [
    {
     "name": "stdout",
     "output_type": "stream",
     "text": [
      "31.25\n"
     ]
    }
   ],
   "source": [
    "# Rango intercuartil del atributo edad RIprotime = Q3 - Q1\n",
    "RIprotime = 77.25 - 46.00\n",
    "print(RIprotime)"
   ]
  },
  {
   "cell_type": "markdown",
   "metadata": {},
   "source": [
    "### Rango intercuartil bilirrubina"
   ]
  },
  {
   "cell_type": "code",
   "execution_count": 32,
   "metadata": {},
   "outputs": [
    {
     "name": "stdout",
     "output_type": "stream",
     "text": [
      "0.6000000000000001\n"
     ]
    }
   ],
   "source": [
    "# Rango intercuartil del atributo edad RIbilirrubina = Q3 - Q1\n",
    "RIbilirrubina = 1.30 - 0.70\n",
    "print(RIbilirrubina)"
   ]
  },
  {
   "cell_type": "markdown",
   "metadata": {},
   "source": [
    "### Rango intercuartil higado duro"
   ]
  },
  {
   "cell_type": "code",
   "execution_count": 33,
   "metadata": {},
   "outputs": [
    {
     "name": "stdout",
     "output_type": "stream",
     "text": [
      "1\n"
     ]
    }
   ],
   "source": [
    "# Rango intercuartil del atributo edad RIhigado_duro = Q3 - Q1\n",
    "RIhigado_duro = 2 - 1\n",
    "print(RIhigado_duro)"
   ]
  },
  {
   "cell_type": "markdown",
   "metadata": {
    "id": "FLn0sJ1vOD26"
   },
   "source": [
    "# Diagrama de caja (Boxplot)\n",
    "\n"
   ]
  },
  {
   "cell_type": "markdown",
   "metadata": {
    "id": "zFgckU3K2zyf"
   },
   "source": [
    "⚓TAREA 8\n",
    "* Cree un diagrama de bigote, para la clase muertos y vivos, en base al atributo edad\n",
    "* Cree un diagrama de bigote, para la clase muertos y vivos, en base al atributo bilirrubina\n",
    "* Identifique los valores atípicos en el dataset.\n",
    "* Explique porque razon el diagrama de bigotes los considera atípicos."
   ]
  },
  {
   "cell_type": "code",
   "execution_count": 34,
   "metadata": {
    "id": "dUHnH3DE9ky_"
   },
   "outputs": [
    {
     "data": {
      "image/png": "[encoded data removed]",
      "text/plain": [
       "<Figure size 640x480 with 1 Axes>"
      ]
     },
     "metadata": {},
     "output_type": "display_data"
    }
   ],
   "source": [
    "# diagrama de caja por clase (muerto, vivo) y edad\n",
    "plt.boxplot([muertos.age, vivos.age], labels=['Muertos', 'Vivos'])\n",
    "plt.show()"
   ]
  },
  {
   "cell_type": "code",
   "execution_count": 35,
   "metadata": {
    "id": "8n494nUX9k1u"
   },
   "outputs": [
    {
     "data": {
      "image/png": "[encoded data removed]",
      "text/plain": [
       "<Figure size 640x480 with 1 Axes>"
      ]
     },
     "metadata": {},
     "output_type": "display_data"
    }
   ],
   "source": [
    "# diagrama de caja por clase (muerto, vivo) y concentracion de bilirrubina\n",
    "plt.boxplot([muertos.bilirubin, vivos.bilirubin], labels=['Muertos', 'Vivos'])\n",
    "plt.show()"
   ]
  },
  {
   "cell_type": "markdown",
   "metadata": {
    "id": "b3_sT-L09k4r"
   },
   "source": [
    "## Identifique los valores a tipicos del data set"
   ]
  },
  {
   "cell_type": "markdown",
   "metadata": {
    "id": "U1cilWUA9k6-"
   },
   "source": [
    "Segun la grafica de caja se tiene datos atipicos en la concentracion de bilirrubina tanto en pacientes vivas y muertas. En caso de los pacientes muerto y vivos se tiene valor altos de concentracion de bilirrubina un valor de entre 4 a 5."
   ]
  },
  {
   "cell_type": "markdown",
   "metadata": {},
   "source": [
    "### Explique porque razon el diagrama de bigotes los considera atípicos"
   ]
  },
  {
   "cell_type": "markdown",
   "metadata": {},
   "source": [
    "Estos datos son conciderados atipicos debido a que se encuentran por encima del limite superior del diagrama de caja."
   ]
  },
  {
   "cell_type": "markdown",
   "metadata": {
    "id": "zm1rS1cKibms"
   },
   "source": [
    "# Correlación lineal\n",
    "\n"
   ]
  },
  {
   "cell_type": "markdown",
   "metadata": {
    "id": "EziPH07u4Glm"
   },
   "source": [
    "⚓TAREA 9\n",
    "*   Realice una gráfica qqplot (correlaciones lineal) comparando los atributos: edad, bilirrubina, fosfato alca, sgot, albumina, protime con una distribución normal.\n",
    "*   Identifique que atributos (edad, bilirrubina, fosfato alca, sgot, albumina, protime) siguen una distribución normal y cuales no, explique, ¿porque ocurre?.\n"
   ]
  },
  {
   "cell_type": "markdown",
   "metadata": {},
   "source": [
    "### Grafica de Q-Qplot de edad (distribuicion normal)"
   ]
  },
  {
   "cell_type": "code",
   "execution_count": 36,
   "metadata": {
    "id": "UX7CqkJw90Yn"
   },
   "outputs": [
    {
     "data": {
      "image/png": "[encoded data removed]",
      "text/plain": [
       "<Figure size 640x480 with 1 Axes>"
      ]
     },
     "metadata": {},
     "output_type": "display_data"
    }
   ],
   "source": [
    "# ejemplo:distribución normal\n",
    "stats.probplot(datos['age'],dist=stats.norm, plot=pylab)\n",
    "pylab.show()"
   ]
  },
  {
   "cell_type": "markdown",
   "metadata": {},
   "source": [
    "### Grafica de Q-Qplot de bilirrubina (distribuicion normal)"
   ]
  },
  {
   "cell_type": "code",
   "execution_count": 37,
   "metadata": {
    "id": "7gdnt6XH90b2"
   },
   "outputs": [
    {
     "data": {
      "image/png": "[encoded data removed]",
      "text/plain": [
       "<Figure size 640x480 with 1 Axes>"
      ]
     },
     "metadata": {},
     "output_type": "display_data"
    }
   ],
   "source": [
    "stats.probplot(datos['bilirubin'],dist=stats.norm, plot=pylab)\n",
    "pylab.show()"
   ]
  },
  {
   "cell_type": "markdown",
   "metadata": {},
   "source": [
    "### Grafica de Q-Qplot de fosfato alcalina (distribuicion normal)"
   ]
  },
  {
   "cell_type": "code",
   "execution_count": 38,
   "metadata": {
    "id": "D1CQRvLB90eh"
   },
   "outputs": [
    {
     "data": {
      "image/png": "[encoded data removed]",
      "text/plain": [
       "<Figure size 640x480 with 1 Axes>"
      ]
     },
     "metadata": {},
     "output_type": "display_data"
    }
   ],
   "source": [
    "stats.probplot(datos['alk_phosphate'],dist=stats.norm, plot=pylab)\n",
    "pylab.show()"
   ]
  },
  {
   "cell_type": "markdown",
   "metadata": {},
   "source": [
    "### Grafica de Q-Qplot de sgot (distribuicion normal)"
   ]
  },
  {
   "cell_type": "code",
   "execution_count": 39,
   "metadata": {
    "id": "PrlJebZ390hW"
   },
   "outputs": [
    {
     "data": {
      "image/png": "[encoded data removed]",
      "text/plain": [
       "<Figure size 640x480 with 1 Axes>"
      ]
     },
     "metadata": {},
     "output_type": "display_data"
    }
   ],
   "source": [
    "stats.probplot(datos['sgot'],dist=stats.norm, plot=pylab)\n",
    "pylab.show()"
   ]
  },
  {
   "cell_type": "markdown",
   "metadata": {},
   "source": [
    "### Grafica de Q-Qplot de albumina (distribuicion normal)"
   ]
  },
  {
   "cell_type": "code",
   "execution_count": 40,
   "metadata": {
    "id": "lJA87R0W90yv"
   },
   "outputs": [
    {
     "data": {
      "image/png": "[encoded data removed]",
      "text/plain": [
       "<Figure size 640x480 with 1 Axes>"
      ]
     },
     "metadata": {},
     "output_type": "display_data"
    }
   ],
   "source": [
    "stats.probplot(datos['albumin'],dist=stats.norm, plot=pylab)\n",
    "pylab.show()"
   ]
  },
  {
   "cell_type": "markdown",
   "metadata": {},
   "source": [
    "### Grafica de Q-Qplot de protime (distribuicion normal)"
   ]
  },
  {
   "cell_type": "code",
   "execution_count": 41,
   "metadata": {
    "id": "5mLrqpMa904-"
   },
   "outputs": [
    {
     "data": {
      "image/png": "[encoded data removed]",
      "text/plain": [
       "<Figure size 640x480 with 1 Axes>"
      ]
     },
     "metadata": {},
     "output_type": "display_data"
    }
   ],
   "source": [
    "stats.probplot(datos['protime'],dist=stats.norm, plot=pylab)\n",
    "pylab.show()"
   ]
  },
  {
   "cell_type": "markdown",
   "metadata": {
    "id": "7_5ieEvf90_s"
   },
   "source": [
    "### Identifique que atributos (edad, bilirrubina, fosfato alca, sgot, albumina, protime) siguen una distribución normal y cuales no, explique, ¿porque ocurre?."
   ]
  },
  {
   "cell_type": "markdown",
   "metadata": {},
   "source": [
    "**Atributos que siguen una distribucion normal:** Edad y protime. Estos dos atributos tiene una tendencia lineal con la distribucion normal teorica.\n",
    "\n",
    "**Atributos que no siguen una distribucion normal:** Bilirrubin, fosfato alca, sgot y albumina. La tendencia de estos atributos no son lineales o sus valores estan alejados a la recta de tendencia lineal con relacion a la distribucion narmal\n",
    "\n"
   ]
  },
  {
   "cell_type": "markdown",
   "metadata": {
    "id": "mHXtAaf3zAwp"
   },
   "source": [
    "# Correlación Pearson\n",
    "\n"
   ]
  },
  {
   "cell_type": "markdown",
   "metadata": {
    "id": "6-t4qcPo6ahh"
   },
   "source": [
    "⚓TAREA 10\n",
    "*   Obtenga la matriz de correlación de Pearson\n",
    "*   Genere una **gráfica de calor** de la matriz de correlación de Pearson\n",
    "*   Identifique 3 atributos que mejor correlación tengan con la atributo objetivo\n",
    "*   Identifique 3 atributos que tengan la peor correlación con el atributo objetivo"
   ]
  },
  {
   "cell_type": "markdown",
   "metadata": {},
   "source": [
    "### Correlacion de pearson"
   ]
  },
  {
   "cell_type": "code",
   "execution_count": 42,
   "metadata": {
    "id": "BcLGp-BK99Hn"
   },
   "outputs": [
    {
     "data": {
      "text/html": [
       "<div>\n",
       "<style scoped>\n",
       "    .dataframe tbody tr th:only-of-type {\n",
       "        vertical-align: middle;\n",
       "    }\n",
       "\n",
       "    .dataframe tbody tr th {\n",
       "        vertical-align: top;\n",
       "    }\n",
       "\n",
       "    .dataframe thead th {\n",
       "        text-align: right;\n",
       "    }\n",
       "</style>\n",
       "<table border=\"1\" class=\"dataframe\">\n",
       "  <thead>\n",
       "    <tr style=\"text-align: right;\">\n",
       "      <th></th>\n",
       "      <th>class</th>\n",
       "      <th>age</th>\n",
       "      <th>sex</th>\n",
       "      <th>steroid</th>\n",
       "      <th>antivirals</th>\n",
       "      <th>fatigue</th>\n",
       "      <th>malaise</th>\n",
       "      <th>anorexia</th>\n",
       "      <th>liver_big</th>\n",
       "      <th>liver_firm</th>\n",
       "      <th>spleen_palpable</th>\n",
       "      <th>spiders</th>\n",
       "      <th>ascites</th>\n",
       "      <th>varices</th>\n",
       "      <th>bilirubin</th>\n",
       "      <th>alk_phosphate</th>\n",
       "      <th>sgot</th>\n",
       "      <th>albumin</th>\n",
       "      <th>protime</th>\n",
       "      <th>histology</th>\n",
       "    </tr>\n",
       "  </thead>\n",
       "  <tbody>\n",
       "    <tr>\n",
       "      <th>class</th>\n",
       "      <td>1.000000</td>\n",
       "      <td>-0.212769</td>\n",
       "      <td>0.175876</td>\n",
       "      <td>0.123830</td>\n",
       "      <td>-0.108776</td>\n",
       "      <td>0.181151</td>\n",
       "      <td>0.275595</td>\n",
       "      <td>-0.185042</td>\n",
       "      <td>-0.194030</td>\n",
       "      <td>0.055978</td>\n",
       "      <td>0.135643</td>\n",
       "      <td>0.287839</td>\n",
       "      <td>0.479211</td>\n",
       "      <td>0.345785</td>\n",
       "      <td>-0.351557</td>\n",
       "      <td>-0.189360</td>\n",
       "      <td>0.078731</td>\n",
       "      <td>0.477404</td>\n",
       "      <td>0.395386</td>\n",
       "      <td>-0.456856</td>\n",
       "    </tr>\n",
       "    <tr>\n",
       "      <th>age</th>\n",
       "      <td>-0.212769</td>\n",
       "      <td>1.000000</td>\n",
       "      <td>-0.046265</td>\n",
       "      <td>0.016022</td>\n",
       "      <td>-0.043308</td>\n",
       "      <td>-0.111171</td>\n",
       "      <td>-0.074306</td>\n",
       "      <td>0.243440</td>\n",
       "      <td>-0.034422</td>\n",
       "      <td>-0.167090</td>\n",
       "      <td>-0.134460</td>\n",
       "      <td>-0.179086</td>\n",
       "      <td>-0.121954</td>\n",
       "      <td>-0.105793</td>\n",
       "      <td>0.160752</td>\n",
       "      <td>0.088183</td>\n",
       "      <td>-0.132269</td>\n",
       "      <td>-0.220464</td>\n",
       "      <td>-0.190169</td>\n",
       "      <td>0.310650</td>\n",
       "    </tr>\n",
       "    <tr>\n",
       "      <th>sex</th>\n",
       "      <td>0.175876</td>\n",
       "      <td>-0.046265</td>\n",
       "      <td>1.000000</td>\n",
       "      <td>0.016354</td>\n",
       "      <td>-0.091777</td>\n",
       "      <td>-0.064686</td>\n",
       "      <td>0.019558</td>\n",
       "      <td>-0.035579</td>\n",
       "      <td>-0.020908</td>\n",
       "      <td>-0.129018</td>\n",
       "      <td>0.005812</td>\n",
       "      <td>-0.122360</td>\n",
       "      <td>0.167729</td>\n",
       "      <td>0.041158</td>\n",
       "      <td>-0.114092</td>\n",
       "      <td>0.064612</td>\n",
       "      <td>0.016695</td>\n",
       "      <td>0.032880</td>\n",
       "      <td>-0.022822</td>\n",
       "      <td>-0.113365</td>\n",
       "    </tr>\n",
       "    <tr>\n",
       "      <th>steroid</th>\n",
       "      <td>0.123830</td>\n",
       "      <td>0.016022</td>\n",
       "      <td>0.016354</td>\n",
       "      <td>1.000000</td>\n",
       "      <td>0.058313</td>\n",
       "      <td>0.068224</td>\n",
       "      <td>0.168270</td>\n",
       "      <td>0.021031</td>\n",
       "      <td>0.191683</td>\n",
       "      <td>0.097744</td>\n",
       "      <td>-0.008016</td>\n",
       "      <td>-0.047253</td>\n",
       "      <td>0.021031</td>\n",
       "      <td>-0.132453</td>\n",
       "      <td>-0.086126</td>\n",
       "      <td>-0.028305</td>\n",
       "      <td>-0.001777</td>\n",
       "      <td>0.081408</td>\n",
       "      <td>0.069323</td>\n",
       "      <td>-0.118220</td>\n",
       "    </tr>\n",
       "    <tr>\n",
       "      <th>antivirals</th>\n",
       "      <td>-0.108776</td>\n",
       "      <td>-0.043308</td>\n",
       "      <td>-0.091777</td>\n",
       "      <td>0.058313</td>\n",
       "      <td>1.000000</td>\n",
       "      <td>-0.038716</td>\n",
       "      <td>-0.008018</td>\n",
       "      <td>-0.011934</td>\n",
       "      <td>0.122253</td>\n",
       "      <td>0.058313</td>\n",
       "      <td>-0.213811</td>\n",
       "      <td>-0.218352</td>\n",
       "      <td>-0.250622</td>\n",
       "      <td>-0.225494</td>\n",
       "      <td>0.200767</td>\n",
       "      <td>0.203513</td>\n",
       "      <td>0.141556</td>\n",
       "      <td>-0.252072</td>\n",
       "      <td>0.007032</td>\n",
       "      <td>0.211362</td>\n",
       "    </tr>\n",
       "    <tr>\n",
       "      <th>fatigue</th>\n",
       "      <td>0.181151</td>\n",
       "      <td>-0.111171</td>\n",
       "      <td>-0.064686</td>\n",
       "      <td>0.068224</td>\n",
       "      <td>-0.038716</td>\n",
       "      <td>1.000000</td>\n",
       "      <td>0.583660</td>\n",
       "      <td>0.308257</td>\n",
       "      <td>0.039072</td>\n",
       "      <td>0.225663</td>\n",
       "      <td>0.151074</td>\n",
       "      <td>0.325107</td>\n",
       "      <td>0.308257</td>\n",
       "      <td>0.118864</td>\n",
       "      <td>-0.289122</td>\n",
       "      <td>-0.155995</td>\n",
       "      <td>-0.199156</td>\n",
       "      <td>0.287159</td>\n",
       "      <td>0.255138</td>\n",
       "      <td>-0.135751</td>\n",
       "    </tr>\n",
       "    <tr>\n",
       "      <th>malaise</th>\n",
       "      <td>0.275595</td>\n",
       "      <td>-0.074306</td>\n",
       "      <td>0.019558</td>\n",
       "      <td>0.168270</td>\n",
       "      <td>-0.008018</td>\n",
       "      <td>0.583660</td>\n",
       "      <td>1.000000</td>\n",
       "      <td>0.528145</td>\n",
       "      <td>-0.002608</td>\n",
       "      <td>0.065510</td>\n",
       "      <td>0.012326</td>\n",
       "      <td>0.294075</td>\n",
       "      <td>0.312576</td>\n",
       "      <td>0.087280</td>\n",
       "      <td>-0.269677</td>\n",
       "      <td>-0.213404</td>\n",
       "      <td>-0.144686</td>\n",
       "      <td>0.275820</td>\n",
       "      <td>0.230215</td>\n",
       "      <td>-0.167436</td>\n",
       "    </tr>\n",
       "    <tr>\n",
       "      <th>anorexia</th>\n",
       "      <td>-0.185042</td>\n",
       "      <td>0.243440</td>\n",
       "      <td>-0.035579</td>\n",
       "      <td>0.021031</td>\n",
       "      <td>-0.011934</td>\n",
       "      <td>0.308257</td>\n",
       "      <td>0.528145</td>\n",
       "      <td>1.000000</td>\n",
       "      <td>0.194531</td>\n",
       "      <td>0.021031</td>\n",
       "      <td>0.067267</td>\n",
       "      <td>0.169932</td>\n",
       "      <td>0.019608</td>\n",
       "      <td>0.052926</td>\n",
       "      <td>-0.154764</td>\n",
       "      <td>-0.124711</td>\n",
       "      <td>-0.071686</td>\n",
       "      <td>-0.065713</td>\n",
       "      <td>0.036314</td>\n",
       "      <td>-0.003556</td>\n",
       "    </tr>\n",
       "    <tr>\n",
       "      <th>liver_big</th>\n",
       "      <td>-0.194030</td>\n",
       "      <td>-0.034422</td>\n",
       "      <td>-0.020908</td>\n",
       "      <td>0.191683</td>\n",
       "      <td>0.122253</td>\n",
       "      <td>0.039072</td>\n",
       "      <td>-0.002608</td>\n",
       "      <td>0.194531</td>\n",
       "      <td>1.000000</td>\n",
       "      <td>0.463092</td>\n",
       "      <td>0.135643</td>\n",
       "      <td>0.068533</td>\n",
       "      <td>-0.090149</td>\n",
       "      <td>-0.064034</td>\n",
       "      <td>0.139327</td>\n",
       "      <td>-0.056615</td>\n",
       "      <td>0.058730</td>\n",
       "      <td>-0.149767</td>\n",
       "      <td>-0.089272</td>\n",
       "      <td>-0.043879</td>\n",
       "    </tr>\n",
       "    <tr>\n",
       "      <th>liver_firm</th>\n",
       "      <td>0.055978</td>\n",
       "      <td>-0.167090</td>\n",
       "      <td>-0.129018</td>\n",
       "      <td>0.097744</td>\n",
       "      <td>0.058313</td>\n",
       "      <td>0.225663</td>\n",
       "      <td>0.065510</td>\n",
       "      <td>0.021031</td>\n",
       "      <td>0.463092</td>\n",
       "      <td>1.000000</td>\n",
       "      <td>0.184378</td>\n",
       "      <td>0.222765</td>\n",
       "      <td>0.021031</td>\n",
       "      <td>0.170297</td>\n",
       "      <td>-0.149444</td>\n",
       "      <td>-0.364257</td>\n",
       "      <td>-0.286035</td>\n",
       "      <td>0.251874</td>\n",
       "      <td>0.059646</td>\n",
       "      <td>-0.169067</td>\n",
       "    </tr>\n",
       "    <tr>\n",
       "      <th>spleen_palpable</th>\n",
       "      <td>0.135643</td>\n",
       "      <td>-0.134460</td>\n",
       "      <td>0.005812</td>\n",
       "      <td>-0.008016</td>\n",
       "      <td>-0.213811</td>\n",
       "      <td>0.151074</td>\n",
       "      <td>0.012326</td>\n",
       "      <td>0.067267</td>\n",
       "      <td>0.135643</td>\n",
       "      <td>0.184378</td>\n",
       "      <td>1.000000</td>\n",
       "      <td>0.367058</td>\n",
       "      <td>0.156957</td>\n",
       "      <td>0.205777</td>\n",
       "      <td>-0.124507</td>\n",
       "      <td>-0.321956</td>\n",
       "      <td>-0.077250</td>\n",
       "      <td>0.154136</td>\n",
       "      <td>0.127503</td>\n",
       "      <td>-0.248023</td>\n",
       "    </tr>\n",
       "    <tr>\n",
       "      <th>spiders</th>\n",
       "      <td>0.287839</td>\n",
       "      <td>-0.179086</td>\n",
       "      <td>-0.122360</td>\n",
       "      <td>-0.047253</td>\n",
       "      <td>-0.218352</td>\n",
       "      <td>0.325107</td>\n",
       "      <td>0.294075</td>\n",
       "      <td>0.169932</td>\n",
       "      <td>0.068533</td>\n",
       "      <td>0.222765</td>\n",
       "      <td>0.367058</td>\n",
       "      <td>1.000000</td>\n",
       "      <td>0.245458</td>\n",
       "      <td>0.397525</td>\n",
       "      <td>-0.318408</td>\n",
       "      <td>-0.321093</td>\n",
       "      <td>-0.142276</td>\n",
       "      <td>0.268124</td>\n",
       "      <td>0.334553</td>\n",
       "      <td>-0.421132</td>\n",
       "    </tr>\n",
       "    <tr>\n",
       "      <th>ascites</th>\n",
       "      <td>0.479211</td>\n",
       "      <td>-0.121954</td>\n",
       "      <td>0.167729</td>\n",
       "      <td>0.021031</td>\n",
       "      <td>-0.250622</td>\n",
       "      <td>0.308257</td>\n",
       "      <td>0.312576</td>\n",
       "      <td>0.019608</td>\n",
       "      <td>-0.090149</td>\n",
       "      <td>0.021031</td>\n",
       "      <td>0.156957</td>\n",
       "      <td>0.245458</td>\n",
       "      <td>1.000000</td>\n",
       "      <td>0.370479</td>\n",
       "      <td>-0.319791</td>\n",
       "      <td>-0.143084</td>\n",
       "      <td>0.007528</td>\n",
       "      <td>0.649490</td>\n",
       "      <td>0.362612</td>\n",
       "      <td>-0.430224</td>\n",
       "    </tr>\n",
       "    <tr>\n",
       "      <th>varices</th>\n",
       "      <td>0.345785</td>\n",
       "      <td>-0.105793</td>\n",
       "      <td>0.041158</td>\n",
       "      <td>-0.132453</td>\n",
       "      <td>-0.225494</td>\n",
       "      <td>0.118864</td>\n",
       "      <td>0.087280</td>\n",
       "      <td>0.052926</td>\n",
       "      <td>-0.064034</td>\n",
       "      <td>0.170297</td>\n",
       "      <td>0.205777</td>\n",
       "      <td>0.397525</td>\n",
       "      <td>0.370479</td>\n",
       "      <td>1.000000</td>\n",
       "      <td>-0.547026</td>\n",
       "      <td>-0.288265</td>\n",
       "      <td>-0.078487</td>\n",
       "      <td>0.332472</td>\n",
       "      <td>0.289185</td>\n",
       "      <td>-0.374291</td>\n",
       "    </tr>\n",
       "    <tr>\n",
       "      <th>bilirubin</th>\n",
       "      <td>-0.351557</td>\n",
       "      <td>0.160752</td>\n",
       "      <td>-0.114092</td>\n",
       "      <td>-0.086126</td>\n",
       "      <td>0.200767</td>\n",
       "      <td>-0.289122</td>\n",
       "      <td>-0.269677</td>\n",
       "      <td>-0.154764</td>\n",
       "      <td>0.139327</td>\n",
       "      <td>-0.149444</td>\n",
       "      <td>-0.124507</td>\n",
       "      <td>-0.318408</td>\n",
       "      <td>-0.319791</td>\n",
       "      <td>-0.547026</td>\n",
       "      <td>1.000000</td>\n",
       "      <td>0.316916</td>\n",
       "      <td>0.315108</td>\n",
       "      <td>-0.343683</td>\n",
       "      <td>-0.362055</td>\n",
       "      <td>0.233525</td>\n",
       "    </tr>\n",
       "    <tr>\n",
       "      <th>alk_phosphate</th>\n",
       "      <td>-0.189360</td>\n",
       "      <td>0.088183</td>\n",
       "      <td>0.064612</td>\n",
       "      <td>-0.028305</td>\n",
       "      <td>0.203513</td>\n",
       "      <td>-0.155995</td>\n",
       "      <td>-0.213404</td>\n",
       "      <td>-0.124711</td>\n",
       "      <td>-0.056615</td>\n",
       "      <td>-0.364257</td>\n",
       "      <td>-0.321956</td>\n",
       "      <td>-0.321093</td>\n",
       "      <td>-0.143084</td>\n",
       "      <td>-0.288265</td>\n",
       "      <td>0.316916</td>\n",
       "      <td>1.000000</td>\n",
       "      <td>0.349342</td>\n",
       "      <td>-0.409635</td>\n",
       "      <td>-0.212012</td>\n",
       "      <td>0.245068</td>\n",
       "    </tr>\n",
       "    <tr>\n",
       "      <th>sgot</th>\n",
       "      <td>0.078731</td>\n",
       "      <td>-0.132269</td>\n",
       "      <td>0.016695</td>\n",
       "      <td>-0.001777</td>\n",
       "      <td>0.141556</td>\n",
       "      <td>-0.199156</td>\n",
       "      <td>-0.144686</td>\n",
       "      <td>-0.071686</td>\n",
       "      <td>0.058730</td>\n",
       "      <td>-0.286035</td>\n",
       "      <td>-0.077250</td>\n",
       "      <td>-0.142276</td>\n",
       "      <td>0.007528</td>\n",
       "      <td>-0.078487</td>\n",
       "      <td>0.315108</td>\n",
       "      <td>0.349342</td>\n",
       "      <td>1.000000</td>\n",
       "      <td>-0.113103</td>\n",
       "      <td>-0.144540</td>\n",
       "      <td>0.097489</td>\n",
       "    </tr>\n",
       "    <tr>\n",
       "      <th>albumin</th>\n",
       "      <td>0.477404</td>\n",
       "      <td>-0.220464</td>\n",
       "      <td>0.032880</td>\n",
       "      <td>0.081408</td>\n",
       "      <td>-0.252072</td>\n",
       "      <td>0.287159</td>\n",
       "      <td>0.275820</td>\n",
       "      <td>-0.065713</td>\n",
       "      <td>-0.149767</td>\n",
       "      <td>0.251874</td>\n",
       "      <td>0.154136</td>\n",
       "      <td>0.268124</td>\n",
       "      <td>0.649490</td>\n",
       "      <td>0.332472</td>\n",
       "      <td>-0.343683</td>\n",
       "      <td>-0.409635</td>\n",
       "      <td>-0.113103</td>\n",
       "      <td>1.000000</td>\n",
       "      <td>0.434659</td>\n",
       "      <td>-0.396554</td>\n",
       "    </tr>\n",
       "    <tr>\n",
       "      <th>protime</th>\n",
       "      <td>0.395386</td>\n",
       "      <td>-0.190169</td>\n",
       "      <td>-0.022822</td>\n",
       "      <td>0.069323</td>\n",
       "      <td>0.007032</td>\n",
       "      <td>0.255138</td>\n",
       "      <td>0.230215</td>\n",
       "      <td>0.036314</td>\n",
       "      <td>-0.089272</td>\n",
       "      <td>0.059646</td>\n",
       "      <td>0.127503</td>\n",
       "      <td>0.334553</td>\n",
       "      <td>0.362612</td>\n",
       "      <td>0.289185</td>\n",
       "      <td>-0.362055</td>\n",
       "      <td>-0.212012</td>\n",
       "      <td>-0.144540</td>\n",
       "      <td>0.434659</td>\n",
       "      <td>1.000000</td>\n",
       "      <td>-0.276935</td>\n",
       "    </tr>\n",
       "    <tr>\n",
       "      <th>histology</th>\n",
       "      <td>-0.456856</td>\n",
       "      <td>0.310650</td>\n",
       "      <td>-0.113365</td>\n",
       "      <td>-0.118220</td>\n",
       "      <td>0.211362</td>\n",
       "      <td>-0.135751</td>\n",
       "      <td>-0.167436</td>\n",
       "      <td>-0.003556</td>\n",
       "      <td>-0.043879</td>\n",
       "      <td>-0.169067</td>\n",
       "      <td>-0.248023</td>\n",
       "      <td>-0.421132</td>\n",
       "      <td>-0.430224</td>\n",
       "      <td>-0.374291</td>\n",
       "      <td>0.233525</td>\n",
       "      <td>0.245068</td>\n",
       "      <td>0.097489</td>\n",
       "      <td>-0.396554</td>\n",
       "      <td>-0.276935</td>\n",
       "      <td>1.000000</td>\n",
       "    </tr>\n",
       "  </tbody>\n",
       "</table>\n",
       "</div>"
      ],
      "text/plain": [
       "                    class       age       sex   steroid  antivirals   fatigue   \n",
       "class            1.000000 -0.212769  0.175876  0.123830   -0.108776  0.181151  \\\n",
       "age             -0.212769  1.000000 -0.046265  0.016022   -0.043308 -0.111171   \n",
       "sex              0.175876 -0.046265  1.000000  0.016354   -0.091777 -0.064686   \n",
       "steroid          0.123830  0.016022  0.016354  1.000000    0.058313  0.068224   \n",
       "antivirals      -0.108776 -0.043308 -0.091777  0.058313    1.000000 -0.038716   \n",
       "fatigue          0.181151 -0.111171 -0.064686  0.068224   -0.038716  1.000000   \n",
       "malaise          0.275595 -0.074306  0.019558  0.168270   -0.008018  0.583660   \n",
       "anorexia        -0.185042  0.243440 -0.035579  0.021031   -0.011934  0.308257   \n",
       "liver_big       -0.194030 -0.034422 -0.020908  0.191683    0.122253  0.039072   \n",
       "liver_firm       0.055978 -0.167090 -0.129018  0.097744    0.058313  0.225663   \n",
       "spleen_palpable  0.135643 -0.134460  0.005812 -0.008016   -0.213811  0.151074   \n",
       "spiders          0.287839 -0.179086 -0.122360 -0.047253   -0.218352  0.325107   \n",
       "ascites          0.479211 -0.121954  0.167729  0.021031   -0.250622  0.308257   \n",
       "varices          0.345785 -0.105793  0.041158 -0.132453   -0.225494  0.118864   \n",
       "bilirubin       -0.351557  0.160752 -0.114092 -0.086126    0.200767 -0.289122   \n",
       "alk_phosphate   -0.189360  0.088183  0.064612 -0.028305    0.203513 -0.155995   \n",
       "sgot             0.078731 -0.132269  0.016695 -0.001777    0.141556 -0.199156   \n",
       "albumin          0.477404 -0.220464  0.032880  0.081408   -0.252072  0.287159   \n",
       "protime          0.395386 -0.190169 -0.022822  0.069323    0.007032  0.255138   \n",
       "histology       -0.456856  0.310650 -0.113365 -0.118220    0.211362 -0.135751   \n",
       "\n",
       "                  malaise  anorexia  liver_big  liver_firm  spleen_palpable   \n",
       "class            0.275595 -0.185042  -0.194030    0.055978         0.135643  \\\n",
       "age             -0.074306  0.243440  -0.034422   -0.167090        -0.134460   \n",
       "sex              0.019558 -0.035579  -0.020908   -0.129018         0.005812   \n",
       "steroid          0.168270  0.021031   0.191683    0.097744        -0.008016   \n",
       "antivirals      -0.008018 -0.011934   0.122253    0.058313        -0.213811   \n",
       "fatigue          0.583660  0.308257   0.039072    0.225663         0.151074   \n",
       "malaise          1.000000  0.528145  -0.002608    0.065510         0.012326   \n",
       "anorexia         0.528145  1.000000   0.194531    0.021031         0.067267   \n",
       "liver_big       -0.002608  0.194531   1.000000    0.463092         0.135643   \n",
       "liver_firm       0.065510  0.021031   0.463092    1.000000         0.184378   \n",
       "spleen_palpable  0.012326  0.067267   0.135643    0.184378         1.000000   \n",
       "spiders          0.294075  0.169932   0.068533    0.222765         0.367058   \n",
       "ascites          0.312576  0.019608  -0.090149    0.021031         0.156957   \n",
       "varices          0.087280  0.052926  -0.064034    0.170297         0.205777   \n",
       "bilirubin       -0.269677 -0.154764   0.139327   -0.149444        -0.124507   \n",
       "alk_phosphate   -0.213404 -0.124711  -0.056615   -0.364257        -0.321956   \n",
       "sgot            -0.144686 -0.071686   0.058730   -0.286035        -0.077250   \n",
       "albumin          0.275820 -0.065713  -0.149767    0.251874         0.154136   \n",
       "protime          0.230215  0.036314  -0.089272    0.059646         0.127503   \n",
       "histology       -0.167436 -0.003556  -0.043879   -0.169067        -0.248023   \n",
       "\n",
       "                  spiders   ascites   varices  bilirubin  alk_phosphate   \n",
       "class            0.287839  0.479211  0.345785  -0.351557      -0.189360  \\\n",
       "age             -0.179086 -0.121954 -0.105793   0.160752       0.088183   \n",
       "sex             -0.122360  0.167729  0.041158  -0.114092       0.064612   \n",
       "steroid         -0.047253  0.021031 -0.132453  -0.086126      -0.028305   \n",
       "antivirals      -0.218352 -0.250622 -0.225494   0.200767       0.203513   \n",
       "fatigue          0.325107  0.308257  0.118864  -0.289122      -0.155995   \n",
       "malaise          0.294075  0.312576  0.087280  -0.269677      -0.213404   \n",
       "anorexia         0.169932  0.019608  0.052926  -0.154764      -0.124711   \n",
       "liver_big        0.068533 -0.090149 -0.064034   0.139327      -0.056615   \n",
       "liver_firm       0.222765  0.021031  0.170297  -0.149444      -0.364257   \n",
       "spleen_palpable  0.367058  0.156957  0.205777  -0.124507      -0.321956   \n",
       "spiders          1.000000  0.245458  0.397525  -0.318408      -0.321093   \n",
       "ascites          0.245458  1.000000  0.370479  -0.319791      -0.143084   \n",
       "varices          0.397525  0.370479  1.000000  -0.547026      -0.288265   \n",
       "bilirubin       -0.318408 -0.319791 -0.547026   1.000000       0.316916   \n",
       "alk_phosphate   -0.321093 -0.143084 -0.288265   0.316916       1.000000   \n",
       "sgot            -0.142276  0.007528 -0.078487   0.315108       0.349342   \n",
       "albumin          0.268124  0.649490  0.332472  -0.343683      -0.409635   \n",
       "protime          0.334553  0.362612  0.289185  -0.362055      -0.212012   \n",
       "histology       -0.421132 -0.430224 -0.374291   0.233525       0.245068   \n",
       "\n",
       "                     sgot   albumin   protime  histology  \n",
       "class            0.078731  0.477404  0.395386  -0.456856  \n",
       "age             -0.132269 -0.220464 -0.190169   0.310650  \n",
       "sex              0.016695  0.032880 -0.022822  -0.113365  \n",
       "steroid         -0.001777  0.081408  0.069323  -0.118220  \n",
       "antivirals       0.141556 -0.252072  0.007032   0.211362  \n",
       "fatigue         -0.199156  0.287159  0.255138  -0.135751  \n",
       "malaise         -0.144686  0.275820  0.230215  -0.167436  \n",
       "anorexia        -0.071686 -0.065713  0.036314  -0.003556  \n",
       "liver_big        0.058730 -0.149767 -0.089272  -0.043879  \n",
       "liver_firm      -0.286035  0.251874  0.059646  -0.169067  \n",
       "spleen_palpable -0.077250  0.154136  0.127503  -0.248023  \n",
       "spiders         -0.142276  0.268124  0.334553  -0.421132  \n",
       "ascites          0.007528  0.649490  0.362612  -0.430224  \n",
       "varices         -0.078487  0.332472  0.289185  -0.374291  \n",
       "bilirubin        0.315108 -0.343683 -0.362055   0.233525  \n",
       "alk_phosphate    0.349342 -0.409635 -0.212012   0.245068  \n",
       "sgot             1.000000 -0.113103 -0.144540   0.097489  \n",
       "albumin         -0.113103  1.000000  0.434659  -0.396554  \n",
       "protime         -0.144540  0.434659  1.000000  -0.276935  \n",
       "histology        0.097489 -0.396554 -0.276935   1.000000  "
      ]
     },
     "execution_count": 42,
     "metadata": {},
     "output_type": "execute_result"
    }
   ],
   "source": [
    "# Matriz de correlación\n",
    "datos_pearson = datos.corr(method='pearson')\n",
    "datos_pearson"
   ]
  },
  {
   "cell_type": "markdown",
   "metadata": {},
   "source": [
    "### Genere una gráfica de calor de la matriz de correlación de Pearson"
   ]
  },
  {
   "cell_type": "code",
   "execution_count": 43,
   "metadata": {
    "id": "2ra1A0eN99KW"
   },
   "outputs": [
    {
     "data": {
      "text/plain": [
       "<Axes: >"
      ]
     },
     "execution_count": 43,
     "metadata": {},
     "output_type": "execute_result"
    },
    {
     "data": {
      "image/png": "[encoded data removed]",
      "text/plain": [
       "<Figure size 1000x800 with 2 Axes>"
      ]
     },
     "metadata": {},
     "output_type": "display_data"
    }
   ],
   "source": [
    "# gráfico de calor (heatmap) para la correlación de atributos\n",
    "fig, ax = plt.subplots(nrows=1, ncols=1, figsize=(10,8))\n",
    "sns.heatmap(datos_pearson, ax=ax)"
   ]
  },
  {
   "cell_type": "code",
   "execution_count": 44,
   "metadata": {
    "id": "0uWKKpdq99M8"
   },
   "outputs": [
    {
     "data": {
      "text/plain": [
       "<Axes: >"
      ]
     },
     "execution_count": 44,
     "metadata": {},
     "output_type": "execute_result"
    },
    {
     "data": {
      "image/png": "[encoded data removed]",
      "text/plain": [
       "<Figure size 2000x1000 with 2 Axes>"
      ]
     },
     "metadata": {},
     "output_type": "display_data"
    }
   ],
   "source": [
    "# un mapa de calor más refinado\n",
    "corr_pearson = datos.corr()\n",
    "mask = np.array(corr_pearson)\n",
    "mask[np.tril_indices_from(mask)] = False\n",
    "fig,ax= plt.subplots()\n",
    "fig.set_size_inches(20,10)\n",
    "sns.heatmap(corr_pearson, mask=mask,vmax=.8, square=True,annot=True)"
   ]
  },
  {
   "cell_type": "markdown",
   "metadata": {
    "id": "6UgUeZfP99Pj"
   },
   "source": [
    "### Identifique 3 atributos que mejor correlación tengan con la atributo objetivo"
   ]
  },
  {
   "cell_type": "markdown",
   "metadata": {
    "id": "it4vOKke99aO"
   },
   "source": [
    "Edad, bilirrubina y fosfato alca"
   ]
  },
  {
   "cell_type": "markdown",
   "metadata": {},
   "source": [
    "### Identifique 3 atributos que tengan la peor correlación con el atributo objetivo"
   ]
  },
  {
   "cell_type": "markdown",
   "metadata": {},
   "source": [
    "Anorexia, higado grande y sgot"
   ]
  }
 ],
 "metadata": {
  "colab": {
   "provenance": []
  },
  "kernelspec": {
   "display_name": "Python 3 (ipykernel)",
   "language": "python",
   "name": "python3"
  },
  "language_info": {
   "codemirror_mode": {
    "name": "ipython",
    "version": 3
   },
   "file_extension": ".py",
   "mimetype": "text/x-python",
   "name": "python",
   "nbconvert_exporter": "python",
   "pygments_lexer": "ipython3",
   "version": "3.10.11"
  }
 },
 "nbformat": 4,
 "nbformat_minor": 1
}

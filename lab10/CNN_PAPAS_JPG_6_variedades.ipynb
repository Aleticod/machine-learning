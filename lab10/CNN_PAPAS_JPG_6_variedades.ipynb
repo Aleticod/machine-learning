{
  "cells": [
    {
      "cell_type": "markdown",
      "metadata": {
        "id": "f4Kex9qrFpNK"
      },
      "source": [
        "# **CNN**\n",
        "```\n",
        "Versión   : 1.1, Para uso educativo\n",
        "Autor     : Luis Beltran Palma Ttito\n",
        "Lugar     : Cusco, Perú, 2022.\n",
        "Proposito : Entrenamiento de CNN\n",
        "Problema  : Clasificación de papa nativa\n",
        "```\n",
        "Adaptación del ejemplo de AMP Tech: [Link](https://www.youtube.com/watch?v=EAqb20_4Rdg&t=171s)\n"
      ]
    },
    {
      "cell_type": "markdown",
      "source": [
        "## **Montar google drive**"
      ],
      "metadata": {
        "id": "_RGvdIIgHZyL"
      }
    },
    {
      "cell_type": "code",
      "execution_count": 1,
      "metadata": {
        "colab": {
          "base_uri": "https://localhost:8080/"
        },
        "id": "HvywBDoxxPFU",
        "outputId": "04b45a21-4425-4928-9b5e-3df2ff9d9f3e"
      },
      "outputs": [
        {
          "output_type": "stream",
          "name": "stdout",
          "text": [
            "Mounted at /disco\n"
          ]
        }
      ],
      "source": [
        "from google.colab import drive\n",
        "drive.mount('/disco', force_remount=True)"
      ]
    },
    {
      "cell_type": "markdown",
      "metadata": {
        "id": "8Wv4kDDtF7WP"
      },
      "source": [
        "## **Importación de librerias**"
      ]
    },
    {
      "cell_type": "code",
      "execution_count": 2,
      "metadata": {
        "id": "EsRVFBJuxcgw"
      },
      "outputs": [],
      "source": [
        "import sys\n",
        "import os\n",
        "# Generar imagenes por rotación, escalado, brillo, otros\n",
        "from keras.preprocessing.image import ImageDataGenerator\n",
        "# Optimiza\n",
        "from keras import optimizers\n",
        "# Permite definir el objeto red convolucional\n",
        "from keras.models import Sequential\n",
        "# Dense: Crear una capa densa de neuronas\n",
        "# Activation: Función de activación\n",
        "# Flatten: Capa para vectorizar (aplanar)\n",
        "from keras.layers import Dense, Activation, Flatten\n",
        "# Convolution2D: Crea un capa de convolución 2D (1D, 3D)\n",
        "# MaxPoling2D: Reducción en 2D (1D, 3D)\n",
        "from keras.layers import Convolution2D, MaxPooling2D\n",
        "# backend: se utiliza para liberar memoria\n",
        "from keras import backend as K"
      ]
    },
    {
      "cell_type": "markdown",
      "metadata": {
        "id": "H0l2wm4-GAlq"
      },
      "source": [
        "## **Limpiar memoria de sesion**"
      ]
    },
    {
      "cell_type": "code",
      "execution_count": 3,
      "metadata": {
        "id": "unX-V5mSx5n3"
      },
      "outputs": [],
      "source": [
        "K.clear_session()"
      ]
    },
    {
      "cell_type": "markdown",
      "metadata": {
        "id": "WHTbyGwWGDw2"
      },
      "source": [
        "## **Proporcionar ruta de datos de entrenamiento y validación en el drive**"
      ]
    },
    {
      "cell_type": "code",
      "execution_count": 7,
      "metadata": {
        "id": "dgDmli0ux9Dc"
      },
      "outputs": [],
      "source": [
        "data_entrenamiento = '/disco/My Drive/papa_nativa/train'\n",
        "data_test = '/disco/My Drive/papa_nativa/test/'"
      ]
    },
    {
      "cell_type": "markdown",
      "metadata": {
        "id": "ak3I8iymHn2r"
      },
      "source": [
        "## **Pre Procesado**"
      ]
    },
    {
      "cell_type": "code",
      "execution_count": 8,
      "metadata": {
        "id": "gzjM4orsygL8",
        "colab": {
          "base_uri": "https://localhost:8080/"
        },
        "outputId": "26accea2-6db1-499a-c293-f10711c2ff9e"
      },
      "outputs": [
        {
          "output_type": "stream",
          "name": "stdout",
          "text": [
            "Found 420 images belonging to 6 classes.\n",
            "Found 180 images belonging to 6 classes.\n"
          ]
        }
      ],
      "source": [
        "entrenamiento_datagen = ImageDataGenerator(\n",
        "    rescale=1./255,         # Reescalamiento: Nomalizacion de datos\n",
        "    shear_range=0.3,        # Inicializacion de imagen\n",
        "    zoom_range=0.3,         # Zoom (acercamiento de imagen)\n",
        "    horizontal_flip=True    # Invierte la imagen\n",
        ")\n",
        "\n",
        "validacion_datagen = ImageDataGenerator(\n",
        "    rescale=1./255      # Reescalamiento: Normalizacion de datos, no es necesario otras operaciones\n",
        ")\n",
        "\n",
        "imagen_entrenamiento = entrenamiento_datagen.flow_from_directory(\n",
        "    data_entrenamiento,     # Accede a la carpeta de entrenamiento\n",
        "    target_size=(690, 460), # Redefine el tamaño a 690 x 460\n",
        "    batch_size=32,          # El tamaño de lote es de 32, es decir que trabaja en bloques de 32\n",
        "    class_mode='categorical'# La clasificacion es categorica\n",
        ")\n",
        "\n",
        "imagen_validacion = validacion_datagen.flow_from_directory(\n",
        "    data_test,\n",
        "    target_size=(690, 460),\n",
        "    batch_size=32,\n",
        "    class_mode='categorical'\n",
        ")"
      ]
    },
    {
      "cell_type": "markdown",
      "metadata": {
        "id": "vvW7xScgHs2g"
      },
      "source": [
        "## **Diseño de modelo CNN**"
      ]
    },
    {
      "cell_type": "code",
      "execution_count": 9,
      "metadata": {
        "id": "QxroStj9zWIH"
      },
      "outputs": [],
      "source": [
        "# Creacion de objeto CNN como un modelo secuencial\n",
        "cnn = Sequential()\n",
        "# Capa 1: Convolucion de 32 filtros de 3x3, funcion de activacion RELU\n",
        "# Imagenes de entrada 690 x 460 de 3 canales (3 colores RGB)\n",
        "# RELU: Relu(x) = max(0, x)\n",
        "cnn.add(Convolution2D(32, (3,3), padding='same', input_shape=(690, 460, 3), activation='relu'))\n",
        "\n",
        "# Capa 2: MaxPoling 2x2\n",
        "cnn.add(MaxPooling2D(pool_size=(2,2)))\n",
        "\n",
        "# Capa 3: Convolucion de 64 filtros de 2x2, funcion de activacion RELU\n",
        "cnn.add(Convolution2D(64, (2,2), padding='same', activation='relu'))\n",
        "\n",
        "# Capa 4: MaxPoling 2x2\n",
        "cnn.add(MaxPooling2D(pool_size=(2,2)))\n",
        "\n",
        "# Capa 5: Convolucion de 128 filtros de 3x3, funcion de activacion RELU\n",
        "cnn.add(Convolution2D(128, (3,3), padding='same', activation='relu'))\n",
        "\n",
        "# Capa 6: MaxPoling 2x2\n",
        "cnn.add(MaxPooling2D(pool_size=(2,2)))\n",
        "\n",
        "# Capa 7: Aplanado de datos\n",
        "cnn.add(Flatten())\n",
        "\n",
        "# Capa 8: Red densa de 512 neuronas, funcion de activacion RELU\n",
        "cnn.add(Dense(512, activation='relu'))\n",
        "\n",
        "# Capa 9: Red densa de 256 neuronas, funcion de activacion RELU\n",
        "cnn.add(Dense(256, activation='relu'))\n",
        "\n",
        "# Capa 10: Red densa de 64 neuronas, funcion de activacion RELU\n",
        "cnn.add(Dense(64, activation='relu'))\n",
        "\n",
        "# 6 variedades de papa nativa\n",
        "cnn.add(Dense(6, activation='softmax'))"
      ]
    },
    {
      "cell_type": "code",
      "execution_count": 10,
      "metadata": {
        "id": "MCvBfHVBw1sd",
        "colab": {
          "base_uri": "https://localhost:8080/"
        },
        "outputId": "e9506fb0-002d-49b7-fc95-0f9ca51b3de1"
      },
      "outputs": [
        {
          "output_type": "stream",
          "name": "stdout",
          "text": [
            "Model: \"sequential\"\n",
            "_________________________________________________________________\n",
            " Layer (type)                Output Shape              Param #   \n",
            "=================================================================\n",
            " conv2d (Conv2D)             (None, 690, 460, 32)      896       \n",
            "                                                                 \n",
            " max_pooling2d (MaxPooling2D  (None, 345, 230, 32)     0         \n",
            " )                                                               \n",
            "                                                                 \n",
            " conv2d_1 (Conv2D)           (None, 345, 230, 64)      8256      \n",
            "                                                                 \n",
            " max_pooling2d_1 (MaxPooling  (None, 172, 115, 64)     0         \n",
            " 2D)                                                             \n",
            "                                                                 \n",
            " conv2d_2 (Conv2D)           (None, 172, 115, 128)     73856     \n",
            "                                                                 \n",
            " max_pooling2d_2 (MaxPooling  (None, 86, 57, 128)      0         \n",
            " 2D)                                                             \n",
            "                                                                 \n",
            " flatten (Flatten)           (None, 627456)            0         \n",
            "                                                                 \n",
            " dense (Dense)               (None, 512)               321257984 \n",
            "                                                                 \n",
            " dense_1 (Dense)             (None, 256)               131328    \n",
            "                                                                 \n",
            " dense_2 (Dense)             (None, 64)                16448     \n",
            "                                                                 \n",
            " dense_3 (Dense)             (None, 6)                 390       \n",
            "                                                                 \n",
            "=================================================================\n",
            "Total params: 321,489,158\n",
            "Trainable params: 321,489,158\n",
            "Non-trainable params: 0\n",
            "_________________________________________________________________\n"
          ]
        }
      ],
      "source": [
        "cnn.summary()"
      ]
    },
    {
      "cell_type": "markdown",
      "metadata": {
        "id": "vF6pjCUwHvuw"
      },
      "source": [
        "## **Compilación del modelo**"
      ]
    },
    {
      "cell_type": "code",
      "execution_count": 11,
      "metadata": {
        "id": "LrE0bJhCz2Uk"
      },
      "outputs": [],
      "source": [
        "cnn.compile(optimizer='adam', loss='categorical_crossentropy', metrics=['accuracy'])"
      ]
    },
    {
      "cell_type": "markdown",
      "metadata": {
        "id": "idfvZqiHHyfT"
      },
      "source": [
        "## **Entrenamiento del modelo**"
      ]
    },
    {
      "cell_type": "code",
      "execution_count": 12,
      "metadata": {
        "id": "o5Xlo9cw0w_8",
        "colab": {
          "base_uri": "https://localhost:8080/"
        },
        "outputId": "c83b908d-7d0a-4a2b-99eb-db526fbfc6e1"
      },
      "outputs": [
        {
          "output_type": "stream",
          "name": "stdout",
          "text": [
            "Epoch 1/200\n",
            "7/7 [==============================] - ETA: 0s - loss: 10.5925 - accuracy: 0.2054 "
          ]
        },
        {
          "output_type": "stream",
          "name": "stderr",
          "text": [
            "WARNING:tensorflow:Your input ran out of data; interrupting training. Make sure that your dataset or generator can generate at least `steps_per_epoch * epochs` batches (in this case, 20 batches). You may need to use the repeat() function when building your dataset.\n"
          ]
        },
        {
          "output_type": "stream",
          "name": "stdout",
          "text": [
            "\b\b\b\b\b\b\b\b\b\b\b\b\b\b\b\b\b\b\b\b\b\b\b\b\b\b\b\b\b\b\b\b\b\b\b\b\b\b\b\b\b\b\b\b\b\b\b\b\b\b\b\b\b\b\b\b\b\b\b\b\b\b\b\b\b\b\b\b\b\b\b\b\b\b\b\b\b\b\b\b\b\r7/7 [==============================] - 362s 53s/step - loss: 10.5925 - accuracy: 0.2054 - val_loss: 1.8625 - val_accuracy: 0.1722\n",
            "Epoch 2/200\n",
            "7/7 [==============================] - 67s 10s/step - loss: 1.7985 - accuracy: 0.1939\n",
            "Epoch 3/200\n",
            "7/7 [==============================] - 33s 5s/step - loss: 1.6452 - accuracy: 0.3527\n",
            "Epoch 4/200\n",
            "7/7 [==============================] - 29s 4s/step - loss: 1.1344 - accuracy: 0.6027\n",
            "Epoch 5/200\n",
            "7/7 [==============================] - 21s 3s/step - loss: 0.8010 - accuracy: 0.6875\n",
            "Epoch 6/200\n",
            "7/7 [==============================] - 16s 2s/step - loss: 0.6047 - accuracy: 0.7449\n",
            "Epoch 7/200\n",
            "7/7 [==============================] - 18s 2s/step - loss: 0.4706 - accuracy: 0.8304\n",
            "Epoch 8/200\n",
            "7/7 [==============================] - 17s 2s/step - loss: 0.6159 - accuracy: 0.7857\n",
            "Epoch 9/200\n",
            "7/7 [==============================] - 15s 2s/step - loss: 0.4634 - accuracy: 0.8061\n",
            "Epoch 10/200\n",
            "7/7 [==============================] - 15s 2s/step - loss: 0.5698 - accuracy: 0.7704\n",
            "Epoch 11/200\n",
            "7/7 [==============================] - 15s 2s/step - loss: 0.5786 - accuracy: 0.7806\n",
            "Epoch 12/200\n",
            "7/7 [==============================] - 17s 2s/step - loss: 0.3426 - accuracy: 0.8795\n",
            "Epoch 13/200\n",
            "7/7 [==============================] - 17s 2s/step - loss: 0.2683 - accuracy: 0.9062\n",
            "Epoch 14/200\n",
            "7/7 [==============================] - 15s 2s/step - loss: 0.1854 - accuracy: 0.9439\n",
            "Epoch 15/200\n",
            "7/7 [==============================] - 17s 2s/step - loss: 0.3153 - accuracy: 0.8884\n",
            "Epoch 16/200\n",
            "7/7 [==============================] - 15s 2s/step - loss: 0.2189 - accuracy: 0.9388\n",
            "Epoch 17/200\n",
            "7/7 [==============================] - 17s 2s/step - loss: 0.1305 - accuracy: 0.9509\n",
            "Epoch 18/200\n",
            "7/7 [==============================] - 18s 3s/step - loss: 0.1659 - accuracy: 0.9375\n",
            "Epoch 19/200\n",
            "7/7 [==============================] - 17s 2s/step - loss: 0.1714 - accuracy: 0.9598\n",
            "Epoch 20/200\n",
            "7/7 [==============================] - 17s 2s/step - loss: 0.1188 - accuracy: 0.9598\n",
            "Epoch 21/200\n",
            "7/7 [==============================] - 18s 2s/step - loss: 0.1385 - accuracy: 0.9509\n",
            "Epoch 22/200\n",
            "7/7 [==============================] - 15s 2s/step - loss: 0.0847 - accuracy: 0.9745\n",
            "Epoch 23/200\n",
            "7/7 [==============================] - 15s 2s/step - loss: 0.0813 - accuracy: 0.9745\n",
            "Epoch 24/200\n",
            "7/7 [==============================] - 18s 3s/step - loss: 0.1284 - accuracy: 0.9464\n",
            "Epoch 25/200\n",
            "7/7 [==============================] - 15s 2s/step - loss: 0.1615 - accuracy: 0.9337\n",
            "Epoch 26/200\n",
            "7/7 [==============================] - 15s 2s/step - loss: 0.1657 - accuracy: 0.9439\n",
            "Epoch 27/200\n",
            "7/7 [==============================] - 18s 3s/step - loss: 0.1449 - accuracy: 0.9464\n",
            "Epoch 28/200\n",
            "7/7 [==============================] - 17s 2s/step - loss: 0.1798 - accuracy: 0.9330\n",
            "Epoch 29/200\n",
            "7/7 [==============================] - 15s 2s/step - loss: 0.1815 - accuracy: 0.9388\n",
            "Epoch 30/200\n",
            "7/7 [==============================] - 17s 2s/step - loss: 0.2136 - accuracy: 0.9241\n",
            "Epoch 31/200\n",
            "7/7 [==============================] - 15s 2s/step - loss: 0.2030 - accuracy: 0.9184\n",
            "Epoch 32/200\n",
            "7/7 [==============================] - 18s 2s/step - loss: 0.1385 - accuracy: 0.9464\n",
            "Epoch 33/200\n",
            "7/7 [==============================] - 15s 2s/step - loss: 0.0308 - accuracy: 0.9898\n",
            "Epoch 34/200\n",
            "7/7 [==============================] - 17s 2s/step - loss: 0.0626 - accuracy: 0.9821\n",
            "Epoch 35/200\n",
            "7/7 [==============================] - 15s 2s/step - loss: 0.0522 - accuracy: 0.9847\n",
            "Epoch 36/200\n",
            "7/7 [==============================] - 17s 2s/step - loss: 0.0246 - accuracy: 0.9911\n",
            "Epoch 37/200\n",
            "7/7 [==============================] - 17s 2s/step - loss: 0.0546 - accuracy: 0.9866\n",
            "Epoch 38/200\n",
            "7/7 [==============================] - 15s 2s/step - loss: 0.0524 - accuracy: 0.9847\n",
            "Epoch 39/200\n",
            "7/7 [==============================] - 15s 2s/step - loss: 0.0613 - accuracy: 0.9796\n",
            "Epoch 40/200\n",
            "7/7 [==============================] - 17s 2s/step - loss: 0.0654 - accuracy: 0.9777\n",
            "Epoch 41/200\n",
            "7/7 [==============================] - 15s 2s/step - loss: 0.0618 - accuracy: 0.9796\n",
            "Epoch 42/200\n",
            "7/7 [==============================] - 15s 2s/step - loss: 0.0282 - accuracy: 0.9949\n",
            "Epoch 43/200\n",
            "7/7 [==============================] - 15s 2s/step - loss: 0.0158 - accuracy: 1.0000\n",
            "Epoch 44/200\n",
            "7/7 [==============================] - 18s 2s/step - loss: 0.0112 - accuracy: 0.9955\n",
            "Epoch 45/200\n",
            "7/7 [==============================] - 15s 2s/step - loss: 0.0148 - accuracy: 0.9949\n",
            "Epoch 46/200\n",
            "7/7 [==============================] - 18s 2s/step - loss: 0.0671 - accuracy: 0.9821\n",
            "Epoch 47/200\n",
            "7/7 [==============================] - 15s 2s/step - loss: 0.0819 - accuracy: 0.9796\n",
            "Epoch 48/200\n",
            "7/7 [==============================] - 15s 2s/step - loss: 0.1514 - accuracy: 0.9388\n",
            "Epoch 49/200\n",
            "7/7 [==============================] - 17s 2s/step - loss: 0.0954 - accuracy: 0.9643\n",
            "Epoch 50/200\n",
            "7/7 [==============================] - 17s 2s/step - loss: 0.0907 - accuracy: 0.9777\n",
            "Epoch 51/200\n",
            "7/7 [==============================] - 17s 2s/step - loss: 0.0841 - accuracy: 0.9643\n",
            "Epoch 52/200\n",
            "7/7 [==============================] - 17s 2s/step - loss: 0.1104 - accuracy: 0.9554\n",
            "Epoch 53/200\n",
            "7/7 [==============================] - 18s 2s/step - loss: 0.0465 - accuracy: 0.9777\n",
            "Epoch 54/200\n",
            "7/7 [==============================] - 17s 2s/step - loss: 0.0512 - accuracy: 0.9777\n",
            "Epoch 55/200\n",
            "7/7 [==============================] - 16s 3s/step - loss: 0.1187 - accuracy: 0.9745\n",
            "Epoch 56/200\n",
            "7/7 [==============================] - 17s 2s/step - loss: 0.2838 - accuracy: 0.9152\n",
            "Epoch 57/200\n",
            "7/7 [==============================] - 15s 2s/step - loss: 0.1585 - accuracy: 0.9592\n",
            "Epoch 58/200\n",
            "7/7 [==============================] - 17s 2s/step - loss: 0.0474 - accuracy: 0.9866\n",
            "Epoch 59/200\n",
            "7/7 [==============================] - 17s 2s/step - loss: 0.0555 - accuracy: 0.9777\n",
            "Epoch 60/200\n",
            "7/7 [==============================] - 15s 2s/step - loss: 0.0345 - accuracy: 0.9949\n",
            "Epoch 61/200\n",
            "7/7 [==============================] - 17s 2s/step - loss: 0.0373 - accuracy: 0.9911\n",
            "Epoch 62/200\n",
            "7/7 [==============================] - 15s 2s/step - loss: 0.0625 - accuracy: 0.9745\n",
            "Epoch 63/200\n",
            "7/7 [==============================] - 15s 2s/step - loss: 0.0321 - accuracy: 0.9898\n",
            "Epoch 64/200\n",
            "7/7 [==============================] - 15s 2s/step - loss: 0.0181 - accuracy: 0.9949\n",
            "Epoch 65/200\n",
            "7/7 [==============================] - 15s 2s/step - loss: 0.1911 - accuracy: 0.9439\n",
            "Epoch 66/200\n",
            "7/7 [==============================] - 15s 2s/step - loss: 0.1492 - accuracy: 0.9541\n",
            "Epoch 67/200\n",
            "7/7 [==============================] - 18s 2s/step - loss: 0.2432 - accuracy: 0.9375\n",
            "Epoch 68/200\n",
            "7/7 [==============================] - 15s 2s/step - loss: 0.0920 - accuracy: 0.9745\n",
            "Epoch 69/200\n",
            "7/7 [==============================] - 15s 2s/step - loss: 0.0982 - accuracy: 0.9643\n",
            "Epoch 70/200\n",
            "7/7 [==============================] - 15s 2s/step - loss: 0.0845 - accuracy: 0.9745\n",
            "Epoch 71/200\n",
            "7/7 [==============================] - 17s 2s/step - loss: 0.1508 - accuracy: 0.9509\n",
            "Epoch 72/200\n",
            "7/7 [==============================] - 15s 2s/step - loss: 0.1924 - accuracy: 0.9235\n",
            "Epoch 73/200\n",
            "7/7 [==============================] - 17s 2s/step - loss: 0.0917 - accuracy: 0.9732\n",
            "Epoch 74/200\n",
            "7/7 [==============================] - 15s 2s/step - loss: 0.0661 - accuracy: 0.9745\n",
            "Epoch 75/200\n",
            "7/7 [==============================] - 15s 2s/step - loss: 0.1169 - accuracy: 0.9643\n",
            "Epoch 76/200\n",
            "7/7 [==============================] - 17s 2s/step - loss: 0.0491 - accuracy: 0.9777\n",
            "Epoch 77/200\n",
            "7/7 [==============================] - 15s 2s/step - loss: 0.0340 - accuracy: 0.9847\n",
            "Epoch 78/200\n",
            "7/7 [==============================] - 15s 2s/step - loss: 0.0360 - accuracy: 0.9847\n",
            "Epoch 79/200\n",
            "7/7 [==============================] - 18s 2s/step - loss: 0.0513 - accuracy: 0.9821\n",
            "Epoch 80/200\n",
            "7/7 [==============================] - 15s 2s/step - loss: 0.0349 - accuracy: 0.9847\n",
            "Epoch 81/200\n",
            "7/7 [==============================] - 18s 2s/step - loss: 0.0295 - accuracy: 0.9911\n",
            "Epoch 82/200\n",
            "7/7 [==============================] - 15s 2s/step - loss: 0.0570 - accuracy: 0.9847\n",
            "Epoch 83/200\n",
            "7/7 [==============================] - 17s 2s/step - loss: 0.0271 - accuracy: 0.9955\n",
            "Epoch 84/200\n",
            "7/7 [==============================] - 15s 2s/step - loss: 0.0117 - accuracy: 1.0000\n",
            "Epoch 85/200\n",
            "7/7 [==============================] - 17s 2s/step - loss: 0.0264 - accuracy: 0.9911\n",
            "Epoch 86/200\n",
            "7/7 [==============================] - 15s 2s/step - loss: 0.0357 - accuracy: 0.9898\n",
            "Epoch 87/200\n",
            "7/7 [==============================] - 15s 2s/step - loss: 0.0124 - accuracy: 0.9949\n",
            "Epoch 88/200\n",
            "7/7 [==============================] - 15s 2s/step - loss: 0.0102 - accuracy: 0.9949\n",
            "Epoch 89/200\n",
            "7/7 [==============================] - 15s 2s/step - loss: 0.0541 - accuracy: 0.9847\n",
            "Epoch 90/200\n",
            "7/7 [==============================] - 17s 2s/step - loss: 0.0514 - accuracy: 0.9911\n",
            "Epoch 91/200\n",
            "7/7 [==============================] - 17s 2s/step - loss: 0.0566 - accuracy: 0.9821\n",
            "Epoch 92/200\n",
            "7/7 [==============================] - 17s 2s/step - loss: 0.0373 - accuracy: 0.9955\n",
            "Epoch 93/200\n",
            "7/7 [==============================] - 15s 2s/step - loss: 0.0600 - accuracy: 0.9694\n",
            "Epoch 94/200\n",
            "7/7 [==============================] - 15s 2s/step - loss: 0.1188 - accuracy: 0.9694\n",
            "Epoch 95/200\n",
            "7/7 [==============================] - 17s 2s/step - loss: 0.0648 - accuracy: 0.9866\n",
            "Epoch 96/200\n",
            "7/7 [==============================] - 15s 2s/step - loss: 0.0232 - accuracy: 1.0000\n",
            "Epoch 97/200\n",
            "7/7 [==============================] - 17s 2s/step - loss: 0.0239 - accuracy: 0.9866\n",
            "Epoch 98/200\n",
            "7/7 [==============================] - 18s 2s/step - loss: 0.0213 - accuracy: 0.9955\n",
            "Epoch 99/200\n",
            "7/7 [==============================] - 17s 2s/step - loss: 0.0190 - accuracy: 0.9911\n",
            "Epoch 100/200\n",
            "7/7 [==============================] - 15s 2s/step - loss: 0.0284 - accuracy: 0.9847\n",
            "Epoch 101/200\n",
            "7/7 [==============================] - 15s 2s/step - loss: 0.0165 - accuracy: 0.9949\n",
            "Epoch 102/200\n",
            "7/7 [==============================] - 15s 2s/step - loss: 0.0239 - accuracy: 0.9847\n",
            "Epoch 103/200\n",
            "7/7 [==============================] - 15s 2s/step - loss: 0.5812 - accuracy: 0.8673\n",
            "Epoch 104/200\n",
            "7/7 [==============================] - 15s 2s/step - loss: 0.3459 - accuracy: 0.8827\n",
            "Epoch 105/200\n",
            "7/7 [==============================] - 18s 2s/step - loss: 0.2389 - accuracy: 0.9196\n",
            "Epoch 106/200\n",
            "7/7 [==============================] - 15s 2s/step - loss: 0.1133 - accuracy: 0.9745\n",
            "Epoch 107/200\n",
            "7/7 [==============================] - 17s 2s/step - loss: 0.0931 - accuracy: 0.9554\n",
            "Epoch 108/200\n",
            "7/7 [==============================] - 17s 2s/step - loss: 0.1581 - accuracy: 0.9375\n",
            "Epoch 109/200\n",
            "7/7 [==============================] - 15s 2s/step - loss: 0.3480 - accuracy: 0.9337\n",
            "Epoch 110/200\n",
            "7/7 [==============================] - 15s 2s/step - loss: 0.3927 - accuracy: 0.9031\n",
            "Epoch 111/200\n",
            "7/7 [==============================] - 15s 2s/step - loss: 0.1846 - accuracy: 0.9388\n",
            "Epoch 112/200\n",
            "7/7 [==============================] - 17s 2s/step - loss: 0.1500 - accuracy: 0.9509\n",
            "Epoch 113/200\n",
            "7/7 [==============================] - 15s 2s/step - loss: 0.0641 - accuracy: 0.9796\n",
            "Epoch 114/200\n",
            "7/7 [==============================] - 17s 2s/step - loss: 0.0261 - accuracy: 0.9866\n",
            "Epoch 115/200\n",
            "7/7 [==============================] - 15s 2s/step - loss: 0.0203 - accuracy: 0.9898\n",
            "Epoch 116/200\n",
            "7/7 [==============================] - 15s 2s/step - loss: 0.0574 - accuracy: 0.9847\n",
            "Epoch 117/200\n",
            "7/7 [==============================] - 17s 2s/step - loss: 0.0730 - accuracy: 0.9821\n",
            "Epoch 118/200\n",
            "7/7 [==============================] - 15s 2s/step - loss: 0.0404 - accuracy: 0.9745\n",
            "Epoch 119/200\n",
            "7/7 [==============================] - 15s 2s/step - loss: 0.0121 - accuracy: 0.9949\n",
            "Epoch 120/200\n",
            "7/7 [==============================] - 15s 2s/step - loss: 0.0075 - accuracy: 1.0000\n",
            "Epoch 121/200\n",
            "7/7 [==============================] - 17s 2s/step - loss: 0.0057 - accuracy: 1.0000\n",
            "Epoch 122/200\n",
            "7/7 [==============================] - 17s 2s/step - loss: 0.0298 - accuracy: 0.9911\n",
            "Epoch 123/200\n",
            "7/7 [==============================] - 15s 2s/step - loss: 0.0106 - accuracy: 0.9949\n",
            "Epoch 124/200\n",
            "7/7 [==============================] - 17s 2s/step - loss: 0.0110 - accuracy: 1.0000\n",
            "Epoch 125/200\n",
            "7/7 [==============================] - 19s 2s/step - loss: 0.0109 - accuracy: 0.9955\n",
            "Epoch 126/200\n",
            "7/7 [==============================] - 15s 2s/step - loss: 0.0075 - accuracy: 0.9949\n",
            "Epoch 127/200\n",
            "7/7 [==============================] - 15s 2s/step - loss: 0.0039 - accuracy: 1.0000\n",
            "Epoch 128/200\n",
            "7/7 [==============================] - 17s 2s/step - loss: 0.0046 - accuracy: 1.0000\n",
            "Epoch 129/200\n",
            "7/7 [==============================] - 15s 2s/step - loss: 0.0050 - accuracy: 1.0000\n",
            "Epoch 130/200\n",
            "7/7 [==============================] - 16s 2s/step - loss: 6.4379e-04 - accuracy: 1.0000\n",
            "Epoch 131/200\n",
            "7/7 [==============================] - 17s 2s/step - loss: 9.3715e-04 - accuracy: 1.0000\n",
            "Epoch 132/200\n",
            "7/7 [==============================] - 18s 2s/step - loss: 6.1712e-04 - accuracy: 1.0000\n",
            "Epoch 133/200\n",
            "7/7 [==============================] - 17s 2s/step - loss: 8.2339e-04 - accuracy: 1.0000\n",
            "Epoch 134/200\n",
            "7/7 [==============================] - 15s 2s/step - loss: 5.4814e-04 - accuracy: 1.0000\n",
            "Epoch 135/200\n",
            "7/7 [==============================] - 17s 2s/step - loss: 1.7378e-04 - accuracy: 1.0000\n",
            "Epoch 136/200\n",
            "7/7 [==============================] - 17s 2s/step - loss: 0.0022 - accuracy: 1.0000\n",
            "Epoch 137/200\n",
            "7/7 [==============================] - 17s 2s/step - loss: 1.8211e-04 - accuracy: 1.0000\n",
            "Epoch 138/200\n",
            "7/7 [==============================] - 17s 2s/step - loss: 0.0011 - accuracy: 1.0000\n",
            "Epoch 139/200\n",
            "7/7 [==============================] - 17s 2s/step - loss: 0.0017 - accuracy: 1.0000\n",
            "Epoch 140/200\n",
            "7/7 [==============================] - 15s 2s/step - loss: 0.0206 - accuracy: 0.9949\n",
            "Epoch 141/200\n",
            "7/7 [==============================] - 15s 2s/step - loss: 0.0734 - accuracy: 0.9796\n",
            "Epoch 142/200\n",
            "7/7 [==============================] - 17s 2s/step - loss: 0.0594 - accuracy: 0.9732\n",
            "Epoch 143/200\n",
            "7/7 [==============================] - 17s 2s/step - loss: 0.0080 - accuracy: 1.0000\n",
            "Epoch 144/200\n",
            "7/7 [==============================] - 17s 2s/step - loss: 0.0476 - accuracy: 0.9911\n",
            "Epoch 145/200\n",
            "7/7 [==============================] - 15s 2s/step - loss: 0.0193 - accuracy: 0.9949\n",
            "Epoch 146/200\n",
            "7/7 [==============================] - 17s 2s/step - loss: 0.0519 - accuracy: 0.9866\n",
            "Epoch 147/200\n",
            "7/7 [==============================] - 15s 2s/step - loss: 0.0797 - accuracy: 0.9592\n",
            "Epoch 148/200\n",
            "7/7 [==============================] - 16s 2s/step - loss: 0.0268 - accuracy: 0.9955\n",
            "Epoch 149/200\n",
            "7/7 [==============================] - 17s 2s/step - loss: 0.0149 - accuracy: 0.9955\n",
            "Epoch 150/200\n",
            "7/7 [==============================] - 16s 2s/step - loss: 0.0177 - accuracy: 0.9911\n",
            "Epoch 151/200\n",
            "7/7 [==============================] - 16s 2s/step - loss: 0.0037 - accuracy: 1.0000\n",
            "Epoch 152/200\n",
            "7/7 [==============================] - 15s 2s/step - loss: 0.0147 - accuracy: 0.9949\n",
            "Epoch 153/200\n",
            "7/7 [==============================] - 15s 2s/step - loss: 0.0075 - accuracy: 1.0000\n",
            "Epoch 154/200\n",
            "7/7 [==============================] - 15s 2s/step - loss: 0.0025 - accuracy: 1.0000\n",
            "Epoch 155/200\n",
            "7/7 [==============================] - 18s 2s/step - loss: 0.0023 - accuracy: 1.0000\n",
            "Epoch 156/200\n",
            "7/7 [==============================] - 17s 2s/step - loss: 0.0025 - accuracy: 1.0000\n",
            "Epoch 157/200\n",
            "7/7 [==============================] - 15s 2s/step - loss: 6.4510e-04 - accuracy: 1.0000\n",
            "Epoch 158/200\n",
            "7/7 [==============================] - 18s 2s/step - loss: 3.6486e-04 - accuracy: 1.0000\n",
            "Epoch 159/200\n",
            "7/7 [==============================] - 17s 2s/step - loss: 2.9941e-04 - accuracy: 1.0000\n",
            "Epoch 160/200\n",
            "7/7 [==============================] - 17s 2s/step - loss: 7.1841e-04 - accuracy: 1.0000\n",
            "Epoch 161/200\n",
            "7/7 [==============================] - 16s 2s/step - loss: 9.8338e-04 - accuracy: 1.0000\n",
            "Epoch 162/200\n",
            "7/7 [==============================] - 17s 2s/step - loss: 4.7726e-04 - accuracy: 1.0000\n",
            "Epoch 163/200\n",
            "7/7 [==============================] - 17s 2s/step - loss: 1.6755e-04 - accuracy: 1.0000\n",
            "Epoch 164/200\n",
            "7/7 [==============================] - 16s 2s/step - loss: 2.7272e-04 - accuracy: 1.0000\n",
            "Epoch 165/200\n",
            "7/7 [==============================] - 15s 2s/step - loss: 2.7951e-04 - accuracy: 1.0000\n",
            "Epoch 166/200\n",
            "7/7 [==============================] - 17s 2s/step - loss: 4.6447e-04 - accuracy: 1.0000\n",
            "Epoch 167/200\n",
            "7/7 [==============================] - 17s 2s/step - loss: 1.9268e-04 - accuracy: 1.0000\n",
            "Epoch 168/200\n",
            "7/7 [==============================] - 18s 2s/step - loss: 6.9624e-05 - accuracy: 1.0000\n",
            "Epoch 169/200\n",
            "7/7 [==============================] - 15s 2s/step - loss: 1.4239e-04 - accuracy: 1.0000\n",
            "Epoch 170/200\n",
            "7/7 [==============================] - 17s 2s/step - loss: 1.2232e-04 - accuracy: 1.0000\n",
            "Epoch 171/200\n",
            "7/7 [==============================] - 15s 2s/step - loss: 0.0010 - accuracy: 1.0000\n",
            "Epoch 172/200\n",
            "7/7 [==============================] - 15s 2s/step - loss: 7.0027e-05 - accuracy: 1.0000\n",
            "Epoch 173/200\n",
            "7/7 [==============================] - 17s 2s/step - loss: 9.2375e-05 - accuracy: 1.0000\n",
            "Epoch 174/200\n",
            "7/7 [==============================] - 15s 2s/step - loss: 7.6827e-05 - accuracy: 1.0000\n",
            "Epoch 175/200\n",
            "7/7 [==============================] - 17s 2s/step - loss: 5.3223e-05 - accuracy: 1.0000\n",
            "Epoch 176/200\n",
            "7/7 [==============================] - 17s 2s/step - loss: 9.7012e-05 - accuracy: 1.0000\n",
            "Epoch 177/200\n",
            "7/7 [==============================] - 15s 2s/step - loss: 1.0512e-04 - accuracy: 1.0000\n",
            "Epoch 178/200\n",
            "7/7 [==============================] - 15s 2s/step - loss: 6.7483e-05 - accuracy: 1.0000\n",
            "Epoch 179/200\n",
            "7/7 [==============================] - 17s 2s/step - loss: 2.3456e-05 - accuracy: 1.0000\n",
            "Epoch 180/200\n",
            "7/7 [==============================] - 19s 3s/step - loss: 3.8394e-04 - accuracy: 1.0000\n",
            "Epoch 181/200\n",
            "7/7 [==============================] - 17s 2s/step - loss: 4.1464e-04 - accuracy: 1.0000\n",
            "Epoch 182/200\n",
            "7/7 [==============================] - 17s 2s/step - loss: 1.6634e-04 - accuracy: 1.0000\n",
            "Epoch 183/200\n",
            "7/7 [==============================] - 17s 2s/step - loss: 0.0014 - accuracy: 1.0000\n",
            "Epoch 184/200\n",
            "7/7 [==============================] - 15s 2s/step - loss: 0.0027 - accuracy: 1.0000\n",
            "Epoch 185/200\n",
            "7/7 [==============================] - 18s 2s/step - loss: 1.7657e-04 - accuracy: 1.0000\n",
            "Epoch 186/200\n",
            "7/7 [==============================] - 17s 2s/step - loss: 5.8646e-04 - accuracy: 1.0000\n",
            "Epoch 187/200\n",
            "7/7 [==============================] - 17s 2s/step - loss: 8.1618e-05 - accuracy: 1.0000\n",
            "Epoch 188/200\n",
            "7/7 [==============================] - 15s 2s/step - loss: 0.0022 - accuracy: 1.0000\n",
            "Epoch 189/200\n",
            "7/7 [==============================] - 15s 2s/step - loss: 0.0072 - accuracy: 1.0000\n",
            "Epoch 190/200\n",
            "7/7 [==============================] - 18s 2s/step - loss: 0.0127 - accuracy: 0.9955\n",
            "Epoch 191/200\n",
            "7/7 [==============================] - 17s 2s/step - loss: 0.0019 - accuracy: 1.0000\n",
            "Epoch 192/200\n",
            "7/7 [==============================] - 15s 2s/step - loss: 0.0033 - accuracy: 1.0000\n",
            "Epoch 193/200\n",
            "7/7 [==============================] - 17s 2s/step - loss: 0.0028 - accuracy: 1.0000\n",
            "Epoch 194/200\n",
            "7/7 [==============================] - 17s 2s/step - loss: 1.7384e-04 - accuracy: 1.0000\n",
            "Epoch 195/200\n",
            "7/7 [==============================] - 17s 2s/step - loss: 0.0178 - accuracy: 0.9955\n",
            "Epoch 196/200\n",
            "7/7 [==============================] - 15s 2s/step - loss: 0.1561 - accuracy: 0.9592\n",
            "Epoch 197/200\n",
            "7/7 [==============================] - 18s 2s/step - loss: 0.2335 - accuracy: 0.9464\n",
            "Epoch 198/200\n",
            "7/7 [==============================] - 17s 2s/step - loss: 0.3157 - accuracy: 0.9196\n",
            "Epoch 199/200\n",
            "7/7 [==============================] - 17s 2s/step - loss: 0.2469 - accuracy: 0.9330\n",
            "Epoch 200/200\n",
            "7/7 [==============================] - 15s 2s/step - loss: 0.1951 - accuracy: 0.9388\n"
          ]
        },
        {
          "output_type": "execute_result",
          "data": {
            "text/plain": [
              "<keras.callbacks.History at 0x7ce7d46d7340>"
            ]
          },
          "metadata": {},
          "execution_count": 12
        }
      ],
      "source": [
        "# Entrenar con:\n",
        "# Número de veces a procesar en cada epoca = 7\n",
        "# Epocas =40\n",
        "# Número de veces a procesar la validación en cada epoca = 200\n",
        "cnn.fit(imagen_entrenamiento, steps_per_epoch=7, epochs=200, validation_data=imagen_validacion, validation_steps=20)\n"
      ]
    },
    {
      "cell_type": "markdown",
      "metadata": {
        "id": "q3e4GtrfyEPE"
      },
      "source": [
        "## **Evaluación del modelo**"
      ]
    },
    {
      "cell_type": "code",
      "execution_count": 13,
      "metadata": {
        "id": "iyqfxCDGxw0V",
        "colab": {
          "base_uri": "https://localhost:8080/"
        },
        "outputId": "2cf243a2-139d-4cbc-803e-9aae07ba6c5c"
      },
      "outputs": [
        {
          "output_type": "stream",
          "name": "stdout",
          "text": [
            "6/6 [==============================] - 2s 332ms/step - loss: 0.1710 - accuracy: 0.9333\n",
            "Exactitud test:  0.9333333373069763\n"
          ]
        }
      ],
      "source": [
        "score = cnn.evaluate(imagen_validacion)\n",
        "print(\"Exactitud test: \", score[1])"
      ]
    },
    {
      "cell_type": "code",
      "execution_count": 14,
      "metadata": {
        "id": "FVkP6pGUWh88",
        "colab": {
          "base_uri": "https://localhost:8080/"
        },
        "outputId": "96c0944c-dd93-4fb8-9fc5-73e05582ca92"
      },
      "outputs": [
        {
          "output_type": "stream",
          "name": "stdout",
          "text": [
            "6/6 [==============================] - 3s 406ms/step\n"
          ]
        },
        {
          "output_type": "execute_result",
          "data": {
            "text/plain": [
              "array([4, 4, 3, 2, 2, 5, 5, 4, 0, 2, 3, 3, 1, 4, 5, 2, 4, 1, 4, 2, 4, 4,\n",
              "       0, 5, 1, 3, 4, 5, 1, 3, 5, 1, 5, 1, 2, 2, 2, 2, 4, 2, 3, 0, 0, 3,\n",
              "       2, 0, 2, 0, 3, 0, 5, 3, 4, 1, 1, 5, 1, 3, 1, 1, 0, 5, 1, 5, 2, 3,\n",
              "       5, 5, 1, 1, 3, 3, 1, 0, 4, 4, 3, 1, 1, 2, 0, 0, 1, 0, 5, 3, 1, 3,\n",
              "       0, 4, 1, 1, 0, 0, 5, 3, 0, 3, 3, 0, 2, 1, 1, 0, 0, 3, 4, 4, 4, 2,\n",
              "       3, 4, 2, 1, 5, 2, 5, 0, 0, 0, 5, 4, 2, 1, 2, 2, 5, 0, 1, 1, 0, 5,\n",
              "       1, 1, 2, 2, 5, 3, 3, 3, 1, 2, 5, 3, 3, 1, 3, 1, 0, 5, 2, 3, 3, 4,\n",
              "       5, 3, 4, 1, 5, 5, 3, 2, 1, 2, 5, 0, 2, 0, 0, 3, 5, 0, 3, 4, 0, 5,\n",
              "       4, 3, 2, 2])"
            ]
          },
          "metadata": {},
          "execution_count": 14
        }
      ],
      "source": [
        "import sklearn.metrics as metrics\n",
        "import numpy as np\n",
        "\n",
        "y_pred = cnn.predict(imagen_validacion)\n",
        "y_pred_labels = np.argmax(y_pred, axis=1)\n",
        "y_pred_labels"
      ]
    },
    {
      "cell_type": "markdown",
      "metadata": {
        "id": "lFhFmsocIFmh"
      },
      "source": [
        "## **PREDICCIÓN**"
      ]
    },
    {
      "cell_type": "markdown",
      "metadata": {
        "id": "RK-2ADCUIIVY"
      },
      "source": [
        "### **Carga de librerías**"
      ]
    },
    {
      "cell_type": "code",
      "execution_count": 15,
      "metadata": {
        "id": "p5A1TWSY5x79"
      },
      "outputs": [],
      "source": [
        "import numpy as np\n",
        "import sys\n",
        "import os\n",
        "import tensorflow as tf\n",
        "from keras.models import load_model"
      ]
    },
    {
      "cell_type": "markdown",
      "metadata": {
        "id": "CHtdArbkIW3y"
      },
      "source": [
        "### **Predicción de papa nativa a partir de imágenes**"
      ]
    },
    {
      "cell_type": "code",
      "execution_count": 19,
      "metadata": {
        "id": "bSWxaQLK57ib"
      },
      "outputs": [],
      "source": [
        "from PIL import Image\n",
        "\n",
        "def Prediccion(ArchivoImagen):\n",
        "    # Cargar la imagen desde archivo y redimensiona a 690, 460\n",
        "    x = tf.keras.preprocessing.image.load_img(ArchivoImagen, target_size=(690, 460))\n",
        "    # Convertir la imagen JPG a array\n",
        "    x = tf.keras.preprocessing.image.img_to_array(x)\n",
        "\n",
        "    x = np.expand_dims(x, axis=0)\n",
        "    # Prediccion de la imagen\n",
        "    arreglo = cnn.predict(x)\n",
        "\n",
        "    resultado = arreglo[0]\n",
        "    respuesta = np.argmax(resultado)\n",
        "\n",
        "    if respuesta == 0:\n",
        "        print('Huamantanga')\n",
        "    elif respuesta == 1:\n",
        "        print('Huayro')\n",
        "    elif respuesta == 2:\n",
        "        print('Kachun Wacachi')\n",
        "    elif respuesta == 3:\n",
        "        print('Maqtillo')\n",
        "    elif respuesta == 4:\n",
        "        print('Puka pikitiña')\n",
        "    elif respuesta == 5:\n",
        "        print('Qeqorani')\n",
        "\n",
        "    im = Image.open(ArchivoImagen)\n",
        "    im.show()"
      ]
    },
    {
      "cell_type": "markdown",
      "metadata": {
        "id": "bznfn21UId45"
      },
      "source": [
        "## **Predicción**"
      ]
    },
    {
      "cell_type": "code",
      "execution_count": 20,
      "metadata": {
        "id": "XvlU6Uvi5977",
        "colab": {
          "base_uri": "https://localhost:8080/"
        },
        "outputId": "930d3bcb-6148-4107-801a-9c1e5db1268f"
      },
      "outputs": [
        {
          "output_type": "stream",
          "name": "stdout",
          "text": [
            "1/1 [==============================] - 0s 21ms/step\n",
            "Huamantanga\n"
          ]
        }
      ],
      "source": [
        "Prediccion('/disco/My Drive/papa_nativa/prediccion/alianza.jpg')"
      ]
    },
    {
      "cell_type": "code",
      "execution_count": 21,
      "metadata": {
        "id": "ZKzfurDMc7pq",
        "colab": {
          "base_uri": "https://localhost:8080/"
        },
        "outputId": "ed390dc3-a053-4e68-9c74-0f6ab1ff4ff1"
      },
      "outputs": [
        {
          "output_type": "stream",
          "name": "stdout",
          "text": [
            "1/1 [==============================] - 0s 20ms/step\n",
            "Huamantanga\n"
          ]
        }
      ],
      "source": [
        "Prediccion('/disco/My Drive/papa_nativa/prediccion/amarillo_tumbay.jpg')"
      ]
    },
    {
      "cell_type": "code",
      "execution_count": 22,
      "metadata": {
        "id": "V03Qmy-lc-5O",
        "colab": {
          "base_uri": "https://localhost:8080/"
        },
        "outputId": "4d51e860-90f4-43d9-c4b1-ea16c574695f"
      },
      "outputs": [
        {
          "output_type": "stream",
          "name": "stdout",
          "text": [
            "1/1 [==============================] - 0s 20ms/step\n",
            "Huamantanga\n"
          ]
        }
      ],
      "source": [
        "Prediccion('/disco/My Drive/papa_nativa/prediccion/huamantanga.jpg')"
      ]
    },
    {
      "cell_type": "code",
      "execution_count": 23,
      "metadata": {
        "id": "QLNZlma8UEL8",
        "colab": {
          "base_uri": "https://localhost:8080/"
        },
        "outputId": "17f5033e-959f-4059-d5f1-db86d123e109"
      },
      "outputs": [
        {
          "output_type": "stream",
          "name": "stdout",
          "text": [
            "1/1 [==============================] - 0s 20ms/step\n",
            "Huayro\n"
          ]
        }
      ],
      "source": [
        "Prediccion('/disco/My Drive/papa_nativa/prediccion/huayro.jpg')"
      ]
    },
    {
      "cell_type": "code",
      "execution_count": 24,
      "metadata": {
        "id": "d3pHaZTtUGKV",
        "colab": {
          "base_uri": "https://localhost:8080/"
        },
        "outputId": "dfbcd1af-fbe7-4cda-d43f-75ddc32ec2db"
      },
      "outputs": [
        {
          "output_type": "stream",
          "name": "stdout",
          "text": [
            "1/1 [==============================] - 0s 31ms/step\n",
            "Huayro\n"
          ]
        }
      ],
      "source": [
        "Prediccion('/disco/My Drive/papa_nativa/prediccion/kachun_wacachi.jpg')"
      ]
    },
    {
      "cell_type": "code",
      "execution_count": 25,
      "metadata": {
        "id": "uHpjRleDUKPT",
        "colab": {
          "base_uri": "https://localhost:8080/"
        },
        "outputId": "1631b18e-942e-4c2d-b9d9-96d8b0904ecc"
      },
      "outputs": [
        {
          "output_type": "stream",
          "name": "stdout",
          "text": [
            "1/1 [==============================] - 0s 27ms/step\n",
            "Maqtillo\n"
          ]
        }
      ],
      "source": [
        "Prediccion('/disco/My Drive/papa_nativa/prediccion/maqtillo.jpg')"
      ]
    },
    {
      "cell_type": "code",
      "execution_count": 26,
      "metadata": {
        "id": "Sug3y4GuUNEs",
        "colab": {
          "base_uri": "https://localhost:8080/"
        },
        "outputId": "84a9896a-d06c-40df-efaf-428b9e3bf208"
      },
      "outputs": [
        {
          "output_type": "stream",
          "name": "stdout",
          "text": [
            "1/1 [==============================] - 0s 23ms/step\n",
            "Huamantanga\n"
          ]
        }
      ],
      "source": [
        "Prediccion('/disco/My Drive/papa_nativa/prediccion/peruanita.jpg')"
      ]
    },
    {
      "cell_type": "code",
      "execution_count": 27,
      "metadata": {
        "id": "5aK8_Qp1UPVU",
        "colab": {
          "base_uri": "https://localhost:8080/"
        },
        "outputId": "11fb2764-571c-4bfc-a214-6df332397873"
      },
      "outputs": [
        {
          "output_type": "stream",
          "name": "stdout",
          "text": [
            "1/1 [==============================] - 0s 20ms/step\n",
            "Huayro\n"
          ]
        }
      ],
      "source": [
        "Prediccion('/disco/My Drive/papa_nativa/prediccion/puka_mama.jpg')"
      ]
    },
    {
      "cell_type": "code",
      "execution_count": 28,
      "metadata": {
        "id": "eh3bCMCEUSsU",
        "colab": {
          "base_uri": "https://localhost:8080/"
        },
        "outputId": "dd84d1f1-c0ac-463e-ef80-d19eb66a9933"
      },
      "outputs": [
        {
          "output_type": "stream",
          "name": "stdout",
          "text": [
            "1/1 [==============================] - 0s 19ms/step\n",
            "Qeqorani\n"
          ]
        }
      ],
      "source": [
        "Prediccion('/disco/My Drive/papa_nativa/prediccion/puka_pikitina.jpg')"
      ]
    },
    {
      "cell_type": "code",
      "execution_count": 29,
      "metadata": {
        "id": "Lw7-iIk3UWqE",
        "colab": {
          "base_uri": "https://localhost:8080/"
        },
        "outputId": "780d9e7d-640f-4372-a221-fb51522f8d8e"
      },
      "outputs": [
        {
          "output_type": "stream",
          "name": "stdout",
          "text": [
            "1/1 [==============================] - 0s 20ms/step\n",
            "Huamantanga\n"
          ]
        }
      ],
      "source": [
        "Prediccion('/disco/My Drive/papa_nativa/prediccion/qeqorani.jpg')"
      ]
    },
    {
      "cell_type": "code",
      "execution_count": 30,
      "metadata": {
        "id": "C5T8MCE9UbXe",
        "colab": {
          "base_uri": "https://localhost:8080/"
        },
        "outputId": "7fa0dcf4-9051-43d8-d2e0-832ac3a32ac9"
      },
      "outputs": [
        {
          "output_type": "stream",
          "name": "stdout",
          "text": [
            "1/1 [==============================] - 0s 31ms/step\n",
            "Huamantanga\n"
          ]
        }
      ],
      "source": [
        "Prediccion('/disco/My Drive/papa_nativa/prediccion/qompis.jpg')"
      ]
    },
    {
      "cell_type": "code",
      "execution_count": 31,
      "metadata": {
        "id": "yz4VzGn9Udic",
        "colab": {
          "base_uri": "https://localhost:8080/"
        },
        "outputId": "d7847f15-0d75-4f5d-caf7-679eab15fad4"
      },
      "outputs": [
        {
          "output_type": "stream",
          "name": "stdout",
          "text": [
            "1/1 [==============================] - 0s 20ms/step\n",
            "Huamantanga\n"
          ]
        }
      ],
      "source": [
        "Prediccion('/disco/My Drive/papa_nativa/prediccion/runthus.jpg')"
      ]
    },
    {
      "cell_type": "markdown",
      "metadata": {
        "id": "0M6Z5bonhp9e"
      },
      "source": [
        "# **TAREA**\n",
        "\n",
        "\n",
        "```\n",
        "Haga las adecuaciones necesaria para:\n",
        "1. Entrenar una CNN que identifique 7 expresiones faciales (asco, contento, enfado, miedo, neutral sorpresa, triste).\n",
        "2. Tomar fotografias de usted y sus compañeros con las 7 expresiones faciales del paso 1 y verificar el desempeño de la CNN  \n",
        "```\n",
        "\n"
      ]
    }
  ],
  "metadata": {
    "accelerator": "GPU",
    "colab": {
      "provenance": []
    },
    "kernelspec": {
      "display_name": "Python 3",
      "name": "python3"
    },
    "language_info": {
      "codemirror_mode": {
        "name": "ipython",
        "version": 3
      },
      "file_extension": ".py",
      "mimetype": "text/x-python",
      "name": "python",
      "nbconvert_exporter": "python",
      "pygments_lexer": "ipython3",
      "version": "3.10.11"
    }
  },
  "nbformat": 4,
  "nbformat_minor": 0
}
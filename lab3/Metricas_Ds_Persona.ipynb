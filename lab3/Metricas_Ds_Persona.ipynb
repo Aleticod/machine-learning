{
 "cells": [
  {
   "cell_type": "markdown",
   "id": "cdd2faff",
   "metadata": {},
   "source": [
    "# **Metricas de modelos PREDICTIVOS DISCRETOS**"
   ]
  },
  {
   "cell_type": "markdown",
   "id": "adc521c6",
   "metadata": {},
   "source": [
    "# **1. PASOS PREVIOS**"
   ]
  },
  {
   "cell_type": "markdown",
   "id": "8bb14214",
   "metadata": {},
   "source": [
    "## Librerias"
   ]
  },
  {
   "cell_type": "code",
   "execution_count": 1,
   "id": "dc55a1ef",
   "metadata": {},
   "outputs": [],
   "source": [
    "import numpy as np\n",
    "import pandas as pd\n",
    "import matplotlib.pyplot as plt\n",
    "\n",
    "# Modulo de separacion de datos\n",
    "from sklearn.model_selection import train_test_split\n",
    "# MOdulo de Matriz de confusion\n",
    "from sklearn.metrics import confusion_matrix\n",
    "# Modulo de Arbol de decision\n",
    "from sklearn.tree import DecisionTreeClassifier\n",
    "#Modulo de reporte de metricas\n",
    "from sklearn.metrics import classification_report\n",
    "# Metricas\n",
    "from sklearn import metrics\n",
    "# Curva ROC\n",
    "from sklearn.metrics import RocCurveDisplay\n",
    "\n",
    "%matplotlib inline"
   ]
  },
  {
   "cell_type": "markdown",
   "id": "559f60a0",
   "metadata": {},
   "source": [
    "## Carga de datos"
   ]
  },
  {
   "cell_type": "code",
   "execution_count": 2,
   "id": "1352445f",
   "metadata": {},
   "outputs": [
    {
     "data": {
      "text/html": [
       "<div>\n",
       "<style scoped>\n",
       "    .dataframe tbody tr th:only-of-type {\n",
       "        vertical-align: middle;\n",
       "    }\n",
       "\n",
       "    .dataframe tbody tr th {\n",
       "        vertical-align: top;\n",
       "    }\n",
       "\n",
       "    .dataframe thead th {\n",
       "        text-align: right;\n",
       "    }\n",
       "</style>\n",
       "<table border=\"1\" class=\"dataframe\">\n",
       "  <thead>\n",
       "    <tr style=\"text-align: right;\">\n",
       "      <th></th>\n",
       "      <th>Peso</th>\n",
       "      <th>Altura</th>\n",
       "      <th>Pie</th>\n",
       "      <th>Hombros</th>\n",
       "      <th>Brazos</th>\n",
       "      <th>Caderas</th>\n",
       "      <th>Ojos</th>\n",
       "      <th>Sexo</th>\n",
       "    </tr>\n",
       "  </thead>\n",
       "  <tbody>\n",
       "    <tr>\n",
       "      <th>0</th>\n",
       "      <td>60</td>\n",
       "      <td>163</td>\n",
       "      <td>37</td>\n",
       "      <td>41</td>\n",
       "      <td>68</td>\n",
       "      <td>95</td>\n",
       "      <td>1</td>\n",
       "      <td>1</td>\n",
       "    </tr>\n",
       "    <tr>\n",
       "      <th>1</th>\n",
       "      <td>52</td>\n",
       "      <td>166</td>\n",
       "      <td>37</td>\n",
       "      <td>37</td>\n",
       "      <td>70</td>\n",
       "      <td>87</td>\n",
       "      <td>2</td>\n",
       "      <td>1</td>\n",
       "    </tr>\n",
       "    <tr>\n",
       "      <th>2</th>\n",
       "      <td>61</td>\n",
       "      <td>172</td>\n",
       "      <td>39</td>\n",
       "      <td>39</td>\n",
       "      <td>69</td>\n",
       "      <td>91</td>\n",
       "      <td>2</td>\n",
       "      <td>1</td>\n",
       "    </tr>\n",
       "    <tr>\n",
       "      <th>3</th>\n",
       "      <td>73</td>\n",
       "      <td>181</td>\n",
       "      <td>43</td>\n",
       "      <td>50</td>\n",
       "      <td>78</td>\n",
       "      <td>101</td>\n",
       "      <td>2</td>\n",
       "      <td>2</td>\n",
       "    </tr>\n",
       "    <tr>\n",
       "      <th>4</th>\n",
       "      <td>53</td>\n",
       "      <td>172</td>\n",
       "      <td>39</td>\n",
       "      <td>39</td>\n",
       "      <td>72</td>\n",
       "      <td>89</td>\n",
       "      <td>1</td>\n",
       "      <td>1</td>\n",
       "    </tr>\n",
       "  </tbody>\n",
       "</table>\n",
       "</div>"
      ],
      "text/plain": [
       "   Peso  Altura  Pie  Hombros  Brazos  Caderas  Ojos  Sexo\n",
       "0    60     163   37       41      68       95     1     1\n",
       "1    52     166   37       37      70       87     2     1\n",
       "2    61     172   39       39      69       91     2     1\n",
       "3    73     181   43       50      78      101     2     2\n",
       "4    53     172   39       39      72       89     1     1"
      ]
     },
     "execution_count": 2,
     "metadata": {},
     "output_type": "execute_result"
    }
   ],
   "source": [
    "# El objetivo del dataset, es identificacion de sexo en base a las medidas del resto\n",
    "# sexo = f(peso, altura, pie, hombros, brazos, caderas, ojos)\n",
    "df = pd.read_csv(\"ds_persona2_ML.csv\")\n",
    "df.head()"
   ]
  },
  {
   "cell_type": "markdown",
   "id": "6a80c8db",
   "metadata": {},
   "source": [
    "# **2. APLICACION DEL MODELO PREDICTIVO**"
   ]
  },
  {
   "cell_type": "markdown",
   "id": "e1a17eae",
   "metadata": {},
   "source": [
    "## Separacion de datos para entrenamiento y test"
   ]
  },
  {
   "cell_type": "code",
   "execution_count": 7,
   "id": "7c043e89",
   "metadata": {},
   "outputs": [],
   "source": [
    "x = df.drop(['Sexo'], axis = 1)\n",
    "y = df['Sexo']\n",
    "x_train, x_test, y_train, y_test = train_test_split(x, y, train_size=0.7)"
   ]
  },
  {
   "cell_type": "markdown",
   "id": "4ef5f9e8",
   "metadata": {},
   "source": [
    "## Entrenamiento con arbo de decision"
   ]
  },
  {
   "cell_type": "code",
   "execution_count": 14,
   "id": "f9cf2fbd",
   "metadata": {},
   "outputs": [
    {
     "data": {
      "text/plain": [
       "0.9333333333333333"
      ]
     },
     "execution_count": 14,
     "metadata": {},
     "output_type": "execute_result"
    }
   ],
   "source": [
    "modelo = DecisionTreeClassifier(criterion='gini', max_depth=5)\n",
    "modelo.fit(x_train, y_train)\n",
    "modelo.score(x_test, y_test)"
   ]
  },
  {
   "cell_type": "markdown",
   "id": "1e74f081",
   "metadata": {},
   "source": [
    "# **3. PREDICCION DEL MODELO**"
   ]
  },
  {
   "cell_type": "markdown",
   "id": "e1dc0f8f",
   "metadata": {},
   "source": [
    "## Prediccion de datos de test"
   ]
  },
  {
   "cell_type": "code",
   "execution_count": 15,
   "id": "9d669e93",
   "metadata": {},
   "outputs": [],
   "source": [
    "pred = modelo.predict(x_test)"
   ]
  },
  {
   "cell_type": "markdown",
   "id": "aafb8237",
   "metadata": {},
   "source": [
    "## Resultados de la prediccion"
   ]
  },
  {
   "cell_type": "code",
   "execution_count": 16,
   "id": "c94db1ff",
   "metadata": {},
   "outputs": [
    {
     "data": {
      "text/plain": [
       "array([2, 2, 1, 2, 1, 2, 2, 1, 2, 2, 1, 1, 2, 2, 1, 1, 2, 2, 1, 1, 1, 1,\n",
       "       2, 1, 1, 2, 2, 1, 1, 2])"
      ]
     },
     "execution_count": 16,
     "metadata": {},
     "output_type": "execute_result"
    }
   ],
   "source": [
    "pred"
   ]
  },
  {
   "cell_type": "markdown",
   "id": "e6d31d3e",
   "metadata": {},
   "source": [
    "## Resultados de los datos reales"
   ]
  },
  {
   "cell_type": "code",
   "execution_count": 17,
   "id": "f084f20d",
   "metadata": {},
   "outputs": [
    {
     "data": {
      "text/plain": [
       "75    2\n",
       "96    2\n",
       "47    1\n",
       "30    2\n",
       "81    1\n",
       "71    2\n",
       "78    2\n",
       "11    1\n",
       "68    2\n",
       "37    2\n",
       "27    2\n",
       "34    1\n",
       "17    2\n",
       "90    2\n",
       "8     1\n",
       "72    1\n",
       "80    2\n",
       "18    2\n",
       "33    1\n",
       "48    1\n",
       "46    1\n",
       "16    1\n",
       "6     1\n",
       "51    1\n",
       "55    1\n",
       "73    2\n",
       "64    2\n",
       "87    1\n",
       "97    1\n",
       "84    2\n",
       "Name: Sexo, dtype: int64"
      ]
     },
     "execution_count": 17,
     "metadata": {},
     "output_type": "execute_result"
    }
   ],
   "source": [
    "y_test"
   ]
  },
  {
   "cell_type": "markdown",
   "id": "01a3ac6b",
   "metadata": {},
   "source": [
    "# **4. CALCULO Y VISUALIZACION DE MATRICAS**"
   ]
  },
  {
   "cell_type": "markdown",
   "id": "317229e4",
   "metadata": {},
   "source": [
    "## Obtencion de metricas"
   ]
  },
  {
   "cell_type": "code",
   "execution_count": 23,
   "id": "af6cea66",
   "metadata": {},
   "outputs": [],
   "source": [
    "MatrizConfusion = confusion_matrix(y_test, pred)\n",
    "Exactitud = metrics.accuracy_score(y_test, pred)\n",
    "Presicion = metrics.precision_score(y_test, pred)\n",
    "Sensibilidad = metrics.recall_score(y_test, pred)\n",
    "PuntuacionF1 = metrics.f1_score(y_test, pred)\n",
    "Reporte = classification_report(y_test, pred)"
   ]
  },
  {
   "cell_type": "markdown",
   "id": "1d112bcf",
   "metadata": {},
   "source": [
    "## Matriz de confusion"
   ]
  },
  {
   "cell_type": "code",
   "execution_count": 22,
   "id": "ed58b6c5",
   "metadata": {},
   "outputs": [
    {
     "name": "stdout",
     "output_type": "stream",
     "text": [
      "Matriz de confusion\n",
      "[[14  1]\n",
      " [ 1 14]]\n"
     ]
    }
   ],
   "source": [
    "print('Matriz de confusion')\n",
    "print(MatrizConfusion)"
   ]
  },
  {
   "cell_type": "code",
   "execution_count": 25,
   "id": "6c2df543",
   "metadata": {},
   "outputs": [
    {
     "name": "stdout",
     "output_type": "stream",
     "text": [
      "Exactitud     :  0.9333333333333333\n",
      "Presicion     :  0.9333333333333333\n",
      "Sensibilidad  :  0.9333333333333333\n",
      "Puntuacion F1 :  0.9333333333333333\n"
     ]
    }
   ],
   "source": [
    "print('Exactitud     : ', Exactitud)\n",
    "print('Presicion     : ', Presicion)\n",
    "print('Sensibilidad  : ', Sensibilidad)\n",
    "print('Puntuacion F1 : ', PuntuacionF1)"
   ]
  },
  {
   "cell_type": "code",
   "execution_count": 26,
   "id": "d8396370",
   "metadata": {},
   "outputs": [
    {
     "name": "stdout",
     "output_type": "stream",
     "text": [
      "Reporte de metricas: \n",
      "              precision    recall  f1-score   support\n",
      "\n",
      "           1       0.93      0.93      0.93        15\n",
      "           2       0.93      0.93      0.93        15\n",
      "\n",
      "    accuracy                           0.93        30\n",
      "   macro avg       0.93      0.93      0.93        30\n",
      "weighted avg       0.93      0.93      0.93        30\n",
      "\n"
     ]
    }
   ],
   "source": [
    "print('Reporte de metricas: ')\n",
    "print(Reporte)"
   ]
  },
  {
   "cell_type": "markdown",
   "id": "536b664d",
   "metadata": {},
   "source": [
    "## Curva ROC"
   ]
  },
  {
   "cell_type": "code",
   "execution_count": 27,
   "id": "bbf0a45b",
   "metadata": {},
   "outputs": [
    {
     "data": {
      "text/plain": [
       "<sklearn.metrics._plot.roc_curve.RocCurveDisplay at 0x7f4bfa90f970>"
      ]
     },
     "execution_count": 27,
     "metadata": {},
     "output_type": "execute_result"
    },
    {
     "data": {
      "image/png": "[encoded data removed]",
      "text/plain": [
       "<Figure size 640x480 with 1 Axes>"
      ]
     },
     "metadata": {},
     "output_type": "display_data"
    }
   ],
   "source": [
    "RocCurveDisplay.from_estimator(modelo, x_test, y_test)"
   ]
  }
 ],
 "metadata": {
  "kernelspec": {
   "display_name": "Python 3 (ipykernel)",
   "language": "python",
   "name": "python3"
  },
  "language_info": {
   "codemirror_mode": {
    "name": "ipython",
    "version": 3
   },
   "file_extension": ".py",
   "mimetype": "text/x-python",
   "name": "python",
   "nbconvert_exporter": "python",
   "pygments_lexer": "ipython3",
   "version": "3.10.11"
  }
 },
 "nbformat": 4,
 "nbformat_minor": 5
}

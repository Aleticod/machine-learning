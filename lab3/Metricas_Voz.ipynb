{
 "cells": [
  {
   "attachments": {},
   "cell_type": "markdown",
   "id": "cdd2faff",
   "metadata": {},
   "source": [
    "# **Metricas de modelos PREDICTIVOS DISCRETOS**\n",
    "\n",
    "### Nombre: PFOCCORI QUISPE ALEX HARVEY"
   ]
  },
  {
   "attachments": {},
   "cell_type": "markdown",
   "id": "adc521c6",
   "metadata": {},
   "source": [
    "# **1. PASOS PREVIOS**"
   ]
  },
  {
   "attachments": {},
   "cell_type": "markdown",
   "id": "8bb14214",
   "metadata": {},
   "source": [
    "## Librerias"
   ]
  },
  {
   "cell_type": "code",
   "execution_count": 2,
   "id": "dc55a1ef",
   "metadata": {},
   "outputs": [],
   "source": [
    "import numpy as np\n",
    "import pandas as pd\n",
    "import matplotlib.pyplot as plt\n",
    "\n",
    "# Modulo de separacion de datos\n",
    "from sklearn.model_selection import train_test_split\n",
    "# MOdulo de Matriz de confusion\n",
    "from sklearn.metrics import confusion_matrix\n",
    "# Modulo de Arbol de decision\n",
    "from sklearn.tree import DecisionTreeClassifier\n",
    "#Modulo de reporte de metricas\n",
    "from sklearn.metrics import classification_report\n",
    "# Metricas\n",
    "from sklearn import metrics\n",
    "# Curva ROC\n",
    "from sklearn.metrics import RocCurveDisplay\n",
    "\n",
    "%matplotlib inline"
   ]
  },
  {
   "attachments": {},
   "cell_type": "markdown",
   "id": "559f60a0",
   "metadata": {},
   "source": [
    "## Carga de datos"
   ]
  },
  {
   "cell_type": "code",
   "execution_count": 3,
   "id": "1352445f",
   "metadata": {},
   "outputs": [
    {
     "data": {
      "text/html": [
       "<div>\n",
       "<style scoped>\n",
       "    .dataframe tbody tr th:only-of-type {\n",
       "        vertical-align: middle;\n",
       "    }\n",
       "\n",
       "    .dataframe tbody tr th {\n",
       "        vertical-align: top;\n",
       "    }\n",
       "\n",
       "    .dataframe thead th {\n",
       "        text-align: right;\n",
       "    }\n",
       "</style>\n",
       "<table border=\"1\" class=\"dataframe\">\n",
       "  <thead>\n",
       "    <tr style=\"text-align: right;\">\n",
       "      <th></th>\n",
       "      <th>frecuencia_media</th>\n",
       "      <th>sd</th>\n",
       "      <th>mediana</th>\n",
       "      <th>Q1</th>\n",
       "      <th>Q3</th>\n",
       "      <th>IQR</th>\n",
       "      <th>skew</th>\n",
       "      <th>kurt</th>\n",
       "      <th>sp.ent</th>\n",
       "      <th>sfm</th>\n",
       "      <th>...</th>\n",
       "      <th>centroide</th>\n",
       "      <th>meanfun</th>\n",
       "      <th>minfun</th>\n",
       "      <th>maxfun</th>\n",
       "      <th>meandom</th>\n",
       "      <th>mindom</th>\n",
       "      <th>maxdom</th>\n",
       "      <th>dfrange</th>\n",
       "      <th>modindx</th>\n",
       "      <th>genero</th>\n",
       "    </tr>\n",
       "  </thead>\n",
       "  <tbody>\n",
       "    <tr>\n",
       "      <th>0</th>\n",
       "      <td>0.059781</td>\n",
       "      <td>0.064241</td>\n",
       "      <td>0.032027</td>\n",
       "      <td>0.015071</td>\n",
       "      <td>0.090193</td>\n",
       "      <td>0.075122</td>\n",
       "      <td>12.863462</td>\n",
       "      <td>274.402905</td>\n",
       "      <td>0.893369</td>\n",
       "      <td>0.491918</td>\n",
       "      <td>...</td>\n",
       "      <td>0.059781</td>\n",
       "      <td>0.084279</td>\n",
       "      <td>0.015702</td>\n",
       "      <td>0.275862</td>\n",
       "      <td>0.007812</td>\n",
       "      <td>0.007812</td>\n",
       "      <td>0.007812</td>\n",
       "      <td>0.000000</td>\n",
       "      <td>0.000000</td>\n",
       "      <td>male</td>\n",
       "    </tr>\n",
       "    <tr>\n",
       "      <th>1</th>\n",
       "      <td>0.066009</td>\n",
       "      <td>0.067310</td>\n",
       "      <td>0.040229</td>\n",
       "      <td>0.019414</td>\n",
       "      <td>0.092666</td>\n",
       "      <td>0.073252</td>\n",
       "      <td>22.423285</td>\n",
       "      <td>634.613855</td>\n",
       "      <td>0.892193</td>\n",
       "      <td>0.513724</td>\n",
       "      <td>...</td>\n",
       "      <td>0.066009</td>\n",
       "      <td>0.107937</td>\n",
       "      <td>0.015826</td>\n",
       "      <td>0.250000</td>\n",
       "      <td>0.009014</td>\n",
       "      <td>0.007812</td>\n",
       "      <td>0.054688</td>\n",
       "      <td>0.046875</td>\n",
       "      <td>0.052632</td>\n",
       "      <td>male</td>\n",
       "    </tr>\n",
       "    <tr>\n",
       "      <th>2</th>\n",
       "      <td>0.077316</td>\n",
       "      <td>0.083829</td>\n",
       "      <td>0.036718</td>\n",
       "      <td>0.008701</td>\n",
       "      <td>0.131908</td>\n",
       "      <td>0.123207</td>\n",
       "      <td>30.757155</td>\n",
       "      <td>1024.927705</td>\n",
       "      <td>0.846389</td>\n",
       "      <td>0.478905</td>\n",
       "      <td>...</td>\n",
       "      <td>0.077316</td>\n",
       "      <td>0.098706</td>\n",
       "      <td>0.015656</td>\n",
       "      <td>0.271186</td>\n",
       "      <td>0.007990</td>\n",
       "      <td>0.007812</td>\n",
       "      <td>0.015625</td>\n",
       "      <td>0.007812</td>\n",
       "      <td>0.046512</td>\n",
       "      <td>male</td>\n",
       "    </tr>\n",
       "    <tr>\n",
       "      <th>3</th>\n",
       "      <td>0.151228</td>\n",
       "      <td>0.072111</td>\n",
       "      <td>0.158011</td>\n",
       "      <td>0.096582</td>\n",
       "      <td>0.207955</td>\n",
       "      <td>0.111374</td>\n",
       "      <td>1.232831</td>\n",
       "      <td>4.177296</td>\n",
       "      <td>0.963322</td>\n",
       "      <td>0.727232</td>\n",
       "      <td>...</td>\n",
       "      <td>0.151228</td>\n",
       "      <td>0.088965</td>\n",
       "      <td>0.017798</td>\n",
       "      <td>0.250000</td>\n",
       "      <td>0.201497</td>\n",
       "      <td>0.007812</td>\n",
       "      <td>0.562500</td>\n",
       "      <td>0.554688</td>\n",
       "      <td>0.247119</td>\n",
       "      <td>male</td>\n",
       "    </tr>\n",
       "    <tr>\n",
       "      <th>4</th>\n",
       "      <td>0.135120</td>\n",
       "      <td>0.079146</td>\n",
       "      <td>0.124656</td>\n",
       "      <td>0.078720</td>\n",
       "      <td>0.206045</td>\n",
       "      <td>0.127325</td>\n",
       "      <td>1.101174</td>\n",
       "      <td>4.333713</td>\n",
       "      <td>0.971955</td>\n",
       "      <td>0.783568</td>\n",
       "      <td>...</td>\n",
       "      <td>0.135120</td>\n",
       "      <td>0.106398</td>\n",
       "      <td>0.016931</td>\n",
       "      <td>0.266667</td>\n",
       "      <td>0.712812</td>\n",
       "      <td>0.007812</td>\n",
       "      <td>5.484375</td>\n",
       "      <td>5.476562</td>\n",
       "      <td>0.208274</td>\n",
       "      <td>male</td>\n",
       "    </tr>\n",
       "  </tbody>\n",
       "</table>\n",
       "<p>5 rows × 21 columns</p>\n",
       "</div>"
      ],
      "text/plain": [
       "   frecuencia_media        sd   mediana        Q1        Q3       IQR   \n",
       "0          0.059781  0.064241  0.032027  0.015071  0.090193  0.075122  \\\n",
       "1          0.066009  0.067310  0.040229  0.019414  0.092666  0.073252   \n",
       "2          0.077316  0.083829  0.036718  0.008701  0.131908  0.123207   \n",
       "3          0.151228  0.072111  0.158011  0.096582  0.207955  0.111374   \n",
       "4          0.135120  0.079146  0.124656  0.078720  0.206045  0.127325   \n",
       "\n",
       "        skew         kurt    sp.ent       sfm  ...  centroide   meanfun   \n",
       "0  12.863462   274.402905  0.893369  0.491918  ...   0.059781  0.084279  \\\n",
       "1  22.423285   634.613855  0.892193  0.513724  ...   0.066009  0.107937   \n",
       "2  30.757155  1024.927705  0.846389  0.478905  ...   0.077316  0.098706   \n",
       "3   1.232831     4.177296  0.963322  0.727232  ...   0.151228  0.088965   \n",
       "4   1.101174     4.333713  0.971955  0.783568  ...   0.135120  0.106398   \n",
       "\n",
       "     minfun    maxfun   meandom    mindom    maxdom   dfrange   modindx   \n",
       "0  0.015702  0.275862  0.007812  0.007812  0.007812  0.000000  0.000000  \\\n",
       "1  0.015826  0.250000  0.009014  0.007812  0.054688  0.046875  0.052632   \n",
       "2  0.015656  0.271186  0.007990  0.007812  0.015625  0.007812  0.046512   \n",
       "3  0.017798  0.250000  0.201497  0.007812  0.562500  0.554688  0.247119   \n",
       "4  0.016931  0.266667  0.712812  0.007812  5.484375  5.476562  0.208274   \n",
       "\n",
       "   genero  \n",
       "0    male  \n",
       "1    male  \n",
       "2    male  \n",
       "3    male  \n",
       "4    male  \n",
       "\n",
       "[5 rows x 21 columns]"
      ]
     },
     "execution_count": 3,
     "metadata": {},
     "output_type": "execute_result"
    }
   ],
   "source": [
    "# El objetivo del dataset, es identificacion de sexo en base a las medidas del resto\n",
    "# sexo = f(peso, altura, pie, hombros, brazos, caderas, ojos)\n",
    "df = pd.read_csv('./voz.csv')\n",
    "df.head()"
   ]
  },
  {
   "cell_type": "code",
   "execution_count": 4,
   "id": "78254ab0",
   "metadata": {},
   "outputs": [
    {
     "name": "stdout",
     "output_type": "stream",
     "text": [
      "<class 'pandas.core.frame.DataFrame'>\n",
      "RangeIndex: 3168 entries, 0 to 3167\n",
      "Data columns (total 21 columns):\n",
      " #   Column            Non-Null Count  Dtype  \n",
      "---  ------            --------------  -----  \n",
      " 0   frecuencia_media  3168 non-null   float64\n",
      " 1   sd                3168 non-null   float64\n",
      " 2   mediana           3168 non-null   float64\n",
      " 3   Q1                3168 non-null   float64\n",
      " 4   Q3                3168 non-null   float64\n",
      " 5   IQR               3168 non-null   float64\n",
      " 6   skew              3168 non-null   float64\n",
      " 7   kurt              3168 non-null   float64\n",
      " 8   sp.ent            3168 non-null   float64\n",
      " 9   sfm               3168 non-null   float64\n",
      " 10  moda              3168 non-null   float64\n",
      " 11  centroide         3168 non-null   float64\n",
      " 12  meanfun           3168 non-null   float64\n",
      " 13  minfun            3168 non-null   float64\n",
      " 14  maxfun            3168 non-null   float64\n",
      " 15  meandom           3168 non-null   float64\n",
      " 16  mindom            3168 non-null   float64\n",
      " 17  maxdom            3168 non-null   float64\n",
      " 18  dfrange           3168 non-null   float64\n",
      " 19  modindx           3168 non-null   float64\n",
      " 20  genero            3168 non-null   object \n",
      "dtypes: float64(20), object(1)\n",
      "memory usage: 519.9+ KB\n"
     ]
    }
   ],
   "source": [
    "df.info()"
   ]
  },
  {
   "attachments": {},
   "cell_type": "markdown",
   "id": "2a3c6615",
   "metadata": {},
   "source": [
    "# **2. CONVERSION DE DATOS A DATOS CATEGORICOS**"
   ]
  },
  {
   "attachments": {},
   "cell_type": "markdown",
   "id": "0b87581f",
   "metadata": {},
   "source": [
    "### Implementacion de un modulo que convierte un atributo categorico a numerico utilizando las funciones **astype('category')** y **cat.codes**"
   ]
  },
  {
   "cell_type": "code",
   "execution_count": 8,
   "id": "28124f38",
   "metadata": {},
   "outputs": [],
   "source": [
    "def Categorico_a_numerico(atributo):\n",
    "    # Convertir el atributo al tipo categorico\n",
    "    atributo = atributo.astype('category')\n",
    "    # Convertir el atributo categorico a numerico\n",
    "    return atributo.astype('category').cat.codes"
   ]
  },
  {
   "cell_type": "code",
   "execution_count": 9,
   "id": "37b8586b",
   "metadata": {},
   "outputs": [],
   "source": [
    "# Convertir los datos categoricos a numerico\n",
    "df['genero'] = Categorico_a_numerico(df['genero'])\n"
   ]
  },
  {
   "cell_type": "code",
   "execution_count": 13,
   "id": "053c7313",
   "metadata": {},
   "outputs": [
    {
     "data": {
      "text/html": [
       "<div>\n",
       "<style scoped>\n",
       "    .dataframe tbody tr th:only-of-type {\n",
       "        vertical-align: middle;\n",
       "    }\n",
       "\n",
       "    .dataframe tbody tr th {\n",
       "        vertical-align: top;\n",
       "    }\n",
       "\n",
       "    .dataframe thead th {\n",
       "        text-align: right;\n",
       "    }\n",
       "</style>\n",
       "<table border=\"1\" class=\"dataframe\">\n",
       "  <thead>\n",
       "    <tr style=\"text-align: right;\">\n",
       "      <th></th>\n",
       "      <th>frecuencia_media</th>\n",
       "      <th>sd</th>\n",
       "      <th>mediana</th>\n",
       "      <th>Q1</th>\n",
       "      <th>Q3</th>\n",
       "      <th>IQR</th>\n",
       "      <th>skew</th>\n",
       "      <th>kurt</th>\n",
       "      <th>sp.ent</th>\n",
       "      <th>sfm</th>\n",
       "      <th>...</th>\n",
       "      <th>centroide</th>\n",
       "      <th>meanfun</th>\n",
       "      <th>minfun</th>\n",
       "      <th>maxfun</th>\n",
       "      <th>meandom</th>\n",
       "      <th>mindom</th>\n",
       "      <th>maxdom</th>\n",
       "      <th>dfrange</th>\n",
       "      <th>modindx</th>\n",
       "      <th>genero</th>\n",
       "    </tr>\n",
       "  </thead>\n",
       "  <tbody>\n",
       "    <tr>\n",
       "      <th>0</th>\n",
       "      <td>0.059781</td>\n",
       "      <td>0.064241</td>\n",
       "      <td>0.032027</td>\n",
       "      <td>0.015071</td>\n",
       "      <td>0.090193</td>\n",
       "      <td>0.075122</td>\n",
       "      <td>12.863462</td>\n",
       "      <td>274.402905</td>\n",
       "      <td>0.893369</td>\n",
       "      <td>0.491918</td>\n",
       "      <td>...</td>\n",
       "      <td>0.059781</td>\n",
       "      <td>0.084279</td>\n",
       "      <td>0.015702</td>\n",
       "      <td>0.275862</td>\n",
       "      <td>0.007812</td>\n",
       "      <td>0.007812</td>\n",
       "      <td>0.007812</td>\n",
       "      <td>0.000000</td>\n",
       "      <td>0.000000</td>\n",
       "      <td>1</td>\n",
       "    </tr>\n",
       "    <tr>\n",
       "      <th>1</th>\n",
       "      <td>0.066009</td>\n",
       "      <td>0.067310</td>\n",
       "      <td>0.040229</td>\n",
       "      <td>0.019414</td>\n",
       "      <td>0.092666</td>\n",
       "      <td>0.073252</td>\n",
       "      <td>22.423285</td>\n",
       "      <td>634.613855</td>\n",
       "      <td>0.892193</td>\n",
       "      <td>0.513724</td>\n",
       "      <td>...</td>\n",
       "      <td>0.066009</td>\n",
       "      <td>0.107937</td>\n",
       "      <td>0.015826</td>\n",
       "      <td>0.250000</td>\n",
       "      <td>0.009014</td>\n",
       "      <td>0.007812</td>\n",
       "      <td>0.054688</td>\n",
       "      <td>0.046875</td>\n",
       "      <td>0.052632</td>\n",
       "      <td>1</td>\n",
       "    </tr>\n",
       "    <tr>\n",
       "      <th>2</th>\n",
       "      <td>0.077316</td>\n",
       "      <td>0.083829</td>\n",
       "      <td>0.036718</td>\n",
       "      <td>0.008701</td>\n",
       "      <td>0.131908</td>\n",
       "      <td>0.123207</td>\n",
       "      <td>30.757155</td>\n",
       "      <td>1024.927705</td>\n",
       "      <td>0.846389</td>\n",
       "      <td>0.478905</td>\n",
       "      <td>...</td>\n",
       "      <td>0.077316</td>\n",
       "      <td>0.098706</td>\n",
       "      <td>0.015656</td>\n",
       "      <td>0.271186</td>\n",
       "      <td>0.007990</td>\n",
       "      <td>0.007812</td>\n",
       "      <td>0.015625</td>\n",
       "      <td>0.007812</td>\n",
       "      <td>0.046512</td>\n",
       "      <td>1</td>\n",
       "    </tr>\n",
       "    <tr>\n",
       "      <th>3</th>\n",
       "      <td>0.151228</td>\n",
       "      <td>0.072111</td>\n",
       "      <td>0.158011</td>\n",
       "      <td>0.096582</td>\n",
       "      <td>0.207955</td>\n",
       "      <td>0.111374</td>\n",
       "      <td>1.232831</td>\n",
       "      <td>4.177296</td>\n",
       "      <td>0.963322</td>\n",
       "      <td>0.727232</td>\n",
       "      <td>...</td>\n",
       "      <td>0.151228</td>\n",
       "      <td>0.088965</td>\n",
       "      <td>0.017798</td>\n",
       "      <td>0.250000</td>\n",
       "      <td>0.201497</td>\n",
       "      <td>0.007812</td>\n",
       "      <td>0.562500</td>\n",
       "      <td>0.554688</td>\n",
       "      <td>0.247119</td>\n",
       "      <td>1</td>\n",
       "    </tr>\n",
       "    <tr>\n",
       "      <th>4</th>\n",
       "      <td>0.135120</td>\n",
       "      <td>0.079146</td>\n",
       "      <td>0.124656</td>\n",
       "      <td>0.078720</td>\n",
       "      <td>0.206045</td>\n",
       "      <td>0.127325</td>\n",
       "      <td>1.101174</td>\n",
       "      <td>4.333713</td>\n",
       "      <td>0.971955</td>\n",
       "      <td>0.783568</td>\n",
       "      <td>...</td>\n",
       "      <td>0.135120</td>\n",
       "      <td>0.106398</td>\n",
       "      <td>0.016931</td>\n",
       "      <td>0.266667</td>\n",
       "      <td>0.712812</td>\n",
       "      <td>0.007812</td>\n",
       "      <td>5.484375</td>\n",
       "      <td>5.476562</td>\n",
       "      <td>0.208274</td>\n",
       "      <td>1</td>\n",
       "    </tr>\n",
       "  </tbody>\n",
       "</table>\n",
       "<p>5 rows × 21 columns</p>\n",
       "</div>"
      ],
      "text/plain": [
       "   frecuencia_media        sd   mediana        Q1        Q3       IQR   \n",
       "0          0.059781  0.064241  0.032027  0.015071  0.090193  0.075122  \\\n",
       "1          0.066009  0.067310  0.040229  0.019414  0.092666  0.073252   \n",
       "2          0.077316  0.083829  0.036718  0.008701  0.131908  0.123207   \n",
       "3          0.151228  0.072111  0.158011  0.096582  0.207955  0.111374   \n",
       "4          0.135120  0.079146  0.124656  0.078720  0.206045  0.127325   \n",
       "\n",
       "        skew         kurt    sp.ent       sfm  ...  centroide   meanfun   \n",
       "0  12.863462   274.402905  0.893369  0.491918  ...   0.059781  0.084279  \\\n",
       "1  22.423285   634.613855  0.892193  0.513724  ...   0.066009  0.107937   \n",
       "2  30.757155  1024.927705  0.846389  0.478905  ...   0.077316  0.098706   \n",
       "3   1.232831     4.177296  0.963322  0.727232  ...   0.151228  0.088965   \n",
       "4   1.101174     4.333713  0.971955  0.783568  ...   0.135120  0.106398   \n",
       "\n",
       "     minfun    maxfun   meandom    mindom    maxdom   dfrange   modindx   \n",
       "0  0.015702  0.275862  0.007812  0.007812  0.007812  0.000000  0.000000  \\\n",
       "1  0.015826  0.250000  0.009014  0.007812  0.054688  0.046875  0.052632   \n",
       "2  0.015656  0.271186  0.007990  0.007812  0.015625  0.007812  0.046512   \n",
       "3  0.017798  0.250000  0.201497  0.007812  0.562500  0.554688  0.247119   \n",
       "4  0.016931  0.266667  0.712812  0.007812  5.484375  5.476562  0.208274   \n",
       "\n",
       "   genero  \n",
       "0       1  \n",
       "1       1  \n",
       "2       1  \n",
       "3       1  \n",
       "4       1  \n",
       "\n",
       "[5 rows x 21 columns]"
      ]
     },
     "execution_count": 13,
     "metadata": {},
     "output_type": "execute_result"
    }
   ],
   "source": [
    "# Datos despues de la correcion\n",
    "df.head()"
   ]
  },
  {
   "attachments": {},
   "cell_type": "markdown",
   "id": "6a80c8db",
   "metadata": {},
   "source": [
    "# **3. APLICACION DEL MODELO PREDICTIVO**"
   ]
  },
  {
   "attachments": {},
   "cell_type": "markdown",
   "id": "e1a17eae",
   "metadata": {},
   "source": [
    "## Separacion de datos para entrenamiento y test"
   ]
  },
  {
   "cell_type": "code",
   "execution_count": 14,
   "id": "7c043e89",
   "metadata": {},
   "outputs": [],
   "source": [
    "x = df.drop(['genero'], axis = 1)\n",
    "y = df['genero']\n",
    "x_train, x_test, y_train, y_test = train_test_split(x, y, train_size=0.8)"
   ]
  },
  {
   "attachments": {},
   "cell_type": "markdown",
   "id": "4ef5f9e8",
   "metadata": {},
   "source": [
    "## Entrenamiento con arbo de decision"
   ]
  },
  {
   "cell_type": "code",
   "execution_count": 15,
   "id": "f9cf2fbd",
   "metadata": {},
   "outputs": [
    {
     "data": {
      "text/plain": [
       "0.9700315457413249"
      ]
     },
     "execution_count": 15,
     "metadata": {},
     "output_type": "execute_result"
    }
   ],
   "source": [
    "modelo = DecisionTreeClassifier(criterion='gini', max_depth=5)\n",
    "modelo.fit(x_train, y_train)\n",
    "modelo.score(x_test, y_test)"
   ]
  },
  {
   "attachments": {},
   "cell_type": "markdown",
   "id": "1e74f081",
   "metadata": {},
   "source": [
    "# **4. PREDICCION DEL MODELO**"
   ]
  },
  {
   "attachments": {},
   "cell_type": "markdown",
   "id": "e1dc0f8f",
   "metadata": {},
   "source": [
    "## Prediccion de datos de test"
   ]
  },
  {
   "cell_type": "code",
   "execution_count": 16,
   "id": "9d669e93",
   "metadata": {},
   "outputs": [],
   "source": [
    "pred = modelo.predict(x_test)"
   ]
  },
  {
   "attachments": {},
   "cell_type": "markdown",
   "id": "aafb8237",
   "metadata": {},
   "source": [
    "## Resultados de la prediccion"
   ]
  },
  {
   "cell_type": "code",
   "execution_count": 17,
   "id": "c94db1ff",
   "metadata": {},
   "outputs": [
    {
     "data": {
      "text/plain": [
       "array([0, 0, 1, 1, 1, 1, 0, 1, 0, 1, 0, 1, 0, 0, 0, 1, 1, 0, 0, 1, 1, 0,\n",
       "       0, 1, 1, 1, 1, 1, 0, 1, 0, 0, 1, 0, 0, 1, 0, 0, 1, 1, 1, 0, 1, 0,\n",
       "       1, 1, 1, 1, 1, 1, 0, 0, 1, 1, 0, 1, 1, 1, 0, 1, 1, 0, 0, 0, 1, 0,\n",
       "       0, 1, 0, 0, 0, 1, 0, 0, 0, 0, 0, 1, 1, 0, 0, 0, 0, 0, 0, 1, 0, 1,\n",
       "       1, 1, 0, 0, 0, 1, 0, 1, 0, 1, 0, 0, 0, 0, 0, 1, 1, 0, 0, 0, 1, 0,\n",
       "       0, 1, 1, 0, 0, 0, 0, 1, 0, 0, 1, 0, 0, 0, 0, 0, 1, 0, 0, 0, 1, 0,\n",
       "       1, 0, 1, 0, 1, 0, 0, 0, 0, 1, 1, 0, 1, 0, 0, 1, 1, 1, 0, 1, 1, 0,\n",
       "       1, 1, 0, 0, 0, 0, 0, 1, 0, 0, 0, 1, 0, 0, 1, 1, 0, 0, 0, 0, 0, 0,\n",
       "       0, 0, 1, 1, 0, 1, 1, 1, 0, 1, 0, 1, 0, 1, 1, 1, 0, 1, 0, 0, 1, 1,\n",
       "       1, 1, 0, 1, 0, 1, 0, 1, 1, 0, 1, 0, 1, 0, 0, 1, 0, 1, 0, 1, 0, 1,\n",
       "       0, 1, 1, 1, 0, 0, 0, 0, 1, 1, 1, 1, 0, 1, 1, 1, 0, 1, 1, 1, 0, 1,\n",
       "       0, 1, 0, 0, 0, 1, 1, 1, 1, 1, 1, 0, 0, 1, 1, 1, 0, 0, 0, 1, 1, 1,\n",
       "       1, 0, 1, 1, 1, 1, 0, 0, 1, 0, 0, 0, 0, 1, 0, 1, 0, 1, 0, 1, 1, 0,\n",
       "       0, 1, 0, 0, 0, 0, 1, 1, 1, 1, 1, 0, 1, 0, 1, 0, 1, 1, 1, 0, 0, 0,\n",
       "       0, 0, 1, 0, 1, 0, 0, 0, 0, 1, 1, 0, 0, 1, 1, 0, 1, 0, 0, 1, 1, 0,\n",
       "       0, 0, 1, 0, 1, 1, 1, 0, 1, 0, 0, 1, 1, 0, 1, 0, 1, 0, 1, 1, 1, 1,\n",
       "       0, 1, 1, 1, 0, 1, 0, 1, 0, 1, 1, 0, 0, 1, 0, 1, 1, 1, 0, 0, 0, 0,\n",
       "       0, 0, 1, 0, 0, 0, 0, 1, 0, 0, 0, 0, 0, 0, 1, 1, 1, 1, 0, 0, 0, 1,\n",
       "       1, 0, 0, 1, 0, 1, 0, 0, 1, 1, 1, 0, 0, 0, 1, 0, 1, 0, 0, 0, 0, 0,\n",
       "       0, 0, 1, 0, 0, 1, 0, 0, 1, 1, 0, 0, 0, 1, 0, 1, 0, 1, 1, 1, 0, 1,\n",
       "       1, 1, 0, 0, 1, 1, 1, 1, 0, 1, 1, 0, 0, 0, 1, 0, 0, 1, 0, 1, 0, 0,\n",
       "       0, 1, 0, 1, 1, 0, 0, 0, 1, 0, 0, 0, 0, 1, 1, 1, 0, 1, 0, 1, 1, 0,\n",
       "       1, 1, 0, 0, 1, 1, 0, 1, 0, 0, 0, 0, 0, 1, 0, 1, 0, 1, 0, 0, 1, 0,\n",
       "       0, 0, 0, 1, 0, 0, 1, 1, 0, 0, 1, 0, 1, 0, 1, 0, 1, 1, 1, 0, 1, 1,\n",
       "       1, 1, 0, 0, 1, 1, 1, 1, 0, 1, 0, 1, 0, 1, 0, 0, 0, 1, 0, 1, 0, 0,\n",
       "       1, 0, 0, 0, 0, 0, 0, 0, 1, 1, 1, 0, 1, 0, 1, 0, 0, 1, 0, 0, 0, 1,\n",
       "       0, 0, 1, 1, 0, 1, 0, 0, 1, 1, 1, 0, 1, 1, 1, 0, 0, 0, 1, 1, 1, 0,\n",
       "       0, 0, 1, 0, 0, 1, 0, 1, 0, 0, 0, 0, 1, 1, 1, 1, 0, 0, 0, 1, 1, 0,\n",
       "       0, 1, 0, 1, 0, 0, 1, 1, 1, 0, 1, 0, 0, 0, 1, 1, 1, 1], dtype=int8)"
      ]
     },
     "execution_count": 17,
     "metadata": {},
     "output_type": "execute_result"
    }
   ],
   "source": [
    "pred"
   ]
  },
  {
   "attachments": {},
   "cell_type": "markdown",
   "id": "e6d31d3e",
   "metadata": {},
   "source": [
    "## Resultados de los datos reales"
   ]
  },
  {
   "cell_type": "code",
   "execution_count": 18,
   "id": "f084f20d",
   "metadata": {},
   "outputs": [
    {
     "data": {
      "text/plain": [
       "2823    0\n",
       "1852    0\n",
       "636     1\n",
       "1153    1\n",
       "72      1\n",
       "       ..\n",
       "2869    0\n",
       "1049    1\n",
       "908     1\n",
       "494     1\n",
       "1143    1\n",
       "Name: genero, Length: 634, dtype: int8"
      ]
     },
     "execution_count": 18,
     "metadata": {},
     "output_type": "execute_result"
    }
   ],
   "source": [
    "y_test"
   ]
  },
  {
   "attachments": {},
   "cell_type": "markdown",
   "id": "01a3ac6b",
   "metadata": {},
   "source": [
    "# **5. CALCULO Y VISUALIZACION DE MATRICAS**"
   ]
  },
  {
   "attachments": {},
   "cell_type": "markdown",
   "id": "317229e4",
   "metadata": {},
   "source": [
    "## Obtencion de metricas"
   ]
  },
  {
   "cell_type": "code",
   "execution_count": 19,
   "id": "af6cea66",
   "metadata": {},
   "outputs": [],
   "source": [
    "MatrizConfusion = confusion_matrix(y_test, pred)\n",
    "Exactitud = metrics.accuracy_score(y_test, pred)\n",
    "Presicion = metrics.precision_score(y_test, pred)\n",
    "Sensibilidad = metrics.recall_score(y_test, pred)\n",
    "PuntuacionF1 = metrics.f1_score(y_test, pred)\n",
    "Reporte = classification_report(y_test, pred)"
   ]
  },
  {
   "attachments": {},
   "cell_type": "markdown",
   "id": "1d112bcf",
   "metadata": {},
   "source": [
    "## Matriz de confusion"
   ]
  },
  {
   "cell_type": "code",
   "execution_count": 20,
   "id": "ed58b6c5",
   "metadata": {},
   "outputs": [
    {
     "name": "stdout",
     "output_type": "stream",
     "text": [
      "Matriz de confusion\n",
      "[[327   9]\n",
      " [ 10 288]]\n"
     ]
    }
   ],
   "source": [
    "print('Matriz de confusion')\n",
    "print(MatrizConfusion)"
   ]
  },
  {
   "cell_type": "code",
   "execution_count": 21,
   "id": "6c2df543",
   "metadata": {},
   "outputs": [
    {
     "name": "stdout",
     "output_type": "stream",
     "text": [
      "Exactitud     :  0.9700315457413249\n",
      "Presicion     :  0.9696969696969697\n",
      "Sensibilidad  :  0.9664429530201343\n",
      "Puntuacion F1 :  0.9680672268907563\n"
     ]
    }
   ],
   "source": [
    "print('Exactitud     : ', Exactitud)\n",
    "print('Presicion     : ', Presicion)\n",
    "print('Sensibilidad  : ', Sensibilidad)\n",
    "print('Puntuacion F1 : ', PuntuacionF1)"
   ]
  },
  {
   "cell_type": "code",
   "execution_count": 22,
   "id": "d8396370",
   "metadata": {},
   "outputs": [
    {
     "name": "stdout",
     "output_type": "stream",
     "text": [
      "Reporte de metricas: \n",
      "              precision    recall  f1-score   support\n",
      "\n",
      "           0       0.97      0.97      0.97       336\n",
      "           1       0.97      0.97      0.97       298\n",
      "\n",
      "    accuracy                           0.97       634\n",
      "   macro avg       0.97      0.97      0.97       634\n",
      "weighted avg       0.97      0.97      0.97       634\n",
      "\n"
     ]
    }
   ],
   "source": [
    "print('Reporte de metricas: ')\n",
    "print(Reporte)"
   ]
  },
  {
   "attachments": {},
   "cell_type": "markdown",
   "id": "536b664d",
   "metadata": {},
   "source": [
    "## Curva ROC"
   ]
  },
  {
   "cell_type": "code",
   "execution_count": 23,
   "id": "bbf0a45b",
   "metadata": {},
   "outputs": [
    {
     "data": {
      "text/plain": [
       "<sklearn.metrics._plot.roc_curve.RocCurveDisplay at 0x7fd0eaf60070>"
      ]
     },
     "execution_count": 23,
     "metadata": {},
     "output_type": "execute_result"
    },
    {
     "data": {
      "image/png": "[encoded data removed]",
      "text/plain": [
       "<Figure size 640x480 with 1 Axes>"
      ]
     },
     "metadata": {},
     "output_type": "display_data"
    }
   ],
   "source": [
    "RocCurveDisplay.from_estimator(modelo, x_test, y_test)"
   ]
  }
 ],
 "metadata": {
  "kernelspec": {
   "display_name": "Python 3 (ipykernel)",
   "language": "python",
   "name": "python3"
  },
  "language_info": {
   "codemirror_mode": {
    "name": "ipython",
    "version": 3
   },
   "file_extension": ".py",
   "mimetype": "text/x-python",
   "name": "python",
   "nbconvert_exporter": "python",
   "pygments_lexer": "ipython3",
   "version": "3.10.11"
  }
 },
 "nbformat": 4,
 "nbformat_minor": 5
}

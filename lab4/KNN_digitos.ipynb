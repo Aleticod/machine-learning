{
 "cells": [
  {
   "attachments": {},
   "cell_type": "markdown",
   "metadata": {},
   "source": [
    "# **K-Vecinos más cercanos**\n",
    "\n",
    "```\n",
    "Autor : Luis Beltran Palma Ttito\n",
    "Lugar : Cusco, Perú, 2023.\n",
    "Proposito : K-NN en la clasificación de digitos manuscritos\n",
    "```"
   ]
  },
  {
   "attachments": {},
   "cell_type": "markdown",
   "metadata": {},
   "source": [
    "# **1. PASO PREVIO**"
   ]
  },
  {
   "attachments": {},
   "cell_type": "markdown",
   "metadata": {},
   "source": [
    "## Importacion de librerias"
   ]
  },
  {
   "cell_type": "code",
   "execution_count": 1,
   "metadata": {},
   "outputs": [],
   "source": [
    "import numpy as np\n",
    "import matplotlib.pyplot as plt\n",
    "import pandas as pd\n",
    "import seaborn as sns\n",
    "import random\n",
    "# Librería: scikit learn, \"sklearn\"\n",
    "# Módulo train_test_split: separación de datos para entrenamiento y test\n",
    "from sklearn.model_selection import train_test_split\n",
    "# Módulo KNeighborsClassifier: Implementa K-NN para clasificación\n",
    "from sklearn.neighbors import KNeighborsClassifier\n",
    "# Módulo classification_report: Métricas\n",
    "from sklearn.metrics import classification_report\n",
    "# Módulo accuracy_score: metrica de exactitud\n",
    "from sklearn.metrics import accuracy_score\n",
    "# Módulo confusion_matrix: matriz de confusión\n",
    "from sklearn.metrics import confusion_matrix"
   ]
  },
  {
   "attachments": {},
   "cell_type": "markdown",
   "metadata": {},
   "source": [
    "## Importación de datos"
   ]
  },
  {
   "cell_type": "code",
   "execution_count": 13,
   "metadata": {},
   "outputs": [
    {
     "data": {
      "text/html": [
       "<div>\n",
       "<style scoped>\n",
       "    .dataframe tbody tr th:only-of-type {\n",
       "        vertical-align: middle;\n",
       "    }\n",
       "\n",
       "    .dataframe tbody tr th {\n",
       "        vertical-align: top;\n",
       "    }\n",
       "\n",
       "    .dataframe thead th {\n",
       "        text-align: right;\n",
       "    }\n",
       "</style>\n",
       "<table border=\"1\" class=\"dataframe\">\n",
       "  <thead>\n",
       "    <tr style=\"text-align: right;\">\n",
       "      <th></th>\n",
       "      <th>p1</th>\n",
       "      <th>p2</th>\n",
       "      <th>p3</th>\n",
       "      <th>p4</th>\n",
       "      <th>p5</th>\n",
       "      <th>p6</th>\n",
       "      <th>p7</th>\n",
       "      <th>p8</th>\n",
       "      <th>p9</th>\n",
       "      <th>p10</th>\n",
       "      <th>...</th>\n",
       "      <th>p248</th>\n",
       "      <th>p249</th>\n",
       "      <th>p250</th>\n",
       "      <th>p251</th>\n",
       "      <th>p252</th>\n",
       "      <th>p253</th>\n",
       "      <th>p254</th>\n",
       "      <th>p255</th>\n",
       "      <th>p256</th>\n",
       "      <th>digito</th>\n",
       "    </tr>\n",
       "  </thead>\n",
       "  <tbody>\n",
       "    <tr>\n",
       "      <th>0</th>\n",
       "      <td>0</td>\n",
       "      <td>0</td>\n",
       "      <td>0</td>\n",
       "      <td>0</td>\n",
       "      <td>0</td>\n",
       "      <td>0</td>\n",
       "      <td>1</td>\n",
       "      <td>1</td>\n",
       "      <td>1</td>\n",
       "      <td>1</td>\n",
       "      <td>...</td>\n",
       "      <td>0</td>\n",
       "      <td>0</td>\n",
       "      <td>0</td>\n",
       "      <td>0</td>\n",
       "      <td>0</td>\n",
       "      <td>0</td>\n",
       "      <td>0</td>\n",
       "      <td>0</td>\n",
       "      <td>0</td>\n",
       "      <td>0</td>\n",
       "    </tr>\n",
       "    <tr>\n",
       "      <th>1</th>\n",
       "      <td>0</td>\n",
       "      <td>0</td>\n",
       "      <td>0</td>\n",
       "      <td>0</td>\n",
       "      <td>0</td>\n",
       "      <td>1</td>\n",
       "      <td>1</td>\n",
       "      <td>1</td>\n",
       "      <td>1</td>\n",
       "      <td>1</td>\n",
       "      <td>...</td>\n",
       "      <td>1</td>\n",
       "      <td>1</td>\n",
       "      <td>1</td>\n",
       "      <td>1</td>\n",
       "      <td>0</td>\n",
       "      <td>0</td>\n",
       "      <td>0</td>\n",
       "      <td>0</td>\n",
       "      <td>0</td>\n",
       "      <td>0</td>\n",
       "    </tr>\n",
       "    <tr>\n",
       "      <th>2</th>\n",
       "      <td>0</td>\n",
       "      <td>0</td>\n",
       "      <td>0</td>\n",
       "      <td>0</td>\n",
       "      <td>0</td>\n",
       "      <td>0</td>\n",
       "      <td>0</td>\n",
       "      <td>0</td>\n",
       "      <td>0</td>\n",
       "      <td>1</td>\n",
       "      <td>...</td>\n",
       "      <td>0</td>\n",
       "      <td>0</td>\n",
       "      <td>0</td>\n",
       "      <td>0</td>\n",
       "      <td>0</td>\n",
       "      <td>0</td>\n",
       "      <td>0</td>\n",
       "      <td>0</td>\n",
       "      <td>0</td>\n",
       "      <td>0</td>\n",
       "    </tr>\n",
       "    <tr>\n",
       "      <th>3</th>\n",
       "      <td>0</td>\n",
       "      <td>0</td>\n",
       "      <td>0</td>\n",
       "      <td>0</td>\n",
       "      <td>0</td>\n",
       "      <td>0</td>\n",
       "      <td>1</td>\n",
       "      <td>1</td>\n",
       "      <td>1</td>\n",
       "      <td>1</td>\n",
       "      <td>...</td>\n",
       "      <td>0</td>\n",
       "      <td>0</td>\n",
       "      <td>0</td>\n",
       "      <td>0</td>\n",
       "      <td>0</td>\n",
       "      <td>0</td>\n",
       "      <td>0</td>\n",
       "      <td>0</td>\n",
       "      <td>0</td>\n",
       "      <td>0</td>\n",
       "    </tr>\n",
       "    <tr>\n",
       "      <th>4</th>\n",
       "      <td>0</td>\n",
       "      <td>0</td>\n",
       "      <td>0</td>\n",
       "      <td>0</td>\n",
       "      <td>0</td>\n",
       "      <td>0</td>\n",
       "      <td>0</td>\n",
       "      <td>0</td>\n",
       "      <td>0</td>\n",
       "      <td>1</td>\n",
       "      <td>...</td>\n",
       "      <td>0</td>\n",
       "      <td>0</td>\n",
       "      <td>0</td>\n",
       "      <td>0</td>\n",
       "      <td>0</td>\n",
       "      <td>0</td>\n",
       "      <td>0</td>\n",
       "      <td>0</td>\n",
       "      <td>0</td>\n",
       "      <td>0</td>\n",
       "    </tr>\n",
       "  </tbody>\n",
       "</table>\n",
       "<p>5 rows × 257 columns</p>\n",
       "</div>"
      ],
      "text/plain": [
       "   p1  p2  p3  p4  p5  p6  p7  p8  p9  p10  ...  p248  p249  p250  p251  p252  \\\n",
       "0   0   0   0   0   0   0   1   1   1    1  ...     0     0     0     0     0   \n",
       "1   0   0   0   0   0   1   1   1   1    1  ...     1     1     1     1     0   \n",
       "2   0   0   0   0   0   0   0   0   0    1  ...     0     0     0     0     0   \n",
       "3   0   0   0   0   0   0   1   1   1    1  ...     0     0     0     0     0   \n",
       "4   0   0   0   0   0   0   0   0   0    1  ...     0     0     0     0     0   \n",
       "\n",
       "   p253  p254  p255  p256  digito  \n",
       "0     0     0     0     0       0  \n",
       "1     0     0     0     0       0  \n",
       "2     0     0     0     0       0  \n",
       "3     0     0     0     0       0  \n",
       "4     0     0     0     0       0  \n",
       "\n",
       "[5 rows x 257 columns]"
      ]
     },
     "execution_count": 13,
     "metadata": {},
     "output_type": "execute_result"
    }
   ],
   "source": [
    "datos = pd.read_csv(\"./digito16x16.csv\", sep=',', header=0)\n",
    "# muestras los primero 5 valores\n",
    "datos.head()"
   ]
  },
  {
   "attachments": {},
   "cell_type": "markdown",
   "metadata": {},
   "source": [
    "## Distribución de clases"
   ]
  },
  {
   "cell_type": "code",
   "execution_count": 14,
   "metadata": {},
   "outputs": [
    {
     "data": {
      "image/png": "[encoded data removed]",
      "text/plain": [
       "<Figure size 640x480 with 1 Axes>"
      ]
     },
     "metadata": {},
     "output_type": "display_data"
    }
   ],
   "source": [
    "distribucion = datos.groupby('digito').size()\n",
    "plt.pie(distribucion, labels = ['cero','uno','dos', 'tres','cuatro','cinco','seis', 'siete', 'ocho', 'nueve'])\n",
    "plt.title('Distribución de clases')\n",
    "plt.show()"
   ]
  },
  {
   "attachments": {},
   "cell_type": "markdown",
   "metadata": {},
   "source": [
    "## Visualización de datos"
   ]
  },
  {
   "cell_type": "code",
   "execution_count": 15,
   "metadata": {},
   "outputs": [
    {
     "data": {
      "image/png": "[encoded data removed]",
      "text/plain": [
       "<Figure size 800x400 with 30 Axes>"
      ]
     },
     "metadata": {},
     "output_type": "display_data"
    }
   ],
   "source": [
    "X = datos.drop(['digito'], axis=1)\n",
    "y = datos['digito']\n",
    "ran = datos.shape[0]-1\n",
    "fig, ax = plt.subplots(3, 10, figsize=(8,4))\n",
    "for k in range(3):\n",
    "    for j in range(10):\n",
    "        azar = random.sample(range(ran),1)\n",
    "        img = np.array(X.iloc[azar].values)\n",
    "        img = np.array(img).reshape(16,16)\n",
    "        ax[k,j].imshow(img)\n",
    "        ax[k,j].set_xlabel(y[azar[0]])\n",
    "plt.show()"
   ]
  },
  {
   "attachments": {},
   "cell_type": "markdown",
   "metadata": {},
   "source": [
    "## **2. SEPARACIÓN DE DATOS PARA TRAINING Y TESTING**"
   ]
  },
  {
   "cell_type": "code",
   "execution_count": 16,
   "metadata": {},
   "outputs": [],
   "source": [
    "# Sparación de datos en entrada y salida\n",
    "X = datos.drop(['digito'], axis=1)\n",
    "y = datos['digito']\n",
    "# Sparación de datos para entrenamiento y test\n",
    "X_train, X_test, y_train, y_test = train_test_split(X.values, y.values, test_size = 0.30, random_state=13)"
   ]
  },
  {
   "attachments": {},
   "cell_type": "markdown",
   "metadata": {},
   "source": [
    "# **3. ENTRENAMIENTO Y TEST KNN**"
   ]
  },
  {
   "cell_type": "code",
   "execution_count": 18,
   "metadata": {},
   "outputs": [
    {
     "name": "stdout",
     "output_type": "stream",
     "text": [
      "Exactitud de K-NN, k=7, : 0.9184100418410042\n"
     ]
    }
   ],
   "source": [
    "# Definición del modelo\n",
    "Modelo = KNeighborsClassifier(n_neighbors = 1)\n",
    "# Entrenamiento del modelo\n",
    "Modelo.fit(X_train, y_train)\n",
    "# Test del modelo\n",
    "Exactitud = Modelo.score(X_test, y_test)\n",
    "print('Exactitud de K-NN, k=7, :', Exactitud)"
   ]
  },
  {
   "attachments": {},
   "cell_type": "markdown",
   "metadata": {},
   "source": [
    "## Matriz de confusión y exactitud"
   ]
  },
  {
   "cell_type": "code",
   "execution_count": 19,
   "metadata": {},
   "outputs": [
    {
     "name": "stdout",
     "output_type": "stream",
     "text": [
      "[[49  0  0  0  0  0  1  0  0  0]\n",
      " [ 0 55  0  0  1  0  0  1  0  0]\n",
      " [ 0  0 45  1  0  0  0  0  0  0]\n",
      " [ 0  0  0 43  0  0  0  0  0  1]\n",
      " [ 0  5  0  0 48  0  1  0  0  1]\n",
      " [ 0  0  0  1  0 44  2  0  0  1]\n",
      " [ 1  0  0  0  0  1 45  0  0  0]\n",
      " [ 0  3  1  0  0  0  1 43  0  0]\n",
      " [ 0  1  7  3  0  0  0  0 35  0]\n",
      " [ 0  2  0  0  0  2  0  0  1 32]]\n"
     ]
    }
   ],
   "source": [
    "# Test del modelo\n",
    "pred = Modelo.predict(X_test)\n",
    "# Matriz de confusión\n",
    "matriz = confusion_matrix(y_test, pred)\n",
    "print(matriz)"
   ]
  },
  {
   "cell_type": "code",
   "execution_count": 20,
   "metadata": {},
   "outputs": [
    {
     "data": {
      "text/plain": [
       "<Axes: >"
      ]
     },
     "execution_count": 20,
     "metadata": {},
     "output_type": "execute_result"
    },
    {
     "data": {
      "image/png": "[encoded data removed]",
      "text/plain": [
       "<Figure size 640x480 with 2 Axes>"
      ]
     },
     "metadata": {},
     "output_type": "display_data"
    }
   ],
   "source": [
    "categorias = ['cero','uno','dos', 'tres','cuatro','cinco','seis','siete','ocho','nueve']\n",
    "sns.heatmap(matriz, yticklabels=categorias, xticklabels=categorias)"
   ]
  },
  {
   "cell_type": "code",
   "execution_count": 21,
   "metadata": {},
   "outputs": [
    {
     "name": "stdout",
     "output_type": "stream",
     "text": [
      "Exactitud:  0.9184100418410042\n"
     ]
    }
   ],
   "source": [
    "from sklearn.metrics import accuracy_score\n",
    "# Calculo de acurracy (exactitud)\n",
    "accuracy = accuracy_score(y_test, pred)\n",
    "print('Exactitud: ',accuracy)"
   ]
  },
  {
   "attachments": {},
   "cell_type": "markdown",
   "metadata": {},
   "source": [
    "# **4. PREDICCIÓN DE NUEVOS CASOS**"
   ]
  },
  {
   "cell_type": "code",
   "execution_count": 22,
   "metadata": {},
   "outputs": [],
   "source": [
    "nuevo = np.array([[0,0,0,0,0,0,0,0,1,1,1,1,1,0,0,0,\n",
    "                    0,0,0,0,0,0,0,1,1,1,1,1,1,0,0,0,\n",
    "                    0,0,0,0,0,0,1,1,1,0,1,1,1,0,0,0,\n",
    "                    0,0,0,0,0,1,1,1,1,0,1,1,1,0,0,0,\n",
    "                    0,0,0,0,1,1,1,0,0,0,1,1,1,0,0,0,\n",
    "                    0,0,0,1,1,1,0,1,0,1,1,1,1,0,0,0,\n",
    "                    0,0,1,1,1,0,0,0,0,0,1,1,1,0,0,0,\n",
    "                    0,0,1,1,0,0,0,0,0,1,1,1,1,0,0,0,\n",
    "                    0,0,0,0,0,0,0,0,0,1,1,1,1,0,0,0,\n",
    "                    0,0,0,0,0,0,0,0,0,0,1,1,1,0,0,0,\n",
    "                    0,0,0,0,0,0,0,0,0,0,1,1,1,1,0,0,\n",
    "                    0,0,0,0,0,0,0,0,0,0,1,1,1,0,0,0,\n",
    "                    0,0,0,0,0,0,0,0,0,0,1,1,1,0,0,0,\n",
    "                    0,0,0,0,0,0,0,0,0,0,1,1,1,0,0,0,\n",
    "                    0,0,0,0,0,0,0,0,0,0,1,1,1,0,0,0,\n",
    "                    0,0,0,0,0,0,0,0,0,0,1,1,1,0,0,0]])"
   ]
  },
  {
   "cell_type": "code",
   "execution_count": 23,
   "metadata": {},
   "outputs": [
    {
     "name": "stdout",
     "output_type": "stream",
     "text": [
      "1\n"
     ]
    }
   ],
   "source": [
    "y_pred = Modelo.predict(nuevo)\n",
    "print(y_pred[0])"
   ]
  },
  {
   "cell_type": "code",
   "execution_count": null,
   "metadata": {},
   "outputs": [],
   "source": []
  }
 ],
 "metadata": {
  "kernelspec": {
   "display_name": "machine-learning",
   "language": "python",
   "name": "python3"
  },
  "language_info": {
   "codemirror_mode": {
    "name": "ipython",
    "version": 3
   },
   "file_extension": ".py",
   "mimetype": "text/x-python",
   "name": "python",
   "nbconvert_exporter": "python",
   "pygments_lexer": "ipython3",
   "version": "3.10.11"
  },
  "orig_nbformat": 4
 },
 "nbformat": 4,
 "nbformat_minor": 2
}

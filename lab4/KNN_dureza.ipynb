{
 "cells": [
  {
   "attachments": {},
   "cell_type": "markdown",
   "metadata": {},
   "source": [
    "# **K-Vecinos más cercanos**\n",
    "\n",
    "```\n",
    "Alumno : Pfoccori Quispe Alex Harvey\n",
    "Codigo: 193837\n",
    "Proposito : K-NN en la clasificación de dureza\n",
    "```"
   ]
  },
  {
   "attachments": {},
   "cell_type": "markdown",
   "metadata": {},
   "source": [
    "# **1. PASO PREVIO**"
   ]
  },
  {
   "attachments": {},
   "cell_type": "markdown",
   "metadata": {},
   "source": [
    "## Importacion de librerias"
   ]
  },
  {
   "cell_type": "code",
   "execution_count": 1,
   "metadata": {},
   "outputs": [],
   "source": [
    "import numpy as np\n",
    "import matplotlib.pyplot as plt\n",
    "import pandas as pd\n",
    "import seaborn as sns\n",
    "import random\n",
    "# Librería: scikit learn, \"sklearn\"\n",
    "# Módulo train_test_split: separación de datos para entrenamiento y test\n",
    "from sklearn.model_selection import train_test_split\n",
    "# Módulo KNeighborsClassifier: Implementa K-NN para clasificación\n",
    "from sklearn.neighbors import KNeighborsClassifier\n",
    "# Módulo classification_report: Métricas\n",
    "from sklearn.metrics import classification_report\n",
    "# Módulo accuracy_score: metrica de exactitud\n",
    "from sklearn.metrics import accuracy_score\n",
    "# Módulo confusion_matrix: matriz de confusión\n",
    "from sklearn.metrics import confusion_matrix"
   ]
  },
  {
   "attachments": {},
   "cell_type": "markdown",
   "metadata": {},
   "source": [
    "## Importación de datos"
   ]
  },
  {
   "cell_type": "code",
   "execution_count": 2,
   "metadata": {},
   "outputs": [
    {
     "data": {
      "text/html": [
       "<div>\n",
       "<style scoped>\n",
       "    .dataframe tbody tr th:only-of-type {\n",
       "        vertical-align: middle;\n",
       "    }\n",
       "\n",
       "    .dataframe tbody tr th {\n",
       "        vertical-align: top;\n",
       "    }\n",
       "\n",
       "    .dataframe thead th {\n",
       "        text-align: right;\n",
       "    }\n",
       "</style>\n",
       "<table border=\"1\" class=\"dataframe\">\n",
       "  <thead>\n",
       "    <tr style=\"text-align: right;\">\n",
       "      <th></th>\n",
       "      <th>PC</th>\n",
       "      <th>PMg</th>\n",
       "      <th>PP</th>\n",
       "      <th>PS</th>\n",
       "      <th>Psi</th>\n",
       "      <th>Pti</th>\n",
       "      <th>PNb</th>\n",
       "      <th>PCr</th>\n",
       "      <th>PBr</th>\n",
       "      <th>Pal</th>\n",
       "      <th>PV</th>\n",
       "      <th>Pcu</th>\n",
       "      <th>PCl</th>\n",
       "      <th>Pni</th>\n",
       "      <th>Pmo</th>\n",
       "      <th>Pn</th>\n",
       "      <th>Dureza</th>\n",
       "    </tr>\n",
       "  </thead>\n",
       "  <tbody>\n",
       "    <tr>\n",
       "      <th>0</th>\n",
       "      <td>0.243</td>\n",
       "      <td>1.27</td>\n",
       "      <td>0.015</td>\n",
       "      <td>0.0080</td>\n",
       "      <td>0.112</td>\n",
       "      <td>0.009</td>\n",
       "      <td>0.001</td>\n",
       "      <td>0.03</td>\n",
       "      <td>0.0004</td>\n",
       "      <td>0.039</td>\n",
       "      <td>0.003</td>\n",
       "      <td>0.03</td>\n",
       "      <td>0.0019</td>\n",
       "      <td>0.03</td>\n",
       "      <td>0.007</td>\n",
       "      <td>0.0058</td>\n",
       "      <td>293</td>\n",
       "    </tr>\n",
       "    <tr>\n",
       "      <th>1</th>\n",
       "      <td>0.231</td>\n",
       "      <td>1.26</td>\n",
       "      <td>0.015</td>\n",
       "      <td>0.0080</td>\n",
       "      <td>0.128</td>\n",
       "      <td>0.012</td>\n",
       "      <td>0.009</td>\n",
       "      <td>0.02</td>\n",
       "      <td>0.0005</td>\n",
       "      <td>0.028</td>\n",
       "      <td>0.003</td>\n",
       "      <td>0.01</td>\n",
       "      <td>0.0028</td>\n",
       "      <td>0.02</td>\n",
       "      <td>0.007</td>\n",
       "      <td>0.0035</td>\n",
       "      <td>293</td>\n",
       "    </tr>\n",
       "    <tr>\n",
       "      <th>2</th>\n",
       "      <td>0.220</td>\n",
       "      <td>1.26</td>\n",
       "      <td>0.017</td>\n",
       "      <td>0.0046</td>\n",
       "      <td>0.129</td>\n",
       "      <td>0.013</td>\n",
       "      <td>0.001</td>\n",
       "      <td>0.03</td>\n",
       "      <td>0.0004</td>\n",
       "      <td>0.044</td>\n",
       "      <td>0.004</td>\n",
       "      <td>0.03</td>\n",
       "      <td>0.0023</td>\n",
       "      <td>0.03</td>\n",
       "      <td>0.010</td>\n",
       "      <td>0.0048</td>\n",
       "      <td>293</td>\n",
       "    </tr>\n",
       "    <tr>\n",
       "      <th>3</th>\n",
       "      <td>0.230</td>\n",
       "      <td>1.26</td>\n",
       "      <td>0.014</td>\n",
       "      <td>0.0040</td>\n",
       "      <td>0.130</td>\n",
       "      <td>0.013</td>\n",
       "      <td>0.002</td>\n",
       "      <td>0.01</td>\n",
       "      <td>0.0003</td>\n",
       "      <td>0.027</td>\n",
       "      <td>0.001</td>\n",
       "      <td>0.01</td>\n",
       "      <td>0.0022</td>\n",
       "      <td>0.01</td>\n",
       "      <td>0.003</td>\n",
       "      <td>0.0064</td>\n",
       "      <td>293</td>\n",
       "    </tr>\n",
       "    <tr>\n",
       "      <th>4</th>\n",
       "      <td>0.232</td>\n",
       "      <td>1.26</td>\n",
       "      <td>0.012</td>\n",
       "      <td>0.0073</td>\n",
       "      <td>0.135</td>\n",
       "      <td>0.011</td>\n",
       "      <td>0.001</td>\n",
       "      <td>0.02</td>\n",
       "      <td>0.0005</td>\n",
       "      <td>0.045</td>\n",
       "      <td>0.003</td>\n",
       "      <td>0.02</td>\n",
       "      <td>0.0026</td>\n",
       "      <td>0.02</td>\n",
       "      <td>0.010</td>\n",
       "      <td>0.0065</td>\n",
       "      <td>293</td>\n",
       "    </tr>\n",
       "  </tbody>\n",
       "</table>\n",
       "</div>"
      ],
      "text/plain": [
       "      PC   PMg     PP      PS    Psi    Pti    PNb   PCr     PBr    Pal  \\\n",
       "0  0.243  1.27  0.015  0.0080  0.112  0.009  0.001  0.03  0.0004  0.039   \n",
       "1  0.231  1.26  0.015  0.0080  0.128  0.012  0.009  0.02  0.0005  0.028   \n",
       "2  0.220  1.26  0.017  0.0046  0.129  0.013  0.001  0.03  0.0004  0.044   \n",
       "3  0.230  1.26  0.014  0.0040  0.130  0.013  0.002  0.01  0.0003  0.027   \n",
       "4  0.232  1.26  0.012  0.0073  0.135  0.011  0.001  0.02  0.0005  0.045   \n",
       "\n",
       "      PV   Pcu     PCl   Pni    Pmo      Pn  Dureza  \n",
       "0  0.003  0.03  0.0019  0.03  0.007  0.0058     293  \n",
       "1  0.003  0.01  0.0028  0.02  0.007  0.0035     293  \n",
       "2  0.004  0.03  0.0023  0.03  0.010  0.0048     293  \n",
       "3  0.001  0.01  0.0022  0.01  0.003  0.0064     293  \n",
       "4  0.003  0.02  0.0026  0.02  0.010  0.0065     293  "
      ]
     },
     "execution_count": 2,
     "metadata": {},
     "output_type": "execute_result"
    }
   ],
   "source": [
    "datos = pd.read_csv(\"./dureza.csv\", sep=',', header=0)\n",
    "# muestras los primero 5 valores\n",
    "datos.head()"
   ]
  },
  {
   "attachments": {},
   "cell_type": "markdown",
   "metadata": {},
   "source": [
    "## Información del dataset"
   ]
  },
  {
   "cell_type": "code",
   "execution_count": 3,
   "metadata": {},
   "outputs": [
    {
     "name": "stdout",
     "output_type": "stream",
     "text": [
      "<class 'pandas.core.frame.DataFrame'>\n",
      "RangeIndex: 140 entries, 0 to 139\n",
      "Data columns (total 17 columns):\n",
      " #   Column  Non-Null Count  Dtype  \n",
      "---  ------  --------------  -----  \n",
      " 0   PC      140 non-null    float64\n",
      " 1   PMg     140 non-null    float64\n",
      " 2   PP      140 non-null    float64\n",
      " 3   PS      140 non-null    float64\n",
      " 4   Psi     140 non-null    float64\n",
      " 5   Pti     140 non-null    float64\n",
      " 6   PNb     140 non-null    float64\n",
      " 7   PCr     140 non-null    float64\n",
      " 8   PBr     140 non-null    float64\n",
      " 9   Pal     140 non-null    float64\n",
      " 10  PV      140 non-null    float64\n",
      " 11  Pcu     140 non-null    float64\n",
      " 12  PCl     140 non-null    float64\n",
      " 13  Pni     140 non-null    float64\n",
      " 14  Pmo     140 non-null    float64\n",
      " 15  Pn      140 non-null    float64\n",
      " 16  Dureza  140 non-null    int64  \n",
      "dtypes: float64(16), int64(1)\n",
      "memory usage: 18.7 KB\n"
     ]
    }
   ],
   "source": [
    "datos.info()"
   ]
  },
  {
   "cell_type": "code",
   "execution_count": 5,
   "metadata": {},
   "outputs": [
    {
     "data": {
      "text/plain": [
       "array([293, 302, 311, 321], dtype=int64)"
      ]
     },
     "execution_count": 5,
     "metadata": {},
     "output_type": "execute_result"
    }
   ],
   "source": [
    "# Revisar los datos unicos de dureza que existe\n",
    "datos.Dureza.unique()"
   ]
  },
  {
   "cell_type": "code",
   "execution_count": 6,
   "metadata": {},
   "outputs": [
    {
     "data": {
      "text/plain": [
       "Dureza\n",
       "311    45\n",
       "293    36\n",
       "321    31\n",
       "302    28\n",
       "Name: count, dtype: int64"
      ]
     },
     "execution_count": 6,
     "metadata": {},
     "output_type": "execute_result"
    }
   ],
   "source": [
    "# Contar datos valores para cada dureza\n",
    "datos.Dureza.value_counts()"
   ]
  },
  {
   "attachments": {},
   "cell_type": "markdown",
   "metadata": {},
   "source": [
    "## Distribución de clases"
   ]
  },
  {
   "cell_type": "code",
   "execution_count": 10,
   "metadata": {},
   "outputs": [
    {
     "data": {
      "image/png": "[encoded data removed]",
      "text/plain": [
       "<Figure size 640x480 with 1 Axes>"
      ]
     },
     "metadata": {},
     "output_type": "display_data"
    }
   ],
   "source": [
    "distribucion = datos.groupby('Dureza').size()\n",
    "plt.pie(distribucion, labels = ['293','302', '311', '321'])\n",
    "plt.title('Distribución de clases')\n",
    "plt.show()"
   ]
  },
  {
   "attachments": {},
   "cell_type": "markdown",
   "metadata": {},
   "source": [
    "## **2. SEPARACIÓN DE DATOS PARA TRAINING Y TESTING**"
   ]
  },
  {
   "cell_type": "code",
   "execution_count": 40,
   "metadata": {},
   "outputs": [],
   "source": [
    "# Sparación de datos en entrada y salida\n",
    "X = datos.drop(['Dureza'], axis=1)\n",
    "y = datos['Dureza']\n",
    "# Sparación de datos para entrenamiento y test\n",
    "X_train, X_test, y_train, y_test = train_test_split(X.values, y.values, test_size = 0.30, random_state=13)"
   ]
  },
  {
   "attachments": {},
   "cell_type": "markdown",
   "metadata": {},
   "source": [
    "# **3. ENTRENAMIENTO Y TEST KNN**"
   ]
  },
  {
   "cell_type": "code",
   "execution_count": 41,
   "metadata": {},
   "outputs": [
    {
     "name": "stdout",
     "output_type": "stream",
     "text": [
      "Exactitud de K-NN, k=7, : 0.4523809523809524\n"
     ]
    }
   ],
   "source": [
    "# Definición del modelo\n",
    "Modelo = KNeighborsClassifier(n_neighbors = 9)\n",
    "# Entrenamiento del modelo\n",
    "Modelo.fit(X_train, y_train)\n",
    "# Test del modelo\n",
    "Exactitud = Modelo.score(X_test, y_test)\n",
    "print('Exactitud de K-NN, k=9, :', Exactitud)"
   ]
  },
  {
   "attachments": {},
   "cell_type": "markdown",
   "metadata": {},
   "source": [
    "## Matriz de confusión y exactitud"
   ]
  },
  {
   "cell_type": "code",
   "execution_count": 42,
   "metadata": {},
   "outputs": [
    {
     "name": "stdout",
     "output_type": "stream",
     "text": [
      "[[3 1 5 2]\n",
      " [2 2 0 2]\n",
      " [2 1 6 7]\n",
      " [0 0 1 8]]\n"
     ]
    }
   ],
   "source": [
    "# Test del modelo\n",
    "pred = Modelo.predict(X_test)\n",
    "# Matriz de confusión\n",
    "matriz = confusion_matrix(y_test, pred)\n",
    "print(matriz)"
   ]
  },
  {
   "cell_type": "code",
   "execution_count": 43,
   "metadata": {},
   "outputs": [
    {
     "data": {
      "text/plain": [
       "<Axes: >"
      ]
     },
     "execution_count": 43,
     "metadata": {},
     "output_type": "execute_result"
    },
    {
     "data": {
      "image/png": "[encoded data removed]",
      "text/plain": [
       "<Figure size 640x480 with 2 Axes>"
      ]
     },
     "metadata": {},
     "output_type": "display_data"
    }
   ],
   "source": [
    "categorias = ['293','302', '311', '321']\n",
    "sns.heatmap(matriz, yticklabels=categorias, xticklabels=categorias)"
   ]
  },
  {
   "cell_type": "code",
   "execution_count": 44,
   "metadata": {},
   "outputs": [
    {
     "name": "stdout",
     "output_type": "stream",
     "text": [
      "Exactitud:  0.4523809523809524\n"
     ]
    }
   ],
   "source": [
    "from sklearn.metrics import accuracy_score\n",
    "# Calculo de acurracy (exactitud)\n",
    "accuracy = accuracy_score(y_test, pred)\n",
    "print('Exactitud: ',accuracy)"
   ]
  },
  {
   "attachments": {},
   "cell_type": "markdown",
   "metadata": {},
   "source": [
    "# **4. PREDICCIÓN DE NUEVOS CASOS**"
   ]
  },
  {
   "cell_type": "code",
   "execution_count": 49,
   "metadata": {},
   "outputs": [],
   "source": [
    "nuevo = np.array([[0.25, 1.24, 0.017, 0.003, 0.14, 0.013, 0.002, 0.01, 0.0006, 0.027, 0.001, 0.01, 0.0022, 0.01, 0.003, 0.0064]])"
   ]
  },
  {
   "cell_type": "code",
   "execution_count": 50,
   "metadata": {},
   "outputs": [
    {
     "name": "stdout",
     "output_type": "stream",
     "text": [
      "293\n"
     ]
    }
   ],
   "source": [
    "y_pred = Modelo.predict(nuevo)\n",
    "print(y_pred[0])"
   ]
  },
  {
   "attachments": {},
   "cell_type": "markdown",
   "metadata": {},
   "source": [
    "# Conclusión\n",
    "Se entrenenó el dataset de dureza (dureza.csv), llengandose a una exactitud de 54.23% con los datos de semilla random_set = 13 y k = 9 (vecinos mas cercanos).\n",
    "El porcentaje de 54.23% es muy bajo esto debido a la complejidad del dataset"
   ]
  }
 ],
 "metadata": {
  "kernelspec": {
   "display_name": "machine-learning",
   "language": "python",
   "name": "python3"
  },
  "language_info": {
   "codemirror_mode": {
    "name": "ipython",
    "version": 3
   },
   "file_extension": ".py",
   "mimetype": "text/x-python",
   "name": "python",
   "nbconvert_exporter": "python",
   "pygments_lexer": "ipython3",
   "version": "3.10.11"
  },
  "orig_nbformat": 4
 },
 "nbformat": 4,
 "nbformat_minor": 2
}

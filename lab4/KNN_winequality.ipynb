{
 "cells": [
  {
   "attachments": {},
   "cell_type": "markdown",
   "metadata": {},
   "source": [
    "# **K-Vecinos más cercanos**\n",
    "\n",
    "```\n",
    "Alumno : Pfoccori Quispe Alex Harvey\n",
    "Codigo: 193837\n",
    "Proposito : K-NN en la clasificación de calidades de vino\n",
    "```"
   ]
  },
  {
   "attachments": {},
   "cell_type": "markdown",
   "metadata": {},
   "source": [
    "# **1. PASO PREVIO**"
   ]
  },
  {
   "attachments": {},
   "cell_type": "markdown",
   "metadata": {},
   "source": [
    "## Importacion de librerias"
   ]
  },
  {
   "cell_type": "code",
   "execution_count": 1,
   "metadata": {},
   "outputs": [],
   "source": [
    "import numpy as np\n",
    "import matplotlib.pyplot as plt\n",
    "import pandas as pd\n",
    "import seaborn as sns\n",
    "import random\n",
    "# Librería: scikit learn, \"sklearn\"\n",
    "# Módulo train_test_split: separación de datos para entrenamiento y test\n",
    "from sklearn.model_selection import train_test_split\n",
    "# Módulo KNeighborsClassifier: Implementa K-NN para clasificación\n",
    "from sklearn.neighbors import KNeighborsClassifier\n",
    "# Módulo classification_report: Métricas\n",
    "from sklearn.metrics import classification_report\n",
    "# Módulo accuracy_score: metrica de exactitud\n",
    "from sklearn.metrics import accuracy_score\n",
    "# Módulo confusion_matrix: matriz de confusión\n",
    "from sklearn.metrics import confusion_matrix"
   ]
  },
  {
   "attachments": {},
   "cell_type": "markdown",
   "metadata": {},
   "source": [
    "## Importación de datos"
   ]
  },
  {
   "cell_type": "code",
   "execution_count": 2,
   "metadata": {},
   "outputs": [
    {
     "data": {
      "text/html": [
       "<div>\n",
       "<style scoped>\n",
       "    .dataframe tbody tr th:only-of-type {\n",
       "        vertical-align: middle;\n",
       "    }\n",
       "\n",
       "    .dataframe tbody tr th {\n",
       "        vertical-align: top;\n",
       "    }\n",
       "\n",
       "    .dataframe thead th {\n",
       "        text-align: right;\n",
       "    }\n",
       "</style>\n",
       "<table border=\"1\" class=\"dataframe\">\n",
       "  <thead>\n",
       "    <tr style=\"text-align: right;\">\n",
       "      <th></th>\n",
       "      <th>fixed acidity</th>\n",
       "      <th>volatile acidity</th>\n",
       "      <th>citric acid</th>\n",
       "      <th>residual sugar</th>\n",
       "      <th>chlorides</th>\n",
       "      <th>free sulfur dioxide</th>\n",
       "      <th>total sulfur dioxide</th>\n",
       "      <th>density</th>\n",
       "      <th>pH</th>\n",
       "      <th>sulphates</th>\n",
       "      <th>alcohol</th>\n",
       "      <th>quality</th>\n",
       "    </tr>\n",
       "  </thead>\n",
       "  <tbody>\n",
       "    <tr>\n",
       "      <th>0</th>\n",
       "      <td>12.2</td>\n",
       "      <td>0.450</td>\n",
       "      <td>0.49</td>\n",
       "      <td>1.4</td>\n",
       "      <td>0.075</td>\n",
       "      <td>3.0</td>\n",
       "      <td>6.0</td>\n",
       "      <td>0.99690</td>\n",
       "      <td>3.13</td>\n",
       "      <td>0.63</td>\n",
       "      <td>10.4</td>\n",
       "      <td>5</td>\n",
       "    </tr>\n",
       "    <tr>\n",
       "      <th>1</th>\n",
       "      <td>12.2</td>\n",
       "      <td>0.450</td>\n",
       "      <td>0.49</td>\n",
       "      <td>1.4</td>\n",
       "      <td>0.075</td>\n",
       "      <td>3.0</td>\n",
       "      <td>6.0</td>\n",
       "      <td>0.99690</td>\n",
       "      <td>3.13</td>\n",
       "      <td>0.63</td>\n",
       "      <td>10.4</td>\n",
       "      <td>5</td>\n",
       "    </tr>\n",
       "    <tr>\n",
       "      <th>2</th>\n",
       "      <td>8.6</td>\n",
       "      <td>0.315</td>\n",
       "      <td>0.40</td>\n",
       "      <td>2.2</td>\n",
       "      <td>0.079</td>\n",
       "      <td>3.0</td>\n",
       "      <td>6.0</td>\n",
       "      <td>0.99512</td>\n",
       "      <td>3.27</td>\n",
       "      <td>0.67</td>\n",
       "      <td>11.9</td>\n",
       "      <td>6</td>\n",
       "    </tr>\n",
       "    <tr>\n",
       "      <th>3</th>\n",
       "      <td>9.8</td>\n",
       "      <td>0.340</td>\n",
       "      <td>0.39</td>\n",
       "      <td>1.4</td>\n",
       "      <td>0.066</td>\n",
       "      <td>3.0</td>\n",
       "      <td>7.0</td>\n",
       "      <td>0.99470</td>\n",
       "      <td>3.19</td>\n",
       "      <td>0.55</td>\n",
       "      <td>11.4</td>\n",
       "      <td>7</td>\n",
       "    </tr>\n",
       "    <tr>\n",
       "      <th>4</th>\n",
       "      <td>8.0</td>\n",
       "      <td>0.600</td>\n",
       "      <td>0.08</td>\n",
       "      <td>2.6</td>\n",
       "      <td>0.056</td>\n",
       "      <td>3.0</td>\n",
       "      <td>7.0</td>\n",
       "      <td>0.99286</td>\n",
       "      <td>3.22</td>\n",
       "      <td>0.37</td>\n",
       "      <td>13.0</td>\n",
       "      <td>5</td>\n",
       "    </tr>\n",
       "  </tbody>\n",
       "</table>\n",
       "</div>"
      ],
      "text/plain": [
       "   fixed acidity  volatile acidity  citric acid  residual sugar  chlorides  \\\n",
       "0           12.2             0.450         0.49             1.4      0.075   \n",
       "1           12.2             0.450         0.49             1.4      0.075   \n",
       "2            8.6             0.315         0.40             2.2      0.079   \n",
       "3            9.8             0.340         0.39             1.4      0.066   \n",
       "4            8.0             0.600         0.08             2.6      0.056   \n",
       "\n",
       "   free sulfur dioxide  total sulfur dioxide  density    pH  sulphates  \\\n",
       "0                  3.0                   6.0  0.99690  3.13       0.63   \n",
       "1                  3.0                   6.0  0.99690  3.13       0.63   \n",
       "2                  3.0                   6.0  0.99512  3.27       0.67   \n",
       "3                  3.0                   7.0  0.99470  3.19       0.55   \n",
       "4                  3.0                   7.0  0.99286  3.22       0.37   \n",
       "\n",
       "   alcohol  quality  \n",
       "0     10.4        5  \n",
       "1     10.4        5  \n",
       "2     11.9        6  \n",
       "3     11.4        7  \n",
       "4     13.0        5  "
      ]
     },
     "execution_count": 2,
     "metadata": {},
     "output_type": "execute_result"
    }
   ],
   "source": [
    "datos = pd.read_csv(\"./winequality.csv\", sep=',', header=0)\n",
    "# muestras los primero 5 valores\n",
    "datos.head()"
   ]
  },
  {
   "cell_type": "code",
   "execution_count": 3,
   "metadata": {},
   "outputs": [
    {
     "name": "stdout",
     "output_type": "stream",
     "text": [
      "<class 'pandas.core.frame.DataFrame'>\n",
      "RangeIndex: 1593 entries, 0 to 1592\n",
      "Data columns (total 12 columns):\n",
      " #   Column                Non-Null Count  Dtype  \n",
      "---  ------                --------------  -----  \n",
      " 0   fixed acidity         1593 non-null   float64\n",
      " 1   volatile acidity      1593 non-null   float64\n",
      " 2   citric acid           1593 non-null   float64\n",
      " 3   residual sugar        1593 non-null   float64\n",
      " 4   chlorides             1593 non-null   float64\n",
      " 5   free sulfur dioxide   1593 non-null   float64\n",
      " 6   total sulfur dioxide  1593 non-null   float64\n",
      " 7   density               1593 non-null   float64\n",
      " 8   pH                    1593 non-null   float64\n",
      " 9   sulphates             1593 non-null   float64\n",
      " 10  alcohol               1593 non-null   float64\n",
      " 11  quality               1593 non-null   int64  \n",
      "dtypes: float64(11), int64(1)\n",
      "memory usage: 149.5 KB\n"
     ]
    }
   ],
   "source": [
    "# Informacion del dataset\n",
    "datos.info()"
   ]
  },
  {
   "cell_type": "code",
   "execution_count": 4,
   "metadata": {},
   "outputs": [
    {
     "data": {
      "text/plain": [
       "array([5, 6, 7, 4], dtype=int64)"
      ]
     },
     "execution_count": 4,
     "metadata": {},
     "output_type": "execute_result"
    }
   ],
   "source": [
    "# Datos unicos de la clase (atributo quality)\n",
    "datos.quality.unique()"
   ]
  },
  {
   "cell_type": "code",
   "execution_count": 5,
   "metadata": {},
   "outputs": [
    {
     "data": {
      "text/plain": [
       "quality\n",
       "5    681\n",
       "6    633\n",
       "7    216\n",
       "4     63\n",
       "Name: count, dtype: int64"
      ]
     },
     "execution_count": 5,
     "metadata": {},
     "output_type": "execute_result"
    }
   ],
   "source": [
    "# Contar la cantidad de valores de cada calidad (atributos quality)\n",
    "datos.quality.value_counts()"
   ]
  },
  {
   "attachments": {},
   "cell_type": "markdown",
   "metadata": {},
   "source": [
    "## Distribución de clases"
   ]
  },
  {
   "cell_type": "code",
   "execution_count": 6,
   "metadata": {},
   "outputs": [
    {
     "data": {
      "image/png": "[encoded data removed]",
      "text/plain": [
       "<Figure size 640x480 with 1 Axes>"
      ]
     },
     "metadata": {},
     "output_type": "display_data"
    }
   ],
   "source": [
    "distribucion = datos.groupby('quality').size()\n",
    "plt.pie(distribucion, labels = ['cuatro','cinco','seis', 'siete'])\n",
    "plt.title('Distribución de clases')\n",
    "plt.show()"
   ]
  },
  {
   "attachments": {},
   "cell_type": "markdown",
   "metadata": {},
   "source": [
    "## **2. SEPARACIÓN DE DATOS PARA TRAINING Y TESTING**"
   ]
  },
  {
   "cell_type": "code",
   "execution_count": 7,
   "metadata": {},
   "outputs": [],
   "source": [
    "# Sparación de datos en entrada y salida\n",
    "X = datos.drop(['quality'], axis=1)\n",
    "y = datos['quality']\n",
    "# Sparación de datos para entrenamiento y test\n",
    "X_train, X_test, y_train, y_test = train_test_split(X.values, y.values, test_size = 0.30, random_state=5)"
   ]
  },
  {
   "attachments": {},
   "cell_type": "markdown",
   "metadata": {},
   "source": [
    "# **3. ENTRENAMIENTO Y TEST KNN**"
   ]
  },
  {
   "cell_type": "code",
   "execution_count": 8,
   "metadata": {},
   "outputs": [
    {
     "name": "stdout",
     "output_type": "stream",
     "text": [
      "Exactitud de K-NN, k=1, : 0.6171548117154811\n"
     ]
    }
   ],
   "source": [
    "# Definición del modelo\n",
    "Modelo = KNeighborsClassifier(n_neighbors = 1)\n",
    "# Entrenamiento del modelo\n",
    "Modelo.fit(X_train, y_train)\n",
    "# Test del modelo\n",
    "Exactitud = Modelo.score(X_test, y_test)\n",
    "print('Exactitud de K-NN, k=1, :', Exactitud)"
   ]
  },
  {
   "attachments": {},
   "cell_type": "markdown",
   "metadata": {},
   "source": [
    "## Matriz de confusión y exactitud"
   ]
  },
  {
   "cell_type": "code",
   "execution_count": 9,
   "metadata": {},
   "outputs": [
    {
     "name": "stdout",
     "output_type": "stream",
     "text": [
      "[[  2   7   7   3]\n",
      " [  3 152  40   9]\n",
      " [  8  51 112  17]\n",
      " [  0   9  29  29]]\n"
     ]
    }
   ],
   "source": [
    "# Test del modelo\n",
    "pred = Modelo.predict(X_test)\n",
    "# Matriz de confusión\n",
    "matriz = confusion_matrix(y_test, pred)\n",
    "print(matriz)"
   ]
  },
  {
   "cell_type": "code",
   "execution_count": 10,
   "metadata": {},
   "outputs": [
    {
     "data": {
      "text/plain": [
       "<Axes: >"
      ]
     },
     "execution_count": 10,
     "metadata": {},
     "output_type": "execute_result"
    },
    {
     "data": {
      "image/png": "[encoded data removed]",
      "text/plain": [
       "<Figure size 640x480 with 2 Axes>"
      ]
     },
     "metadata": {},
     "output_type": "display_data"
    }
   ],
   "source": [
    "categorias = ['cuatro', 'cinco', 'seis', 'siete']\n",
    "sns.heatmap(matriz, yticklabels=categorias, xticklabels=categorias)"
   ]
  },
  {
   "cell_type": "code",
   "execution_count": 11,
   "metadata": {},
   "outputs": [
    {
     "name": "stdout",
     "output_type": "stream",
     "text": [
      "Exactitud:  0.6171548117154811\n"
     ]
    }
   ],
   "source": [
    "from sklearn.metrics import accuracy_score\n",
    "# Calculo de acurracy (exactitud)\n",
    "accuracy = accuracy_score(y_test, pred)\n",
    "print('Exactitud: ',accuracy)"
   ]
  },
  {
   "attachments": {},
   "cell_type": "markdown",
   "metadata": {},
   "source": [
    "# **4. PREDICCIÓN DE NUEVOS CASOS**"
   ]
  },
  {
   "cell_type": "code",
   "execution_count": 12,
   "metadata": {},
   "outputs": [],
   "source": [
    "# Nuevo valor\n",
    "nuevo = np.array([[9.8, 0.46, 0.48, 1.4, 0.075, 3.0, 6.0, 0.99, 3.13, 0.63, 10.4]])"
   ]
  },
  {
   "cell_type": "code",
   "execution_count": 13,
   "metadata": {},
   "outputs": [
    {
     "name": "stdout",
     "output_type": "stream",
     "text": [
      "La prediccion del nuevo caso es 6\n"
     ]
    }
   ],
   "source": [
    "y_pred = Modelo.predict(nuevo)\n",
    "print( f'La prediccion del nuevo caso es {y_pred[0]}')"
   ]
  },
  {
   "attachments": {},
   "cell_type": "markdown",
   "metadata": {},
   "source": [
    "# Conclusión\n",
    "Se entrenenó el dataset de calidad de vino (winequality.csv), llengandose a una exactitud de 61.71% con los datos de semilla random_set = 5 y k = 1 (vecinos mas cercanos).\n",
    "El porcentaje de 61.71% es muy bajo esto debido a la complejidad del dataset"
   ]
  }
 ],
 "metadata": {
  "kernelspec": {
   "display_name": "machine-learning",
   "language": "python",
   "name": "python3"
  },
  "language_info": {
   "codemirror_mode": {
    "name": "ipython",
    "version": 3
   },
   "file_extension": ".py",
   "mimetype": "text/x-python",
   "name": "python",
   "nbconvert_exporter": "python",
   "pygments_lexer": "ipython3",
   "version": "3.10.11"
  },
  "orig_nbformat": 4
 },
 "nbformat": 4,
 "nbformat_minor": 2
}
